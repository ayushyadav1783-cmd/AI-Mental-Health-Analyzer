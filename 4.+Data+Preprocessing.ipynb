{
 "cells": [
  {
   "cell_type": "markdown",
   "id": "6f73e687",
   "metadata": {},
   "source": [
    "# Why Data Cleaning Matters in Numerical Analysis & Modeling\n",
    "\n",
    "Data cleaning is one of the most important steps before doing **numerical analysis** or **mathematical modeling** because the quality of results depends directly on the quality of input data.  \n",
    "\n",
    "---\n",
    "\n",
    "### 1. Accuracy of Results\n",
    "Numerical methods (integration, differentiation, optimization, regression, etc.) are highly sensitive to input values.  \n",
    "- Outliers, missing values, or incorrect entries can distort averages, variances, and regression coefficients.  \n",
    "- *Example:* A single erroneous high value in stock prices can shift volatility estimates, leading to incorrect option pricing in models like Black-Scholes.\n",
    "\n",
    "---\n",
    "\n",
    "### 2. Stability of Algorithms\n",
    "Many numerical algorithms rely on well-behaved input.  \n",
    "- Duplicates, inconsistent formats, or extreme values can cause instability (overflow, underflow, or non-convergence).  \n",
    "- *Example:* In solving systems of equations using Gaussian elimination, even small inconsistencies in input can lead to large numerical errors.\n",
    "\n",
    "---\n",
    "\n",
    "### 3. Preservation of Statistical Properties\n",
    "Statistical analysis assumes data follows certain patterns (normality, independence, etc.). Dirty data breaks these assumptions.  \n",
    "- *Example:* Missing values filled incorrectly may bias the mean, which then alters model assumptions like the Empirical Rule or Six Sigma analysis.\n",
    "\n",
    "---\n",
    "\n",
    "### 4. Better Generalization of Models\n",
    "Models built on unclean data may “learn” patterns from noise rather than true structure.  \n",
    "- *Example:* A machine learning model trained on unclean sensor data might overfit random errors, producing poor predictions on new data.\n",
    "\n",
    "---\n",
    "\n",
    "### 5. Efficiency of Computation\n",
    "Unnecessary or redundant data increases computational cost.  \n",
    "- *Example:* Large datasets with unused or irrelevant features make matrix operations (like SVD or QR decomposition) slower and more memory intensive.\n",
    "\n",
    "---\n",
    "\n",
    "### 6. Interpretability & Trust\n",
    "Clean data makes results easier to interpret and defend.  \n",
    "- *Example:* In real-world decision-making (finance, healthcare), stakeholders must trust that conclusions are based on reliable, consistent data.\n",
    "\n",
    "---\n",
    "\n",
    "✅ **In short:** *Garbage in → Garbage out.*  \n",
    "Numerical analysis and modeling amplify small data errors. Proper data cleaning ensures **validity, stability, and efficiency** of computations, leading to trustworthy insights.\n"
   ]
  },
  {
   "cell_type": "markdown",
   "id": "044da3fb",
   "metadata": {},
   "source": [
    "# Common Issues in Real Datasets\n",
    "\n",
    "When working with real-world data, it is rarely \"clean.\" Before applying **numerical analysis** or building **models**, we must deal with imperfections in the data.  \n",
    "\n",
    "Below are the most common issues and how they impact analysis:\n",
    "\n",
    "---\n",
    "\n",
    "### 1. Missing Values\n",
    "- **Problem:** Gaps in the dataset due to errors in data collection or storage.  \n",
    "- **Impact:** Many numerical algorithms (e.g., regression, matrix factorizations) cannot handle missing values.  \n",
    "- **Example:** `NaN` entries in time series break rolling averages or statistical calculations.  \n",
    "- **Handling:**  \n",
    "  - Drop missing values (`pandas.DataFrame.dropna`)  \n",
    "  - Fill missing values with mean/median/interpolation (`fillna`, `interpolate`)  \n",
    "\n",
    "---\n",
    "\n",
    "### 2. Inconsistent Data Types\n",
    "- **Problem:** Columns may have mixed types (numbers stored as strings, dates stored as text).  \n",
    "- **Impact:** Mathematical operations fail (e.g., trying to compute the mean of strings).  \n",
    "- **Example:** `\"25\"` (string) and `25` (integer) in the same column.  \n",
    "- **Handling:**  \n",
    "  - Convert with `astype()` (e.g., `df['age'] = df['age'].astype(int)`)  \n",
    "  - Use `pandas.to_datetime` for dates.  \n",
    "\n",
    "---\n",
    "\n",
    "### 3. Outliers\n",
    "- **Problem:** Data points that are extremely far from the rest of the distribution.  \n",
    "- **Impact:** Outliers can skew mean, variance, regression lines, and correlation.  \n",
    "- **Example:** In salaries, a single billionaire distorts the average income.  \n",
    "- **Handling:**  \n",
    "  - Detect using statistical thresholds (z-score, IQR)  \n",
    "  - Visualize with boxplots (`matplotlib.pyplot.boxplot`)  \n",
    "  - Decide whether to remove, cap, or transform.  \n",
    "\n",
    "---\n",
    "\n",
    "### 4. Duplicates\n",
    "- **Problem:** Duplicate rows or repeated records.  \n",
    "- **Impact:** Inflates counts, biases statistical summaries, and distorts models.  \n",
    "- **Example:** Customer entered twice in the database with the same ID.  \n",
    "- **Handling:**  \n",
    "  - Use `pandas.DataFrame.duplicated` to identify duplicates.  \n",
    "  - Use `drop_duplicates()` to remove them.  \n",
    "\n",
    "---\n",
    "\n",
    "### 5. Noisy Strings\n",
    "- **Problem:** Text fields may contain typos, extra spaces, inconsistent capitalization, or categorical labels spelled differently.  \n",
    "- **Impact:** Grouping, merging, and analysis fail when categories don’t match exactly.  \n",
    "- **Example:** `\"USA\"`, `\"U.S.A.\"`, `\"us\"` appearing as different countries.  \n",
    "- **Handling:**  \n",
    "  - String cleaning methods: `str.strip()`, `str.lower()`, `str.replace()`  \n",
    "  - Standardization with mapping dictionaries.  \n",
    "\n",
    "---\n",
    "\n",
    "# Tools We’ll Use\n",
    "\n",
    "### **NumPy**\n",
    "- Handle missing values (`np.nan`)  \n",
    "- Perform numerical operations efficiently.  \n",
    "- Detect outliers with z-scores.  \n",
    "\n",
    "### **pandas**\n",
    "- Identify and fix missing data (`isna()`, `fillna()`, `interpolate()`)  \n",
    "- Detect duplicates (`duplicated()`, `drop_duplicates()`)  \n",
    "- Convert data types (`astype()`)  \n",
    "- Clean strings (`str` methods).  \n",
    "\n",
    "### **matplotlib**\n",
    "- Visualize data quality issues (histograms, boxplots, scatter plots).  \n",
    "- Spot outliers, skewness, and unusual patterns.  \n",
    "\n",
    "---\n",
    "\n",
    "✅ **In summary:**  \n",
    "Real datasets almost always contain missing values, inconsistent types, outliers, duplicates, and noisy strings. Cleaning them using **NumPy, pandas, and matplotlib** ensures reliable and interpretable results in numerical analysis and modeling.\n"
   ]
  },
  {
   "cell_type": "markdown",
   "id": "34e7a105",
   "metadata": {},
   "source": [
    "# 2. Data Ingestion & Schema Inspection \n",
    "\n",
    "Before performing any cleaning or analysis, the first step is to **ingest (read) the data** and understand its structure (schema). This helps us spot potential issues early and optimize how the data is stored in memory.\n",
    "\n",
    "---\n",
    "\n",
    "## 2.1 Reading Data with pandas\n",
    "\n",
    "The **pandas library** provides flexible functions to read a wide variety of file formats:\n",
    "\n",
    "- **CSV files:** Most common format for tabular data.  \n"
   ]
  },
  {
   "cell_type": "code",
   "execution_count": 1,
   "id": "944b5c10",
   "metadata": {},
   "outputs": [],
   "source": [
    "import pandas as pd\n",
    "df_csv = pd.read_csv(\"employees.csv\")"
   ]
  },
  {
   "cell_type": "code",
   "execution_count": 2,
   "id": "463548c5",
   "metadata": {},
   "outputs": [
    {
     "data": {
      "text/html": [
       "<div>\n",
       "<style scoped>\n",
       "    .dataframe tbody tr th:only-of-type {\n",
       "        vertical-align: middle;\n",
       "    }\n",
       "\n",
       "    .dataframe tbody tr th {\n",
       "        vertical-align: top;\n",
       "    }\n",
       "\n",
       "    .dataframe thead th {\n",
       "        text-align: right;\n",
       "    }\n",
       "</style>\n",
       "<table border=\"1\" class=\"dataframe\">\n",
       "  <thead>\n",
       "    <tr style=\"text-align: right;\">\n",
       "      <th></th>\n",
       "      <th>id</th>\n",
       "      <th>name</th>\n",
       "      <th>age</th>\n",
       "      <th>salary</th>\n",
       "      <th>start_date</th>\n",
       "      <th>department</th>\n",
       "    </tr>\n",
       "  </thead>\n",
       "  <tbody>\n",
       "    <tr>\n",
       "      <th>0</th>\n",
       "      <td>1</td>\n",
       "      <td>Alice</td>\n",
       "      <td>25.0</td>\n",
       "      <td>50000.0</td>\n",
       "      <td>1/15/2020</td>\n",
       "      <td>HR</td>\n",
       "    </tr>\n",
       "    <tr>\n",
       "      <th>1</th>\n",
       "      <td>2</td>\n",
       "      <td>Bob</td>\n",
       "      <td>NaN</td>\n",
       "      <td>60000.0</td>\n",
       "      <td>3/10/2019</td>\n",
       "      <td>Finance</td>\n",
       "    </tr>\n",
       "    <tr>\n",
       "      <th>2</th>\n",
       "      <td>3</td>\n",
       "      <td>NaN</td>\n",
       "      <td>30.0</td>\n",
       "      <td>NaN</td>\n",
       "      <td>7/1/2021</td>\n",
       "      <td>Finance</td>\n",
       "    </tr>\n",
       "    <tr>\n",
       "      <th>3</th>\n",
       "      <td>4</td>\n",
       "      <td>David</td>\n",
       "      <td>45.0</td>\n",
       "      <td>80000.0</td>\n",
       "      <td>NaN</td>\n",
       "      <td>HR</td>\n",
       "    </tr>\n",
       "    <tr>\n",
       "      <th>4</th>\n",
       "      <td>5</td>\n",
       "      <td>Eva</td>\n",
       "      <td>NaN</td>\n",
       "      <td>70000.0</td>\n",
       "      <td>11/20/2022</td>\n",
       "      <td>Finance</td>\n",
       "    </tr>\n",
       "  </tbody>\n",
       "</table>\n",
       "</div>"
      ],
      "text/plain": [
       "   id   name   age   salary  start_date department\n",
       "0   1  Alice  25.0  50000.0   1/15/2020         HR\n",
       "1   2    Bob   NaN  60000.0   3/10/2019    Finance\n",
       "2   3    NaN  30.0      NaN    7/1/2021    Finance\n",
       "3   4  David  45.0  80000.0         NaN         HR\n",
       "4   5    Eva   NaN  70000.0  11/20/2022    Finance"
      ]
     },
     "execution_count": 2,
     "metadata": {},
     "output_type": "execute_result"
    }
   ],
   "source": [
    "df_csv"
   ]
  },
  {
   "cell_type": "markdown",
   "id": "ffebe04e",
   "metadata": {},
   "source": [
    "**Excel files: Can read multiple sheets.**\n",
    "\n",
    "df_excel = pd.read_excel(\"employees.xlsx\", sheet_name=\"Sheet1\")"
   ]
  },
  {
   "cell_type": "markdown",
   "id": "38050fd9",
   "metadata": {},
   "source": [
    "### 2.2 Understanding Data Types (Schema)\n",
    "\n",
    "Each column in a DataFrame has a **dtype** (data type).  \n",
    "The main pandas dtypes are:\n",
    "\n",
    "- **int, float** → numeric columns (e.g., age, salary).  \n",
    "- **object** → usually text/string data.  \n",
    "- **category** → for repeated labels, more memory-efficient.  \n",
    "- **datetime64** → for dates/times.  \n"
   ]
  },
  {
   "cell_type": "code",
   "execution_count": 3,
   "id": "2775ffd3",
   "metadata": {},
   "outputs": [
    {
     "name": "stdout",
     "output_type": "stream",
     "text": [
      "id              int64\n",
      "name           object\n",
      "age           float64\n",
      "salary        float64\n",
      "start_date     object\n",
      "department     object\n",
      "dtype: object\n"
     ]
    }
   ],
   "source": [
    "print(df_csv.dtypes)\n"
   ]
  },
  {
   "cell_type": "markdown",
   "id": "62b190a9",
   "metadata": {},
   "source": [
    "### 💡 Why it matters:\n",
    "\n",
    "Wrong data types (e.g., numbers stored as strings) cause errors in computations.\n",
    "\n",
    "Correct dtypes improve performance and memory usage."
   ]
  },
  {
   "cell_type": "markdown",
   "id": "396f45e2",
   "metadata": {},
   "source": [
    "### 2.3 Memory Usage & Optimization\n",
    "\n",
    "Large datasets can consume a lot of memory. Pandas allows **downcasting and using categories**:"
   ]
  },
  {
   "cell_type": "code",
   "execution_count": 4,
   "id": "ddcf8d1b",
   "metadata": {},
   "outputs": [
    {
     "data": {
      "text/plain": [
       "0    25.0\n",
       "1     NaN\n",
       "2    30.0\n",
       "3    45.0\n",
       "4     NaN\n",
       "Name: age, dtype: float64"
      ]
     },
     "execution_count": 4,
     "metadata": {},
     "output_type": "execute_result"
    }
   ],
   "source": [
    "df_csv[\"age\"] = pd.to_numeric(df_csv[\"age\"], downcast=\"integer\")\n",
    "df_csv[\"age\"]\n",
    "\n",
    "#you expect floats like 25.0 to become 25 (integer).\n",
    "#But it doesn’t always happen because of missing values (NaN)."
   ]
  },
  {
   "cell_type": "code",
   "execution_count": 5,
   "id": "812aaae2",
   "metadata": {},
   "outputs": [
    {
     "name": "stdout",
     "output_type": "stream",
     "text": [
      "<class 'pandas.core.frame.DataFrame'>\n",
      "RangeIndex: 5 entries, 0 to 4\n",
      "Data columns (total 6 columns):\n",
      " #   Column      Non-Null Count  Dtype  \n",
      "---  ------      --------------  -----  \n",
      " 0   id          5 non-null      int64  \n",
      " 1   name        4 non-null      object \n",
      " 2   age         3 non-null      float64\n",
      " 3   salary      4 non-null      float64\n",
      " 4   start_date  4 non-null      object \n",
      " 5   department  5 non-null      object \n",
      "dtypes: float64(2), int64(1), object(3)\n",
      "memory usage: 1.1 KB\n"
     ]
    }
   ],
   "source": [
    "#Checking memory usage\n",
    "df_csv.info(memory_usage=\"deep\")\n"
   ]
  },
  {
   "cell_type": "code",
   "execution_count": 6,
   "id": "697238fd",
   "metadata": {},
   "outputs": [
    {
     "data": {
      "text/plain": [
       "0         HR\n",
       "1    Finance\n",
       "2    Finance\n",
       "3         HR\n",
       "4    Finance\n",
       "Name: department, dtype: category\n",
       "Categories (2, object): ['Finance', 'HR']"
      ]
     },
     "execution_count": 6,
     "metadata": {},
     "output_type": "execute_result"
    }
   ],
   "source": [
    "#Converting repeated strings to category\n",
    "df_csv[\"department\"] = df_csv[\"department\"].astype(\"category\")\n",
    "df_csv[\"department\"] "
   ]
  },
  {
   "cell_type": "code",
   "execution_count": 7,
   "id": "d74a7600",
   "metadata": {},
   "outputs": [
    {
     "name": "stdout",
     "output_type": "stream",
     "text": [
      "<class 'pandas.core.frame.DataFrame'>\n",
      "RangeIndex: 5 entries, 0 to 4\n",
      "Data columns (total 6 columns):\n",
      " #   Column      Non-Null Count  Dtype   \n",
      "---  ------      --------------  -----   \n",
      " 0   id          5 non-null      int64   \n",
      " 1   name        4 non-null      object  \n",
      " 2   age         3 non-null      float64 \n",
      " 3   salary      4 non-null      float64 \n",
      " 4   start_date  4 non-null      object  \n",
      " 5   department  5 non-null      category\n",
      "dtypes: category(1), float64(2), int64(1), object(2)\n",
      "memory usage: 1.0 KB\n"
     ]
    }
   ],
   "source": [
    "#Checking memory usage\n",
    "df_csv.info(memory_usage=\"deep\")\n"
   ]
  },
  {
   "cell_type": "markdown",
   "id": "953b69b6",
   "metadata": {},
   "source": [
    "### 2.4 Quick Exploratory Data Analysis (EDA)\n",
    "\n",
    "After ingestion, we perform a quick **schema and data quality check**"
   ]
  },
  {
   "cell_type": "code",
   "execution_count": 8,
   "id": "f4772d17",
   "metadata": {},
   "outputs": [
    {
     "name": "stdout",
     "output_type": "stream",
     "text": [
      "<class 'pandas.core.frame.DataFrame'>\n",
      "RangeIndex: 5 entries, 0 to 4\n",
      "Data columns (total 6 columns):\n",
      " #   Column      Non-Null Count  Dtype   \n",
      "---  ------      --------------  -----   \n",
      " 0   id          5 non-null      int64   \n",
      " 1   name        4 non-null      object  \n",
      " 2   age         3 non-null      float64 \n",
      " 3   salary      4 non-null      float64 \n",
      " 4   start_date  4 non-null      object  \n",
      " 5   department  5 non-null      category\n",
      "dtypes: category(1), float64(2), int64(1), object(2)\n",
      "memory usage: 461.0+ bytes\n"
     ]
    }
   ],
   "source": [
    "#Info summary: Data types, non-null counts, memory usage.\n",
    "df_csv.info()\n"
   ]
  },
  {
   "cell_type": "code",
   "execution_count": 9,
   "id": "f1ae9c97",
   "metadata": {},
   "outputs": [
    {
     "data": {
      "text/html": [
       "<div>\n",
       "<style scoped>\n",
       "    .dataframe tbody tr th:only-of-type {\n",
       "        vertical-align: middle;\n",
       "    }\n",
       "\n",
       "    .dataframe tbody tr th {\n",
       "        vertical-align: top;\n",
       "    }\n",
       "\n",
       "    .dataframe thead th {\n",
       "        text-align: right;\n",
       "    }\n",
       "</style>\n",
       "<table border=\"1\" class=\"dataframe\">\n",
       "  <thead>\n",
       "    <tr style=\"text-align: right;\">\n",
       "      <th></th>\n",
       "      <th>id</th>\n",
       "      <th>age</th>\n",
       "      <th>salary</th>\n",
       "    </tr>\n",
       "  </thead>\n",
       "  <tbody>\n",
       "    <tr>\n",
       "      <th>count</th>\n",
       "      <td>5.000000</td>\n",
       "      <td>3.000000</td>\n",
       "      <td>4.000000</td>\n",
       "    </tr>\n",
       "    <tr>\n",
       "      <th>mean</th>\n",
       "      <td>3.000000</td>\n",
       "      <td>33.333333</td>\n",
       "      <td>65000.000000</td>\n",
       "    </tr>\n",
       "    <tr>\n",
       "      <th>std</th>\n",
       "      <td>1.581139</td>\n",
       "      <td>10.408330</td>\n",
       "      <td>12909.944487</td>\n",
       "    </tr>\n",
       "    <tr>\n",
       "      <th>min</th>\n",
       "      <td>1.000000</td>\n",
       "      <td>25.000000</td>\n",
       "      <td>50000.000000</td>\n",
       "    </tr>\n",
       "    <tr>\n",
       "      <th>25%</th>\n",
       "      <td>2.000000</td>\n",
       "      <td>27.500000</td>\n",
       "      <td>57500.000000</td>\n",
       "    </tr>\n",
       "    <tr>\n",
       "      <th>50%</th>\n",
       "      <td>3.000000</td>\n",
       "      <td>30.000000</td>\n",
       "      <td>65000.000000</td>\n",
       "    </tr>\n",
       "    <tr>\n",
       "      <th>75%</th>\n",
       "      <td>4.000000</td>\n",
       "      <td>37.500000</td>\n",
       "      <td>72500.000000</td>\n",
       "    </tr>\n",
       "    <tr>\n",
       "      <th>max</th>\n",
       "      <td>5.000000</td>\n",
       "      <td>45.000000</td>\n",
       "      <td>80000.000000</td>\n",
       "    </tr>\n",
       "  </tbody>\n",
       "</table>\n",
       "</div>"
      ],
      "text/plain": [
       "             id        age        salary\n",
       "count  5.000000   3.000000      4.000000\n",
       "mean   3.000000  33.333333  65000.000000\n",
       "std    1.581139  10.408330  12909.944487\n",
       "min    1.000000  25.000000  50000.000000\n",
       "25%    2.000000  27.500000  57500.000000\n",
       "50%    3.000000  30.000000  65000.000000\n",
       "75%    4.000000  37.500000  72500.000000\n",
       "max    5.000000  45.000000  80000.000000"
      ]
     },
     "execution_count": 9,
     "metadata": {},
     "output_type": "execute_result"
    }
   ],
   "source": [
    "#Descriptive statistics (numeric)\n",
    "df_csv.describe()\n"
   ]
  },
  {
   "cell_type": "code",
   "execution_count": 10,
   "id": "9c280dda",
   "metadata": {},
   "outputs": [
    {
     "data": {
      "text/html": [
       "<div>\n",
       "<style scoped>\n",
       "    .dataframe tbody tr th:only-of-type {\n",
       "        vertical-align: middle;\n",
       "    }\n",
       "\n",
       "    .dataframe tbody tr th {\n",
       "        vertical-align: top;\n",
       "    }\n",
       "\n",
       "    .dataframe thead th {\n",
       "        text-align: right;\n",
       "    }\n",
       "</style>\n",
       "<table border=\"1\" class=\"dataframe\">\n",
       "  <thead>\n",
       "    <tr style=\"text-align: right;\">\n",
       "      <th></th>\n",
       "      <th>name</th>\n",
       "      <th>start_date</th>\n",
       "    </tr>\n",
       "  </thead>\n",
       "  <tbody>\n",
       "    <tr>\n",
       "      <th>count</th>\n",
       "      <td>4</td>\n",
       "      <td>4</td>\n",
       "    </tr>\n",
       "    <tr>\n",
       "      <th>unique</th>\n",
       "      <td>4</td>\n",
       "      <td>4</td>\n",
       "    </tr>\n",
       "    <tr>\n",
       "      <th>top</th>\n",
       "      <td>Alice</td>\n",
       "      <td>1/15/2020</td>\n",
       "    </tr>\n",
       "    <tr>\n",
       "      <th>freq</th>\n",
       "      <td>1</td>\n",
       "      <td>1</td>\n",
       "    </tr>\n",
       "  </tbody>\n",
       "</table>\n",
       "</div>"
      ],
      "text/plain": [
       "         name start_date\n",
       "count       4          4\n",
       "unique      4          4\n",
       "top     Alice  1/15/2020\n",
       "freq        1          1"
      ]
     },
     "execution_count": 10,
     "metadata": {},
     "output_type": "execute_result"
    }
   ],
   "source": [
    "#Descriptive statistics (categorical)\n",
    "df_csv.describe(include=\"object\")\n"
   ]
  },
  {
   "cell_type": "code",
   "execution_count": 11,
   "id": "f307303d",
   "metadata": {},
   "outputs": [
    {
     "data": {
      "text/plain": [
       "id            0\n",
       "name          1\n",
       "age           2\n",
       "salary        1\n",
       "start_date    1\n",
       "department    0\n",
       "dtype: int64"
      ]
     },
     "execution_count": 11,
     "metadata": {},
     "output_type": "execute_result"
    }
   ],
   "source": [
    "#Missing values check\n",
    "df_csv.isna().sum()\n"
   ]
  },
  {
   "cell_type": "markdown",
   "id": "537e77ef",
   "metadata": {},
   "source": [
    "# 3. Handling Missing Data \n",
    "\n",
    "Real-world datasets often contain **missing values** due to errors in collection, transmission, or storage.  \n",
    "Handling missing data is critical because most numerical algorithms cannot work with `NaN` values directly.\n",
    "\n",
    "---\n",
    "\n",
    "## 3.1 Detecting Missing Values\n",
    "\n",
    "- **`isna()` / `notna()`:** Detect missing entries.\n",
    "- **Optional library `missingno`:** Provides quick visualizations of missingness.\n",
    "\n",
    "```python\n"
   ]
  },
  {
   "cell_type": "code",
   "execution_count": 12,
   "id": "d54418d4",
   "metadata": {},
   "outputs": [
    {
     "name": "stdout",
     "output_type": "stream",
     "text": [
      "   id     name   age   salary department\n",
      "0   1    Alice  25.0  50000.0         HR\n",
      "1   2      Bob   NaN  60000.0    Finance\n",
      "2   3  Charlie  35.0      NaN    Finance\n",
      "3   4    Diana  40.0  70000.0       None\n",
      "4   5     Evan   NaN  65000.0         HR\n",
      "5   6     None  30.0      NaN    Finance\n"
     ]
    }
   ],
   "source": [
    "import pandas as pd\n",
    "import numpy as np\n",
    "\n",
    "# Example dataset with missing values\n",
    "data = {\n",
    "    \"id\": [1, 2, 3, 4, 5, 6],\n",
    "    \"name\": [\"Alice\", \"Bob\", \"Charlie\", \"Diana\", \"Evan\", None],\n",
    "    \"age\": [25, None, 35, 40, None, 30],\n",
    "    \"salary\": [50000, 60000, None, 70000, 65000, None],\n",
    "    \"department\": [\"HR\", \"Finance\", \"Finance\", None, \"HR\", \"Finance\"]\n",
    "}\n",
    "\n",
    "df = pd.DataFrame(data)\n",
    "print(df)\n"
   ]
  },
  {
   "cell_type": "code",
   "execution_count": 13,
   "id": "ef4217c5",
   "metadata": {},
   "outputs": [
    {
     "data": {
      "text/html": [
       "<div>\n",
       "<style scoped>\n",
       "    .dataframe tbody tr th:only-of-type {\n",
       "        vertical-align: middle;\n",
       "    }\n",
       "\n",
       "    .dataframe tbody tr th {\n",
       "        vertical-align: top;\n",
       "    }\n",
       "\n",
       "    .dataframe thead th {\n",
       "        text-align: right;\n",
       "    }\n",
       "</style>\n",
       "<table border=\"1\" class=\"dataframe\">\n",
       "  <thead>\n",
       "    <tr style=\"text-align: right;\">\n",
       "      <th></th>\n",
       "      <th>id</th>\n",
       "      <th>name</th>\n",
       "      <th>age</th>\n",
       "      <th>salary</th>\n",
       "      <th>department</th>\n",
       "    </tr>\n",
       "  </thead>\n",
       "  <tbody>\n",
       "    <tr>\n",
       "      <th>0</th>\n",
       "      <td>False</td>\n",
       "      <td>False</td>\n",
       "      <td>False</td>\n",
       "      <td>False</td>\n",
       "      <td>False</td>\n",
       "    </tr>\n",
       "    <tr>\n",
       "      <th>1</th>\n",
       "      <td>False</td>\n",
       "      <td>False</td>\n",
       "      <td>True</td>\n",
       "      <td>False</td>\n",
       "      <td>False</td>\n",
       "    </tr>\n",
       "    <tr>\n",
       "      <th>2</th>\n",
       "      <td>False</td>\n",
       "      <td>False</td>\n",
       "      <td>False</td>\n",
       "      <td>True</td>\n",
       "      <td>False</td>\n",
       "    </tr>\n",
       "    <tr>\n",
       "      <th>3</th>\n",
       "      <td>False</td>\n",
       "      <td>False</td>\n",
       "      <td>False</td>\n",
       "      <td>False</td>\n",
       "      <td>True</td>\n",
       "    </tr>\n",
       "    <tr>\n",
       "      <th>4</th>\n",
       "      <td>False</td>\n",
       "      <td>False</td>\n",
       "      <td>True</td>\n",
       "      <td>False</td>\n",
       "      <td>False</td>\n",
       "    </tr>\n",
       "    <tr>\n",
       "      <th>5</th>\n",
       "      <td>False</td>\n",
       "      <td>True</td>\n",
       "      <td>False</td>\n",
       "      <td>True</td>\n",
       "      <td>False</td>\n",
       "    </tr>\n",
       "  </tbody>\n",
       "</table>\n",
       "</div>"
      ],
      "text/plain": [
       "      id   name    age  salary  department\n",
       "0  False  False  False   False       False\n",
       "1  False  False   True   False       False\n",
       "2  False  False  False    True       False\n",
       "3  False  False  False   False        True\n",
       "4  False  False   True   False       False\n",
       "5  False   True  False    True       False"
      ]
     },
     "execution_count": 13,
     "metadata": {},
     "output_type": "execute_result"
    }
   ],
   "source": [
    "# Detect missing values\n",
    "df.isna()\n"
   ]
  },
  {
   "cell_type": "code",
   "execution_count": 14,
   "id": "69326e01",
   "metadata": {},
   "outputs": [
    {
     "data": {
      "text/plain": [
       "id            0\n",
       "name          1\n",
       "age           2\n",
       "salary        2\n",
       "department    1\n",
       "dtype: int64"
      ]
     },
     "execution_count": 14,
     "metadata": {},
     "output_type": "execute_result"
    }
   ],
   "source": [
    "# Count missing per column\n",
    "df.isna().sum()\n"
   ]
  },
  {
   "cell_type": "code",
   "execution_count": 15,
   "id": "f4fb175a",
   "metadata": {},
   "outputs": [
    {
     "data": {
      "text/plain": [
       "id            6\n",
       "name          5\n",
       "age           4\n",
       "salary        4\n",
       "department    5\n",
       "dtype: int64"
      ]
     },
     "execution_count": 15,
     "metadata": {},
     "output_type": "execute_result"
    }
   ],
   "source": [
    "# Check where values are NOT missing\n",
    "df.notna().sum()\n"
   ]
  },
  {
   "cell_type": "markdown",
   "id": "8b5c2094",
   "metadata": {},
   "source": [
    "## 3.2 Quantifying Missingness\n",
    "\n",
    "It’s important to know **how much data is missing**."
   ]
  },
  {
   "cell_type": "code",
   "execution_count": 16,
   "id": "62b8ad15",
   "metadata": {},
   "outputs": [
    {
     "name": "stdout",
     "output_type": "stream",
     "text": [
      "id             0.000000\n",
      "name          16.666667\n",
      "age           33.333333\n",
      "salary        33.333333\n",
      "department    16.666667\n",
      "dtype: float64\n"
     ]
    }
   ],
   "source": [
    "# Percentage of missing values per column\n",
    "missing_percentage = (df.isna().sum() / len(df)) * 100\n",
    "print(missing_percentage)\n",
    "\n",
    "#💡 If a column has >50% missing values, it may be best to drop it."
   ]
  },
  {
   "cell_type": "markdown",
   "id": "ef773061",
   "metadata": {},
   "source": [
    "## 3.3 Imputation Strategies\n",
    "\n",
    "**1. Dropping Rows/Columns**\n",
    "\n",
    "Works when only a few entries are missing."
   ]
  },
  {
   "cell_type": "code",
   "execution_count": 17,
   "id": "5b550ed1",
   "metadata": {},
   "outputs": [
    {
     "data": {
      "text/html": [
       "<div>\n",
       "<style scoped>\n",
       "    .dataframe tbody tr th:only-of-type {\n",
       "        vertical-align: middle;\n",
       "    }\n",
       "\n",
       "    .dataframe tbody tr th {\n",
       "        vertical-align: top;\n",
       "    }\n",
       "\n",
       "    .dataframe thead th {\n",
       "        text-align: right;\n",
       "    }\n",
       "</style>\n",
       "<table border=\"1\" class=\"dataframe\">\n",
       "  <thead>\n",
       "    <tr style=\"text-align: right;\">\n",
       "      <th></th>\n",
       "      <th>id</th>\n",
       "      <th>name</th>\n",
       "      <th>age</th>\n",
       "      <th>salary</th>\n",
       "      <th>department</th>\n",
       "    </tr>\n",
       "  </thead>\n",
       "  <tbody>\n",
       "    <tr>\n",
       "      <th>0</th>\n",
       "      <td>1</td>\n",
       "      <td>Alice</td>\n",
       "      <td>25.0</td>\n",
       "      <td>50000.0</td>\n",
       "      <td>HR</td>\n",
       "    </tr>\n",
       "  </tbody>\n",
       "</table>\n",
       "</div>"
      ],
      "text/plain": [
       "   id   name   age   salary department\n",
       "0   1  Alice  25.0  50000.0         HR"
      ]
     },
     "execution_count": 17,
     "metadata": {},
     "output_type": "execute_result"
    }
   ],
   "source": [
    "df_drop_rows = df.dropna()   # drop rows with ANY NaN\n",
    "df_drop_rows\n",
    "#Only Alice’s row survives because every other row has at least one missing entry."
   ]
  },
  {
   "cell_type": "code",
   "execution_count": 18,
   "id": "60c5d52e",
   "metadata": {},
   "outputs": [
    {
     "data": {
      "text/html": [
       "<div>\n",
       "<style scoped>\n",
       "    .dataframe tbody tr th:only-of-type {\n",
       "        vertical-align: middle;\n",
       "    }\n",
       "\n",
       "    .dataframe tbody tr th {\n",
       "        vertical-align: top;\n",
       "    }\n",
       "\n",
       "    .dataframe thead th {\n",
       "        text-align: right;\n",
       "    }\n",
       "</style>\n",
       "<table border=\"1\" class=\"dataframe\">\n",
       "  <thead>\n",
       "    <tr style=\"text-align: right;\">\n",
       "      <th></th>\n",
       "      <th>id</th>\n",
       "    </tr>\n",
       "  </thead>\n",
       "  <tbody>\n",
       "    <tr>\n",
       "      <th>0</th>\n",
       "      <td>1</td>\n",
       "    </tr>\n",
       "    <tr>\n",
       "      <th>1</th>\n",
       "      <td>2</td>\n",
       "    </tr>\n",
       "    <tr>\n",
       "      <th>2</th>\n",
       "      <td>3</td>\n",
       "    </tr>\n",
       "    <tr>\n",
       "      <th>3</th>\n",
       "      <td>4</td>\n",
       "    </tr>\n",
       "    <tr>\n",
       "      <th>4</th>\n",
       "      <td>5</td>\n",
       "    </tr>\n",
       "    <tr>\n",
       "      <th>5</th>\n",
       "      <td>6</td>\n",
       "    </tr>\n",
       "  </tbody>\n",
       "</table>\n",
       "</div>"
      ],
      "text/plain": [
       "   id\n",
       "0   1\n",
       "1   2\n",
       "2   3\n",
       "3   4\n",
       "4   5\n",
       "5   6"
      ]
     },
     "execution_count": 18,
     "metadata": {},
     "output_type": "execute_result"
    }
   ],
   "source": [
    "df_drop_cols = df.dropna(axis=1)  # drop entire columns\n",
    "df_drop_cols"
   ]
  },
  {
   "cell_type": "markdown",
   "id": "d322e11a",
   "metadata": {},
   "source": [
    "**2. Filling with Constants / Mean / Median / Mode**\n",
    "\n",
    "Use simple values when data is numeric.\n",
    "\n",
    "Prevents shrinking dataset size."
   ]
  },
  {
   "cell_type": "code",
   "execution_count": 19,
   "id": "69f95e5c",
   "metadata": {},
   "outputs": [
    {
     "data": {
      "text/html": [
       "<div>\n",
       "<style scoped>\n",
       "    .dataframe tbody tr th:only-of-type {\n",
       "        vertical-align: middle;\n",
       "    }\n",
       "\n",
       "    .dataframe tbody tr th {\n",
       "        vertical-align: top;\n",
       "    }\n",
       "\n",
       "    .dataframe thead th {\n",
       "        text-align: right;\n",
       "    }\n",
       "</style>\n",
       "<table border=\"1\" class=\"dataframe\">\n",
       "  <thead>\n",
       "    <tr style=\"text-align: right;\">\n",
       "      <th></th>\n",
       "      <th>id</th>\n",
       "      <th>name</th>\n",
       "      <th>age</th>\n",
       "      <th>salary</th>\n",
       "      <th>department</th>\n",
       "    </tr>\n",
       "  </thead>\n",
       "  <tbody>\n",
       "    <tr>\n",
       "      <th>0</th>\n",
       "      <td>1</td>\n",
       "      <td>Alice</td>\n",
       "      <td>25.0</td>\n",
       "      <td>50000.0</td>\n",
       "      <td>HR</td>\n",
       "    </tr>\n",
       "    <tr>\n",
       "      <th>1</th>\n",
       "      <td>2</td>\n",
       "      <td>Bob</td>\n",
       "      <td>NaN</td>\n",
       "      <td>60000.0</td>\n",
       "      <td>Finance</td>\n",
       "    </tr>\n",
       "    <tr>\n",
       "      <th>2</th>\n",
       "      <td>3</td>\n",
       "      <td>Charlie</td>\n",
       "      <td>35.0</td>\n",
       "      <td>NaN</td>\n",
       "      <td>Finance</td>\n",
       "    </tr>\n",
       "    <tr>\n",
       "      <th>3</th>\n",
       "      <td>4</td>\n",
       "      <td>Diana</td>\n",
       "      <td>40.0</td>\n",
       "      <td>70000.0</td>\n",
       "      <td>Unknown</td>\n",
       "    </tr>\n",
       "    <tr>\n",
       "      <th>4</th>\n",
       "      <td>5</td>\n",
       "      <td>Evan</td>\n",
       "      <td>NaN</td>\n",
       "      <td>65000.0</td>\n",
       "      <td>HR</td>\n",
       "    </tr>\n",
       "    <tr>\n",
       "      <th>5</th>\n",
       "      <td>6</td>\n",
       "      <td>None</td>\n",
       "      <td>30.0</td>\n",
       "      <td>NaN</td>\n",
       "      <td>Finance</td>\n",
       "    </tr>\n",
       "  </tbody>\n",
       "</table>\n",
       "</div>"
      ],
      "text/plain": [
       "   id     name   age   salary department\n",
       "0   1    Alice  25.0  50000.0         HR\n",
       "1   2      Bob   NaN  60000.0    Finance\n",
       "2   3  Charlie  35.0      NaN    Finance\n",
       "3   4    Diana  40.0  70000.0    Unknown\n",
       "4   5     Evan   NaN  65000.0         HR\n",
       "5   6     None  30.0      NaN    Finance"
      ]
     },
     "execution_count": 19,
     "metadata": {},
     "output_type": "execute_result"
    }
   ],
   "source": [
    "# Fill with constant\n",
    "df_fill_const = df.fillna({\"department\": \"Unknown\"})\n",
    "df_fill_const"
   ]
  },
  {
   "cell_type": "code",
   "execution_count": 20,
   "id": "0249a62a",
   "metadata": {},
   "outputs": [
    {
     "data": {
      "text/html": [
       "<div>\n",
       "<style scoped>\n",
       "    .dataframe tbody tr th:only-of-type {\n",
       "        vertical-align: middle;\n",
       "    }\n",
       "\n",
       "    .dataframe tbody tr th {\n",
       "        vertical-align: top;\n",
       "    }\n",
       "\n",
       "    .dataframe thead th {\n",
       "        text-align: right;\n",
       "    }\n",
       "</style>\n",
       "<table border=\"1\" class=\"dataframe\">\n",
       "  <thead>\n",
       "    <tr style=\"text-align: right;\">\n",
       "      <th></th>\n",
       "      <th>id</th>\n",
       "      <th>name</th>\n",
       "      <th>age</th>\n",
       "      <th>salary</th>\n",
       "      <th>department</th>\n",
       "      <th>age_mean</th>\n",
       "    </tr>\n",
       "  </thead>\n",
       "  <tbody>\n",
       "    <tr>\n",
       "      <th>0</th>\n",
       "      <td>1</td>\n",
       "      <td>Alice</td>\n",
       "      <td>25.0</td>\n",
       "      <td>50000.0</td>\n",
       "      <td>HR</td>\n",
       "      <td>25.0</td>\n",
       "    </tr>\n",
       "    <tr>\n",
       "      <th>1</th>\n",
       "      <td>2</td>\n",
       "      <td>Bob</td>\n",
       "      <td>NaN</td>\n",
       "      <td>60000.0</td>\n",
       "      <td>Finance</td>\n",
       "      <td>32.5</td>\n",
       "    </tr>\n",
       "    <tr>\n",
       "      <th>2</th>\n",
       "      <td>3</td>\n",
       "      <td>Charlie</td>\n",
       "      <td>35.0</td>\n",
       "      <td>NaN</td>\n",
       "      <td>Finance</td>\n",
       "      <td>35.0</td>\n",
       "    </tr>\n",
       "    <tr>\n",
       "      <th>3</th>\n",
       "      <td>4</td>\n",
       "      <td>Diana</td>\n",
       "      <td>40.0</td>\n",
       "      <td>70000.0</td>\n",
       "      <td>None</td>\n",
       "      <td>40.0</td>\n",
       "    </tr>\n",
       "    <tr>\n",
       "      <th>4</th>\n",
       "      <td>5</td>\n",
       "      <td>Evan</td>\n",
       "      <td>NaN</td>\n",
       "      <td>65000.0</td>\n",
       "      <td>HR</td>\n",
       "      <td>32.5</td>\n",
       "    </tr>\n",
       "    <tr>\n",
       "      <th>5</th>\n",
       "      <td>6</td>\n",
       "      <td>None</td>\n",
       "      <td>30.0</td>\n",
       "      <td>NaN</td>\n",
       "      <td>Finance</td>\n",
       "      <td>30.0</td>\n",
       "    </tr>\n",
       "  </tbody>\n",
       "</table>\n",
       "</div>"
      ],
      "text/plain": [
       "   id     name   age   salary department  age_mean\n",
       "0   1    Alice  25.0  50000.0         HR      25.0\n",
       "1   2      Bob   NaN  60000.0    Finance      32.5\n",
       "2   3  Charlie  35.0      NaN    Finance      35.0\n",
       "3   4    Diana  40.0  70000.0       None      40.0\n",
       "4   5     Evan   NaN  65000.0         HR      32.5\n",
       "5   6     None  30.0      NaN    Finance      30.0"
      ]
     },
     "execution_count": 20,
     "metadata": {},
     "output_type": "execute_result"
    }
   ],
   "source": [
    "# Fill numeric with mean\n",
    "df[\"age_mean\"] = df[\"age\"].fillna(df[\"age\"].mean())\n",
    "df"
   ]
  },
  {
   "cell_type": "code",
   "execution_count": 21,
   "id": "ad3c2e1f",
   "metadata": {},
   "outputs": [
    {
     "data": {
      "text/html": [
       "<div>\n",
       "<style scoped>\n",
       "    .dataframe tbody tr th:only-of-type {\n",
       "        vertical-align: middle;\n",
       "    }\n",
       "\n",
       "    .dataframe tbody tr th {\n",
       "        vertical-align: top;\n",
       "    }\n",
       "\n",
       "    .dataframe thead th {\n",
       "        text-align: right;\n",
       "    }\n",
       "</style>\n",
       "<table border=\"1\" class=\"dataframe\">\n",
       "  <thead>\n",
       "    <tr style=\"text-align: right;\">\n",
       "      <th></th>\n",
       "      <th>id</th>\n",
       "      <th>name</th>\n",
       "      <th>age</th>\n",
       "      <th>salary</th>\n",
       "      <th>department</th>\n",
       "      <th>age_mean</th>\n",
       "      <th>salary_median</th>\n",
       "    </tr>\n",
       "  </thead>\n",
       "  <tbody>\n",
       "    <tr>\n",
       "      <th>0</th>\n",
       "      <td>1</td>\n",
       "      <td>Alice</td>\n",
       "      <td>25.0</td>\n",
       "      <td>50000.0</td>\n",
       "      <td>HR</td>\n",
       "      <td>25.0</td>\n",
       "      <td>50000.0</td>\n",
       "    </tr>\n",
       "    <tr>\n",
       "      <th>1</th>\n",
       "      <td>2</td>\n",
       "      <td>Bob</td>\n",
       "      <td>NaN</td>\n",
       "      <td>60000.0</td>\n",
       "      <td>Finance</td>\n",
       "      <td>32.5</td>\n",
       "      <td>60000.0</td>\n",
       "    </tr>\n",
       "    <tr>\n",
       "      <th>2</th>\n",
       "      <td>3</td>\n",
       "      <td>Charlie</td>\n",
       "      <td>35.0</td>\n",
       "      <td>NaN</td>\n",
       "      <td>Finance</td>\n",
       "      <td>35.0</td>\n",
       "      <td>62500.0</td>\n",
       "    </tr>\n",
       "    <tr>\n",
       "      <th>3</th>\n",
       "      <td>4</td>\n",
       "      <td>Diana</td>\n",
       "      <td>40.0</td>\n",
       "      <td>70000.0</td>\n",
       "      <td>None</td>\n",
       "      <td>40.0</td>\n",
       "      <td>70000.0</td>\n",
       "    </tr>\n",
       "    <tr>\n",
       "      <th>4</th>\n",
       "      <td>5</td>\n",
       "      <td>Evan</td>\n",
       "      <td>NaN</td>\n",
       "      <td>65000.0</td>\n",
       "      <td>HR</td>\n",
       "      <td>32.5</td>\n",
       "      <td>65000.0</td>\n",
       "    </tr>\n",
       "    <tr>\n",
       "      <th>5</th>\n",
       "      <td>6</td>\n",
       "      <td>None</td>\n",
       "      <td>30.0</td>\n",
       "      <td>NaN</td>\n",
       "      <td>Finance</td>\n",
       "      <td>30.0</td>\n",
       "      <td>62500.0</td>\n",
       "    </tr>\n",
       "  </tbody>\n",
       "</table>\n",
       "</div>"
      ],
      "text/plain": [
       "   id     name   age   salary department  age_mean  salary_median\n",
       "0   1    Alice  25.0  50000.0         HR      25.0        50000.0\n",
       "1   2      Bob   NaN  60000.0    Finance      32.5        60000.0\n",
       "2   3  Charlie  35.0      NaN    Finance      35.0        62500.0\n",
       "3   4    Diana  40.0  70000.0       None      40.0        70000.0\n",
       "4   5     Evan   NaN  65000.0         HR      32.5        65000.0\n",
       "5   6     None  30.0      NaN    Finance      30.0        62500.0"
      ]
     },
     "execution_count": 21,
     "metadata": {},
     "output_type": "execute_result"
    }
   ],
   "source": [
    "# Fill with median (better for skewed data)\n",
    "df[\"salary_median\"] = df[\"salary\"].fillna(df[\"salary\"].median())\n",
    "df"
   ]
  },
  {
   "cell_type": "code",
   "execution_count": 22,
   "id": "8e509bc6",
   "metadata": {},
   "outputs": [
    {
     "data": {
      "text/html": [
       "<div>\n",
       "<style scoped>\n",
       "    .dataframe tbody tr th:only-of-type {\n",
       "        vertical-align: middle;\n",
       "    }\n",
       "\n",
       "    .dataframe tbody tr th {\n",
       "        vertical-align: top;\n",
       "    }\n",
       "\n",
       "    .dataframe thead th {\n",
       "        text-align: right;\n",
       "    }\n",
       "</style>\n",
       "<table border=\"1\" class=\"dataframe\">\n",
       "  <thead>\n",
       "    <tr style=\"text-align: right;\">\n",
       "      <th></th>\n",
       "      <th>id</th>\n",
       "      <th>name</th>\n",
       "      <th>age</th>\n",
       "      <th>salary</th>\n",
       "      <th>department</th>\n",
       "      <th>age_mean</th>\n",
       "      <th>salary_median</th>\n",
       "      <th>department_mode</th>\n",
       "    </tr>\n",
       "  </thead>\n",
       "  <tbody>\n",
       "    <tr>\n",
       "      <th>0</th>\n",
       "      <td>1</td>\n",
       "      <td>Alice</td>\n",
       "      <td>25.0</td>\n",
       "      <td>50000.0</td>\n",
       "      <td>HR</td>\n",
       "      <td>25.0</td>\n",
       "      <td>50000.0</td>\n",
       "      <td>HR</td>\n",
       "    </tr>\n",
       "    <tr>\n",
       "      <th>1</th>\n",
       "      <td>2</td>\n",
       "      <td>Bob</td>\n",
       "      <td>NaN</td>\n",
       "      <td>60000.0</td>\n",
       "      <td>Finance</td>\n",
       "      <td>32.5</td>\n",
       "      <td>60000.0</td>\n",
       "      <td>Finance</td>\n",
       "    </tr>\n",
       "    <tr>\n",
       "      <th>2</th>\n",
       "      <td>3</td>\n",
       "      <td>Charlie</td>\n",
       "      <td>35.0</td>\n",
       "      <td>NaN</td>\n",
       "      <td>Finance</td>\n",
       "      <td>35.0</td>\n",
       "      <td>62500.0</td>\n",
       "      <td>Finance</td>\n",
       "    </tr>\n",
       "    <tr>\n",
       "      <th>3</th>\n",
       "      <td>4</td>\n",
       "      <td>Diana</td>\n",
       "      <td>40.0</td>\n",
       "      <td>70000.0</td>\n",
       "      <td>None</td>\n",
       "      <td>40.0</td>\n",
       "      <td>70000.0</td>\n",
       "      <td>Finance</td>\n",
       "    </tr>\n",
       "    <tr>\n",
       "      <th>4</th>\n",
       "      <td>5</td>\n",
       "      <td>Evan</td>\n",
       "      <td>NaN</td>\n",
       "      <td>65000.0</td>\n",
       "      <td>HR</td>\n",
       "      <td>32.5</td>\n",
       "      <td>65000.0</td>\n",
       "      <td>HR</td>\n",
       "    </tr>\n",
       "    <tr>\n",
       "      <th>5</th>\n",
       "      <td>6</td>\n",
       "      <td>None</td>\n",
       "      <td>30.0</td>\n",
       "      <td>NaN</td>\n",
       "      <td>Finance</td>\n",
       "      <td>30.0</td>\n",
       "      <td>62500.0</td>\n",
       "      <td>Finance</td>\n",
       "    </tr>\n",
       "  </tbody>\n",
       "</table>\n",
       "</div>"
      ],
      "text/plain": [
       "   id     name   age   salary department  age_mean  salary_median  \\\n",
       "0   1    Alice  25.0  50000.0         HR      25.0        50000.0   \n",
       "1   2      Bob   NaN  60000.0    Finance      32.5        60000.0   \n",
       "2   3  Charlie  35.0      NaN    Finance      35.0        62500.0   \n",
       "3   4    Diana  40.0  70000.0       None      40.0        70000.0   \n",
       "4   5     Evan   NaN  65000.0         HR      32.5        65000.0   \n",
       "5   6     None  30.0      NaN    Finance      30.0        62500.0   \n",
       "\n",
       "  department_mode  \n",
       "0              HR  \n",
       "1         Finance  \n",
       "2         Finance  \n",
       "3         Finance  \n",
       "4              HR  \n",
       "5         Finance  "
      ]
     },
     "execution_count": 22,
     "metadata": {},
     "output_type": "execute_result"
    }
   ],
   "source": [
    "# Fill with mode (for categorical variables)\n",
    "df[\"department_mode\"] = df[\"department\"].fillna(df[\"department\"].mode()[0])\n",
    "df\n",
    "\n",
    "#The mode means the most frequent value in the column.\n",
    "\n",
    "#Example: if \"Finance\" appears most often, then mode() returns a Series like:"
   ]
  },
  {
   "cell_type": "markdown",
   "id": "cdd2d930",
   "metadata": {},
   "source": [
    "**3. Group-wise Imputation**\n",
    "\n",
    "Fill missing values based on categories."
   ]
  },
  {
   "cell_type": "code",
   "execution_count": 23,
   "id": "822e81c4",
   "metadata": {},
   "outputs": [
    {
     "data": {
      "text/html": [
       "<div>\n",
       "<style scoped>\n",
       "    .dataframe tbody tr th:only-of-type {\n",
       "        vertical-align: middle;\n",
       "    }\n",
       "\n",
       "    .dataframe tbody tr th {\n",
       "        vertical-align: top;\n",
       "    }\n",
       "\n",
       "    .dataframe thead th {\n",
       "        text-align: right;\n",
       "    }\n",
       "</style>\n",
       "<table border=\"1\" class=\"dataframe\">\n",
       "  <thead>\n",
       "    <tr style=\"text-align: right;\">\n",
       "      <th></th>\n",
       "      <th>id</th>\n",
       "      <th>name</th>\n",
       "      <th>age</th>\n",
       "      <th>salary</th>\n",
       "      <th>department</th>\n",
       "      <th>age_mean</th>\n",
       "      <th>salary_median</th>\n",
       "      <th>department_mode</th>\n",
       "      <th>salary_group_median</th>\n",
       "    </tr>\n",
       "  </thead>\n",
       "  <tbody>\n",
       "    <tr>\n",
       "      <th>0</th>\n",
       "      <td>1</td>\n",
       "      <td>Alice</td>\n",
       "      <td>25.0</td>\n",
       "      <td>50000.0</td>\n",
       "      <td>HR</td>\n",
       "      <td>25.0</td>\n",
       "      <td>50000.0</td>\n",
       "      <td>HR</td>\n",
       "      <td>50000.0</td>\n",
       "    </tr>\n",
       "    <tr>\n",
       "      <th>1</th>\n",
       "      <td>2</td>\n",
       "      <td>Bob</td>\n",
       "      <td>NaN</td>\n",
       "      <td>60000.0</td>\n",
       "      <td>Finance</td>\n",
       "      <td>32.5</td>\n",
       "      <td>60000.0</td>\n",
       "      <td>Finance</td>\n",
       "      <td>60000.0</td>\n",
       "    </tr>\n",
       "    <tr>\n",
       "      <th>2</th>\n",
       "      <td>3</td>\n",
       "      <td>Charlie</td>\n",
       "      <td>35.0</td>\n",
       "      <td>NaN</td>\n",
       "      <td>Finance</td>\n",
       "      <td>35.0</td>\n",
       "      <td>62500.0</td>\n",
       "      <td>Finance</td>\n",
       "      <td>60000.0</td>\n",
       "    </tr>\n",
       "    <tr>\n",
       "      <th>3</th>\n",
       "      <td>4</td>\n",
       "      <td>Diana</td>\n",
       "      <td>40.0</td>\n",
       "      <td>70000.0</td>\n",
       "      <td>None</td>\n",
       "      <td>40.0</td>\n",
       "      <td>70000.0</td>\n",
       "      <td>Finance</td>\n",
       "      <td>NaN</td>\n",
       "    </tr>\n",
       "    <tr>\n",
       "      <th>4</th>\n",
       "      <td>5</td>\n",
       "      <td>Evan</td>\n",
       "      <td>NaN</td>\n",
       "      <td>65000.0</td>\n",
       "      <td>HR</td>\n",
       "      <td>32.5</td>\n",
       "      <td>65000.0</td>\n",
       "      <td>HR</td>\n",
       "      <td>65000.0</td>\n",
       "    </tr>\n",
       "    <tr>\n",
       "      <th>5</th>\n",
       "      <td>6</td>\n",
       "      <td>None</td>\n",
       "      <td>30.0</td>\n",
       "      <td>NaN</td>\n",
       "      <td>Finance</td>\n",
       "      <td>30.0</td>\n",
       "      <td>62500.0</td>\n",
       "      <td>Finance</td>\n",
       "      <td>60000.0</td>\n",
       "    </tr>\n",
       "  </tbody>\n",
       "</table>\n",
       "</div>"
      ],
      "text/plain": [
       "   id     name   age   salary department  age_mean  salary_median  \\\n",
       "0   1    Alice  25.0  50000.0         HR      25.0        50000.0   \n",
       "1   2      Bob   NaN  60000.0    Finance      32.5        60000.0   \n",
       "2   3  Charlie  35.0      NaN    Finance      35.0        62500.0   \n",
       "3   4    Diana  40.0  70000.0       None      40.0        70000.0   \n",
       "4   5     Evan   NaN  65000.0         HR      32.5        65000.0   \n",
       "5   6     None  30.0      NaN    Finance      30.0        62500.0   \n",
       "\n",
       "  department_mode  salary_group_median  \n",
       "0              HR              50000.0  \n",
       "1         Finance              60000.0  \n",
       "2         Finance              60000.0  \n",
       "3         Finance                  NaN  \n",
       "4              HR              65000.0  \n",
       "5         Finance              60000.0  "
      ]
     },
     "execution_count": 23,
     "metadata": {},
     "output_type": "execute_result"
    }
   ],
   "source": [
    "# Example: fill missing 'salary' with median per department\n",
    "df[\"salary_group_median\"] = df.groupby(\"department\")[\"salary\"].transform(\n",
    "    lambda x: x.fillna(x.median())\n",
    ")\n",
    "df"
   ]
  },
  {
   "cell_type": "markdown",
   "id": "f3be6f5d",
   "metadata": {},
   "source": [
    "This code fills missing `salary` values within each department using that **department’s median salary**.\n",
    "`groupby(\"department\")` splits data into groups, and `transform` ensures the filled values align with the original rows.\n",
    "So, **Finance NaNs get the Finance median**, **HR NaNs get the HR median**, etc."
   ]
  },
  {
   "cell_type": "markdown",
   "id": "423d20a1",
   "metadata": {},
   "source": [
    "**4. Forward/Backward Fill & Interpolation**\n",
    "\n",
    "Useful for time series data."
   ]
  },
  {
   "cell_type": "code",
   "execution_count": 24,
   "id": "ed03d850",
   "metadata": {},
   "outputs": [
    {
     "data": {
      "text/html": [
       "<div>\n",
       "<style scoped>\n",
       "    .dataframe tbody tr th:only-of-type {\n",
       "        vertical-align: middle;\n",
       "    }\n",
       "\n",
       "    .dataframe tbody tr th {\n",
       "        vertical-align: top;\n",
       "    }\n",
       "\n",
       "    .dataframe thead th {\n",
       "        text-align: right;\n",
       "    }\n",
       "</style>\n",
       "<table border=\"1\" class=\"dataframe\">\n",
       "  <thead>\n",
       "    <tr style=\"text-align: right;\">\n",
       "      <th></th>\n",
       "      <th>id</th>\n",
       "      <th>name</th>\n",
       "      <th>age</th>\n",
       "      <th>salary</th>\n",
       "      <th>department</th>\n",
       "      <th>age_mean</th>\n",
       "      <th>salary_median</th>\n",
       "      <th>department_mode</th>\n",
       "      <th>salary_group_median</th>\n",
       "    </tr>\n",
       "  </thead>\n",
       "  <tbody>\n",
       "    <tr>\n",
       "      <th>0</th>\n",
       "      <td>1</td>\n",
       "      <td>Alice</td>\n",
       "      <td>25.0</td>\n",
       "      <td>50000.0</td>\n",
       "      <td>HR</td>\n",
       "      <td>25.0</td>\n",
       "      <td>50000.0</td>\n",
       "      <td>HR</td>\n",
       "      <td>50000.0</td>\n",
       "    </tr>\n",
       "    <tr>\n",
       "      <th>1</th>\n",
       "      <td>2</td>\n",
       "      <td>Bob</td>\n",
       "      <td>25.0</td>\n",
       "      <td>60000.0</td>\n",
       "      <td>Finance</td>\n",
       "      <td>32.5</td>\n",
       "      <td>60000.0</td>\n",
       "      <td>Finance</td>\n",
       "      <td>60000.0</td>\n",
       "    </tr>\n",
       "    <tr>\n",
       "      <th>2</th>\n",
       "      <td>3</td>\n",
       "      <td>Charlie</td>\n",
       "      <td>35.0</td>\n",
       "      <td>60000.0</td>\n",
       "      <td>Finance</td>\n",
       "      <td>35.0</td>\n",
       "      <td>62500.0</td>\n",
       "      <td>Finance</td>\n",
       "      <td>60000.0</td>\n",
       "    </tr>\n",
       "    <tr>\n",
       "      <th>3</th>\n",
       "      <td>4</td>\n",
       "      <td>Diana</td>\n",
       "      <td>40.0</td>\n",
       "      <td>70000.0</td>\n",
       "      <td>Finance</td>\n",
       "      <td>40.0</td>\n",
       "      <td>70000.0</td>\n",
       "      <td>Finance</td>\n",
       "      <td>60000.0</td>\n",
       "    </tr>\n",
       "    <tr>\n",
       "      <th>4</th>\n",
       "      <td>5</td>\n",
       "      <td>Evan</td>\n",
       "      <td>40.0</td>\n",
       "      <td>65000.0</td>\n",
       "      <td>HR</td>\n",
       "      <td>32.5</td>\n",
       "      <td>65000.0</td>\n",
       "      <td>HR</td>\n",
       "      <td>65000.0</td>\n",
       "    </tr>\n",
       "    <tr>\n",
       "      <th>5</th>\n",
       "      <td>6</td>\n",
       "      <td>Evan</td>\n",
       "      <td>30.0</td>\n",
       "      <td>65000.0</td>\n",
       "      <td>Finance</td>\n",
       "      <td>30.0</td>\n",
       "      <td>62500.0</td>\n",
       "      <td>Finance</td>\n",
       "      <td>60000.0</td>\n",
       "    </tr>\n",
       "  </tbody>\n",
       "</table>\n",
       "</div>"
      ],
      "text/plain": [
       "   id     name   age   salary department  age_mean  salary_median  \\\n",
       "0   1    Alice  25.0  50000.0         HR      25.0        50000.0   \n",
       "1   2      Bob  25.0  60000.0    Finance      32.5        60000.0   \n",
       "2   3  Charlie  35.0  60000.0    Finance      35.0        62500.0   \n",
       "3   4    Diana  40.0  70000.0    Finance      40.0        70000.0   \n",
       "4   5     Evan  40.0  65000.0         HR      32.5        65000.0   \n",
       "5   6     Evan  30.0  65000.0    Finance      30.0        62500.0   \n",
       "\n",
       "  department_mode  salary_group_median  \n",
       "0              HR              50000.0  \n",
       "1         Finance              60000.0  \n",
       "2         Finance              60000.0  \n",
       "3         Finance              60000.0  \n",
       "4              HR              65000.0  \n",
       "5         Finance              60000.0  "
      ]
     },
     "execution_count": 24,
     "metadata": {},
     "output_type": "execute_result"
    }
   ],
   "source": [
    "# Forward fill (propagate last valid value)\n",
    "df_ffill = df.fillna(method=\"ffill\")\n",
    "\n",
    "df_ffill"
   ]
  },
  {
   "cell_type": "code",
   "execution_count": 25,
   "id": "8989b9bf",
   "metadata": {},
   "outputs": [
    {
     "data": {
      "text/html": [
       "<div>\n",
       "<style scoped>\n",
       "    .dataframe tbody tr th:only-of-type {\n",
       "        vertical-align: middle;\n",
       "    }\n",
       "\n",
       "    .dataframe tbody tr th {\n",
       "        vertical-align: top;\n",
       "    }\n",
       "\n",
       "    .dataframe thead th {\n",
       "        text-align: right;\n",
       "    }\n",
       "</style>\n",
       "<table border=\"1\" class=\"dataframe\">\n",
       "  <thead>\n",
       "    <tr style=\"text-align: right;\">\n",
       "      <th></th>\n",
       "      <th>id</th>\n",
       "      <th>name</th>\n",
       "      <th>age</th>\n",
       "      <th>salary</th>\n",
       "      <th>department</th>\n",
       "      <th>age_mean</th>\n",
       "      <th>salary_median</th>\n",
       "      <th>department_mode</th>\n",
       "      <th>salary_group_median</th>\n",
       "    </tr>\n",
       "  </thead>\n",
       "  <tbody>\n",
       "    <tr>\n",
       "      <th>0</th>\n",
       "      <td>1</td>\n",
       "      <td>Alice</td>\n",
       "      <td>25.0</td>\n",
       "      <td>50000.0</td>\n",
       "      <td>HR</td>\n",
       "      <td>25.0</td>\n",
       "      <td>50000.0</td>\n",
       "      <td>HR</td>\n",
       "      <td>50000.0</td>\n",
       "    </tr>\n",
       "    <tr>\n",
       "      <th>1</th>\n",
       "      <td>2</td>\n",
       "      <td>Bob</td>\n",
       "      <td>35.0</td>\n",
       "      <td>60000.0</td>\n",
       "      <td>Finance</td>\n",
       "      <td>32.5</td>\n",
       "      <td>60000.0</td>\n",
       "      <td>Finance</td>\n",
       "      <td>60000.0</td>\n",
       "    </tr>\n",
       "    <tr>\n",
       "      <th>2</th>\n",
       "      <td>3</td>\n",
       "      <td>Charlie</td>\n",
       "      <td>35.0</td>\n",
       "      <td>70000.0</td>\n",
       "      <td>Finance</td>\n",
       "      <td>35.0</td>\n",
       "      <td>62500.0</td>\n",
       "      <td>Finance</td>\n",
       "      <td>60000.0</td>\n",
       "    </tr>\n",
       "    <tr>\n",
       "      <th>3</th>\n",
       "      <td>4</td>\n",
       "      <td>Diana</td>\n",
       "      <td>40.0</td>\n",
       "      <td>70000.0</td>\n",
       "      <td>HR</td>\n",
       "      <td>40.0</td>\n",
       "      <td>70000.0</td>\n",
       "      <td>Finance</td>\n",
       "      <td>65000.0</td>\n",
       "    </tr>\n",
       "    <tr>\n",
       "      <th>4</th>\n",
       "      <td>5</td>\n",
       "      <td>Evan</td>\n",
       "      <td>30.0</td>\n",
       "      <td>65000.0</td>\n",
       "      <td>HR</td>\n",
       "      <td>32.5</td>\n",
       "      <td>65000.0</td>\n",
       "      <td>HR</td>\n",
       "      <td>65000.0</td>\n",
       "    </tr>\n",
       "    <tr>\n",
       "      <th>5</th>\n",
       "      <td>6</td>\n",
       "      <td>None</td>\n",
       "      <td>30.0</td>\n",
       "      <td>NaN</td>\n",
       "      <td>Finance</td>\n",
       "      <td>30.0</td>\n",
       "      <td>62500.0</td>\n",
       "      <td>Finance</td>\n",
       "      <td>60000.0</td>\n",
       "    </tr>\n",
       "  </tbody>\n",
       "</table>\n",
       "</div>"
      ],
      "text/plain": [
       "   id     name   age   salary department  age_mean  salary_median  \\\n",
       "0   1    Alice  25.0  50000.0         HR      25.0        50000.0   \n",
       "1   2      Bob  35.0  60000.0    Finance      32.5        60000.0   \n",
       "2   3  Charlie  35.0  70000.0    Finance      35.0        62500.0   \n",
       "3   4    Diana  40.0  70000.0         HR      40.0        70000.0   \n",
       "4   5     Evan  30.0  65000.0         HR      32.5        65000.0   \n",
       "5   6     None  30.0      NaN    Finance      30.0        62500.0   \n",
       "\n",
       "  department_mode  salary_group_median  \n",
       "0              HR              50000.0  \n",
       "1         Finance              60000.0  \n",
       "2         Finance              60000.0  \n",
       "3         Finance              65000.0  \n",
       "4              HR              65000.0  \n",
       "5         Finance              60000.0  "
      ]
     },
     "execution_count": 25,
     "metadata": {},
     "output_type": "execute_result"
    }
   ],
   "source": [
    "# Backward fill\n",
    "df_bfill = df.fillna(method=\"bfill\")\n",
    "df_bfill"
   ]
  },
  {
   "cell_type": "code",
   "execution_count": 26,
   "id": "b5a8cce3",
   "metadata": {},
   "outputs": [
    {
     "data": {
      "text/html": [
       "<div>\n",
       "<style scoped>\n",
       "    .dataframe tbody tr th:only-of-type {\n",
       "        vertical-align: middle;\n",
       "    }\n",
       "\n",
       "    .dataframe tbody tr th {\n",
       "        vertical-align: top;\n",
       "    }\n",
       "\n",
       "    .dataframe thead th {\n",
       "        text-align: right;\n",
       "    }\n",
       "</style>\n",
       "<table border=\"1\" class=\"dataframe\">\n",
       "  <thead>\n",
       "    <tr style=\"text-align: right;\">\n",
       "      <th></th>\n",
       "      <th>id</th>\n",
       "      <th>name</th>\n",
       "      <th>age</th>\n",
       "      <th>salary</th>\n",
       "      <th>department</th>\n",
       "      <th>age_mean</th>\n",
       "      <th>salary_median</th>\n",
       "      <th>department_mode</th>\n",
       "      <th>salary_group_median</th>\n",
       "    </tr>\n",
       "  </thead>\n",
       "  <tbody>\n",
       "    <tr>\n",
       "      <th>0</th>\n",
       "      <td>1</td>\n",
       "      <td>Alice</td>\n",
       "      <td>25.0</td>\n",
       "      <td>50000.0</td>\n",
       "      <td>HR</td>\n",
       "      <td>25.0</td>\n",
       "      <td>50000.0</td>\n",
       "      <td>HR</td>\n",
       "      <td>50000.0</td>\n",
       "    </tr>\n",
       "    <tr>\n",
       "      <th>1</th>\n",
       "      <td>2</td>\n",
       "      <td>Bob</td>\n",
       "      <td>30.0</td>\n",
       "      <td>60000.0</td>\n",
       "      <td>Finance</td>\n",
       "      <td>32.5</td>\n",
       "      <td>60000.0</td>\n",
       "      <td>Finance</td>\n",
       "      <td>60000.0</td>\n",
       "    </tr>\n",
       "    <tr>\n",
       "      <th>2</th>\n",
       "      <td>3</td>\n",
       "      <td>Charlie</td>\n",
       "      <td>35.0</td>\n",
       "      <td>65000.0</td>\n",
       "      <td>Finance</td>\n",
       "      <td>35.0</td>\n",
       "      <td>62500.0</td>\n",
       "      <td>Finance</td>\n",
       "      <td>60000.0</td>\n",
       "    </tr>\n",
       "    <tr>\n",
       "      <th>3</th>\n",
       "      <td>4</td>\n",
       "      <td>Diana</td>\n",
       "      <td>40.0</td>\n",
       "      <td>70000.0</td>\n",
       "      <td>None</td>\n",
       "      <td>40.0</td>\n",
       "      <td>70000.0</td>\n",
       "      <td>Finance</td>\n",
       "      <td>62500.0</td>\n",
       "    </tr>\n",
       "    <tr>\n",
       "      <th>4</th>\n",
       "      <td>5</td>\n",
       "      <td>Evan</td>\n",
       "      <td>35.0</td>\n",
       "      <td>65000.0</td>\n",
       "      <td>HR</td>\n",
       "      <td>32.5</td>\n",
       "      <td>65000.0</td>\n",
       "      <td>HR</td>\n",
       "      <td>65000.0</td>\n",
       "    </tr>\n",
       "    <tr>\n",
       "      <th>5</th>\n",
       "      <td>6</td>\n",
       "      <td>None</td>\n",
       "      <td>30.0</td>\n",
       "      <td>65000.0</td>\n",
       "      <td>Finance</td>\n",
       "      <td>30.0</td>\n",
       "      <td>62500.0</td>\n",
       "      <td>Finance</td>\n",
       "      <td>60000.0</td>\n",
       "    </tr>\n",
       "  </tbody>\n",
       "</table>\n",
       "</div>"
      ],
      "text/plain": [
       "   id     name   age   salary department  age_mean  salary_median  \\\n",
       "0   1    Alice  25.0  50000.0         HR      25.0        50000.0   \n",
       "1   2      Bob  30.0  60000.0    Finance      32.5        60000.0   \n",
       "2   3  Charlie  35.0  65000.0    Finance      35.0        62500.0   \n",
       "3   4    Diana  40.0  70000.0       None      40.0        70000.0   \n",
       "4   5     Evan  35.0  65000.0         HR      32.5        65000.0   \n",
       "5   6     None  30.0  65000.0    Finance      30.0        62500.0   \n",
       "\n",
       "  department_mode  salary_group_median  \n",
       "0              HR              50000.0  \n",
       "1         Finance              60000.0  \n",
       "2         Finance              60000.0  \n",
       "3         Finance              62500.0  \n",
       "4              HR              65000.0  \n",
       "5         Finance              60000.0  "
      ]
     },
     "execution_count": 26,
     "metadata": {},
     "output_type": "execute_result"
    }
   ],
   "source": [
    "# Interpolation (numeric, often for time series)\n",
    "df_interp = df.interpolate(method=\"linear\")\n",
    "df_interp"
   ]
  },
  {
   "cell_type": "markdown",
   "id": "34d8d588",
   "metadata": {},
   "source": [
    "# 4. Outliers & Data Validation \n",
    "\n",
    "Outliers are data points that deviate significantly from the majority of the dataset.  \n",
    "They may indicate **errors**, **rare events**, or **true but extreme values**.\n",
    "\n",
    "---\n",
    "\n",
    "## 4.1 Why Outliers Matter\n",
    "\n",
    "- **Numerical instability:** Many algorithms (mean, variance, regression) are sensitive to extreme values.  \n",
    "- **Distorted results:** Outliers can skew averages and inflate standard deviations.  \n",
    "- **Detection of anomalies:** Sometimes outliers are *important signals* (e.g., fraud detection, sensor failures).  \n",
    "\n",
    "💡 *Example:* A salary dataset with one billionaire will make the average salary misleading.\n",
    "\n",
    "---\n",
    "\n",
    "## 4.2 Methods to Detect Outliers\n",
    "\n",
    "### 1. Z-Score Method\n",
    "- Measures how many standard deviations a point is from the mean.  \n",
    "- Common rule: `|z| > 3` → potential outlier.\n",
    "\n",
    "```python\n"
   ]
  },
  {
   "cell_type": "code",
   "execution_count": 27,
   "id": "a06d19d5",
   "metadata": {},
   "outputs": [
    {
     "data": {
      "text/html": [
       "<div>\n",
       "<style scoped>\n",
       "    .dataframe tbody tr th:only-of-type {\n",
       "        vertical-align: middle;\n",
       "    }\n",
       "\n",
       "    .dataframe tbody tr th {\n",
       "        vertical-align: top;\n",
       "    }\n",
       "\n",
       "    .dataframe thead th {\n",
       "        text-align: right;\n",
       "    }\n",
       "</style>\n",
       "<table border=\"1\" class=\"dataframe\">\n",
       "  <thead>\n",
       "    <tr style=\"text-align: right;\">\n",
       "      <th></th>\n",
       "      <th>salary</th>\n",
       "    </tr>\n",
       "  </thead>\n",
       "  <tbody>\n",
       "    <tr>\n",
       "      <th>0</th>\n",
       "      <td>50000</td>\n",
       "    </tr>\n",
       "    <tr>\n",
       "      <th>1</th>\n",
       "      <td>52000</td>\n",
       "    </tr>\n",
       "    <tr>\n",
       "      <th>2</th>\n",
       "      <td>51000</td>\n",
       "    </tr>\n",
       "    <tr>\n",
       "      <th>3</th>\n",
       "      <td>49500</td>\n",
       "    </tr>\n",
       "    <tr>\n",
       "      <th>4</th>\n",
       "      <td>70000</td>\n",
       "    </tr>\n",
       "    <tr>\n",
       "      <th>5</th>\n",
       "      <td>1200000</td>\n",
       "    </tr>\n",
       "  </tbody>\n",
       "</table>\n",
       "</div>"
      ],
      "text/plain": [
       "    salary\n",
       "0    50000\n",
       "1    52000\n",
       "2    51000\n",
       "3    49500\n",
       "4    70000\n",
       "5  1200000"
      ]
     },
     "execution_count": 27,
     "metadata": {},
     "output_type": "execute_result"
    }
   ],
   "source": [
    "# Example data\n",
    "data = {\"salary\": [50000, 52000, 51000, 49500, 70000, 1200000]}\n",
    "df = pd.DataFrame(data)\n",
    "\n",
    "df\n",
    "#Notice that most salaries are in the 50k–70k range, but one value is 1,200,000, which is much larger → likely an outlier."
   ]
  },
  {
   "cell_type": "markdown",
   "id": "6c20f471",
   "metadata": {},
   "source": [
    "### Z-score Formula\n",
    "\n",
    "$$\n",
    "z = \\frac{x - \\mu}{\\sigma}\n",
    "$$\n",
    "\n",
    "where:  \n",
    "- $x$ = data point  \n",
    "- $\\mu$ = mean  \n",
    "- $\\sigma$ = standard deviation  \n",
    "\n",
    "---\n",
    "\n",
    "### Interpretation\n",
    "- If $z \\approx 0$, the value is **close to the mean**.  \n",
    "- If $|z| > 3$, the value is usually considered an **outlier**.  \n"
   ]
  },
  {
   "cell_type": "code",
   "execution_count": 28,
   "id": "e4831316",
   "metadata": {},
   "outputs": [
    {
     "name": "stdout",
     "output_type": "stream",
     "text": [
      "    salary   z_score\n",
      "0    50000 -0.417813\n",
      "1    52000 -0.413537\n",
      "2    51000 -0.415675\n",
      "3    49500 -0.418882\n",
      "4    70000 -0.375052\n",
      "5  1200000  2.040958\n"
     ]
    }
   ],
   "source": [
    "# Z-score detection\n",
    "mean, std = df[\"salary\"].mean(), df[\"salary\"].std()\n",
    "df[\"z_score\"] = (df[\"salary\"] - mean) / std\n",
    "print(df)\n"
   ]
  },
  {
   "cell_type": "markdown",
   "id": "75c2b6c8",
   "metadata": {},
   "source": [
    "### 🔹 Interpretation\n",
    "\n",
    "Most salaries (50k–70k) have z-scores around -0.4 → very close to the mean in terms of standard deviations.\n",
    "\n",
    "The 1,200,000 salary has a large positive Z-score (≈ +2 or more depending on spread) → clearly stands out as an outlier."
   ]
  },
  {
   "cell_type": "markdown",
   "id": "cbf56587",
   "metadata": {},
   "source": [
    "### 2. Modified Z-Score (based on Median Absolute Deviation, MAD)\n",
    "\n",
    "- More robust to extreme outliers.\n",
    "\n",
    "- Formula: `M_i = 0.6745 * (x_i - median) / MAD`"
   ]
  },
  {
   "cell_type": "code",
   "execution_count": 29,
   "id": "5943f8c9",
   "metadata": {},
   "outputs": [
    {
     "name": "stdout",
     "output_type": "stream",
     "text": [
      "    salary   z_score       mod_z\n",
      "0    50000 -0.417813   -0.578143\n",
      "1    52000 -0.413537    0.192714\n",
      "2    51000 -0.415675   -0.192714\n",
      "3    49500 -0.418882   -0.770857\n",
      "4    70000 -0.375052    7.130429\n",
      "5  1200000  2.040958  442.664714\n"
     ]
    }
   ],
   "source": [
    "median = df[\"salary\"].median()\n",
    "mad = np.median(np.abs(df[\"salary\"] - median))\n",
    "df[\"mod_z\"] = 0.6745 * (df[\"salary\"] - median) / mad\n",
    "print(df)\n",
    "\n",
    "\n",
    "#The output adds a new column \"mod_z\" showing how far each salary is from the \n",
    "#median in terms of MAD units — values with |mod_z| > 3.5 are typically considered outliers."
   ]
  },
  {
   "cell_type": "markdown",
   "id": "c417c92c",
   "metadata": {},
   "source": [
    "### 3. IQR Rule (Interquartile Range)\n",
    "\n",
    "Define **\"fences\"**:\n",
    "\n",
    "- Lower fence = Q1 – 1.5 × IQR\n",
    "\n",
    "- Upper fence = Q3 + 1.5 × IQR\n",
    "\n",
    "Points outside fences are potential outliers."
   ]
  },
  {
   "cell_type": "code",
   "execution_count": 30,
   "id": "1f9f4b69",
   "metadata": {},
   "outputs": [
    {
     "name": "stdout",
     "output_type": "stream",
     "text": [
      "    salary   z_score       mod_z  is_outlier_iqr\n",
      "0    50000 -0.417813   -0.578143           False\n",
      "1    52000 -0.413537    0.192714           False\n",
      "2    51000 -0.415675   -0.192714           False\n",
      "3    49500 -0.418882   -0.770857           False\n",
      "4    70000 -0.375052    7.130429           False\n",
      "5  1200000  2.040958  442.664714            True\n"
     ]
    }
   ],
   "source": [
    "Q1 = df[\"salary\"].quantile(0.25)\n",
    "Q3 = df[\"salary\"].quantile(0.75)\n",
    "IQR = Q3 - Q1\n",
    "\n",
    "lower_fence = Q1 - 1.5 * IQR\n",
    "upper_fence = Q3 + 1.5 * IQR\n",
    "\n",
    "df[\"is_outlier_iqr\"] = (df[\"salary\"] < lower_fence) | (df[\"salary\"] > upper_fence)\n",
    "print(df)\n"
   ]
  },
  {
   "cell_type": "markdown",
   "id": "469ecb8b",
   "metadata": {},
   "source": [
    "### 4. Visual Methods\n",
    "\n",
    "- Boxplot: Quickly shows quartiles and outliers.\n",
    "\n",
    "- Scatter plot: Helps detect unusual points in multi-dimensional data."
   ]
  },
  {
   "cell_type": "code",
   "execution_count": 31,
   "id": "5484e9da",
   "metadata": {},
   "outputs": [
    {
     "data": {
      "image/png": "[encoded data removed]",
      "text/plain": [
       "<Figure size 640x480 with 1 Axes>"
      ]
     },
     "metadata": {},
     "output_type": "display_data"
    }
   ],
   "source": [
    "import matplotlib.pyplot as plt\n",
    "\n",
    "plt.boxplot(df[\"salary\"])\n",
    "plt.title(\"Salary Boxplot\")\n",
    "plt.show()\n"
   ]
  },
  {
   "cell_type": "code",
   "execution_count": 32,
   "id": "e682d214",
   "metadata": {},
   "outputs": [
    {
     "data": {
      "image/png": "[encoded data removed]",
      "text/plain": [
       "<Figure size 640x480 with 1 Axes>"
      ]
     },
     "metadata": {},
     "output_type": "display_data"
    }
   ],
   "source": [
    "plt.scatter(range(len(df)), df[\"salary\"])\n",
    "plt.title(\"Salary Scatter Plot\")\n",
    "plt.show()\n"
   ]
  },
  {
   "cell_type": "markdown",
   "id": "244191b5",
   "metadata": {},
   "source": [
    "### 4.3 Handling Strategies\n",
    "\n",
    "- Removal\n",
    "\n",
    "- Drop extreme rows when clearly erroneous."
   ]
  },
  {
   "cell_type": "code",
   "execution_count": 33,
   "id": "fde43984",
   "metadata": {},
   "outputs": [
    {
     "data": {
      "text/html": [
       "<div>\n",
       "<style scoped>\n",
       "    .dataframe tbody tr th:only-of-type {\n",
       "        vertical-align: middle;\n",
       "    }\n",
       "\n",
       "    .dataframe tbody tr th {\n",
       "        vertical-align: top;\n",
       "    }\n",
       "\n",
       "    .dataframe thead th {\n",
       "        text-align: right;\n",
       "    }\n",
       "</style>\n",
       "<table border=\"1\" class=\"dataframe\">\n",
       "  <thead>\n",
       "    <tr style=\"text-align: right;\">\n",
       "      <th></th>\n",
       "      <th>salary</th>\n",
       "      <th>z_score</th>\n",
       "      <th>mod_z</th>\n",
       "      <th>is_outlier_iqr</th>\n",
       "    </tr>\n",
       "  </thead>\n",
       "  <tbody>\n",
       "    <tr>\n",
       "      <th>0</th>\n",
       "      <td>50000</td>\n",
       "      <td>-0.417813</td>\n",
       "      <td>-0.578143</td>\n",
       "      <td>False</td>\n",
       "    </tr>\n",
       "    <tr>\n",
       "      <th>1</th>\n",
       "      <td>52000</td>\n",
       "      <td>-0.413537</td>\n",
       "      <td>0.192714</td>\n",
       "      <td>False</td>\n",
       "    </tr>\n",
       "    <tr>\n",
       "      <th>2</th>\n",
       "      <td>51000</td>\n",
       "      <td>-0.415675</td>\n",
       "      <td>-0.192714</td>\n",
       "      <td>False</td>\n",
       "    </tr>\n",
       "    <tr>\n",
       "      <th>3</th>\n",
       "      <td>49500</td>\n",
       "      <td>-0.418882</td>\n",
       "      <td>-0.770857</td>\n",
       "      <td>False</td>\n",
       "    </tr>\n",
       "    <tr>\n",
       "      <th>4</th>\n",
       "      <td>70000</td>\n",
       "      <td>-0.375052</td>\n",
       "      <td>7.130429</td>\n",
       "      <td>False</td>\n",
       "    </tr>\n",
       "    <tr>\n",
       "      <th>5</th>\n",
       "      <td>1200000</td>\n",
       "      <td>2.040958</td>\n",
       "      <td>442.664714</td>\n",
       "      <td>True</td>\n",
       "    </tr>\n",
       "  </tbody>\n",
       "</table>\n",
       "</div>"
      ],
      "text/plain": [
       "    salary   z_score       mod_z  is_outlier_iqr\n",
       "0    50000 -0.417813   -0.578143           False\n",
       "1    52000 -0.413537    0.192714           False\n",
       "2    51000 -0.415675   -0.192714           False\n",
       "3    49500 -0.418882   -0.770857           False\n",
       "4    70000 -0.375052    7.130429           False\n",
       "5  1200000  2.040958  442.664714            True"
      ]
     },
     "execution_count": 33,
     "metadata": {},
     "output_type": "execute_result"
    }
   ],
   "source": [
    "df_no_outliers = df[df[\"z_score\"].abs() < 3]\n",
    "df_no_outliers"
   ]
  },
  {
   "cell_type": "markdown",
   "id": "c155e9b0",
   "metadata": {},
   "source": [
    "- Capping (Winsorization)\n",
    "\n",
    "- Replace outliers with boundary values."
   ]
  },
  {
   "cell_type": "code",
   "execution_count": 34,
   "id": "da01b4fb",
   "metadata": {},
   "outputs": [
    {
     "data": {
      "text/plain": [
       "0    50000\n",
       "1    52000\n",
       "2    51000\n",
       "3    49500\n",
       "4    70000\n",
       "5    88375\n",
       "Name: salary, dtype: int64"
      ]
     },
     "execution_count": 34,
     "metadata": {},
     "output_type": "execute_result"
    }
   ],
   "source": [
    "capped = df[\"salary\"].clip(lower_fence, upper_fence)\n",
    "#Restricts (clips) all values within a given range.\n",
    "capped"
   ]
  },
  {
   "cell_type": "markdown",
   "id": "0467e0c8",
   "metadata": {},
   "source": [
    "### 4.4 Data Validation (Quick Checks)\n",
    "\n",
    "Beyond detecting outliers, we should ensure data meets **logical expectations**:\n",
    "\n",
    "- Assertions: Check rules hold true.\n",
    "\n",
    "- Examples:\n",
    "\n",
    "    - Age should be non-negative.\n",
    "\n",
    "    - Salary should not exceed a reasonable maximum.\n",
    "\n",
    "    - IDs should be unique."
   ]
  },
  {
   "cell_type": "code",
   "execution_count": 35,
   "id": "6a542be2",
   "metadata": {},
   "outputs": [],
   "source": [
    "# Assertion checks\n",
    "assert (df[\"salary\"] > 0).all(), \"Salaries must be positive\"\n"
   ]
  },
  {
   "cell_type": "code",
   "execution_count": 37,
   "id": "81aa02cb",
   "metadata": {},
   "outputs": [
    {
     "ename": "AssertionError",
     "evalue": "Salary too high – potential data error",
     "output_type": "error",
     "traceback": [
      "\u001b[1;31m---------------------------------------------------------------------------\u001b[0m",
      "\u001b[1;31mAssertionError\u001b[0m                            Traceback (most recent call last)",
      "Cell \u001b[1;32mIn[37], line 1\u001b[0m\n\u001b[1;32m----> 1\u001b[0m \u001b[38;5;28;01massert\u001b[39;00m df[\u001b[38;5;124m\"\u001b[39m\u001b[38;5;124msalary\u001b[39m\u001b[38;5;124m\"\u001b[39m]\u001b[38;5;241m.\u001b[39mmax() \u001b[38;5;241m<\u001b[39m \u001b[38;5;241m10\u001b[39m\u001b[38;5;241m*\u001b[39m\u001b[38;5;241m7\u001b[39m, \u001b[38;5;124m\"\u001b[39m\u001b[38;5;124mSalary too high – potential data error\u001b[39m\u001b[38;5;124m\"\u001b[39m\n",
      "\u001b[1;31mAssertionError\u001b[0m: Salary too high – potential data error"
     ]
    }
   ],
   "source": [
    "assert df[\"salary\"].max() < 10*7, \"Salary too high – potential data error\"\n"
   ]
  },
  {
   "cell_type": "markdown",
   "id": "b486bc23",
   "metadata": {},
   "source": [
    "If the condition is True, nothing happens (the program continues).\n",
    "\n",
    "If the condition is False (i.e., at least one salary ≤ 0), Python raises an AssertionError with the message \"Salaries must be positive\"."
   ]
  },
  {
   "cell_type": "markdown",
   "id": "35b6a70d",
   "metadata": {},
   "source": [
    "# 5. Strings, Categoricals, Dates & Deduplication \n",
    "\n",
    "Many real datasets contain **text fields, categorical variables, date columns, and duplicate records**.  \n",
    "Cleaning and standardizing these ensures data quality, reduces memory, and improves model reliability.\n",
    "\n",
    "---\n",
    "\n",
    "## 5.1 Cleaning Text Fields\n",
    "\n",
    "Text columns often contain **extra spaces, inconsistent capitalization, or typos**.  \n",
    "We can clean them using pandas string methods (`.str`).\n"
   ]
  },
  {
   "cell_type": "code",
   "execution_count": 63,
   "id": "412a64c1",
   "metadata": {},
   "outputs": [
    {
     "name": "stdout",
     "output_type": "stream",
     "text": [
      "Original DataFrame:\n",
      "   id     name       city\n",
      "0   1   Alice    new york\n",
      "1   2      bob  NEW YORK \n",
      "2   3  CHARLIE     Boston\n",
      "3   4    Diana     bosTon\n"
     ]
    }
   ],
   "source": [
    "import pandas as pd\n",
    "\n",
    "data = {\n",
    "    \"id\": [1, 2, 3, 4],\n",
    "    \"name\": [\" Alice \", \"bob\", \"CHARLIE\", \"Diana\"],\n",
    "    \"city\": [\"new york\", \"NEW YORK \", \"Boston\", \"bosTon\"]\n",
    "}\n",
    "df = pd.DataFrame(data)\n",
    "print(\"Original DataFrame:\")\n",
    "print(df)\n"
   ]
  },
  {
   "cell_type": "code",
   "execution_count": 70,
   "id": "dfeb0b27",
   "metadata": {},
   "outputs": [
    {
     "data": {
      "text/html": [
       "<div>\n",
       "<style scoped>\n",
       "    .dataframe tbody tr th:only-of-type {\n",
       "        vertical-align: middle;\n",
       "    }\n",
       "\n",
       "    .dataframe tbody tr th {\n",
       "        vertical-align: top;\n",
       "    }\n",
       "\n",
       "    .dataframe thead th {\n",
       "        text-align: right;\n",
       "    }\n",
       "</style>\n",
       "<table border=\"1\" class=\"dataframe\">\n",
       "  <thead>\n",
       "    <tr style=\"text-align: right;\">\n",
       "      <th></th>\n",
       "      <th>id</th>\n",
       "      <th>name</th>\n",
       "      <th>city</th>\n",
       "      <th>name_clean</th>\n",
       "      <th>city_lower</th>\n",
       "      <th>city_clean</th>\n",
       "    </tr>\n",
       "  </thead>\n",
       "  <tbody>\n",
       "    <tr>\n",
       "      <th>0</th>\n",
       "      <td>1</td>\n",
       "      <td>Alice</td>\n",
       "      <td>new york</td>\n",
       "      <td>Alice</td>\n",
       "      <td>new york</td>\n",
       "      <td>new york</td>\n",
       "    </tr>\n",
       "    <tr>\n",
       "      <th>1</th>\n",
       "      <td>2</td>\n",
       "      <td>bob</td>\n",
       "      <td>NEW YORK</td>\n",
       "      <td>bob</td>\n",
       "      <td>new york</td>\n",
       "      <td>new york</td>\n",
       "    </tr>\n",
       "    <tr>\n",
       "      <th>2</th>\n",
       "      <td>3</td>\n",
       "      <td>CHARLIE</td>\n",
       "      <td>Boston</td>\n",
       "      <td>CHARLIE</td>\n",
       "      <td>boston</td>\n",
       "      <td>Boston</td>\n",
       "    </tr>\n",
       "    <tr>\n",
       "      <th>3</th>\n",
       "      <td>4</td>\n",
       "      <td>Diana</td>\n",
       "      <td>bosTon</td>\n",
       "      <td>Diana</td>\n",
       "      <td>boston</td>\n",
       "      <td>Boston</td>\n",
       "    </tr>\n",
       "  </tbody>\n",
       "</table>\n",
       "</div>"
      ],
      "text/plain": [
       "   id     name       city name_clean city_lower city_clean\n",
       "0   1   Alice    new york      Alice   new york   new york\n",
       "1   2      bob  NEW YORK         bob   new york   new york\n",
       "2   3  CHARLIE     Boston    CHARLIE     boston     Boston\n",
       "3   4    Diana     bosTon      Diana     boston     Boston"
      ]
     },
     "execution_count": 70,
     "metadata": {},
     "output_type": "execute_result"
    }
   ],
   "source": [
    "# Strip whitespace\n",
    "df[\"name_clean\"] = df[\"name\"].str.strip()\n",
    "\n",
    "df"
   ]
  },
  {
   "cell_type": "code",
   "execution_count": 68,
   "id": "1bfe8b07",
   "metadata": {},
   "outputs": [
    {
     "data": {
      "text/plain": [
       "0    new york\n",
       "1    new york\n",
       "2      boston\n",
       "3      boston\n",
       "Name: city_lower, dtype: object"
      ]
     },
     "execution_count": 68,
     "metadata": {},
     "output_type": "execute_result"
    }
   ],
   "source": [
    "# Case normalization\n",
    "df[\"city_lower\"] = df[\"city\"].str.strip().str.lower()\n",
    "df[\"city_lower\"]"
   ]
  },
  {
   "cell_type": "code",
   "execution_count": 69,
   "id": "4aaa637d",
   "metadata": {},
   "outputs": [
    {
     "name": "stdout",
     "output_type": "stream",
     "text": [
      "\n",
      "Cleaned DataFrame:\n",
      "   id     name       city name_clean city_lower city_clean\n",
      "0   1   Alice    new york      Alice   new york   new york\n",
      "1   2      bob  NEW YORK         bob   new york   new york\n",
      "2   3  CHARLIE     Boston    CHARLIE     boston     Boston\n",
      "3   4    Diana     bosTon      Diana     boston     Boston\n"
     ]
    }
   ],
   "source": [
    "# Token replacement (standardizing text)\n",
    "#regex=False\n",
    "#Tells pandas to treat \"boston\" as plain text, \n",
    "#not as a regex pattern — safer and faster for literal replacements.\n",
    "df[\"city_clean\"] = df[\"city_lower\"].str.replace(\"boston\", \"Boston\", regex=False)\n",
    "\n",
    "print(\"\\nCleaned DataFrame:\")\n",
    "print(df)"
   ]
  },
  {
   "cell_type": "markdown",
   "id": "352c40a2",
   "metadata": {},
   "source": [
    "## 5.2 Converting to Categorical\n",
    "\n",
    "- object columns (like city/department) take more memory.\n",
    "\n",
    "- Converting to category saves memory and speeds up operations."
   ]
  },
  {
   "cell_type": "code",
   "execution_count": 71,
   "id": "6b9d8757",
   "metadata": {},
   "outputs": [
    {
     "name": "stdout",
     "output_type": "stream",
     "text": [
      "\n",
      "Memory usage before/after:\n",
      "<class 'pandas.core.frame.DataFrame'>\n",
      "RangeIndex: 4 entries, 0 to 3\n",
      "Data columns (total 7 columns):\n",
      " #   Column      Non-Null Count  Dtype   \n",
      "---  ------      --------------  -----   \n",
      " 0   id          4 non-null      int64   \n",
      " 1   name        4 non-null      object  \n",
      " 2   city        4 non-null      object  \n",
      " 3   name_clean  4 non-null      object  \n",
      " 4   city_lower  4 non-null      object  \n",
      " 5   city_clean  4 non-null      object  \n",
      " 6   city_cat    4 non-null      category\n",
      "dtypes: category(1), int64(1), object(5)\n",
      "memory usage: 1.6 KB\n",
      "None\n"
     ]
    }
   ],
   "source": [
    "df[\"city_cat\"] = df[\"city_clean\"].astype(\"category\")\n",
    "\n",
    "print(\"\\nMemory usage before/after:\")\n",
    "print(df.info(memory_usage=\"deep\"))\n"
   ]
  },
  {
   "cell_type": "markdown",
   "id": "7a63c7fa",
   "metadata": {},
   "source": [
    "## 5.3 Parsing Dates\n",
    "\n",
    "Dates often come in different formats. Use `pd.to_datetime` to standardize."
   ]
  },
  {
   "cell_type": "code",
   "execution_count": 85,
   "id": "57924fd8",
   "metadata": {},
   "outputs": [
    {
     "data": {
      "text/html": [
       "<div>\n",
       "<style scoped>\n",
       "    .dataframe tbody tr th:only-of-type {\n",
       "        vertical-align: middle;\n",
       "    }\n",
       "\n",
       "    .dataframe tbody tr th {\n",
       "        vertical-align: top;\n",
       "    }\n",
       "\n",
       "    .dataframe thead th {\n",
       "        text-align: right;\n",
       "    }\n",
       "</style>\n",
       "<table border=\"1\" class=\"dataframe\">\n",
       "  <thead>\n",
       "    <tr style=\"text-align: right;\">\n",
       "      <th></th>\n",
       "      <th>raw_date</th>\n",
       "    </tr>\n",
       "  </thead>\n",
       "  <tbody>\n",
       "    <tr>\n",
       "      <th>0</th>\n",
       "      <td>2025-08-20</td>\n",
       "    </tr>\n",
       "    <tr>\n",
       "      <th>1</th>\n",
       "      <td>20/08/2025</td>\n",
       "    </tr>\n",
       "    <tr>\n",
       "      <th>2</th>\n",
       "      <td>Aug 20, 2025</td>\n",
       "    </tr>\n",
       "    <tr>\n",
       "      <th>3</th>\n",
       "      <td>20250820</td>\n",
       "    </tr>\n",
       "  </tbody>\n",
       "</table>\n",
       "</div>"
      ],
      "text/plain": [
       "       raw_date\n",
       "0    2025-08-20\n",
       "1    20/08/2025\n",
       "2  Aug 20, 2025\n",
       "3      20250820"
      ]
     },
     "execution_count": 85,
     "metadata": {},
     "output_type": "execute_result"
    }
   ],
   "source": [
    "date_data = {\n",
    "    \"raw_date\": [\"2025-08-20\", \"20/08/2025\", \"Aug 20, 2025\", \"20250820\"]\n",
    "}\n",
    "df = pd.DataFrame(date_data)\n",
    "\n",
    "df"
   ]
  },
  {
   "cell_type": "code",
   "execution_count": 86,
   "id": "ad7891b7",
   "metadata": {},
   "outputs": [
    {
     "name": "stdout",
     "output_type": "stream",
     "text": [
      "       raw_date parsed_date\n",
      "0    2025-08-20  2025-08-20\n",
      "1    20/08/2025         NaT\n",
      "2  Aug 20, 2025         NaT\n",
      "3      20250820         NaT\n"
     ]
    },
    {
     "name": "stderr",
     "output_type": "stream",
     "text": [
      "C:\\Users\\nn43\\AppData\\Local\\Temp\\ipykernel_8656\\1762580590.py:1: UserWarning: Parsing dates in %Y-%m-%d format when dayfirst=True was specified. Pass `dayfirst=False` or specify a format to silence this warning.\n",
      "  df[\"parsed_date\"] = pd.to_datetime(df[\"raw_date\"], errors=\"coerce\", dayfirst=True)\n"
     ]
    }
   ],
   "source": [
    "df[\"parsed_date\"] = pd.to_datetime(df[\"raw_date\"], errors=\"coerce\", dayfirst=True)\n",
    "print(df)\n",
    "#errors=\"coerce\"\n",
    "#Forces invalid or unrecognized dates \n",
    "#to become NaT (Not a Time, the datetime equivalent of NaN). Prevents crashes"
   ]
  },
  {
   "cell_type": "code",
   "execution_count": 87,
   "id": "54ab44a7",
   "metadata": {},
   "outputs": [
    {
     "data": {
      "text/html": [
       "<div>\n",
       "<style scoped>\n",
       "    .dataframe tbody tr th:only-of-type {\n",
       "        vertical-align: middle;\n",
       "    }\n",
       "\n",
       "    .dataframe tbody tr th {\n",
       "        vertical-align: top;\n",
       "    }\n",
       "\n",
       "    .dataframe thead th {\n",
       "        text-align: right;\n",
       "    }\n",
       "</style>\n",
       "<table border=\"1\" class=\"dataframe\">\n",
       "  <thead>\n",
       "    <tr style=\"text-align: right;\">\n",
       "      <th></th>\n",
       "      <th>raw_date</th>\n",
       "      <th>parsed_date</th>\n",
       "    </tr>\n",
       "  </thead>\n",
       "  <tbody>\n",
       "    <tr>\n",
       "      <th>0</th>\n",
       "      <td>2025-08-20</td>\n",
       "      <td>2025-08-20</td>\n",
       "    </tr>\n",
       "    <tr>\n",
       "      <th>1</th>\n",
       "      <td>20/08/2025</td>\n",
       "      <td>2025-08-20</td>\n",
       "    </tr>\n",
       "    <tr>\n",
       "      <th>2</th>\n",
       "      <td>Aug 20, 2025</td>\n",
       "      <td>2025-08-20</td>\n",
       "    </tr>\n",
       "    <tr>\n",
       "      <th>3</th>\n",
       "      <td>20250820</td>\n",
       "      <td>2025-08-20</td>\n",
       "    </tr>\n",
       "  </tbody>\n",
       "</table>\n",
       "</div>"
      ],
      "text/plain": [
       "       raw_date parsed_date\n",
       "0    2025-08-20  2025-08-20\n",
       "1    20/08/2025  2025-08-20\n",
       "2  Aug 20, 2025  2025-08-20\n",
       "3      20250820  2025-08-20"
      ]
     },
     "execution_count": 87,
     "metadata": {},
     "output_type": "execute_result"
    }
   ],
   "source": [
    "from datetime import datetime\n",
    "\n",
    "def try_parse(date_str):\n",
    "    for fmt in (\"%Y-%m-%d\", \"%d/%m/%Y\", \"%b %d, %Y\", \"%Y%m%d\"):\n",
    "        try:\n",
    "            return datetime.strptime(date_str, fmt)\n",
    "        except ValueError:\n",
    "            continue\n",
    "    return None  # if no format matches\n",
    "\n",
    "df[\"parsed_date\"] = df[\"raw_date\"].apply(try_parse)\n",
    "df"
   ]
  },
  {
   "cell_type": "code",
   "execution_count": null,
   "id": "70b3202a",
   "metadata": {},
   "outputs": [],
   "source": []
  }
 ],
 "metadata": {
  "kernelspec": {
   "display_name": "Python 3 (ipykernel)",
   "language": "python",
   "name": "python3"
  },
  "language_info": {
   "codemirror_mode": {
    "name": "ipython",
    "version": 3
   },
   "file_extension": ".py",
   "mimetype": "text/x-python",
   "name": "python",
   "nbconvert_exporter": "python",
   "pygments_lexer": "ipython3",
   "version": "3.11.5"
  }
 },
 "nbformat": 4,
 "nbformat_minor": 5
}
