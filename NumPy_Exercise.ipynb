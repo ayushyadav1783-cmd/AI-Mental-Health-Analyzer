{
 "cells": [
  {
   "cell_type": "markdown",
   "id": "378834ec",
   "metadata": {},
   "source": [
    "#  NumPy Classroom Exercise \n",
    "\n",
    " \n",
    "**Rules:** Use only **NumPy** (`import numpy as np`). Avoid Python loops unless asked.\n"
   ]
  },
  {
   "cell_type": "code",
   "execution_count": 34,
   "id": "34a23c7a",
   "metadata": {},
   "outputs": [],
   "source": [
    "# Setup\n",
    "import numpy as np\n"
   ]
  },
  {
   "cell_type": "markdown",
   "id": "19cdbba3",
   "metadata": {},
   "source": [
    "**Task 1.1** Create:\n",
    "- `A` with shape `(3, 4)` of type `float64` containing values `0..11`.\n",
    "- `B` as a `(4, 1)` column vector of type `int32` containing values `1..4`.\n",
    "- Without copying, create `A_view` selecting the **last two columns** of `A`. Prove modifying `A_view` also changes `A`.\n",
    "\n",
    "**Task 1.2** Convert `B` to `float64` **without** changing `B` in place, and explain why `A @ B` fails or succeeds."
   ]
  },
  {
   "cell_type": "code",
   "execution_count": 35,
   "id": "7bf6d9ca",
   "metadata": {},
   "outputs": [],
   "source": [
    "# === Your work: 1.1 & 1.2 ===\n",
    "# Create A, B, A_view as described; then demonstrate the view behavior and try A @ B.\n",
    "\n"
   ]
  },
  {
   "cell_type": "code",
   "execution_count": 36,
   "id": "60a151d7",
   "metadata": {},
   "outputs": [
    {
     "name": "stdout",
     "output_type": "stream",
     "text": [
      "A after modifying A_view:\n",
      " [[ 0.  1. -1. -1.]\n",
      " [ 4.  5. -1. -1.]\n",
      " [ 8.  9. -1. -1.]]\n",
      "A @ B_float:\n",
      " [[-5.]\n",
      " [ 7.]\n",
      " [19.]]\n",
      "\n",
      "A @ B succeeds because A is (3,4) and B is (4,1), so matrix multiplication is valid and results in shape (3,1).\n",
      "\n"
     ]
    }
   ],
   "source": [
    "# Task 1.1\n",
    "A = np.arange(12, dtype=np.float64).reshape(3, 4)\n",
    "B = np.arange(1, 5, dtype=np.int32).reshape(4, 1)\n",
    "A_view = A[:, 2:]  # last two columns, view not copy\n",
    "A_view[:] = -1\n",
    "print(\"A after modifying A_view:\\n\", A)\n",
    "\n",
    "# Task 1.2\n",
    "B_float = B.astype(np.float64)\n",
    "result = A @ B_float\n",
    "print(\"A @ B_float:\\n\", result)\n",
    "explanation_12 = \"\"\"\n",
    "A @ B succeeds because A is (3,4) and B is (4,1), so matrix multiplication is valid and results in shape (3,1).\n",
    "\"\"\"\n",
    "print(explanation_12)"
   ]
  },
  {
   "cell_type": "markdown",
   "id": "0c2c3aef",
   "metadata": {},
   "source": [
    "`X = np.arange(1, 13).reshape(3, 4)`, `w = np.array([1, -1, 1, -1])`\n",
    "\n",
    "**Task 2.1** Multiply each column of X by the matching weight in w and then add across the row.\n",
    "The result should be a 1-D array with 3 values (one for each row).\n",
    "Do this without using any loops.\n",
    "\n",
    "**Task 2.2** Standardize `X` **column‑wise** to zero mean/unit var using broadcasting. Verify means/stds.\n",
    "\"Standardize” means:\n",
    "\n",
    "Subtract the mean of each column,\n",
    "\n",
    "Then divide by that column’s standard deviation.\n",
    "\n",
    "This makes each column have mean ≈ 0 and standard deviation ≈ 1.\n",
    "\n",
    "**Task 2.3** Explain why `X + np.array([1, 2])` errors, but `X + np.array([[1],[2],[3]])` works."
   ]
  },
  {
   "cell_type": "code",
   "execution_count": 37,
   "id": "3916605e",
   "metadata": {},
   "outputs": [],
   "source": [
    "# === Your work: 2.1–2.3 ===\n",
    "X = np.arange(1, 13).reshape(3, 4)\n",
    "w = np.array([1, -1, 1, -1])\n",
    "\n",
    "# 2.1\n",
    "\n",
    "# 2.2\n",
    "\n",
    "# 2.3 (brief note in a string variable)\n",
    "reasoning_23 = \"\"\"\n",
    "\"\"\"\n"
   ]
  },
  {
   "cell_type": "code",
   "execution_count": null,
   "id": "7ec56d1e",
   "metadata": {
    "tags": [
     "solution"
    ]
   },
   "outputs": [],
   "source": []
  },
  {
   "cell_type": "code",
   "execution_count": 38,
   "id": "d1838574",
   "metadata": {},
   "outputs": [
    {
     "name": "stdout",
     "output_type": "stream",
     "text": [
      "Task 2.1 result: [-2 -2 -2]\n",
      "Task 2.2 standardized X:\n",
      " [[-1.22474487 -1.22474487 -1.22474487 -1.22474487]\n",
      " [ 0.          0.          0.          0.        ]\n",
      " [ 1.22474487  1.22474487  1.22474487  1.22474487]]\n",
      "Means (should be ~0): [0. 0. 0. 0.]\n",
      "Stds (should be ~1): [1. 1. 1. 1.]\n",
      "\n",
      "X + np.array([1, 2]) errors because their shapes are not compatible for broadcasting: (3,4) vs (2,).\n",
      "X + np.array([[1],[2],[3]]) works because (3,1) broadcasts to (3,4) along columns.\n",
      "\n"
     ]
    }
   ],
   "source": [
    "# 2.1\n",
    "weighted_sum = (X * w).sum(axis=1)\n",
    "print(\"Task 2.1 result:\", weighted_sum)\n",
    "\n",
    "# 2.2\n",
    "X_mean = X.mean(axis=0)\n",
    "X_std = X.std(axis=0)\n",
    "X_standardized = (X - X_mean) / X_std\n",
    "print(\"Task 2.2 standardized X:\\n\", X_standardized)\n",
    "print(\"Means (should be ~0):\", X_standardized.mean(axis=0))\n",
    "print(\"Stds (should be ~1):\", X_standardized.std(axis=0))\n",
    "\n",
    "# 2.3\n",
    "reasoning_23 = \"\"\"\n",
    "X + np.array([1, 2]) errors because their shapes are not compatible for broadcasting: (3,4) vs (2,).\n",
    "X + np.array([[1],[2],[3]]) works because (3,1) broadcasts to (3,4) along columns.\n",
    "\"\"\"\n",
    "print(reasoning_23)"
   ]
  },
  {
   "cell_type": "markdown",
   "id": "7ba2a8e4",
   "metadata": {},
   "source": [
    "\n",
    "Let `rng = np.random.default_rng(0)` and `Z = rng.normal(0, 1, (5, 6))`.\n",
    "\n",
    "`Z` becomes a **5×6 matrix** filled with random numbers drawn from the standard normal distribution (mean 0, std 1).  \n",
    "\n",
    "\n",
    "**Task 3.1** Count how many rows have **≥ 3** strictly positive entries (no loops).\n",
    "\n",
    "**Task 3.2** Replace negatives with their squares; keep non‑negatives unchanged (vectorized)."
   ]
  },
  {
   "cell_type": "code",
   "execution_count": null,
   "id": "4a3b6215",
   "metadata": {},
   "outputs": [],
   "source": [
    "# === Your work: 3.1–3.3 ===\n",
    "rng = np.random.default_rng(0)\n",
    "Z = rng.normal(loc=0, scale=1, size=(5, 6))\n",
    "\n",
    "# 3.1\n",
    "num_rows_with_3pos = (Z > 0).sum(axis=1) >= 3\n",
    "count_3pos_rows = num_rows_with_3pos.sum()\n",
    "print(\"Rows with ≥3 strictly positive entries:\", count_3pos_rows)\n",
    "# 3.2\n",
    "Z_transformed = np.where(Z < 0, Z**2, Z)\n",
    "print(\"Z with negatives squared:\\n\", Z_transformed)\n"
   ]
  },
  {
   "cell_type": "markdown",
   "id": "b4d3f3dc",
   "metadata": {},
   "source": [
    "Create `Y = np.arange(1, 13).reshape(3, 4)`.\n",
    "\n",
    "**Task 4.1** Use **basic slicing** to extract columns 1..2 and set them to `-99`. Show `Y` changed.\n"
   ]
  },
  {
   "cell_type": "code",
   "execution_count": 42,
   "id": "8778bed1",
   "metadata": {},
   "outputs": [
    {
     "name": "stdout",
     "output_type": "stream",
     "text": [
      "Y after setting columns 1 and 2 to -99:\n",
      " [[  1 -99 -99   4]\n",
      " [  5 -99 -99   8]\n",
      " [  9 -99 -99  12]]\n"
     ]
    }
   ],
   "source": [
    "# === Your work: 4.1–4.2 ===\n",
    "Y = np.arange(1, 13).reshape(3, 4)\n",
    "\n",
    "# 4.1\n",
    "Y[:, 1:3] = -99\n",
    "print(\"Y after setting columns 1 and 2 to -99:\\n\", Y)\n",
    "\n",
    "\n"
   ]
  },
  {
   "cell_type": "markdown",
   "id": "bf441275",
   "metadata": {},
   "source": [
    "Define `a=b=(2,000,000)` random normals.\n",
    "\n",
    "**Task 5.1** Compute cosine similarity once using **pure Python loops** and once using **NumPy**; time both (use `%timeit`/`%%timeit` in Jupyter)."
   ]
  },
  {
   "cell_type": "code",
   "execution_count": null,
   "id": "182c9cf6",
   "metadata": {},
   "outputs": [
    {
     "name": "stdout",
     "output_type": "stream",
     "text": [
      "195 ms ± 2.12 ms per loop (mean ± std. dev. of 7 runs, 10 loops each)\n",
      "884 μs ± 96 μs per loop (mean ± std. dev. of 7 runs, 1,000 loops each)\n"
     ]
    }
   ],
   "source": [
    "# === Your work: 7.1 ===\n",
    "rng = np.random.default_rng(0)\n",
    "a = rng.normal(size=2_000_000)\n",
    "b = rng.normal(size=2_000_000)\n",
    "\n",
    "# Pure Python loops (sketch; be careful—this will be slow)\n",
    "# dot = 0.0\n",
    "# for i in range(len(a)):\n",
    "#     dot += float(a[i]) * float(b[i])\n",
    "# cos_loop = dot / (np.sqrt((a*a).sum()) * np.sqrt((b*b).sum()))\n",
    "\n",
    "# NumPy vectorized\n",
    "# %timeit a.dot(b) / (np.linalg.norm(a)*np.linalg.norm(b))\n",
    "\n",
    "def cosine_similarity_loop(a, b):\n",
    "    dot = 0.0\n",
    "    norm_a = 0.0\n",
    "    norm_b = 0.0\n",
    "    for i in range(len(a)):\n",
    "        ai = float(a[i])\n",
    "        bi = float(b[i])\n",
    "        dot += ai * bi\n",
    "        norm_a += ai * ai\n",
    "        norm_b += bi * bi\n",
    "    return dot / (norm_a**0.5 * norm_b**0.5)\n",
    "\n",
    "# Time pure Python loop\n",
    "%timeit cosine_similarity_loop(a, b)\n",
    "\n",
    "# NumPy vectorized\n",
    "%timeit a.dot(b) / (np.linalg.norm(a) * np.linalg.norm(b))"
   ]
  }
 ],
 "metadata": {
  "kernelspec": {
   "display_name": "base",
   "language": "python",
   "name": "python3"
  },
  "language_info": {
   "codemirror_mode": {
    "name": "ipython",
    "version": 3
   },
   "file_extension": ".py",
   "mimetype": "text/x-python",
   "name": "python",
   "nbconvert_exporter": "python",
   "pygments_lexer": "ipython3",
   "version": "3.13.5"
  }
 },
 "nbformat": 4,
 "nbformat_minor": 5
}
