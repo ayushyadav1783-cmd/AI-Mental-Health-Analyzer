{
 "cells": [
  {
   "cell_type": "markdown",
   "id": "b9a71c2e",
   "metadata": {},
   "source": [
    "# Pandas Series\n",
    "\n",
    "A **Pandas Series** is a **one-dimensional labeled array** in Python’s pandas library. You can think of it like a column in an Excel sheet or a single list of values, but with labels (called an **index**) attached to each element.  \n",
    "\n",
    "---\n",
    "\n",
    "## Key Features\n",
    "- **One-dimensional**: Stores data in a single column (unlike a DataFrame, which has multiple columns).\n",
    "- **Index labels**: Each value has an associated label (by default integers `0, 1, 2, ...`, but you can assign custom labels).\n",
    "- **Data types**: Can hold integers, floats, strings, objects, or even Python functions.\n",
    "- **Vectorized operations**: You can perform arithmetic and logical operations directly on a Series without using loops.\n",
    "- **Integration with NumPy**: Many NumPy functions work seamlessly with Series.\n",
    "\n",
    "---\n",
    "\n",
    "## Example\n"
   ]
  },
  {
   "cell_type": "code",
   "execution_count": 1,
   "id": "4d120456",
   "metadata": {},
   "outputs": [
    {
     "name": "stdout",
     "output_type": "stream",
     "text": [
      "a    10\n",
      "b    20\n",
      "c    30\n",
      "d    40\n",
      "dtype: int64\n"
     ]
    }
   ],
   "source": [
    "import pandas as pd\n",
    "\n",
    "# Create a Series from a list\n",
    "s = pd.Series([10, 20, 30, 40], index=['a', 'b', 'c', 'd'])\n",
    "print(s)\n"
   ]
  },
  {
   "cell_type": "markdown",
   "id": "fe18a684",
   "metadata": {},
   "source": [
    "Here:\n",
    "\n",
    "The **values** are `[10, 20, 30, 40]`\n",
    "\n",
    "The **index labels** are `['a', 'b', 'c', 'd']`"
   ]
  },
  {
   "cell_type": "markdown",
   "id": "8f14759c",
   "metadata": {},
   "source": [
    "# 📌 Pandas Series Fundamentals\n",
    "\n",
    "A **Series** is a one-dimensional labeled array capable of holding data of any type (integers, floats, strings, Python objects, etc.).  \n",
    "It has two main components:\n",
    "\n",
    "- **Values** → the actual data stored  \n",
    "- **Index** → labels that identify each element  \n",
    "\n",
    "---\n",
    "\n",
    "## 1. Creating a Series\n",
    "\n",
    "You can create a Series from:\n",
    "- A **list**\n",
    "- A **NumPy array**\n",
    "- A **dictionary**\n",
    "- A **scalar value**\n"
   ]
  },
  {
   "cell_type": "code",
   "execution_count": 2,
   "id": "b03e2077",
   "metadata": {},
   "outputs": [
    {
     "data": {
      "text/plain": [
       "0    10\n",
       "1    20\n",
       "2    30\n",
       "3    40\n",
       "dtype: int64"
      ]
     },
     "execution_count": 2,
     "metadata": {},
     "output_type": "execute_result"
    }
   ],
   "source": [
    "import pandas as pd\n",
    "import numpy as np\n",
    "\n",
    "# From list\n",
    "s1 = pd.Series([10, 20, 30, 40])\n",
    "\n",
    "s1"
   ]
  },
  {
   "cell_type": "code",
   "execution_count": 3,
   "id": "b72f5ec4",
   "metadata": {},
   "outputs": [
    {
     "data": {
      "text/plain": [
       "0    1\n",
       "1    2\n",
       "2    3\n",
       "3    4\n",
       "dtype: int32"
      ]
     },
     "execution_count": 3,
     "metadata": {},
     "output_type": "execute_result"
    }
   ],
   "source": [
    "# From numpy array\n",
    "s2 = pd.Series(np.array([1, 2, 3, 4]))\n",
    "s2"
   ]
  },
  {
   "cell_type": "code",
   "execution_count": 14,
   "id": "f48ff2a7",
   "metadata": {},
   "outputs": [
    {
     "data": {
      "text/plain": [
       "x    0.1\n",
       "y    0.2\n",
       "z    0.3\n",
       "Name: prob, dtype: float64"
      ]
     },
     "execution_count": 14,
     "metadata": {},
     "output_type": "execute_result"
    }
   ],
   "source": [
    "# From numpy array\n",
    "arr = np.array([0.1, 0.2, 0.3])\n",
    "s_np = pd.Series(arr, index=['x', 'y', 'z'], name='prob')\n",
    "s_np\n"
   ]
  },
  {
   "cell_type": "code",
   "execution_count": 5,
   "id": "8f81272f",
   "metadata": {},
   "outputs": [
    {
     "name": "stdout",
     "output_type": "stream",
     "text": [
      "a    100\n",
      "b    200\n",
      "c    300\n",
      "dtype: int64\n"
     ]
    }
   ],
   "source": [
    "# From dictionary (keys become index)\n",
    "s3 = pd.Series({'a': 100, 'b': 200, 'c': 300})\n",
    "\n",
    "s3\n"
   ]
  },
  {
   "cell_type": "code",
   "execution_count": 13,
   "id": "0f1776e3",
   "metadata": {},
   "outputs": [
    {
     "data": {
      "text/plain": [
       "NY     8.4\n",
       "LA     3.9\n",
       "CHI    2.7\n",
       "Name: population_millions, dtype: float64"
      ]
     },
     "execution_count": 13,
     "metadata": {},
     "output_type": "execute_result"
    }
   ],
   "source": [
    "s_dict = pd.Series({'NY': 8.4, 'LA': 3.9, 'CHI': 2.7}, name='population_millions')\n",
    "s_dict\n"
   ]
  },
  {
   "cell_type": "code",
   "execution_count": 8,
   "id": "cf041204",
   "metadata": {},
   "outputs": [
    {
     "data": {
      "text/plain": [
       "x    5\n",
       "y    5\n",
       "z    5\n",
       "dtype: int64"
      ]
     },
     "execution_count": 8,
     "metadata": {},
     "output_type": "execute_result"
    }
   ],
   "source": [
    "# From scalar (broadcasted to index)\n",
    "s4 = pd.Series(5, index=['x', 'y', 'z'])\n",
    "s4"
   ]
  },
  {
   "cell_type": "code",
   "execution_count": 16,
   "id": "5393abeb",
   "metadata": {},
   "outputs": [
    {
     "data": {
      "text/plain": [
       "(Index(['x', 'y', 'z'], dtype='object'), dtype('int64'))"
      ]
     },
     "execution_count": 16,
     "metadata": {},
     "output_type": "execute_result"
    }
   ],
   "source": [
    "s = s4\n",
    "s.index, s.dtype"
   ]
  },
  {
   "cell_type": "markdown",
   "id": "81ff59bc",
   "metadata": {},
   "source": [
    "## 2. Index and Values\n",
    "\n",
    "A Series has **two attributes**:\n",
    "\n",
    "`s.index` → the labels\n",
    "\n",
    "`s.values` → the data values"
   ]
  },
  {
   "cell_type": "code",
   "execution_count": 9,
   "id": "dbc3bda7",
   "metadata": {},
   "outputs": [
    {
     "name": "stdout",
     "output_type": "stream",
     "text": [
      "Index: Index(['a', 'b', 'c'], dtype='object')\n",
      "Values: [10 20 30]\n"
     ]
    }
   ],
   "source": [
    "s = pd.Series([10, 20, 30], index=['a', 'b', 'c'])\n",
    "print(\"Index:\", s.index)\n",
    "print(\"Values:\", s.values)\n"
   ]
  },
  {
   "cell_type": "markdown",
   "id": "f987bff7",
   "metadata": {},
   "source": [
    "## 3. Data Selection\n",
    "\n",
    "You can access Series data using:\n",
    "\n",
    "**Index label** `(s['a'])`\n",
    "\n",
    "**Position** `(s[0])`\n",
    "\n",
    "**Slicing** `(s[1:] or s['b':])`"
   ]
  },
  {
   "cell_type": "code",
   "execution_count": 10,
   "id": "0846795f",
   "metadata": {},
   "outputs": [
    {
     "name": "stdout",
     "output_type": "stream",
     "text": [
      "10\n",
      "10\n",
      "b    20\n",
      "c    30\n",
      "dtype: int64\n"
     ]
    }
   ],
   "source": [
    "print(s['a'])   # by label → 10\n",
    "print(s[0])     # by position → 10\n",
    "print(s['b':])  # slice by label → b, c\n"
   ]
  },
  {
   "cell_type": "markdown",
   "id": "92e1a527",
   "metadata": {},
   "source": [
    "## 4. Vectorized Operations\n",
    "\n",
    "Operations are applied element-wise without loops (just like NumPy)."
   ]
  },
  {
   "cell_type": "code",
   "execution_count": 11,
   "id": "53b1ded7",
   "metadata": {},
   "outputs": [
    {
     "name": "stdout",
     "output_type": "stream",
     "text": [
      "0    2\n",
      "1    4\n",
      "2    6\n",
      "3    8\n",
      "dtype: int64\n",
      "0    11\n",
      "1    12\n",
      "2    13\n",
      "3    14\n",
      "dtype: int64\n"
     ]
    }
   ],
   "source": [
    "s = pd.Series([1, 2, 3, 4])\n",
    "print(s * 2)      # multiply each element\n",
    "print(s + 10)     # add 10 to each element\n"
   ]
  },
  {
   "cell_type": "code",
   "execution_count": 17,
   "id": "fb4b7923",
   "metadata": {},
   "outputs": [
    {
     "data": {
      "text/plain": [
       "(a    10\n",
       " b    20\n",
       " c    30\n",
       " Name: base, dtype: int64,\n",
       " a    6\n",
       " b    7\n",
       " c    8\n",
       " Name: base, dtype: int64,\n",
       " a    1\n",
       " b    4\n",
       " c    9\n",
       " Name: base, dtype: int64)"
      ]
     },
     "execution_count": 17,
     "metadata": {},
     "output_type": "execute_result"
    }
   ],
   "source": [
    "#Vectorized ops (elementwise, fast, no loops)\n",
    "s = pd.Series([1, 2, 3], index=['a', 'b', 'c'], name='base')\n",
    "s_times = s * 10          # multiply each element\n",
    "s_add = s + 5             # add scalar\n",
    "s_pow = s ** 2            # power\n",
    "s_times, s_add, s_pow"
   ]
  },
  {
   "cell_type": "markdown",
   "id": "e1443210",
   "metadata": {},
   "source": [
    "## 5. Alignment by Index\n",
    "\n",
    "When performing operations between two Series, Pandas aligns them by **index labels**."
   ]
  },
  {
   "cell_type": "code",
   "execution_count": 12,
   "id": "04b395f3",
   "metadata": {},
   "outputs": [
    {
     "name": "stdout",
     "output_type": "stream",
     "text": [
      "a      NaN\n",
      "b    120.0\n",
      "c    230.0\n",
      "d      NaN\n",
      "dtype: float64\n"
     ]
    }
   ],
   "source": [
    "s1 = pd.Series([10, 20, 30], index=['a', 'b', 'c'])\n",
    "s2 = pd.Series([100, 200, 300], index=['b', 'c', 'd'])\n",
    "\n",
    "print(s1 + s2)\n"
   ]
  },
  {
   "cell_type": "code",
   "execution_count": 18,
   "id": "9b8baa81",
   "metadata": {},
   "outputs": [
    {
     "data": {
      "text/plain": [
       "a     NaN\n",
       "b    21.0\n",
       "c    32.0\n",
       "d     NaN\n",
       "dtype: float64"
      ]
     },
     "execution_count": 18,
     "metadata": {},
     "output_type": "execute_result"
    }
   ],
   "source": [
    "#Alignment by index (labels drive arithmetic)\n",
    "s1 = pd.Series([10, 20, 30], index=['a', 'b', 'c'])\n",
    "s2 = pd.Series([1, 2, 3],   index=['b', 'c', 'd'])\n",
    "s1_plus_s2 = s1 + s2        # aligns on labels; missing pairs → NaN\n",
    "s1_plus_s2"
   ]
  },
  {
   "cell_type": "markdown",
   "id": "e452d375",
   "metadata": {},
   "source": [
    "**Tip**: Use `.add(other, fill_value=0)` (and similar: `sub`, `mul`, `div`) to control missing alignments.\n"
   ]
  },
  {
   "cell_type": "code",
   "execution_count": 19,
   "id": "5b08bde0",
   "metadata": {},
   "outputs": [
    {
     "data": {
      "text/plain": [
       "a    10.0\n",
       "b    21.0\n",
       "c    32.0\n",
       "d     3.0\n",
       "dtype: float64"
      ]
     },
     "execution_count": 19,
     "metadata": {},
     "output_type": "execute_result"
    }
   ],
   "source": [
    "s1.add(s2, fill_value=0)"
   ]
  },
  {
   "cell_type": "markdown",
   "id": "c003bb34",
   "metadata": {},
   "source": [
    "#### map vs apply (on Series)\n",
    "\n",
    "`map`: elementwise transform using a dict, Series, or callable; best for simple 1→1 mappings.\n",
    "\n",
    "`apply`: elementwise callable; more general/flexible (slightly slower), supports complex logic."
   ]
  },
  {
   "cell_type": "code",
   "execution_count": 6,
   "id": "a7b97401",
   "metadata": {},
   "outputs": [
    {
     "data": {
      "text/plain": [
       "0     NY\n",
       "1     LA\n",
       "2    CHI\n",
       "3     LA\n",
       "dtype: object"
      ]
     },
     "execution_count": 6,
     "metadata": {},
     "output_type": "execute_result"
    }
   ],
   "source": [
    "s = pd.Series(['NY', 'LA', 'CHI', 'LA'])\n",
    "\n",
    "s"
   ]
  },
  {
   "cell_type": "code",
   "execution_count": 7,
   "id": "2853b29c",
   "metadata": {},
   "outputs": [
    {
     "data": {
      "text/plain": [
       "{'NY': 'NY', 'LA': 'CA', 'CHI': 'IL'}"
      ]
     },
     "execution_count": 7,
     "metadata": {},
     "output_type": "execute_result"
    }
   ],
   "source": [
    "# map with dict (fast remap)\n",
    "city_to_state = {'NY': 'NY', 'LA': 'CA', 'CHI': 'IL'}\n",
    "city_to_state"
   ]
  },
  {
   "cell_type": "code",
   "execution_count": 8,
   "id": "39aaa068",
   "metadata": {},
   "outputs": [
    {
     "data": {
      "text/plain": [
       "0    NY\n",
       "1    CA\n",
       "2    IL\n",
       "3    CA\n",
       "dtype: object"
      ]
     },
     "execution_count": 8,
     "metadata": {},
     "output_type": "execute_result"
    }
   ],
   "source": [
    "s_map = s.map(city_to_state)       # 'LA'→'CA', etc.\n",
    "\n",
    "s_map"
   ]
  },
  {
   "cell_type": "code",
   "execution_count": 22,
   "id": "b2f96886",
   "metadata": {},
   "outputs": [
    {
     "data": {
      "text/plain": [
       "0     ny\n",
       "1     la\n",
       "2    chi\n",
       "3     la\n",
       "dtype: object"
      ]
     },
     "execution_count": 22,
     "metadata": {},
     "output_type": "execute_result"
    }
   ],
   "source": [
    "# map with function\n",
    "s_map_func = s.map(lambda x: x.lower())\n",
    "\n",
    "s_map_func"
   ]
  },
  {
   "cell_type": "code",
   "execution_count": 23,
   "id": "996f285e",
   "metadata": {},
   "outputs": [
    {
     "data": {
      "text/plain": [
       "0         Other\n",
       "1    West Coast\n",
       "2         Other\n",
       "3    West Coast\n",
       "dtype: object"
      ]
     },
     "execution_count": 23,
     "metadata": {},
     "output_type": "execute_result"
    }
   ],
   "source": [
    "# apply with function (can do more complex logic)\n",
    "#apply() allows more complex logic:\n",
    "#if/else conditions\n",
    "#Multiple return values depending on rules\n",
    "#Using external variables inside the function\n",
    "\n",
    "def tag_city(x):\n",
    "    if x == 'LA':\n",
    "        return 'West Coast'\n",
    "    return 'Other'\n",
    "s_apply = s.apply(tag_city)\n",
    "\n",
    "s_apply\n"
   ]
  },
  {
   "cell_type": "markdown",
   "id": "c927572b",
   "metadata": {},
   "source": [
    "**Rule of thumb**\n",
    "\n",
    "-Prefer `map` when remapping values or doing simple elementwise transforms.\n",
    "\n",
    "-Use `apply` for custom logic that can’t be expressed as a simple mapping."
   ]
  },
  {
   "cell_type": "markdown",
   "id": "3717e7f6",
   "metadata": {},
   "source": [
    "### Missing Data"
   ]
  },
  {
   "cell_type": "code",
   "execution_count": 24,
   "id": "497accd5",
   "metadata": {},
   "outputs": [
    {
     "data": {
      "text/plain": [
       "0    1.0\n",
       "1    NaN\n",
       "2    3.5\n",
       "3    NaN\n",
       "4    5.0\n",
       "Name: measure, dtype: float64"
      ]
     },
     "execution_count": 24,
     "metadata": {},
     "output_type": "execute_result"
    }
   ],
   "source": [
    "s = pd.Series([1.0, None, 3.5, np.nan, 5.0], name='measure')\n",
    "\n",
    "s"
   ]
  },
  {
   "cell_type": "code",
   "execution_count": 25,
   "id": "9cd0d0f8",
   "metadata": {},
   "outputs": [
    {
     "data": {
      "text/plain": [
       "0    False\n",
       "1     True\n",
       "2    False\n",
       "3     True\n",
       "4    False\n",
       "Name: measure, dtype: bool"
      ]
     },
     "execution_count": 25,
     "metadata": {},
     "output_type": "execute_result"
    }
   ],
   "source": [
    "# Detect missing\n",
    "mask = s.isna()            # True where NaN/None\n",
    "mask"
   ]
  },
  {
   "cell_type": "code",
   "execution_count": 26,
   "id": "463a40f2",
   "metadata": {},
   "outputs": [
    {
     "data": {
      "text/plain": [
       "2"
      ]
     },
     "execution_count": 26,
     "metadata": {},
     "output_type": "execute_result"
    }
   ],
   "source": [
    "num_missing = s.isna().sum()\n",
    "\n",
    "num_missing"
   ]
  },
  {
   "cell_type": "code",
   "execution_count": 27,
   "id": "e9293028",
   "metadata": {},
   "outputs": [
    {
     "data": {
      "text/plain": [
       "0    1.0\n",
       "2    3.5\n",
       "4    5.0\n",
       "Name: measure, dtype: float64"
      ]
     },
     "execution_count": 27,
     "metadata": {},
     "output_type": "execute_result"
    }
   ],
   "source": [
    "# Drop missing\n",
    "s_drop = s.dropna()\n",
    "\n",
    "s_drop"
   ]
  },
  {
   "cell_type": "code",
   "execution_count": 28,
   "id": "77b7f736",
   "metadata": {},
   "outputs": [
    {
     "data": {
      "text/plain": [
       "0    1.0\n",
       "1    0.0\n",
       "2    3.5\n",
       "3    0.0\n",
       "4    5.0\n",
       "Name: measure, dtype: float64"
      ]
     },
     "execution_count": 28,
     "metadata": {},
     "output_type": "execute_result"
    }
   ],
   "source": [
    "# Fill missing\n",
    "s_fill_const = s.fillna(0)                     # constant\n",
    "s_fill_const"
   ]
  },
  {
   "cell_type": "code",
   "execution_count": 29,
   "id": "85bd0fe8",
   "metadata": {},
   "outputs": [
    {
     "data": {
      "text/plain": [
       "0    1.0\n",
       "1    1.0\n",
       "2    3.5\n",
       "3    3.5\n",
       "4    5.0\n",
       "Name: measure, dtype: float64"
      ]
     },
     "execution_count": 29,
     "metadata": {},
     "output_type": "execute_result"
    }
   ],
   "source": [
    "s_fill_ffill = s.fillna(method='ffill')        # forward fill\n",
    "s_fill_ffill"
   ]
  },
  {
   "cell_type": "code",
   "execution_count": 30,
   "id": "d2d756c1",
   "metadata": {},
   "outputs": [
    {
     "data": {
      "text/plain": [
       "0    1.0\n",
       "1    3.5\n",
       "2    3.5\n",
       "3    5.0\n",
       "4    5.0\n",
       "Name: measure, dtype: float64"
      ]
     },
     "execution_count": 30,
     "metadata": {},
     "output_type": "execute_result"
    }
   ],
   "source": [
    "s_fill_bfill = s.fillna(method='bfill')        # backward fill\n",
    "s_fill_bfill"
   ]
  },
  {
   "cell_type": "code",
   "execution_count": 31,
   "id": "76e72f22",
   "metadata": {},
   "outputs": [
    {
     "data": {
      "text/plain": [
       "0    1.000000\n",
       "1    3.166667\n",
       "2    3.500000\n",
       "3    3.166667\n",
       "4    5.000000\n",
       "Name: measure, dtype: float64"
      ]
     },
     "execution_count": 31,
     "metadata": {},
     "output_type": "execute_result"
    }
   ],
   "source": [
    "s_fill_mean  = s.fillna(s.mean())              # statistic-based fill\n",
    "\n",
    "s_fill_mean\n"
   ]
  },
  {
   "cell_type": "markdown",
   "id": "9d11190c",
   "metadata": {},
   "source": [
    "### Quick Tour: .str Accessor (for string Series)\n",
    "\n",
    "`.str` provides vectorized string operations; works only if the Series has string dtype (or values that can be treated as strings)."
   ]
  },
  {
   "cell_type": "code",
   "execution_count": 32,
   "id": "b867925f",
   "metadata": {},
   "outputs": [
    {
     "data": {
      "text/plain": [
       "0      Alice  \n",
       "1          Bob\n",
       "2         <NA>\n",
       "3        carol\n",
       "4        DAVE \n",
       "dtype: string"
      ]
     },
     "execution_count": 32,
     "metadata": {},
     "output_type": "execute_result"
    }
   ],
   "source": [
    "names = pd.Series(['  Alice  ', 'Bob', None, 'carol', 'DAVE '], dtype='string')\n",
    "\n",
    "names"
   ]
  },
  {
   "cell_type": "code",
   "execution_count": 33,
   "id": "5e8d61cf",
   "metadata": {},
   "outputs": [
    {
     "data": {
      "text/plain": [
       "0    Alice\n",
       "1      Bob\n",
       "2     <NA>\n",
       "3    Carol\n",
       "4     Dave\n",
       "dtype: string"
      ]
     },
     "execution_count": 33,
     "metadata": {},
     "output_type": "execute_result"
    }
   ],
   "source": [
    "# Clean whitespace and case\n",
    "clean = names.str.strip().str.title()   # 'Alice', 'Bob', NaN, 'Carol', 'Dave'\n",
    "\n",
    "clean\n"
   ]
  },
  {
   "cell_type": "code",
   "execution_count": 34,
   "id": "ee5c64b1",
   "metadata": {},
   "outputs": [
    {
     "data": {
      "text/plain": [
       "(0     True\n",
       " 1    False\n",
       " 2    False\n",
       " 3     True\n",
       " 4     True\n",
       " dtype: boolean,\n",
       " 0    Xlice\n",
       " 1      Xob\n",
       " 2     <NA>\n",
       " 3    Xarol\n",
       " 4     Xave\n",
       " dtype: string)"
      ]
     },
     "execution_count": 34,
     "metadata": {},
     "output_type": "execute_result"
    }
   ],
   "source": [
    "# Pattern contains / replace\n",
    "has_a = clean.str.contains('a', case=False, na=False)   # boolean mask\n",
    "replaced = clean.str.replace(r'^[A-Z]', 'X', regex=True)\n",
    "\n",
    "has_a, replaced"
   ]
  },
  {
   "cell_type": "code",
   "execution_count": 9,
   "id": "abc73a8a",
   "metadata": {},
   "outputs": [
    {
     "data": {
      "text/plain": [
       "0    x.com\n",
       "1    y.org\n",
       "2     <NA>\n",
       "3    z.net\n",
       "dtype: object"
      ]
     },
     "execution_count": 9,
     "metadata": {},
     "output_type": "execute_result"
    }
   ],
   "source": [
    "# Split and extract\n",
    "emails = pd.Series(['a@x.com', 'b@y.org', None, 'c@z.net'], dtype='string')\n",
    "domains = emails.str.split('@').str[1]\n",
    "\n",
    "domains"
   ]
  },
  {
   "cell_type": "code",
   "execution_count": 10,
   "id": "58052e33",
   "metadata": {},
   "outputs": [
    {
     "data": {
      "text/html": [
       "<div>\n",
       "<style scoped>\n",
       "    .dataframe tbody tr th:only-of-type {\n",
       "        vertical-align: middle;\n",
       "    }\n",
       "\n",
       "    .dataframe tbody tr th {\n",
       "        vertical-align: top;\n",
       "    }\n",
       "\n",
       "    .dataframe thead th {\n",
       "        text-align: right;\n",
       "    }\n",
       "</style>\n",
       "<table border=\"1\" class=\"dataframe\">\n",
       "  <thead>\n",
       "    <tr style=\"text-align: right;\">\n",
       "      <th></th>\n",
       "      <th>0</th>\n",
       "    </tr>\n",
       "  </thead>\n",
       "  <tbody>\n",
       "    <tr>\n",
       "      <th>0</th>\n",
       "      <td>com</td>\n",
       "    </tr>\n",
       "    <tr>\n",
       "      <th>1</th>\n",
       "      <td>org</td>\n",
       "    </tr>\n",
       "    <tr>\n",
       "      <th>2</th>\n",
       "      <td>&lt;NA&gt;</td>\n",
       "    </tr>\n",
       "    <tr>\n",
       "      <th>3</th>\n",
       "      <td>net</td>\n",
       "    </tr>\n",
       "  </tbody>\n",
       "</table>\n",
       "</div>"
      ],
      "text/plain": [
       "      0\n",
       "0   com\n",
       "1   org\n",
       "2  <NA>\n",
       "3   net"
      ]
     },
     "execution_count": 10,
     "metadata": {},
     "output_type": "execute_result"
    }
   ],
   "source": [
    "#\\. → literal dot\n",
    "#(\\w+) → one or more word characters (letters/digits/underscore)\n",
    "#$ → end of string\n",
    "tlds = emails.str.extract(r'\\.(\\w+)$')   # capture group for TLD\n",
    "tlds"
   ]
  },
  {
   "cell_type": "markdown",
   "id": "0d3899f0",
   "metadata": {},
   "source": [
    "**Common `.str` ops**\n",
    "\n",
    "Cleaning: `strip()`, `.lower()`, `.upper()`, `.title()`\n",
    "\n",
    "Find/replace: `.contains()`, `.replace(pattern, repl, regex=True)`\n",
    "\n",
    "Split/extract: `.split()`, `.extract(regex)`\n",
    "\n",
    "Length/startswith/endswith: `.len()`, `.startswith()`, `.endswith()`"
   ]
  },
  {
   "cell_type": "markdown",
   "id": "03f56a96",
   "metadata": {},
   "source": [
    "# 📌 Pandas DataFrame Fundamentals\n",
    "\n",
    "A **DataFrame** in pandas is the most commonly used data structure — you can think of it as a **2-dimensional labeled table** (like an Excel sheet or SQL table) where:\n",
    "\n",
    "- **Rows** have an index (labels, default 0, 1, 2, …)  \n",
    "- **Columns** have names (labels, which you define or pandas assigns)  \n",
    "- Each **column is a Series** (1D array), but they can have different data types  \n",
    "\n",
    "---\n",
    "\n",
    "## 📌 Key Features of a DataFrame\n",
    "\n",
    "- **2D labeled data structure** → rows + columns  \n",
    "- **Heterogeneous data types** → different columns can hold int, float, string, bool, etc.  \n",
    "- **Size mutable** → can add/delete rows and columns  \n",
    "- **Rich functionality** → indexing, filtering, grouping, aggregation, merging, reshaping, etc.  \n",
    "- **Integration** → works seamlessly with NumPy, Excel, SQL, CSV, JSON  \n"
   ]
  },
  {
   "cell_type": "code",
   "execution_count": 36,
   "id": "890f3379",
   "metadata": {},
   "outputs": [
    {
     "name": "stdout",
     "output_type": "stream",
     "text": [
      "      Name  Age  Salary\n",
      "0    Alice   25   50000\n",
      "1      Bob   30   60000\n",
      "2  Charlie   35   75000\n",
      "3    David   40   90000\n"
     ]
    }
   ],
   "source": [
    "import pandas as pd\n",
    "\n",
    "# Create a DataFrame from dictionary\n",
    "data = {\n",
    "    'Name': ['Alice', 'Bob', 'Charlie', 'David'],\n",
    "    'Age': [25, 30, 35, 40],\n",
    "    'Salary': [50000, 60000, 75000, 90000]\n",
    "}\n",
    "\n",
    "df = pd.DataFrame(data)\n",
    "print(df)\n"
   ]
  },
  {
   "cell_type": "code",
   "execution_count": 38,
   "id": "9e44922c",
   "metadata": {},
   "outputs": [
    {
     "data": {
      "text/html": [
       "<div>\n",
       "<style scoped>\n",
       "    .dataframe tbody tr th:only-of-type {\n",
       "        vertical-align: middle;\n",
       "    }\n",
       "\n",
       "    .dataframe tbody tr th {\n",
       "        vertical-align: top;\n",
       "    }\n",
       "\n",
       "    .dataframe thead th {\n",
       "        text-align: right;\n",
       "    }\n",
       "</style>\n",
       "<table border=\"1\" class=\"dataframe\">\n",
       "  <thead>\n",
       "    <tr style=\"text-align: right;\">\n",
       "      <th></th>\n",
       "      <th>name</th>\n",
       "      <th>age</th>\n",
       "      <th>dept</th>\n",
       "    </tr>\n",
       "  </thead>\n",
       "  <tbody>\n",
       "    <tr>\n",
       "      <th>0</th>\n",
       "      <td>Alice</td>\n",
       "      <td>25</td>\n",
       "      <td>NaN</td>\n",
       "    </tr>\n",
       "    <tr>\n",
       "      <th>1</th>\n",
       "      <td>Bob</td>\n",
       "      <td>30</td>\n",
       "      <td>SE</td>\n",
       "    </tr>\n",
       "  </tbody>\n",
       "</table>\n",
       "</div>"
      ],
      "text/plain": [
       "    name  age dept\n",
       "0  Alice   25  NaN\n",
       "1    Bob   30   SE"
      ]
     },
     "execution_count": 38,
     "metadata": {},
     "output_type": "execute_result"
    }
   ],
   "source": [
    "# List of dicts (good for JSON-like records)\n",
    "records = [\n",
    "    {\"name\": \"Alice\", \"age\": 25},\n",
    "    {\"name\": \"Bob\",   \"age\": 30, \"dept\": \"SE\"},\n",
    "]\n",
    "df2 = pd.DataFrame(records)\n",
    "df2"
   ]
  },
  {
   "cell_type": "code",
   "execution_count": 39,
   "id": "fcb94b92",
   "metadata": {},
   "outputs": [
    {
     "data": {
      "text/html": [
       "<div>\n",
       "<style scoped>\n",
       "    .dataframe tbody tr th:only-of-type {\n",
       "        vertical-align: middle;\n",
       "    }\n",
       "\n",
       "    .dataframe tbody tr th {\n",
       "        vertical-align: top;\n",
       "    }\n",
       "\n",
       "    .dataframe thead th {\n",
       "        text-align: right;\n",
       "    }\n",
       "</style>\n",
       "<table border=\"1\" class=\"dataframe\">\n",
       "  <thead>\n",
       "    <tr style=\"text-align: right;\">\n",
       "      <th></th>\n",
       "      <th>x</th>\n",
       "      <th>y</th>\n",
       "    </tr>\n",
       "  </thead>\n",
       "  <tbody>\n",
       "    <tr>\n",
       "      <th>a</th>\n",
       "      <td>1</td>\n",
       "      <td>2</td>\n",
       "    </tr>\n",
       "    <tr>\n",
       "      <th>b</th>\n",
       "      <td>3</td>\n",
       "      <td>4</td>\n",
       "    </tr>\n",
       "    <tr>\n",
       "      <th>c</th>\n",
       "      <td>5</td>\n",
       "      <td>6</td>\n",
       "    </tr>\n",
       "  </tbody>\n",
       "</table>\n",
       "</div>"
      ],
      "text/plain": [
       "   x  y\n",
       "a  1  2\n",
       "b  3  4\n",
       "c  5  6"
      ]
     },
     "execution_count": 39,
     "metadata": {},
     "output_type": "execute_result"
    }
   ],
   "source": [
    "# From NumPy array (provide columns & index)\n",
    "arr = np.array([[1, 2], [3, 4], [5, 6]])\n",
    "df3 = pd.DataFrame(arr, columns=[\"x\", \"y\"], index=[\"a\", \"b\", \"c\"])\n",
    "df3"
   ]
  },
  {
   "cell_type": "code",
   "execution_count": 40,
   "id": "482d421e",
   "metadata": {},
   "outputs": [
    {
     "data": {
      "text/html": [
       "<div>\n",
       "<style scoped>\n",
       "    .dataframe tbody tr th:only-of-type {\n",
       "        vertical-align: middle;\n",
       "    }\n",
       "\n",
       "    .dataframe tbody tr th {\n",
       "        vertical-align: top;\n",
       "    }\n",
       "\n",
       "    .dataframe thead th {\n",
       "        text-align: right;\n",
       "    }\n",
       "</style>\n",
       "<table border=\"1\" class=\"dataframe\">\n",
       "  <thead>\n",
       "    <tr style=\"text-align: right;\">\n",
       "      <th></th>\n",
       "      <th>u</th>\n",
       "      <th>v</th>\n",
       "    </tr>\n",
       "  </thead>\n",
       "  <tbody>\n",
       "    <tr>\n",
       "      <th>a</th>\n",
       "      <td>10</td>\n",
       "      <td>0.1</td>\n",
       "    </tr>\n",
       "    <tr>\n",
       "      <th>b</th>\n",
       "      <td>20</td>\n",
       "      <td>0.2</td>\n",
       "    </tr>\n",
       "    <tr>\n",
       "      <th>c</th>\n",
       "      <td>30</td>\n",
       "      <td>0.3</td>\n",
       "    </tr>\n",
       "  </tbody>\n",
       "</table>\n",
       "</div>"
      ],
      "text/plain": [
       "    u    v\n",
       "a  10  0.1\n",
       "b  20  0.2\n",
       "c  30  0.3"
      ]
     },
     "execution_count": 40,
     "metadata": {},
     "output_type": "execute_result"
    }
   ],
   "source": [
    "# From Series dict (aligns on indexes)\n",
    "s1 = pd.Series([10, 20, 30], index=[\"a\", \"b\", \"c\"], name=\"u\")\n",
    "s2 = pd.Series([0.1, 0.2, 0.3], index=[\"a\", \"b\", \"c\"], name=\"v\")\n",
    "df4 = pd.DataFrame({\"u\": s1, \"v\": s2})\n",
    "df4"
   ]
  },
  {
   "cell_type": "code",
   "execution_count": 42,
   "id": "8f1f33a1",
   "metadata": {},
   "outputs": [
    {
     "data": {
      "text/plain": [
       "'employee.csv'"
      ]
     },
     "execution_count": 42,
     "metadata": {},
     "output_type": "execute_result"
    }
   ],
   "source": [
    "import pandas as pd\n",
    "\n",
    "# Create sample employee data\n",
    "data = {\n",
    "    \"id\": [101, 102, 103, 104, 105],\n",
    "    \"name\": [\"Alice\", \"Bob\", \"Charlie\", \"Diana\", \"Ethan\"],\n",
    "    \"age\": [25, 30, 28, 35, 40],\n",
    "    \"salary\": [50000, 60000, 55000, 75000, 80000],\n",
    "    \"start_date\": [\"2021-06-15\", \"2020-08-01\", \"2019-03-20\", \"2018-11-10\", \"2017-01-25\"]\n",
    "}\n",
    "\n",
    "# Convert to DataFrame\n",
    "df = pd.DataFrame(data)\n",
    "\n",
    "# Save to CSV\n",
    "file_path = \"employee.csv\"\n",
    "df.to_csv(file_path, index=False)\n",
    "\n",
    "file_path\n"
   ]
  },
  {
   "cell_type": "code",
   "execution_count": 44,
   "id": "e4754f4d",
   "metadata": {},
   "outputs": [
    {
     "data": {
      "text/html": [
       "<div>\n",
       "<style scoped>\n",
       "    .dataframe tbody tr th:only-of-type {\n",
       "        vertical-align: middle;\n",
       "    }\n",
       "\n",
       "    .dataframe tbody tr th {\n",
       "        vertical-align: top;\n",
       "    }\n",
       "\n",
       "    .dataframe thead th {\n",
       "        text-align: right;\n",
       "    }\n",
       "</style>\n",
       "<table border=\"1\" class=\"dataframe\">\n",
       "  <thead>\n",
       "    <tr style=\"text-align: right;\">\n",
       "      <th></th>\n",
       "      <th>id</th>\n",
       "      <th>name</th>\n",
       "      <th>age</th>\n",
       "      <th>salary</th>\n",
       "      <th>start_date</th>\n",
       "    </tr>\n",
       "  </thead>\n",
       "  <tbody>\n",
       "    <tr>\n",
       "      <th>0</th>\n",
       "      <td>101</td>\n",
       "      <td>Alice</td>\n",
       "      <td>25</td>\n",
       "      <td>50000</td>\n",
       "      <td>6/15/2021</td>\n",
       "    </tr>\n",
       "    <tr>\n",
       "      <th>1</th>\n",
       "      <td>102</td>\n",
       "      <td>Bob</td>\n",
       "      <td>30</td>\n",
       "      <td>60000</td>\n",
       "      <td>8/1/2020</td>\n",
       "    </tr>\n",
       "    <tr>\n",
       "      <th>2</th>\n",
       "      <td>103</td>\n",
       "      <td>Charlie</td>\n",
       "      <td>28</td>\n",
       "      <td>55000</td>\n",
       "      <td>3/20/2019</td>\n",
       "    </tr>\n",
       "    <tr>\n",
       "      <th>3</th>\n",
       "      <td>104</td>\n",
       "      <td>Diana</td>\n",
       "      <td>35</td>\n",
       "      <td>75000</td>\n",
       "      <td>11/10/2018</td>\n",
       "    </tr>\n",
       "    <tr>\n",
       "      <th>4</th>\n",
       "      <td>105</td>\n",
       "      <td>Ethan</td>\n",
       "      <td>40</td>\n",
       "      <td>80000</td>\n",
       "      <td>1/25/2017</td>\n",
       "    </tr>\n",
       "  </tbody>\n",
       "</table>\n",
       "</div>"
      ],
      "text/plain": [
       "    id     name  age  salary  start_date\n",
       "0  101    Alice   25   50000   6/15/2021\n",
       "1  102      Bob   30   60000    8/1/2020\n",
       "2  103  Charlie   28   55000   3/20/2019\n",
       "3  104    Diana   35   75000  11/10/2018\n",
       "4  105    Ethan   40   80000   1/25/2017"
      ]
     },
     "execution_count": 44,
     "metadata": {},
     "output_type": "execute_result"
    }
   ],
   "source": [
    "#read CSV\n",
    "# Minimal\n",
    "df = pd.read_csv(\"employee.csv\")\n",
    "df\n"
   ]
  },
  {
   "cell_type": "code",
   "execution_count": 47,
   "id": "f4724050",
   "metadata": {},
   "outputs": [
    {
     "data": {
      "text/html": [
       "<div>\n",
       "<style scoped>\n",
       "    .dataframe tbody tr th:only-of-type {\n",
       "        vertical-align: middle;\n",
       "    }\n",
       "\n",
       "    .dataframe tbody tr th {\n",
       "        vertical-align: top;\n",
       "    }\n",
       "\n",
       "    .dataframe thead th {\n",
       "        text-align: right;\n",
       "    }\n",
       "</style>\n",
       "<table border=\"1\" class=\"dataframe\">\n",
       "  <thead>\n",
       "    <tr style=\"text-align: right;\">\n",
       "      <th></th>\n",
       "      <th>id</th>\n",
       "      <th>name</th>\n",
       "      <th>age</th>\n",
       "      <th>salary</th>\n",
       "      <th>start_date</th>\n",
       "    </tr>\n",
       "  </thead>\n",
       "  <tbody>\n",
       "    <tr>\n",
       "      <th>0</th>\n",
       "      <td>101</td>\n",
       "      <td>Alice</td>\n",
       "      <td>25</td>\n",
       "      <td>50000</td>\n",
       "      <td>2021-06-15</td>\n",
       "    </tr>\n",
       "    <tr>\n",
       "      <th>1</th>\n",
       "      <td>102</td>\n",
       "      <td>Bob</td>\n",
       "      <td>30</td>\n",
       "      <td>60000</td>\n",
       "      <td>2020-08-01</td>\n",
       "    </tr>\n",
       "    <tr>\n",
       "      <th>2</th>\n",
       "      <td>103</td>\n",
       "      <td>Charlie</td>\n",
       "      <td>28</td>\n",
       "      <td>55000</td>\n",
       "      <td>2019-03-20</td>\n",
       "    </tr>\n",
       "    <tr>\n",
       "      <th>3</th>\n",
       "      <td>104</td>\n",
       "      <td>Diana</td>\n",
       "      <td>35</td>\n",
       "      <td>75000</td>\n",
       "      <td>2018-11-10</td>\n",
       "    </tr>\n",
       "    <tr>\n",
       "      <th>4</th>\n",
       "      <td>105</td>\n",
       "      <td>Ethan</td>\n",
       "      <td>40</td>\n",
       "      <td>80000</td>\n",
       "      <td>2017-01-25</td>\n",
       "    </tr>\n",
       "  </tbody>\n",
       "</table>\n",
       "</div>"
      ],
      "text/plain": [
       "    id     name  age  salary start_date\n",
       "0  101    Alice   25   50000 2021-06-15\n",
       "1  102      Bob   30   60000 2020-08-01\n",
       "2  103  Charlie   28   55000 2019-03-20\n",
       "3  104    Diana   35   75000 2018-11-10\n",
       "4  105    Ethan   40   80000 2017-01-25"
      ]
     },
     "execution_count": 47,
     "metadata": {},
     "output_type": "execute_result"
    }
   ],
   "source": [
    "# Common options\n",
    "df = pd.read_csv(\n",
    "    \"employee.csv\",\n",
    "    usecols=[\"id\", \"name\", \"age\", \"salary\", \"start_date\"],\n",
    "    dtype={\"id\": \"int64\", \"age\": \"Int64\"},     # Int64 = nullable integer\n",
    "    parse_dates=[\"start_date\"],                # convert to datetime64[ns]\n",
    "    na_values=[\"\", \"NA\", \"null\"],              # custom missing markers\n",
    "    thousands=\",\",                             # \"10,000\" -> 10000\n",
    "    engine=\"python\"                            # robust parsing when needed\n",
    ")\n",
    "df"
   ]
  },
  {
   "cell_type": "code",
   "execution_count": 53,
   "id": "218dbfe3",
   "metadata": {},
   "outputs": [
    {
     "data": {
      "text/html": [
       "<div>\n",
       "<style scoped>\n",
       "    .dataframe tbody tr th:only-of-type {\n",
       "        vertical-align: middle;\n",
       "    }\n",
       "\n",
       "    .dataframe tbody tr th {\n",
       "        vertical-align: top;\n",
       "    }\n",
       "\n",
       "    .dataframe thead th {\n",
       "        text-align: right;\n",
       "    }\n",
       "</style>\n",
       "<table border=\"1\" class=\"dataframe\">\n",
       "  <thead>\n",
       "    <tr style=\"text-align: right;\">\n",
       "      <th></th>\n",
       "      <th>name</th>\n",
       "      <th>age</th>\n",
       "      <th>salary</th>\n",
       "    </tr>\n",
       "  </thead>\n",
       "  <tbody>\n",
       "    <tr>\n",
       "      <th>0</th>\n",
       "      <td>Alice</td>\n",
       "      <td>25</td>\n",
       "      <td>80000</td>\n",
       "    </tr>\n",
       "    <tr>\n",
       "      <th>1</th>\n",
       "      <td>Bob</td>\n",
       "      <td>30</td>\n",
       "      <td>95000</td>\n",
       "    </tr>\n",
       "    <tr>\n",
       "      <th>2</th>\n",
       "      <td>Cara</td>\n",
       "      <td>28</td>\n",
       "      <td>87500</td>\n",
       "    </tr>\n",
       "  </tbody>\n",
       "</table>\n",
       "</div>"
      ],
      "text/plain": [
       "    name  age  salary\n",
       "0  Alice   25   80000\n",
       "1    Bob   30   95000\n",
       "2   Cara   28   87500"
      ]
     },
     "execution_count": 53,
     "metadata": {},
     "output_type": "execute_result"
    }
   ],
   "source": [
    "#Inspecting data quickly\n",
    "df = pd.DataFrame({\n",
    "    \"name\": [\"Alice\", \"Bob\", \"Cara\", \"Dan\"],\n",
    "    \"age\":  [25, 30, 28, 40],\n",
    "    \"salary\": [80_000, 95_000, 87_500, 120_000]\n",
    "})\n",
    "\n",
    "df.head(3)                 # first 3 rows (use .tail() for last)\n"
   ]
  },
  {
   "cell_type": "code",
   "execution_count": 54,
   "id": "a2e65ec6",
   "metadata": {},
   "outputs": [
    {
     "name": "stdout",
     "output_type": "stream",
     "text": [
      "<class 'pandas.core.frame.DataFrame'>\n",
      "RangeIndex: 4 entries, 0 to 3\n",
      "Data columns (total 3 columns):\n",
      " #   Column  Non-Null Count  Dtype \n",
      "---  ------  --------------  ----- \n",
      " 0   name    4 non-null      object\n",
      " 1   age     4 non-null      int64 \n",
      " 2   salary  4 non-null      int64 \n",
      "dtypes: int64(2), object(1)\n",
      "memory usage: 228.0+ bytes\n"
     ]
    }
   ],
   "source": [
    "df.info()                  # column dtypes, non-nulls, memory footprint\n"
   ]
  },
  {
   "cell_type": "code",
   "execution_count": 55,
   "id": "10f941bc",
   "metadata": {},
   "outputs": [
    {
     "data": {
      "text/html": [
       "<div>\n",
       "<style scoped>\n",
       "    .dataframe tbody tr th:only-of-type {\n",
       "        vertical-align: middle;\n",
       "    }\n",
       "\n",
       "    .dataframe tbody tr th {\n",
       "        vertical-align: top;\n",
       "    }\n",
       "\n",
       "    .dataframe thead th {\n",
       "        text-align: right;\n",
       "    }\n",
       "</style>\n",
       "<table border=\"1\" class=\"dataframe\">\n",
       "  <thead>\n",
       "    <tr style=\"text-align: right;\">\n",
       "      <th></th>\n",
       "      <th>age</th>\n",
       "      <th>salary</th>\n",
       "    </tr>\n",
       "  </thead>\n",
       "  <tbody>\n",
       "    <tr>\n",
       "      <th>count</th>\n",
       "      <td>4.00</td>\n",
       "      <td>4.000000</td>\n",
       "    </tr>\n",
       "    <tr>\n",
       "      <th>mean</th>\n",
       "      <td>30.75</td>\n",
       "      <td>95625.000000</td>\n",
       "    </tr>\n",
       "    <tr>\n",
       "      <th>std</th>\n",
       "      <td>6.50</td>\n",
       "      <td>17365.554987</td>\n",
       "    </tr>\n",
       "    <tr>\n",
       "      <th>min</th>\n",
       "      <td>25.00</td>\n",
       "      <td>80000.000000</td>\n",
       "    </tr>\n",
       "    <tr>\n",
       "      <th>25%</th>\n",
       "      <td>27.25</td>\n",
       "      <td>85625.000000</td>\n",
       "    </tr>\n",
       "    <tr>\n",
       "      <th>50%</th>\n",
       "      <td>29.00</td>\n",
       "      <td>91250.000000</td>\n",
       "    </tr>\n",
       "    <tr>\n",
       "      <th>75%</th>\n",
       "      <td>32.50</td>\n",
       "      <td>101250.000000</td>\n",
       "    </tr>\n",
       "    <tr>\n",
       "      <th>max</th>\n",
       "      <td>40.00</td>\n",
       "      <td>120000.000000</td>\n",
       "    </tr>\n",
       "  </tbody>\n",
       "</table>\n",
       "</div>"
      ],
      "text/plain": [
       "         age         salary\n",
       "count   4.00       4.000000\n",
       "mean   30.75   95625.000000\n",
       "std     6.50   17365.554987\n",
       "min    25.00   80000.000000\n",
       "25%    27.25   85625.000000\n",
       "50%    29.00   91250.000000\n",
       "75%    32.50  101250.000000\n",
       "max    40.00  120000.000000"
      ]
     },
     "execution_count": 55,
     "metadata": {},
     "output_type": "execute_result"
    }
   ],
   "source": [
    "df.describe()              # numeric summary (count/mean/std/min/quantiles/max)"
   ]
  },
  {
   "cell_type": "code",
   "execution_count": 56,
   "id": "89ee71f3",
   "metadata": {},
   "outputs": [
    {
     "data": {
      "text/html": [
       "<div>\n",
       "<style scoped>\n",
       "    .dataframe tbody tr th:only-of-type {\n",
       "        vertical-align: middle;\n",
       "    }\n",
       "\n",
       "    .dataframe tbody tr th {\n",
       "        vertical-align: top;\n",
       "    }\n",
       "\n",
       "    .dataframe thead th {\n",
       "        text-align: right;\n",
       "    }\n",
       "</style>\n",
       "<table border=\"1\" class=\"dataframe\">\n",
       "  <thead>\n",
       "    <tr style=\"text-align: right;\">\n",
       "      <th></th>\n",
       "      <th>name</th>\n",
       "      <th>age</th>\n",
       "      <th>annual_salary</th>\n",
       "    </tr>\n",
       "  </thead>\n",
       "  <tbody>\n",
       "    <tr>\n",
       "      <th>0</th>\n",
       "      <td>Alice</td>\n",
       "      <td>25</td>\n",
       "      <td>80000</td>\n",
       "    </tr>\n",
       "    <tr>\n",
       "      <th>1</th>\n",
       "      <td>Bob</td>\n",
       "      <td>30</td>\n",
       "      <td>95000</td>\n",
       "    </tr>\n",
       "    <tr>\n",
       "      <th>2</th>\n",
       "      <td>Cara</td>\n",
       "      <td>28</td>\n",
       "      <td>87500</td>\n",
       "    </tr>\n",
       "    <tr>\n",
       "      <th>3</th>\n",
       "      <td>Dan</td>\n",
       "      <td>40</td>\n",
       "      <td>120000</td>\n",
       "    </tr>\n",
       "  </tbody>\n",
       "</table>\n",
       "</div>"
      ],
      "text/plain": [
       "    name  age  annual_salary\n",
       "0  Alice   25          80000\n",
       "1    Bob   30          95000\n",
       "2   Cara   28          87500\n",
       "3    Dan   40         120000"
      ]
     },
     "execution_count": 56,
     "metadata": {},
     "output_type": "execute_result"
    }
   ],
   "source": [
    "#Renaming columns and index\n",
    "# Rename selected columns\n",
    "renamed = df.rename(columns={\"salary\": \"annual_salary\"})\n",
    "\n",
    "renamed"
   ]
  },
  {
   "cell_type": "code",
   "execution_count": 57,
   "id": "57e314e1",
   "metadata": {},
   "outputs": [
    {
     "data": {
      "text/html": [
       "<div>\n",
       "<style scoped>\n",
       "    .dataframe tbody tr th:only-of-type {\n",
       "        vertical-align: middle;\n",
       "    }\n",
       "\n",
       "    .dataframe tbody tr th {\n",
       "        vertical-align: top;\n",
       "    }\n",
       "\n",
       "    .dataframe thead th {\n",
       "        text-align: right;\n",
       "    }\n",
       "</style>\n",
       "<table border=\"1\" class=\"dataframe\">\n",
       "  <thead>\n",
       "    <tr style=\"text-align: right;\">\n",
       "      <th></th>\n",
       "      <th>Name</th>\n",
       "      <th>Age</th>\n",
       "      <th>Salary</th>\n",
       "    </tr>\n",
       "  </thead>\n",
       "  <tbody>\n",
       "    <tr>\n",
       "      <th>0</th>\n",
       "      <td>Alice</td>\n",
       "      <td>25</td>\n",
       "      <td>80000</td>\n",
       "    </tr>\n",
       "    <tr>\n",
       "      <th>1</th>\n",
       "      <td>Bob</td>\n",
       "      <td>30</td>\n",
       "      <td>95000</td>\n",
       "    </tr>\n",
       "    <tr>\n",
       "      <th>2</th>\n",
       "      <td>Cara</td>\n",
       "      <td>28</td>\n",
       "      <td>87500</td>\n",
       "    </tr>\n",
       "    <tr>\n",
       "      <th>3</th>\n",
       "      <td>Dan</td>\n",
       "      <td>40</td>\n",
       "      <td>120000</td>\n",
       "    </tr>\n",
       "  </tbody>\n",
       "</table>\n",
       "</div>"
      ],
      "text/plain": [
       "    Name  Age  Salary\n",
       "0  Alice   25   80000\n",
       "1    Bob   30   95000\n",
       "2   Cara   28   87500\n",
       "3    Dan   40  120000"
      ]
     },
     "execution_count": 57,
     "metadata": {},
     "output_type": "execute_result"
    }
   ],
   "source": [
    "# Bulk overwrite all column names (ensure same length)\n",
    "df2 = df.set_axis([\"Name\", \"Age\", \"Salary\"], axis=\"columns\")\n",
    "\n",
    "df2"
   ]
  },
  {
   "cell_type": "code",
   "execution_count": 58,
   "id": "66dfd4e8",
   "metadata": {},
   "outputs": [
    {
     "data": {
      "text/html": [
       "<div>\n",
       "<style scoped>\n",
       "    .dataframe tbody tr th:only-of-type {\n",
       "        vertical-align: middle;\n",
       "    }\n",
       "\n",
       "    .dataframe tbody tr th {\n",
       "        vertical-align: top;\n",
       "    }\n",
       "\n",
       "    .dataframe thead th {\n",
       "        text-align: right;\n",
       "    }\n",
       "</style>\n",
       "<table border=\"1\" class=\"dataframe\">\n",
       "  <thead>\n",
       "    <tr style=\"text-align: right;\">\n",
       "      <th></th>\n",
       "      <th>name</th>\n",
       "      <th>age</th>\n",
       "      <th>salary</th>\n",
       "    </tr>\n",
       "  </thead>\n",
       "  <tbody>\n",
       "    <tr>\n",
       "      <th>row0</th>\n",
       "      <td>Alice</td>\n",
       "      <td>25</td>\n",
       "      <td>80000</td>\n",
       "    </tr>\n",
       "    <tr>\n",
       "      <th>row1</th>\n",
       "      <td>Bob</td>\n",
       "      <td>30</td>\n",
       "      <td>95000</td>\n",
       "    </tr>\n",
       "    <tr>\n",
       "      <th>2</th>\n",
       "      <td>Cara</td>\n",
       "      <td>28</td>\n",
       "      <td>87500</td>\n",
       "    </tr>\n",
       "    <tr>\n",
       "      <th>3</th>\n",
       "      <td>Dan</td>\n",
       "      <td>40</td>\n",
       "      <td>120000</td>\n",
       "    </tr>\n",
       "  </tbody>\n",
       "</table>\n",
       "</div>"
      ],
      "text/plain": [
       "       name  age  salary\n",
       "row0  Alice   25   80000\n",
       "row1    Bob   30   95000\n",
       "2      Cara   28   87500\n",
       "3       Dan   40  120000"
      ]
     },
     "execution_count": 58,
     "metadata": {},
     "output_type": "execute_result"
    }
   ],
   "source": [
    "# Rename index (rarely needed)\n",
    "df3 = df.rename(index={0: \"row0\", 1: \"row1\"})\n",
    "df3"
   ]
  },
  {
   "cell_type": "code",
   "execution_count": 59,
   "id": "958b71a0",
   "metadata": {},
   "outputs": [
    {
     "data": {
      "text/html": [
       "<div>\n",
       "<style scoped>\n",
       "    .dataframe tbody tr th:only-of-type {\n",
       "        vertical-align: middle;\n",
       "    }\n",
       "\n",
       "    .dataframe tbody tr th {\n",
       "        vertical-align: top;\n",
       "    }\n",
       "\n",
       "    .dataframe thead th {\n",
       "        text-align: right;\n",
       "    }\n",
       "</style>\n",
       "<table border=\"1\" class=\"dataframe\">\n",
       "  <thead>\n",
       "    <tr style=\"text-align: right;\">\n",
       "      <th></th>\n",
       "      <th>name</th>\n",
       "      <th>age</th>\n",
       "      <th>salary</th>\n",
       "      <th>monthly_salary</th>\n",
       "    </tr>\n",
       "  </thead>\n",
       "  <tbody>\n",
       "    <tr>\n",
       "      <th>0</th>\n",
       "      <td>Alice</td>\n",
       "      <td>25</td>\n",
       "      <td>80000</td>\n",
       "      <td>6666.666667</td>\n",
       "    </tr>\n",
       "    <tr>\n",
       "      <th>1</th>\n",
       "      <td>Bob</td>\n",
       "      <td>30</td>\n",
       "      <td>95000</td>\n",
       "      <td>7916.666667</td>\n",
       "    </tr>\n",
       "    <tr>\n",
       "      <th>2</th>\n",
       "      <td>Cara</td>\n",
       "      <td>28</td>\n",
       "      <td>87500</td>\n",
       "      <td>7291.666667</td>\n",
       "    </tr>\n",
       "    <tr>\n",
       "      <th>3</th>\n",
       "      <td>Dan</td>\n",
       "      <td>40</td>\n",
       "      <td>120000</td>\n",
       "      <td>10000.000000</td>\n",
       "    </tr>\n",
       "  </tbody>\n",
       "</table>\n",
       "</div>"
      ],
      "text/plain": [
       "    name  age  salary  monthly_salary\n",
       "0  Alice   25   80000     6666.666667\n",
       "1    Bob   30   95000     7916.666667\n",
       "2   Cara   28   87500     7291.666667\n",
       "3    Dan   40  120000    10000.000000"
      ]
     },
     "execution_count": 59,
     "metadata": {},
     "output_type": "execute_result"
    }
   ],
   "source": [
    "#Creating computed columns (vectorized)\n",
    "# Vectorized arithmetic\n",
    "df[\"monthly_salary\"] = df[\"salary\"] / 12\n",
    "df"
   ]
  },
  {
   "cell_type": "code",
   "execution_count": 61,
   "id": "2539c9bd",
   "metadata": {},
   "outputs": [
    {
     "data": {
      "text/html": [
       "<div>\n",
       "<style scoped>\n",
       "    .dataframe tbody tr th:only-of-type {\n",
       "        vertical-align: middle;\n",
       "    }\n",
       "\n",
       "    .dataframe tbody tr th {\n",
       "        vertical-align: top;\n",
       "    }\n",
       "\n",
       "    .dataframe thead th {\n",
       "        text-align: right;\n",
       "    }\n",
       "</style>\n",
       "<table border=\"1\" class=\"dataframe\">\n",
       "  <thead>\n",
       "    <tr style=\"text-align: right;\">\n",
       "      <th></th>\n",
       "      <th>name</th>\n",
       "      <th>age</th>\n",
       "      <th>salary</th>\n",
       "      <th>monthly_salary</th>\n",
       "      <th>senior</th>\n",
       "    </tr>\n",
       "  </thead>\n",
       "  <tbody>\n",
       "    <tr>\n",
       "      <th>0</th>\n",
       "      <td>Alice</td>\n",
       "      <td>25</td>\n",
       "      <td>80000</td>\n",
       "      <td>6666.666667</td>\n",
       "      <td>N</td>\n",
       "    </tr>\n",
       "    <tr>\n",
       "      <th>1</th>\n",
       "      <td>Bob</td>\n",
       "      <td>30</td>\n",
       "      <td>95000</td>\n",
       "      <td>7916.666667</td>\n",
       "      <td>Y</td>\n",
       "    </tr>\n",
       "    <tr>\n",
       "      <th>2</th>\n",
       "      <td>Cara</td>\n",
       "      <td>28</td>\n",
       "      <td>87500</td>\n",
       "      <td>7291.666667</td>\n",
       "      <td>N</td>\n",
       "    </tr>\n",
       "    <tr>\n",
       "      <th>3</th>\n",
       "      <td>Dan</td>\n",
       "      <td>40</td>\n",
       "      <td>120000</td>\n",
       "      <td>10000.000000</td>\n",
       "      <td>Y</td>\n",
       "    </tr>\n",
       "  </tbody>\n",
       "</table>\n",
       "</div>"
      ],
      "text/plain": [
       "    name  age  salary  monthly_salary senior\n",
       "0  Alice   25   80000     6666.666667      N\n",
       "1    Bob   30   95000     7916.666667      Y\n",
       "2   Cara   28   87500     7291.666667      N\n",
       "3    Dan   40  120000    10000.000000      Y"
      ]
     },
     "execution_count": 61,
     "metadata": {},
     "output_type": "execute_result"
    }
   ],
   "source": [
    "# Conditional with np.where\n",
    "import numpy as np\n",
    "df[\"senior\"] = np.where(df[\"age\"] >= 30, \"Y\", \"N\")\n",
    "df"
   ]
  },
  {
   "cell_type": "code",
   "execution_count": 62,
   "id": "acafebf3",
   "metadata": {},
   "outputs": [
    {
     "data": {
      "text/html": [
       "<div>\n",
       "<style scoped>\n",
       "    .dataframe tbody tr th:only-of-type {\n",
       "        vertical-align: middle;\n",
       "    }\n",
       "\n",
       "    .dataframe tbody tr th {\n",
       "        vertical-align: top;\n",
       "    }\n",
       "\n",
       "    .dataframe thead th {\n",
       "        text-align: right;\n",
       "    }\n",
       "</style>\n",
       "<table border=\"1\" class=\"dataframe\">\n",
       "  <thead>\n",
       "    <tr style=\"text-align: right;\">\n",
       "      <th></th>\n",
       "      <th>name</th>\n",
       "      <th>age</th>\n",
       "      <th>salary</th>\n",
       "      <th>monthly_salary</th>\n",
       "      <th>senior</th>\n",
       "      <th>initial</th>\n",
       "    </tr>\n",
       "  </thead>\n",
       "  <tbody>\n",
       "    <tr>\n",
       "      <th>0</th>\n",
       "      <td>Alice</td>\n",
       "      <td>25</td>\n",
       "      <td>80000</td>\n",
       "      <td>6666.666667</td>\n",
       "      <td>N</td>\n",
       "      <td>A</td>\n",
       "    </tr>\n",
       "    <tr>\n",
       "      <th>1</th>\n",
       "      <td>Bob</td>\n",
       "      <td>30</td>\n",
       "      <td>95000</td>\n",
       "      <td>7916.666667</td>\n",
       "      <td>Y</td>\n",
       "      <td>B</td>\n",
       "    </tr>\n",
       "    <tr>\n",
       "      <th>2</th>\n",
       "      <td>Cara</td>\n",
       "      <td>28</td>\n",
       "      <td>87500</td>\n",
       "      <td>7291.666667</td>\n",
       "      <td>N</td>\n",
       "      <td>C</td>\n",
       "    </tr>\n",
       "    <tr>\n",
       "      <th>3</th>\n",
       "      <td>Dan</td>\n",
       "      <td>40</td>\n",
       "      <td>120000</td>\n",
       "      <td>10000.000000</td>\n",
       "      <td>Y</td>\n",
       "      <td>D</td>\n",
       "    </tr>\n",
       "  </tbody>\n",
       "</table>\n",
       "</div>"
      ],
      "text/plain": [
       "    name  age  salary  monthly_salary senior initial\n",
       "0  Alice   25   80000     6666.666667      N       A\n",
       "1    Bob   30   95000     7916.666667      Y       B\n",
       "2   Cara   28   87500     7291.666667      N       C\n",
       "3    Dan   40  120000    10000.000000      Y       D"
      ]
     },
     "execution_count": 62,
     "metadata": {},
     "output_type": "execute_result"
    }
   ],
   "source": [
    "# String ops on a column (ensure string dtype)\n",
    "df[\"initial\"] = df[\"name\"].astype(\"string\").str[0]\n",
    "df"
   ]
  },
  {
   "cell_type": "markdown",
   "id": "da9e816d",
   "metadata": {},
   "source": [
    "## 📌 Selection and Indexing in Pandas\n",
    "\n",
    "In pandas, selection and indexing refer to the ways you can access, filter, and manipulate subsets of data from Series and DataFrames.\n",
    "\n",
    "**Indexing Basics**\n",
    "\n",
    "`Index` → labels that identify rows in a DataFrame or elements in a Series.\n",
    "\n",
    "Can be numbers (default 0,1,2…) or custom labels (e.g., employee IDs)"
   ]
  },
  {
   "cell_type": "code",
   "execution_count": 63,
   "id": "9ad09f59",
   "metadata": {},
   "outputs": [
    {
     "data": {
      "text/html": [
       "<div>\n",
       "<style scoped>\n",
       "    .dataframe tbody tr th:only-of-type {\n",
       "        vertical-align: middle;\n",
       "    }\n",
       "\n",
       "    .dataframe tbody tr th {\n",
       "        vertical-align: top;\n",
       "    }\n",
       "\n",
       "    .dataframe thead th {\n",
       "        text-align: right;\n",
       "    }\n",
       "</style>\n",
       "<table border=\"1\" class=\"dataframe\">\n",
       "  <thead>\n",
       "    <tr style=\"text-align: right;\">\n",
       "      <th></th>\n",
       "      <th>id</th>\n",
       "      <th>name</th>\n",
       "      <th>dept</th>\n",
       "      <th>age</th>\n",
       "      <th>salary</th>\n",
       "      <th>city</th>\n",
       "    </tr>\n",
       "  </thead>\n",
       "  <tbody>\n",
       "    <tr>\n",
       "      <th>0</th>\n",
       "      <td>101</td>\n",
       "      <td>Alice</td>\n",
       "      <td>DS</td>\n",
       "      <td>25</td>\n",
       "      <td>80000</td>\n",
       "      <td>NY</td>\n",
       "    </tr>\n",
       "    <tr>\n",
       "      <th>1</th>\n",
       "      <td>102</td>\n",
       "      <td>Bob</td>\n",
       "      <td>SE</td>\n",
       "      <td>30</td>\n",
       "      <td>95000</td>\n",
       "      <td>SF</td>\n",
       "    </tr>\n",
       "    <tr>\n",
       "      <th>2</th>\n",
       "      <td>103</td>\n",
       "      <td>Cara</td>\n",
       "      <td>DS</td>\n",
       "      <td>28</td>\n",
       "      <td>87500</td>\n",
       "      <td>NY</td>\n",
       "    </tr>\n",
       "    <tr>\n",
       "      <th>3</th>\n",
       "      <td>104</td>\n",
       "      <td>Dan</td>\n",
       "      <td>SE</td>\n",
       "      <td>40</td>\n",
       "      <td>120000</td>\n",
       "      <td>SF</td>\n",
       "    </tr>\n",
       "    <tr>\n",
       "      <th>4</th>\n",
       "      <td>105</td>\n",
       "      <td>Eve</td>\n",
       "      <td>HR</td>\n",
       "      <td>35</td>\n",
       "      <td>70000</td>\n",
       "      <td>NY</td>\n",
       "    </tr>\n",
       "    <tr>\n",
       "      <th>5</th>\n",
       "      <td>106</td>\n",
       "      <td>Frank</td>\n",
       "      <td>DS</td>\n",
       "      <td>28</td>\n",
       "      <td>87500</td>\n",
       "      <td>NY</td>\n",
       "    </tr>\n",
       "  </tbody>\n",
       "</table>\n",
       "</div>"
      ],
      "text/plain": [
       "    id   name dept  age  salary city\n",
       "0  101  Alice   DS   25   80000   NY\n",
       "1  102    Bob   SE   30   95000   SF\n",
       "2  103   Cara   DS   28   87500   NY\n",
       "3  104    Dan   SE   40  120000   SF\n",
       "4  105    Eve   HR   35   70000   NY\n",
       "5  106  Frank   DS   28   87500   NY"
      ]
     },
     "execution_count": 63,
     "metadata": {},
     "output_type": "execute_result"
    }
   ],
   "source": [
    "#we will use this dataset\n",
    "\n",
    "df = pd.DataFrame({\n",
    "    \"id\":    [101, 102, 103, 104, 105, 106],\n",
    "    \"name\":  [\"Alice\", \"Bob\", \"Cara\", \"Dan\", \"Eve\", \"Frank\"],\n",
    "    \"dept\":  [\"DS\", \"SE\", \"DS\", \"SE\", \"HR\", \"DS\"],\n",
    "    \"age\":   [25, 30, 28, 40, 35, 28],\n",
    "    \"salary\":[80000, 95000, 87500, 120000, 70000, 87500],\n",
    "    \"city\":  [\"NY\", \"SF\", \"NY\", \"SF\", \"NY\", \"NY\"]\n",
    "})\n",
    "df"
   ]
  },
  {
   "cell_type": "markdown",
   "id": "1397e4d2",
   "metadata": {},
   "source": [
    "#### 1) Column selection (view vs copy) & safe writes with `.loc`\n"
   ]
  },
  {
   "cell_type": "code",
   "execution_count": 64,
   "id": "4e328529",
   "metadata": {},
   "outputs": [
    {
     "data": {
      "text/plain": [
       "0     80000\n",
       "1     95000\n",
       "2     87500\n",
       "3    120000\n",
       "4     70000\n",
       "5     87500\n",
       "Name: salary, dtype: int64"
      ]
     },
     "execution_count": 64,
     "metadata": {},
     "output_type": "execute_result"
    }
   ],
   "source": [
    "#Selecting columns\n",
    "col = df[\"salary\"]       # 1 column → Series (may be a view, not guaranteed)\n",
    "col\n"
   ]
  },
  {
   "cell_type": "code",
   "execution_count": 65,
   "id": "d89cf380",
   "metadata": {},
   "outputs": [
    {
     "data": {
      "text/html": [
       "<div>\n",
       "<style scoped>\n",
       "    .dataframe tbody tr th:only-of-type {\n",
       "        vertical-align: middle;\n",
       "    }\n",
       "\n",
       "    .dataframe tbody tr th {\n",
       "        vertical-align: top;\n",
       "    }\n",
       "\n",
       "    .dataframe thead th {\n",
       "        text-align: right;\n",
       "    }\n",
       "</style>\n",
       "<table border=\"1\" class=\"dataframe\">\n",
       "  <thead>\n",
       "    <tr style=\"text-align: right;\">\n",
       "      <th></th>\n",
       "      <th>name</th>\n",
       "      <th>dept</th>\n",
       "    </tr>\n",
       "  </thead>\n",
       "  <tbody>\n",
       "    <tr>\n",
       "      <th>0</th>\n",
       "      <td>Alice</td>\n",
       "      <td>DS</td>\n",
       "    </tr>\n",
       "    <tr>\n",
       "      <th>1</th>\n",
       "      <td>Bob</td>\n",
       "      <td>SE</td>\n",
       "    </tr>\n",
       "    <tr>\n",
       "      <th>2</th>\n",
       "      <td>Cara</td>\n",
       "      <td>DS</td>\n",
       "    </tr>\n",
       "    <tr>\n",
       "      <th>3</th>\n",
       "      <td>Dan</td>\n",
       "      <td>SE</td>\n",
       "    </tr>\n",
       "    <tr>\n",
       "      <th>4</th>\n",
       "      <td>Eve</td>\n",
       "      <td>HR</td>\n",
       "    </tr>\n",
       "    <tr>\n",
       "      <th>5</th>\n",
       "      <td>Frank</td>\n",
       "      <td>DS</td>\n",
       "    </tr>\n",
       "  </tbody>\n",
       "</table>\n",
       "</div>"
      ],
      "text/plain": [
       "    name dept\n",
       "0  Alice   DS\n",
       "1    Bob   SE\n",
       "2   Cara   DS\n",
       "3    Dan   SE\n",
       "4    Eve   HR\n",
       "5  Frank   DS"
      ]
     },
     "execution_count": 65,
     "metadata": {},
     "output_type": "execute_result"
    }
   ],
   "source": [
    "sub = df[[\"name\",\"dept\"]]# list of columns → DataFrame (new object)\n",
    "sub"
   ]
  },
  {
   "cell_type": "markdown",
   "id": "754cb01f",
   "metadata": {},
   "source": [
    "**View vs copy (why it matters):**\n",
    "\n",
    "`df[\"col\"]` often returns a view; modifying it can unintentionally modify the parent or raise a warning.\n",
    "\n",
    "If you need an independent object: `.copy()`"
   ]
  },
  {
   "cell_type": "code",
   "execution_count": 66,
   "id": "e86d2bf2",
   "metadata": {},
   "outputs": [
    {
     "data": {
      "text/plain": [
       "0     80000\n",
       "1     95000\n",
       "2     87500\n",
       "3    120000\n",
       "4     70000\n",
       "5     87500\n",
       "Name: salary, dtype: int64"
      ]
     },
     "execution_count": 66,
     "metadata": {},
     "output_type": "execute_result"
    }
   ],
   "source": [
    "s = df[\"salary\"].copy()  # guaranteed independent copy\n",
    "s\n"
   ]
  },
  {
   "cell_type": "code",
   "execution_count": 68,
   "id": "7b670990",
   "metadata": {},
   "outputs": [
    {
     "data": {
      "text/plain": [
       "0    999999\n",
       "1     95000\n",
       "2     87500\n",
       "3    120000\n",
       "4     70000\n",
       "5     87500\n",
       "Name: salary, dtype: int64"
      ]
     },
     "execution_count": 68,
     "metadata": {},
     "output_type": "execute_result"
    }
   ],
   "source": [
    "s.iloc[0] = 999999       # does not affect df\n",
    "s"
   ]
  },
  {
   "cell_type": "code",
   "execution_count": 69,
   "id": "0fe64ea5",
   "metadata": {},
   "outputs": [
    {
     "data": {
      "text/html": [
       "<div>\n",
       "<style scoped>\n",
       "    .dataframe tbody tr th:only-of-type {\n",
       "        vertical-align: middle;\n",
       "    }\n",
       "\n",
       "    .dataframe tbody tr th {\n",
       "        vertical-align: top;\n",
       "    }\n",
       "\n",
       "    .dataframe thead th {\n",
       "        text-align: right;\n",
       "    }\n",
       "</style>\n",
       "<table border=\"1\" class=\"dataframe\">\n",
       "  <thead>\n",
       "    <tr style=\"text-align: right;\">\n",
       "      <th></th>\n",
       "      <th>id</th>\n",
       "      <th>name</th>\n",
       "      <th>dept</th>\n",
       "      <th>age</th>\n",
       "      <th>salary</th>\n",
       "      <th>city</th>\n",
       "    </tr>\n",
       "  </thead>\n",
       "  <tbody>\n",
       "    <tr>\n",
       "      <th>0</th>\n",
       "      <td>101</td>\n",
       "      <td>Alice</td>\n",
       "      <td>DS</td>\n",
       "      <td>25</td>\n",
       "      <td>80000</td>\n",
       "      <td>NY</td>\n",
       "    </tr>\n",
       "    <tr>\n",
       "      <th>1</th>\n",
       "      <td>102</td>\n",
       "      <td>Bob</td>\n",
       "      <td>SE</td>\n",
       "      <td>30</td>\n",
       "      <td>95000</td>\n",
       "      <td>SF</td>\n",
       "    </tr>\n",
       "    <tr>\n",
       "      <th>2</th>\n",
       "      <td>103</td>\n",
       "      <td>Cara</td>\n",
       "      <td>DS</td>\n",
       "      <td>28</td>\n",
       "      <td>87500</td>\n",
       "      <td>NY</td>\n",
       "    </tr>\n",
       "    <tr>\n",
       "      <th>3</th>\n",
       "      <td>104</td>\n",
       "      <td>Dan</td>\n",
       "      <td>SE</td>\n",
       "      <td>40</td>\n",
       "      <td>120000</td>\n",
       "      <td>SF</td>\n",
       "    </tr>\n",
       "    <tr>\n",
       "      <th>4</th>\n",
       "      <td>105</td>\n",
       "      <td>Eve</td>\n",
       "      <td>HR</td>\n",
       "      <td>35</td>\n",
       "      <td>70000</td>\n",
       "      <td>NY</td>\n",
       "    </tr>\n",
       "    <tr>\n",
       "      <th>5</th>\n",
       "      <td>106</td>\n",
       "      <td>Frank</td>\n",
       "      <td>DS</td>\n",
       "      <td>28</td>\n",
       "      <td>87500</td>\n",
       "      <td>NY</td>\n",
       "    </tr>\n",
       "  </tbody>\n",
       "</table>\n",
       "</div>"
      ],
      "text/plain": [
       "    id   name dept  age  salary city\n",
       "0  101  Alice   DS   25   80000   NY\n",
       "1  102    Bob   SE   30   95000   SF\n",
       "2  103   Cara   DS   28   87500   NY\n",
       "3  104    Dan   SE   40  120000   SF\n",
       "4  105    Eve   HR   35   70000   NY\n",
       "5  106  Frank   DS   28   87500   NY"
      ]
     },
     "execution_count": 69,
     "metadata": {},
     "output_type": "execute_result"
    }
   ],
   "source": [
    "df"
   ]
  },
  {
   "cell_type": "markdown",
   "id": "15bd481a",
   "metadata": {},
   "source": [
    "**Safe writes with `.loc`**\n",
    "\n",
    "Always use `.loc[row_filter, column] = value` to assign."
   ]
  },
  {
   "cell_type": "code",
   "execution_count": 70,
   "id": "a0738ed5",
   "metadata": {},
   "outputs": [
    {
     "data": {
      "text/html": [
       "<div>\n",
       "<style scoped>\n",
       "    .dataframe tbody tr th:only-of-type {\n",
       "        vertical-align: middle;\n",
       "    }\n",
       "\n",
       "    .dataframe tbody tr th {\n",
       "        vertical-align: top;\n",
       "    }\n",
       "\n",
       "    .dataframe thead th {\n",
       "        text-align: right;\n",
       "    }\n",
       "</style>\n",
       "<table border=\"1\" class=\"dataframe\">\n",
       "  <thead>\n",
       "    <tr style=\"text-align: right;\">\n",
       "      <th></th>\n",
       "      <th>id</th>\n",
       "      <th>name</th>\n",
       "      <th>dept</th>\n",
       "      <th>age</th>\n",
       "      <th>salary</th>\n",
       "      <th>city</th>\n",
       "    </tr>\n",
       "  </thead>\n",
       "  <tbody>\n",
       "    <tr>\n",
       "      <th>0</th>\n",
       "      <td>101</td>\n",
       "      <td>Alice</td>\n",
       "      <td>DS</td>\n",
       "      <td>25</td>\n",
       "      <td>84000</td>\n",
       "      <td>NY</td>\n",
       "    </tr>\n",
       "    <tr>\n",
       "      <th>1</th>\n",
       "      <td>102</td>\n",
       "      <td>Bob</td>\n",
       "      <td>SE</td>\n",
       "      <td>30</td>\n",
       "      <td>95000</td>\n",
       "      <td>SF</td>\n",
       "    </tr>\n",
       "    <tr>\n",
       "      <th>2</th>\n",
       "      <td>103</td>\n",
       "      <td>Cara</td>\n",
       "      <td>DS</td>\n",
       "      <td>28</td>\n",
       "      <td>91875</td>\n",
       "      <td>NY</td>\n",
       "    </tr>\n",
       "    <tr>\n",
       "      <th>3</th>\n",
       "      <td>104</td>\n",
       "      <td>Dan</td>\n",
       "      <td>SE</td>\n",
       "      <td>40</td>\n",
       "      <td>120000</td>\n",
       "      <td>SF</td>\n",
       "    </tr>\n",
       "    <tr>\n",
       "      <th>4</th>\n",
       "      <td>105</td>\n",
       "      <td>Eve</td>\n",
       "      <td>HR</td>\n",
       "      <td>35</td>\n",
       "      <td>70000</td>\n",
       "      <td>NY</td>\n",
       "    </tr>\n",
       "    <tr>\n",
       "      <th>5</th>\n",
       "      <td>106</td>\n",
       "      <td>Frank</td>\n",
       "      <td>DS</td>\n",
       "      <td>28</td>\n",
       "      <td>91875</td>\n",
       "      <td>NY</td>\n",
       "    </tr>\n",
       "  </tbody>\n",
       "</table>\n",
       "</div>"
      ],
      "text/plain": [
       "    id   name dept  age  salary city\n",
       "0  101  Alice   DS   25   84000   NY\n",
       "1  102    Bob   SE   30   95000   SF\n",
       "2  103   Cara   DS   28   91875   NY\n",
       "3  104    Dan   SE   40  120000   SF\n",
       "4  105    Eve   HR   35   70000   NY\n",
       "5  106  Frank   DS   28   91875   NY"
      ]
     },
     "execution_count": 70,
     "metadata": {},
     "output_type": "execute_result"
    }
   ],
   "source": [
    "# Give a 5% raise to DS department employees\n",
    "df.loc[df[\"dept\"] == \"DS\", \"salary\"] = (df.loc[df[\"dept\"] == \"DS\", \"salary\"] * 1.05).round(0)\n",
    "df\n"
   ]
  },
  {
   "cell_type": "markdown",
   "id": "0e80529f",
   "metadata": {},
   "source": [
    "**2) Row/Column selection: .loc, .iloc, .at, .iat**\n",
    "\n",
    "`.loc` → label-based (rows & columns by labels; slicing is inclusive on labels)\n",
    "\n",
    "`.iloc` → integer-position-based (0..n-1; slicing is end-exclusive)\n",
    "\n",
    "`.at` → fast scalar access by label (single cell)\n",
    "\n",
    "`.iat` → fast scalar access by position (single cell)"
   ]
  },
  {
   "cell_type": "code",
   "execution_count": 72,
   "id": "00a192be",
   "metadata": {},
   "outputs": [
    {
     "data": {
      "text/html": [
       "<div>\n",
       "<style scoped>\n",
       "    .dataframe tbody tr th:only-of-type {\n",
       "        vertical-align: middle;\n",
       "    }\n",
       "\n",
       "    .dataframe tbody tr th {\n",
       "        vertical-align: top;\n",
       "    }\n",
       "\n",
       "    .dataframe thead th {\n",
       "        text-align: right;\n",
       "    }\n",
       "</style>\n",
       "<table border=\"1\" class=\"dataframe\">\n",
       "  <thead>\n",
       "    <tr style=\"text-align: right;\">\n",
       "      <th></th>\n",
       "      <th>name</th>\n",
       "      <th>dept</th>\n",
       "      <th>age</th>\n",
       "    </tr>\n",
       "  </thead>\n",
       "  <tbody>\n",
       "    <tr>\n",
       "      <th>1</th>\n",
       "      <td>Bob</td>\n",
       "      <td>SE</td>\n",
       "      <td>30</td>\n",
       "    </tr>\n",
       "    <tr>\n",
       "      <th>3</th>\n",
       "      <td>Dan</td>\n",
       "      <td>SE</td>\n",
       "      <td>40</td>\n",
       "    </tr>\n",
       "    <tr>\n",
       "      <th>4</th>\n",
       "      <td>Eve</td>\n",
       "      <td>HR</td>\n",
       "      <td>35</td>\n",
       "    </tr>\n",
       "  </tbody>\n",
       "</table>\n",
       "</div>"
      ],
      "text/plain": [
       "  name dept  age\n",
       "1  Bob   SE   30\n",
       "3  Dan   SE   40\n",
       "4  Eve   HR   35"
      ]
     },
     "execution_count": 72,
     "metadata": {},
     "output_type": "execute_result"
    }
   ],
   "source": [
    "# .loc: rows by condition, columns by label\n",
    "df.loc[df[\"age\"] >= 30, [\"name\", \"dept\", \"age\"]]\n"
   ]
  },
  {
   "cell_type": "code",
   "execution_count": 73,
   "id": "885df5c1",
   "metadata": {},
   "outputs": [
    {
     "data": {
      "text/html": [
       "<div>\n",
       "<style scoped>\n",
       "    .dataframe tbody tr th:only-of-type {\n",
       "        vertical-align: middle;\n",
       "    }\n",
       "\n",
       "    .dataframe tbody tr th {\n",
       "        vertical-align: top;\n",
       "    }\n",
       "\n",
       "    .dataframe thead th {\n",
       "        text-align: right;\n",
       "    }\n",
       "</style>\n",
       "<table border=\"1\" class=\"dataframe\">\n",
       "  <thead>\n",
       "    <tr style=\"text-align: right;\">\n",
       "      <th></th>\n",
       "      <th>name</th>\n",
       "      <th>dept</th>\n",
       "      <th>age</th>\n",
       "    </tr>\n",
       "  </thead>\n",
       "  <tbody>\n",
       "    <tr>\n",
       "      <th>0</th>\n",
       "      <td>Alice</td>\n",
       "      <td>DS</td>\n",
       "      <td>25</td>\n",
       "    </tr>\n",
       "    <tr>\n",
       "      <th>1</th>\n",
       "      <td>Bob</td>\n",
       "      <td>SE</td>\n",
       "      <td>30</td>\n",
       "    </tr>\n",
       "    <tr>\n",
       "      <th>2</th>\n",
       "      <td>Cara</td>\n",
       "      <td>DS</td>\n",
       "      <td>28</td>\n",
       "    </tr>\n",
       "  </tbody>\n",
       "</table>\n",
       "</div>"
      ],
      "text/plain": [
       "    name dept  age\n",
       "0  Alice   DS   25\n",
       "1    Bob   SE   30\n",
       "2   Cara   DS   28"
      ]
     },
     "execution_count": 73,
     "metadata": {},
     "output_type": "execute_result"
    }
   ],
   "source": [
    "# .loc: label slicing (inclusive) — after setting a labeled index (see later)\n",
    "# df.loc[\"a\":\"c\", \"dept\":\"salary\"]\n",
    "\n",
    "# .iloc: rows/cols by integer position\n",
    "df.iloc[0:3, 1:4]   # first 3 rows; columns 1..3\n"
   ]
  },
  {
   "cell_type": "markdown",
   "id": "efb9938a",
   "metadata": {},
   "source": [
    "**3) Boolean masks: isin, between, multiple conditions**"
   ]
  },
  {
   "cell_type": "code",
   "execution_count": 77,
   "id": "e024c17c",
   "metadata": {},
   "outputs": [
    {
     "data": {
      "text/html": [
       "<div>\n",
       "<style scoped>\n",
       "    .dataframe tbody tr th:only-of-type {\n",
       "        vertical-align: middle;\n",
       "    }\n",
       "\n",
       "    .dataframe tbody tr th {\n",
       "        vertical-align: top;\n",
       "    }\n",
       "\n",
       "    .dataframe thead th {\n",
       "        text-align: right;\n",
       "    }\n",
       "</style>\n",
       "<table border=\"1\" class=\"dataframe\">\n",
       "  <thead>\n",
       "    <tr style=\"text-align: right;\">\n",
       "      <th></th>\n",
       "      <th>id</th>\n",
       "      <th>name</th>\n",
       "      <th>dept</th>\n",
       "      <th>age</th>\n",
       "      <th>salary</th>\n",
       "      <th>city</th>\n",
       "    </tr>\n",
       "  </thead>\n",
       "  <tbody>\n",
       "    <tr>\n",
       "      <th>0</th>\n",
       "      <td>101</td>\n",
       "      <td>Alice</td>\n",
       "      <td>DS</td>\n",
       "      <td>25</td>\n",
       "      <td>84000</td>\n",
       "      <td>NY</td>\n",
       "    </tr>\n",
       "    <tr>\n",
       "      <th>1</th>\n",
       "      <td>102</td>\n",
       "      <td>Bob</td>\n",
       "      <td>SE</td>\n",
       "      <td>30</td>\n",
       "      <td>95000</td>\n",
       "      <td>SF</td>\n",
       "    </tr>\n",
       "    <tr>\n",
       "      <th>2</th>\n",
       "      <td>103</td>\n",
       "      <td>Cara</td>\n",
       "      <td>DS</td>\n",
       "      <td>28</td>\n",
       "      <td>91875</td>\n",
       "      <td>NY</td>\n",
       "    </tr>\n",
       "    <tr>\n",
       "      <th>3</th>\n",
       "      <td>104</td>\n",
       "      <td>Dan</td>\n",
       "      <td>SE</td>\n",
       "      <td>40</td>\n",
       "      <td>120000</td>\n",
       "      <td>SF</td>\n",
       "    </tr>\n",
       "    <tr>\n",
       "      <th>5</th>\n",
       "      <td>106</td>\n",
       "      <td>Frank</td>\n",
       "      <td>DS</td>\n",
       "      <td>28</td>\n",
       "      <td>91875</td>\n",
       "      <td>NY</td>\n",
       "    </tr>\n",
       "  </tbody>\n",
       "</table>\n",
       "</div>"
      ],
      "text/plain": [
       "    id   name dept  age  salary city\n",
       "0  101  Alice   DS   25   84000   NY\n",
       "1  102    Bob   SE   30   95000   SF\n",
       "2  103   Cara   DS   28   91875   NY\n",
       "3  104    Dan   SE   40  120000   SF\n",
       "5  106  Frank   DS   28   91875   NY"
      ]
     },
     "execution_count": 77,
     "metadata": {},
     "output_type": "execute_result"
    }
   ],
   "source": [
    "# 3.1 .isin — membership tests\n",
    "tech = df[df[\"dept\"].isin([\"DS\", \"SE\"])]\n",
    "\n",
    "tech"
   ]
  },
  {
   "cell_type": "code",
   "execution_count": 78,
   "id": "29a4431d",
   "metadata": {},
   "outputs": [
    {
     "data": {
      "text/html": [
       "<div>\n",
       "<style scoped>\n",
       "    .dataframe tbody tr th:only-of-type {\n",
       "        vertical-align: middle;\n",
       "    }\n",
       "\n",
       "    .dataframe tbody tr th {\n",
       "        vertical-align: top;\n",
       "    }\n",
       "\n",
       "    .dataframe thead th {\n",
       "        text-align: right;\n",
       "    }\n",
       "</style>\n",
       "<table border=\"1\" class=\"dataframe\">\n",
       "  <thead>\n",
       "    <tr style=\"text-align: right;\">\n",
       "      <th></th>\n",
       "      <th>id</th>\n",
       "      <th>name</th>\n",
       "      <th>dept</th>\n",
       "      <th>age</th>\n",
       "      <th>salary</th>\n",
       "      <th>city</th>\n",
       "    </tr>\n",
       "  </thead>\n",
       "  <tbody>\n",
       "    <tr>\n",
       "      <th>0</th>\n",
       "      <td>101</td>\n",
       "      <td>Alice</td>\n",
       "      <td>DS</td>\n",
       "      <td>25</td>\n",
       "      <td>84000</td>\n",
       "      <td>NY</td>\n",
       "    </tr>\n",
       "    <tr>\n",
       "      <th>1</th>\n",
       "      <td>102</td>\n",
       "      <td>Bob</td>\n",
       "      <td>SE</td>\n",
       "      <td>30</td>\n",
       "      <td>95000</td>\n",
       "      <td>SF</td>\n",
       "    </tr>\n",
       "    <tr>\n",
       "      <th>2</th>\n",
       "      <td>103</td>\n",
       "      <td>Cara</td>\n",
       "      <td>DS</td>\n",
       "      <td>28</td>\n",
       "      <td>91875</td>\n",
       "      <td>NY</td>\n",
       "    </tr>\n",
       "    <tr>\n",
       "      <th>5</th>\n",
       "      <td>106</td>\n",
       "      <td>Frank</td>\n",
       "      <td>DS</td>\n",
       "      <td>28</td>\n",
       "      <td>91875</td>\n",
       "      <td>NY</td>\n",
       "    </tr>\n",
       "  </tbody>\n",
       "</table>\n",
       "</div>"
      ],
      "text/plain": [
       "    id   name dept  age  salary city\n",
       "0  101  Alice   DS   25   84000   NY\n",
       "1  102    Bob   SE   30   95000   SF\n",
       "2  103   Cara   DS   28   91875   NY\n",
       "5  106  Frank   DS   28   91875   NY"
      ]
     },
     "execution_count": 78,
     "metadata": {},
     "output_type": "execute_result"
    }
   ],
   "source": [
    "# 3.2 .between — numeric ranges (inclusive)\n",
    "young = df[df[\"age\"].between(25, 30)]\n",
    "\n",
    "young"
   ]
  },
  {
   "cell_type": "code",
   "execution_count": 79,
   "id": "b1b29247",
   "metadata": {},
   "outputs": [
    {
     "data": {
      "text/html": [
       "<div>\n",
       "<style scoped>\n",
       "    .dataframe tbody tr th:only-of-type {\n",
       "        vertical-align: middle;\n",
       "    }\n",
       "\n",
       "    .dataframe tbody tr th {\n",
       "        vertical-align: top;\n",
       "    }\n",
       "\n",
       "    .dataframe thead th {\n",
       "        text-align: right;\n",
       "    }\n",
       "</style>\n",
       "<table border=\"1\" class=\"dataframe\">\n",
       "  <thead>\n",
       "    <tr style=\"text-align: right;\">\n",
       "      <th></th>\n",
       "      <th>id</th>\n",
       "      <th>name</th>\n",
       "      <th>dept</th>\n",
       "      <th>age</th>\n",
       "      <th>salary</th>\n",
       "      <th>city</th>\n",
       "    </tr>\n",
       "  </thead>\n",
       "  <tbody>\n",
       "    <tr>\n",
       "      <th>0</th>\n",
       "      <td>101</td>\n",
       "      <td>Alice</td>\n",
       "      <td>DS</td>\n",
       "      <td>25</td>\n",
       "      <td>84000</td>\n",
       "      <td>NY</td>\n",
       "    </tr>\n",
       "    <tr>\n",
       "      <th>2</th>\n",
       "      <td>103</td>\n",
       "      <td>Cara</td>\n",
       "      <td>DS</td>\n",
       "      <td>28</td>\n",
       "      <td>91875</td>\n",
       "      <td>NY</td>\n",
       "    </tr>\n",
       "    <tr>\n",
       "      <th>5</th>\n",
       "      <td>106</td>\n",
       "      <td>Frank</td>\n",
       "      <td>DS</td>\n",
       "      <td>28</td>\n",
       "      <td>91875</td>\n",
       "      <td>NY</td>\n",
       "    </tr>\n",
       "  </tbody>\n",
       "</table>\n",
       "</div>"
      ],
      "text/plain": [
       "    id   name dept  age  salary city\n",
       "0  101  Alice   DS   25   84000   NY\n",
       "2  103   Cara   DS   28   91875   NY\n",
       "5  106  Frank   DS   28   91875   NY"
      ]
     },
     "execution_count": 79,
     "metadata": {},
     "output_type": "execute_result"
    }
   ],
   "source": [
    "# 3.3 Multiple conditions — use &, |, ~ with parentheses\n",
    "ny_ds = df[(df[\"city\"] == \"NY\") & (df[\"dept\"] == \"DS\")]\n",
    "ny_ds"
   ]
  },
  {
   "cell_type": "code",
   "execution_count": 80,
   "id": "d4a2578b",
   "metadata": {},
   "outputs": [
    {
     "data": {
      "text/html": [
       "<div>\n",
       "<style scoped>\n",
       "    .dataframe tbody tr th:only-of-type {\n",
       "        vertical-align: middle;\n",
       "    }\n",
       "\n",
       "    .dataframe tbody tr th {\n",
       "        vertical-align: top;\n",
       "    }\n",
       "\n",
       "    .dataframe thead th {\n",
       "        text-align: right;\n",
       "    }\n",
       "</style>\n",
       "<table border=\"1\" class=\"dataframe\">\n",
       "  <thead>\n",
       "    <tr style=\"text-align: right;\">\n",
       "      <th></th>\n",
       "      <th>id</th>\n",
       "      <th>name</th>\n",
       "      <th>dept</th>\n",
       "      <th>age</th>\n",
       "      <th>salary</th>\n",
       "      <th>city</th>\n",
       "    </tr>\n",
       "  </thead>\n",
       "  <tbody>\n",
       "    <tr>\n",
       "      <th>0</th>\n",
       "      <td>101</td>\n",
       "      <td>Alice</td>\n",
       "      <td>DS</td>\n",
       "      <td>25</td>\n",
       "      <td>84000</td>\n",
       "      <td>NY</td>\n",
       "    </tr>\n",
       "    <tr>\n",
       "      <th>1</th>\n",
       "      <td>102</td>\n",
       "      <td>Bob</td>\n",
       "      <td>SE</td>\n",
       "      <td>30</td>\n",
       "      <td>95000</td>\n",
       "      <td>SF</td>\n",
       "    </tr>\n",
       "    <tr>\n",
       "      <th>2</th>\n",
       "      <td>103</td>\n",
       "      <td>Cara</td>\n",
       "      <td>DS</td>\n",
       "      <td>28</td>\n",
       "      <td>91875</td>\n",
       "      <td>NY</td>\n",
       "    </tr>\n",
       "    <tr>\n",
       "      <th>3</th>\n",
       "      <td>104</td>\n",
       "      <td>Dan</td>\n",
       "      <td>SE</td>\n",
       "      <td>40</td>\n",
       "      <td>120000</td>\n",
       "      <td>SF</td>\n",
       "    </tr>\n",
       "    <tr>\n",
       "      <th>4</th>\n",
       "      <td>105</td>\n",
       "      <td>Eve</td>\n",
       "      <td>HR</td>\n",
       "      <td>35</td>\n",
       "      <td>70000</td>\n",
       "      <td>NY</td>\n",
       "    </tr>\n",
       "    <tr>\n",
       "      <th>5</th>\n",
       "      <td>106</td>\n",
       "      <td>Frank</td>\n",
       "      <td>DS</td>\n",
       "      <td>28</td>\n",
       "      <td>91875</td>\n",
       "      <td>NY</td>\n",
       "    </tr>\n",
       "  </tbody>\n",
       "</table>\n",
       "</div>"
      ],
      "text/plain": [
       "    id   name dept  age  salary city\n",
       "0  101  Alice   DS   25   84000   NY\n",
       "1  102    Bob   SE   30   95000   SF\n",
       "2  103   Cara   DS   28   91875   NY\n",
       "3  104    Dan   SE   40  120000   SF\n",
       "4  105    Eve   HR   35   70000   NY\n",
       "5  106  Frank   DS   28   91875   NY"
      ]
     },
     "execution_count": 80,
     "metadata": {},
     "output_type": "execute_result"
    }
   ],
   "source": [
    "not_hr_or_sf = df[(df[\"dept\"] != \"HR\") | (df[\"city\"] != \"SF\")]\n",
    "not_hr_or_sf"
   ]
  },
  {
   "cell_type": "markdown",
   "id": "51e2f24c",
   "metadata": {},
   "source": [
    "**4) Sorting & ranking; handling duplicates**"
   ]
  },
  {
   "cell_type": "code",
   "execution_count": 81,
   "id": "12ab03d9",
   "metadata": {},
   "outputs": [
    {
     "data": {
      "text/html": [
       "<div>\n",
       "<style scoped>\n",
       "    .dataframe tbody tr th:only-of-type {\n",
       "        vertical-align: middle;\n",
       "    }\n",
       "\n",
       "    .dataframe tbody tr th {\n",
       "        vertical-align: top;\n",
       "    }\n",
       "\n",
       "    .dataframe thead th {\n",
       "        text-align: right;\n",
       "    }\n",
       "</style>\n",
       "<table border=\"1\" class=\"dataframe\">\n",
       "  <thead>\n",
       "    <tr style=\"text-align: right;\">\n",
       "      <th></th>\n",
       "      <th>id</th>\n",
       "      <th>name</th>\n",
       "      <th>dept</th>\n",
       "      <th>age</th>\n",
       "      <th>salary</th>\n",
       "      <th>city</th>\n",
       "    </tr>\n",
       "  </thead>\n",
       "  <tbody>\n",
       "    <tr>\n",
       "      <th>2</th>\n",
       "      <td>103</td>\n",
       "      <td>Cara</td>\n",
       "      <td>DS</td>\n",
       "      <td>28</td>\n",
       "      <td>91875</td>\n",
       "      <td>NY</td>\n",
       "    </tr>\n",
       "    <tr>\n",
       "      <th>5</th>\n",
       "      <td>106</td>\n",
       "      <td>Frank</td>\n",
       "      <td>DS</td>\n",
       "      <td>28</td>\n",
       "      <td>91875</td>\n",
       "      <td>NY</td>\n",
       "    </tr>\n",
       "    <tr>\n",
       "      <th>0</th>\n",
       "      <td>101</td>\n",
       "      <td>Alice</td>\n",
       "      <td>DS</td>\n",
       "      <td>25</td>\n",
       "      <td>84000</td>\n",
       "      <td>NY</td>\n",
       "    </tr>\n",
       "    <tr>\n",
       "      <th>4</th>\n",
       "      <td>105</td>\n",
       "      <td>Eve</td>\n",
       "      <td>HR</td>\n",
       "      <td>35</td>\n",
       "      <td>70000</td>\n",
       "      <td>NY</td>\n",
       "    </tr>\n",
       "    <tr>\n",
       "      <th>3</th>\n",
       "      <td>104</td>\n",
       "      <td>Dan</td>\n",
       "      <td>SE</td>\n",
       "      <td>40</td>\n",
       "      <td>120000</td>\n",
       "      <td>SF</td>\n",
       "    </tr>\n",
       "    <tr>\n",
       "      <th>1</th>\n",
       "      <td>102</td>\n",
       "      <td>Bob</td>\n",
       "      <td>SE</td>\n",
       "      <td>30</td>\n",
       "      <td>95000</td>\n",
       "      <td>SF</td>\n",
       "    </tr>\n",
       "  </tbody>\n",
       "</table>\n",
       "</div>"
      ],
      "text/plain": [
       "    id   name dept  age  salary city\n",
       "2  103   Cara   DS   28   91875   NY\n",
       "5  106  Frank   DS   28   91875   NY\n",
       "0  101  Alice   DS   25   84000   NY\n",
       "4  105    Eve   HR   35   70000   NY\n",
       "3  104    Dan   SE   40  120000   SF\n",
       "1  102    Bob   SE   30   95000   SF"
      ]
     },
     "execution_count": 81,
     "metadata": {},
     "output_type": "execute_result"
    }
   ],
   "source": [
    "# sort by values (multi-key, stable)\n",
    "sorted_df = df.sort_values(by=[\"dept\",\"salary\"], ascending=[True, False])\n",
    "\n",
    "sorted_df"
   ]
  },
  {
   "cell_type": "code",
   "execution_count": 82,
   "id": "f69cdc9c",
   "metadata": {},
   "outputs": [
    {
     "data": {
      "text/html": [
       "<div>\n",
       "<style scoped>\n",
       "    .dataframe tbody tr th:only-of-type {\n",
       "        vertical-align: middle;\n",
       "    }\n",
       "\n",
       "    .dataframe tbody tr th {\n",
       "        vertical-align: top;\n",
       "    }\n",
       "\n",
       "    .dataframe thead th {\n",
       "        text-align: right;\n",
       "    }\n",
       "</style>\n",
       "<table border=\"1\" class=\"dataframe\">\n",
       "  <thead>\n",
       "    <tr style=\"text-align: right;\">\n",
       "      <th></th>\n",
       "      <th>id</th>\n",
       "      <th>name</th>\n",
       "      <th>dept</th>\n",
       "      <th>age</th>\n",
       "      <th>salary</th>\n",
       "      <th>city</th>\n",
       "    </tr>\n",
       "  </thead>\n",
       "  <tbody>\n",
       "    <tr>\n",
       "      <th>0</th>\n",
       "      <td>101</td>\n",
       "      <td>Alice</td>\n",
       "      <td>DS</td>\n",
       "      <td>25</td>\n",
       "      <td>84000</td>\n",
       "      <td>NY</td>\n",
       "    </tr>\n",
       "    <tr>\n",
       "      <th>1</th>\n",
       "      <td>102</td>\n",
       "      <td>Bob</td>\n",
       "      <td>SE</td>\n",
       "      <td>30</td>\n",
       "      <td>95000</td>\n",
       "      <td>SF</td>\n",
       "    </tr>\n",
       "    <tr>\n",
       "      <th>2</th>\n",
       "      <td>103</td>\n",
       "      <td>Cara</td>\n",
       "      <td>DS</td>\n",
       "      <td>28</td>\n",
       "      <td>91875</td>\n",
       "      <td>NY</td>\n",
       "    </tr>\n",
       "    <tr>\n",
       "      <th>3</th>\n",
       "      <td>104</td>\n",
       "      <td>Dan</td>\n",
       "      <td>SE</td>\n",
       "      <td>40</td>\n",
       "      <td>120000</td>\n",
       "      <td>SF</td>\n",
       "    </tr>\n",
       "    <tr>\n",
       "      <th>4</th>\n",
       "      <td>105</td>\n",
       "      <td>Eve</td>\n",
       "      <td>HR</td>\n",
       "      <td>35</td>\n",
       "      <td>70000</td>\n",
       "      <td>NY</td>\n",
       "    </tr>\n",
       "    <tr>\n",
       "      <th>5</th>\n",
       "      <td>106</td>\n",
       "      <td>Frank</td>\n",
       "      <td>DS</td>\n",
       "      <td>28</td>\n",
       "      <td>91875</td>\n",
       "      <td>NY</td>\n",
       "    </tr>\n",
       "  </tbody>\n",
       "</table>\n",
       "</div>"
      ],
      "text/plain": [
       "    id   name dept  age  salary city\n",
       "0  101  Alice   DS   25   84000   NY\n",
       "1  102    Bob   SE   30   95000   SF\n",
       "2  103   Cara   DS   28   91875   NY\n",
       "3  104    Dan   SE   40  120000   SF\n",
       "4  105    Eve   HR   35   70000   NY\n",
       "5  106  Frank   DS   28   91875   NY"
      ]
     },
     "execution_count": 82,
     "metadata": {},
     "output_type": "execute_result"
    }
   ],
   "source": [
    "# sort by index\n",
    "sorted_idx = df.sort_index()\n",
    "sorted_idx"
   ]
  },
  {
   "cell_type": "code",
   "execution_count": 83,
   "id": "55eed353",
   "metadata": {},
   "outputs": [
    {
     "data": {
      "text/html": [
       "<div>\n",
       "<style scoped>\n",
       "    .dataframe tbody tr th:only-of-type {\n",
       "        vertical-align: middle;\n",
       "    }\n",
       "\n",
       "    .dataframe tbody tr th {\n",
       "        vertical-align: top;\n",
       "    }\n",
       "\n",
       "    .dataframe thead th {\n",
       "        text-align: right;\n",
       "    }\n",
       "</style>\n",
       "<table border=\"1\" class=\"dataframe\">\n",
       "  <thead>\n",
       "    <tr style=\"text-align: right;\">\n",
       "      <th></th>\n",
       "      <th>name</th>\n",
       "      <th>dept</th>\n",
       "      <th>salary</th>\n",
       "      <th>dept_rank</th>\n",
       "    </tr>\n",
       "  </thead>\n",
       "  <tbody>\n",
       "    <tr>\n",
       "      <th>2</th>\n",
       "      <td>Cara</td>\n",
       "      <td>DS</td>\n",
       "      <td>91875</td>\n",
       "      <td>1</td>\n",
       "    </tr>\n",
       "    <tr>\n",
       "      <th>5</th>\n",
       "      <td>Frank</td>\n",
       "      <td>DS</td>\n",
       "      <td>91875</td>\n",
       "      <td>1</td>\n",
       "    </tr>\n",
       "    <tr>\n",
       "      <th>0</th>\n",
       "      <td>Alice</td>\n",
       "      <td>DS</td>\n",
       "      <td>84000</td>\n",
       "      <td>2</td>\n",
       "    </tr>\n",
       "    <tr>\n",
       "      <th>4</th>\n",
       "      <td>Eve</td>\n",
       "      <td>HR</td>\n",
       "      <td>70000</td>\n",
       "      <td>1</td>\n",
       "    </tr>\n",
       "    <tr>\n",
       "      <th>3</th>\n",
       "      <td>Dan</td>\n",
       "      <td>SE</td>\n",
       "      <td>120000</td>\n",
       "      <td>1</td>\n",
       "    </tr>\n",
       "    <tr>\n",
       "      <th>1</th>\n",
       "      <td>Bob</td>\n",
       "      <td>SE</td>\n",
       "      <td>95000</td>\n",
       "      <td>2</td>\n",
       "    </tr>\n",
       "  </tbody>\n",
       "</table>\n",
       "</div>"
      ],
      "text/plain": [
       "    name dept  salary  dept_rank\n",
       "2   Cara   DS   91875          1\n",
       "5  Frank   DS   91875          1\n",
       "0  Alice   DS   84000          2\n",
       "4    Eve   HR   70000          1\n",
       "3    Dan   SE  120000          1\n",
       "1    Bob   SE   95000          2"
      ]
     },
     "execution_count": 83,
     "metadata": {},
     "output_type": "execute_result"
    }
   ],
   "source": [
    "#Ranking\n",
    "# Rank salaries within each dept (highest = rank 1)\n",
    "df[\"dept_rank\"] = (\n",
    "    df.groupby(\"dept\")[\"salary\"]\n",
    "      .rank(ascending=False, method=\"dense\")\n",
    "      .astype(\"Int64\")\n",
    ")\n",
    "df[[\"name\",\"dept\",\"salary\",\"dept_rank\"]].sort_values([\"dept\",\"dept_rank\"])\n"
   ]
  },
  {
   "cell_type": "code",
   "execution_count": 84,
   "id": "b7d1cd97",
   "metadata": {},
   "outputs": [
    {
     "data": {
      "text/html": [
       "<div>\n",
       "<style scoped>\n",
       "    .dataframe tbody tr th:only-of-type {\n",
       "        vertical-align: middle;\n",
       "    }\n",
       "\n",
       "    .dataframe tbody tr th {\n",
       "        vertical-align: top;\n",
       "    }\n",
       "\n",
       "    .dataframe thead th {\n",
       "        text-align: right;\n",
       "    }\n",
       "</style>\n",
       "<table border=\"1\" class=\"dataframe\">\n",
       "  <thead>\n",
       "    <tr style=\"text-align: right;\">\n",
       "      <th></th>\n",
       "      <th>id</th>\n",
       "      <th>name</th>\n",
       "      <th>dept</th>\n",
       "      <th>age</th>\n",
       "      <th>salary</th>\n",
       "      <th>city</th>\n",
       "      <th>dept_rank</th>\n",
       "    </tr>\n",
       "  </thead>\n",
       "  <tbody>\n",
       "    <tr>\n",
       "      <th>0</th>\n",
       "      <td>101</td>\n",
       "      <td>Alice</td>\n",
       "      <td>DS</td>\n",
       "      <td>25</td>\n",
       "      <td>84000</td>\n",
       "      <td>NY</td>\n",
       "      <td>2</td>\n",
       "    </tr>\n",
       "    <tr>\n",
       "      <th>1</th>\n",
       "      <td>102</td>\n",
       "      <td>Bob</td>\n",
       "      <td>SE</td>\n",
       "      <td>30</td>\n",
       "      <td>95000</td>\n",
       "      <td>SF</td>\n",
       "      <td>2</td>\n",
       "    </tr>\n",
       "    <tr>\n",
       "      <th>2</th>\n",
       "      <td>103</td>\n",
       "      <td>Cara</td>\n",
       "      <td>DS</td>\n",
       "      <td>28</td>\n",
       "      <td>91875</td>\n",
       "      <td>NY</td>\n",
       "      <td>1</td>\n",
       "    </tr>\n",
       "    <tr>\n",
       "      <th>3</th>\n",
       "      <td>104</td>\n",
       "      <td>Dan</td>\n",
       "      <td>SE</td>\n",
       "      <td>40</td>\n",
       "      <td>120000</td>\n",
       "      <td>SF</td>\n",
       "      <td>1</td>\n",
       "    </tr>\n",
       "    <tr>\n",
       "      <th>4</th>\n",
       "      <td>105</td>\n",
       "      <td>Eve</td>\n",
       "      <td>HR</td>\n",
       "      <td>35</td>\n",
       "      <td>70000</td>\n",
       "      <td>NY</td>\n",
       "      <td>1</td>\n",
       "    </tr>\n",
       "    <tr>\n",
       "      <th>5</th>\n",
       "      <td>106</td>\n",
       "      <td>Frank</td>\n",
       "      <td>DS</td>\n",
       "      <td>28</td>\n",
       "      <td>91875</td>\n",
       "      <td>NY</td>\n",
       "      <td>1</td>\n",
       "    </tr>\n",
       "    <tr>\n",
       "      <th>6</th>\n",
       "      <td>103</td>\n",
       "      <td>Cara</td>\n",
       "      <td>DS</td>\n",
       "      <td>28</td>\n",
       "      <td>91875</td>\n",
       "      <td>NY</td>\n",
       "      <td>1</td>\n",
       "    </tr>\n",
       "  </tbody>\n",
       "</table>\n",
       "</div>"
      ],
      "text/plain": [
       "    id   name dept  age  salary city  dept_rank\n",
       "0  101  Alice   DS   25   84000   NY          2\n",
       "1  102    Bob   SE   30   95000   SF          2\n",
       "2  103   Cara   DS   28   91875   NY          1\n",
       "3  104    Dan   SE   40  120000   SF          1\n",
       "4  105    Eve   HR   35   70000   NY          1\n",
       "5  106  Frank   DS   28   91875   NY          1\n",
       "6  103   Cara   DS   28   91875   NY          1"
      ]
     },
     "execution_count": 84,
     "metadata": {},
     "output_type": "execute_result"
    }
   ],
   "source": [
    "#Duplicates\n",
    "# Create a duplicate to demo\n",
    "dups = pd.concat([df, df.iloc[[2]]], ignore_index=True)\n",
    "\n",
    "dups"
   ]
  },
  {
   "cell_type": "code",
   "execution_count": 86,
   "id": "d8939539",
   "metadata": {},
   "outputs": [
    {
     "data": {
      "text/plain": [
       "0    False\n",
       "1    False\n",
       "2    False\n",
       "3    False\n",
       "4    False\n",
       "5    False\n",
       "6     True\n",
       "Name: is_dup_name, dtype: bool"
      ]
     },
     "execution_count": 86,
     "metadata": {},
     "output_type": "execute_result"
    }
   ],
   "source": [
    "# Mark duplicates (True for all but first occurrence by default)\n",
    "dups[\"is_dup_name\"] = dups.duplicated(subset=[\"name\"])\n",
    "\n",
    "dups[\"is_dup_name\"]"
   ]
  },
  {
   "cell_type": "code",
   "execution_count": 87,
   "id": "bcd7561c",
   "metadata": {},
   "outputs": [
    {
     "data": {
      "text/html": [
       "<div>\n",
       "<style scoped>\n",
       "    .dataframe tbody tr th:only-of-type {\n",
       "        vertical-align: middle;\n",
       "    }\n",
       "\n",
       "    .dataframe tbody tr th {\n",
       "        vertical-align: top;\n",
       "    }\n",
       "\n",
       "    .dataframe thead th {\n",
       "        text-align: right;\n",
       "    }\n",
       "</style>\n",
       "<table border=\"1\" class=\"dataframe\">\n",
       "  <thead>\n",
       "    <tr style=\"text-align: right;\">\n",
       "      <th></th>\n",
       "      <th>id</th>\n",
       "      <th>name</th>\n",
       "      <th>dept</th>\n",
       "      <th>age</th>\n",
       "      <th>salary</th>\n",
       "      <th>city</th>\n",
       "      <th>dept_rank</th>\n",
       "      <th>is_dup_name</th>\n",
       "    </tr>\n",
       "  </thead>\n",
       "  <tbody>\n",
       "    <tr>\n",
       "      <th>0</th>\n",
       "      <td>101</td>\n",
       "      <td>Alice</td>\n",
       "      <td>DS</td>\n",
       "      <td>25</td>\n",
       "      <td>84000</td>\n",
       "      <td>NY</td>\n",
       "      <td>2</td>\n",
       "      <td>False</td>\n",
       "    </tr>\n",
       "    <tr>\n",
       "      <th>1</th>\n",
       "      <td>102</td>\n",
       "      <td>Bob</td>\n",
       "      <td>SE</td>\n",
       "      <td>30</td>\n",
       "      <td>95000</td>\n",
       "      <td>SF</td>\n",
       "      <td>2</td>\n",
       "      <td>False</td>\n",
       "    </tr>\n",
       "    <tr>\n",
       "      <th>2</th>\n",
       "      <td>103</td>\n",
       "      <td>Cara</td>\n",
       "      <td>DS</td>\n",
       "      <td>28</td>\n",
       "      <td>91875</td>\n",
       "      <td>NY</td>\n",
       "      <td>1</td>\n",
       "      <td>False</td>\n",
       "    </tr>\n",
       "    <tr>\n",
       "      <th>3</th>\n",
       "      <td>104</td>\n",
       "      <td>Dan</td>\n",
       "      <td>SE</td>\n",
       "      <td>40</td>\n",
       "      <td>120000</td>\n",
       "      <td>SF</td>\n",
       "      <td>1</td>\n",
       "      <td>False</td>\n",
       "    </tr>\n",
       "    <tr>\n",
       "      <th>4</th>\n",
       "      <td>105</td>\n",
       "      <td>Eve</td>\n",
       "      <td>HR</td>\n",
       "      <td>35</td>\n",
       "      <td>70000</td>\n",
       "      <td>NY</td>\n",
       "      <td>1</td>\n",
       "      <td>False</td>\n",
       "    </tr>\n",
       "    <tr>\n",
       "      <th>5</th>\n",
       "      <td>106</td>\n",
       "      <td>Frank</td>\n",
       "      <td>DS</td>\n",
       "      <td>28</td>\n",
       "      <td>91875</td>\n",
       "      <td>NY</td>\n",
       "      <td>1</td>\n",
       "      <td>False</td>\n",
       "    </tr>\n",
       "  </tbody>\n",
       "</table>\n",
       "</div>"
      ],
      "text/plain": [
       "    id   name dept  age  salary city  dept_rank  is_dup_name\n",
       "0  101  Alice   DS   25   84000   NY          2        False\n",
       "1  102    Bob   SE   30   95000   SF          2        False\n",
       "2  103   Cara   DS   28   91875   NY          1        False\n",
       "3  104    Dan   SE   40  120000   SF          1        False\n",
       "4  105    Eve   HR   35   70000   NY          1        False\n",
       "5  106  Frank   DS   28   91875   NY          1        False"
      ]
     },
     "execution_count": 87,
     "metadata": {},
     "output_type": "execute_result"
    }
   ],
   "source": [
    "# Drop duplicates; keep='first' | 'last' | False (drop all duplicates)\n",
    "dedup = dups.drop_duplicates(subset=[\"name\"], keep=\"first\")\n",
    "dedup\n"
   ]
  },
  {
   "cell_type": "markdown",
   "id": "9089ccc8",
   "metadata": {},
   "source": [
    "## 📌 Aggregation in Pandas\n",
    "\n",
    "Aggregation in pandas means computing summary statistics (like sum, mean, min, max, count, etc.) over a Series, DataFrame, or groups of data.\n",
    "It’s a way to collapse data into a single value or a smaller set of values that summarize the dataset."
   ]
  },
  {
   "cell_type": "code",
   "execution_count": 88,
   "id": "6df77923",
   "metadata": {},
   "outputs": [
    {
     "data": {
      "text/html": [
       "<div>\n",
       "<style scoped>\n",
       "    .dataframe tbody tr th:only-of-type {\n",
       "        vertical-align: middle;\n",
       "    }\n",
       "\n",
       "    .dataframe tbody tr th {\n",
       "        vertical-align: top;\n",
       "    }\n",
       "\n",
       "    .dataframe thead th {\n",
       "        text-align: right;\n",
       "    }\n",
       "</style>\n",
       "<table border=\"1\" class=\"dataframe\">\n",
       "  <thead>\n",
       "    <tr style=\"text-align: right;\">\n",
       "      <th></th>\n",
       "      <th>id</th>\n",
       "      <th>name</th>\n",
       "      <th>dept</th>\n",
       "      <th>city</th>\n",
       "      <th>age</th>\n",
       "      <th>salary</th>\n",
       "      <th>fte</th>\n",
       "      <th>perf</th>\n",
       "    </tr>\n",
       "  </thead>\n",
       "  <tbody>\n",
       "    <tr>\n",
       "      <th>0</th>\n",
       "      <td>101</td>\n",
       "      <td>Alice</td>\n",
       "      <td>DS</td>\n",
       "      <td>NY</td>\n",
       "      <td>25</td>\n",
       "      <td>80000</td>\n",
       "      <td>1.0</td>\n",
       "      <td>3</td>\n",
       "    </tr>\n",
       "    <tr>\n",
       "      <th>1</th>\n",
       "      <td>102</td>\n",
       "      <td>Bob</td>\n",
       "      <td>SE</td>\n",
       "      <td>SF</td>\n",
       "      <td>30</td>\n",
       "      <td>95000</td>\n",
       "      <td>1.0</td>\n",
       "      <td>4</td>\n",
       "    </tr>\n",
       "    <tr>\n",
       "      <th>2</th>\n",
       "      <td>103</td>\n",
       "      <td>Cara</td>\n",
       "      <td>DS</td>\n",
       "      <td>NY</td>\n",
       "      <td>28</td>\n",
       "      <td>87500</td>\n",
       "      <td>0.8</td>\n",
       "      <td>4</td>\n",
       "    </tr>\n",
       "    <tr>\n",
       "      <th>3</th>\n",
       "      <td>104</td>\n",
       "      <td>Dan</td>\n",
       "      <td>SE</td>\n",
       "      <td>SF</td>\n",
       "      <td>40</td>\n",
       "      <td>120000</td>\n",
       "      <td>1.0</td>\n",
       "      <td>5</td>\n",
       "    </tr>\n",
       "    <tr>\n",
       "      <th>4</th>\n",
       "      <td>105</td>\n",
       "      <td>Eve</td>\n",
       "      <td>HR</td>\n",
       "      <td>NY</td>\n",
       "      <td>35</td>\n",
       "      <td>70000</td>\n",
       "      <td>0.5</td>\n",
       "      <td>3</td>\n",
       "    </tr>\n",
       "    <tr>\n",
       "      <th>5</th>\n",
       "      <td>106</td>\n",
       "      <td>Frank</td>\n",
       "      <td>DS</td>\n",
       "      <td>NY</td>\n",
       "      <td>28</td>\n",
       "      <td>88000</td>\n",
       "      <td>1.0</td>\n",
       "      <td>4</td>\n",
       "    </tr>\n",
       "    <tr>\n",
       "      <th>6</th>\n",
       "      <td>107</td>\n",
       "      <td>Gina</td>\n",
       "      <td>DS</td>\n",
       "      <td>SF</td>\n",
       "      <td>33</td>\n",
       "      <td>91000</td>\n",
       "      <td>0.6</td>\n",
       "      <td>5</td>\n",
       "    </tr>\n",
       "  </tbody>\n",
       "</table>\n",
       "</div>"
      ],
      "text/plain": [
       "    id   name dept city  age  salary  fte  perf\n",
       "0  101  Alice   DS   NY   25   80000  1.0     3\n",
       "1  102    Bob   SE   SF   30   95000  1.0     4\n",
       "2  103   Cara   DS   NY   28   87500  0.8     4\n",
       "3  104    Dan   SE   SF   40  120000  1.0     5\n",
       "4  105    Eve   HR   NY   35   70000  0.5     3\n",
       "5  106  Frank   DS   NY   28   88000  1.0     4\n",
       "6  107   Gina   DS   SF   33   91000  0.6     5"
      ]
     },
     "execution_count": 88,
     "metadata": {},
     "output_type": "execute_result"
    }
   ],
   "source": [
    "emp = pd.DataFrame({\n",
    "    \"id\":    [101,102,103,104,105,106,107],\n",
    "    \"name\":  [\"Alice\",\"Bob\",\"Cara\",\"Dan\",\"Eve\",\"Frank\",\"Gina\"],\n",
    "    \"dept\":  [\"DS\",\"SE\",\"DS\",\"SE\",\"HR\",\"DS\",\"DS\"],\n",
    "    \"city\":  [\"NY\",\"SF\",\"NY\",\"SF\",\"NY\",\"NY\",\"SF\"],\n",
    "    \"age\":   [25,30,28,40,35,28,33],\n",
    "    \"salary\":[80000, 95000, 87500, 120000, 70000, 88000, 91000],\n",
    "    \"fte\":   [1.0,1.0,0.8,1.0,0.5,1.0,0.6],             # weight example\n",
    "    \"perf\":  [3, 4, 4, 5, 3, 4, 5]                      # weight example\n",
    "})\n",
    "emp\n"
   ]
  },
  {
   "cell_type": "markdown",
   "id": "12cd3f9c",
   "metadata": {},
   "source": [
    "**1) Split–Apply–Combine & agg**\n"
   ]
  },
  {
   "cell_type": "code",
   "execution_count": 91,
   "id": "29085d08",
   "metadata": {},
   "outputs": [
    {
     "data": {
      "text/plain": [
       "dept\n",
       "DS     86625.0\n",
       "HR     70000.0\n",
       "SE    107500.0\n",
       "Name: salary, dtype: float64"
      ]
     },
     "execution_count": 91,
     "metadata": {},
     "output_type": "execute_result"
    }
   ],
   "source": [
    "#A. Basic reductions\n",
    "# mean salary by department\n",
    "emp.groupby(\"dept\")[\"salary\"].mean()\n",
    "\n"
   ]
  },
  {
   "cell_type": "code",
   "execution_count": 92,
   "id": "b475b7c0",
   "metadata": {},
   "outputs": [
    {
     "data": {
      "text/plain": [
       "dept  city\n",
       "DS    NY       85166.666667\n",
       "      SF       91000.000000\n",
       "HR    NY       70000.000000\n",
       "SE    SF      107500.000000\n",
       "Name: salary, dtype: float64"
      ]
     },
     "execution_count": 92,
     "metadata": {},
     "output_type": "execute_result"
    }
   ],
   "source": [
    "# multiple keys\n",
    "emp.groupby([\"dept\",\"city\"])[\"salary\"].mean()\n"
   ]
  },
  {
   "cell_type": "code",
   "execution_count": 93,
   "id": "5929ce6e",
   "metadata": {},
   "outputs": [
    {
     "data": {
      "text/html": [
       "<div>\n",
       "<style scoped>\n",
       "    .dataframe tbody tr th:only-of-type {\n",
       "        vertical-align: middle;\n",
       "    }\n",
       "\n",
       "    .dataframe tbody tr th {\n",
       "        vertical-align: top;\n",
       "    }\n",
       "\n",
       "    .dataframe thead th {\n",
       "        text-align: right;\n",
       "    }\n",
       "</style>\n",
       "<table border=\"1\" class=\"dataframe\">\n",
       "  <thead>\n",
       "    <tr style=\"text-align: right;\">\n",
       "      <th></th>\n",
       "      <th>count</th>\n",
       "      <th>mean</th>\n",
       "      <th>min</th>\n",
       "      <th>max</th>\n",
       "      <th>std</th>\n",
       "    </tr>\n",
       "    <tr>\n",
       "      <th>dept</th>\n",
       "      <th></th>\n",
       "      <th></th>\n",
       "      <th></th>\n",
       "      <th></th>\n",
       "      <th></th>\n",
       "    </tr>\n",
       "  </thead>\n",
       "  <tbody>\n",
       "    <tr>\n",
       "      <th>DS</th>\n",
       "      <td>4</td>\n",
       "      <td>86625.0</td>\n",
       "      <td>80000</td>\n",
       "      <td>91000</td>\n",
       "      <td>4679.29838</td>\n",
       "    </tr>\n",
       "    <tr>\n",
       "      <th>HR</th>\n",
       "      <td>1</td>\n",
       "      <td>70000.0</td>\n",
       "      <td>70000</td>\n",
       "      <td>70000</td>\n",
       "      <td>NaN</td>\n",
       "    </tr>\n",
       "    <tr>\n",
       "      <th>SE</th>\n",
       "      <td>2</td>\n",
       "      <td>107500.0</td>\n",
       "      <td>95000</td>\n",
       "      <td>120000</td>\n",
       "      <td>17677.66953</td>\n",
       "    </tr>\n",
       "  </tbody>\n",
       "</table>\n",
       "</div>"
      ],
      "text/plain": [
       "      count      mean    min     max          std\n",
       "dept                                             \n",
       "DS        4   86625.0  80000   91000   4679.29838\n",
       "HR        1   70000.0  70000   70000          NaN\n",
       "SE        2  107500.0  95000  120000  17677.66953"
      ]
     },
     "execution_count": 93,
     "metadata": {},
     "output_type": "execute_result"
    }
   ],
   "source": [
    "#B. agg with list/dict syntax\n",
    "# list of reductions on one column\n",
    "emp.groupby(\"dept\")[\"salary\"].agg([\"count\",\"mean\",\"min\",\"max\",\"std\"])\n"
   ]
  },
  {
   "cell_type": "code",
   "execution_count": 94,
   "id": "513997e7",
   "metadata": {},
   "outputs": [
    {
     "data": {
      "text/html": [
       "<div>\n",
       "<style scoped>\n",
       "    .dataframe tbody tr th:only-of-type {\n",
       "        vertical-align: middle;\n",
       "    }\n",
       "\n",
       "    .dataframe tbody tr th {\n",
       "        vertical-align: top;\n",
       "    }\n",
       "\n",
       "    .dataframe thead tr th {\n",
       "        text-align: left;\n",
       "    }\n",
       "\n",
       "    .dataframe thead tr:last-of-type th {\n",
       "        text-align: right;\n",
       "    }\n",
       "</style>\n",
       "<table border=\"1\" class=\"dataframe\">\n",
       "  <thead>\n",
       "    <tr>\n",
       "      <th></th>\n",
       "      <th colspan=\"3\" halign=\"left\">salary</th>\n",
       "      <th colspan=\"2\" halign=\"left\">age</th>\n",
       "    </tr>\n",
       "    <tr>\n",
       "      <th></th>\n",
       "      <th>mean</th>\n",
       "      <th>median</th>\n",
       "      <th>max</th>\n",
       "      <th>median</th>\n",
       "      <th>nunique</th>\n",
       "    </tr>\n",
       "    <tr>\n",
       "      <th>dept</th>\n",
       "      <th></th>\n",
       "      <th></th>\n",
       "      <th></th>\n",
       "      <th></th>\n",
       "      <th></th>\n",
       "    </tr>\n",
       "  </thead>\n",
       "  <tbody>\n",
       "    <tr>\n",
       "      <th>DS</th>\n",
       "      <td>86625.0</td>\n",
       "      <td>87750.0</td>\n",
       "      <td>91000</td>\n",
       "      <td>28.0</td>\n",
       "      <td>3</td>\n",
       "    </tr>\n",
       "    <tr>\n",
       "      <th>HR</th>\n",
       "      <td>70000.0</td>\n",
       "      <td>70000.0</td>\n",
       "      <td>70000</td>\n",
       "      <td>35.0</td>\n",
       "      <td>1</td>\n",
       "    </tr>\n",
       "    <tr>\n",
       "      <th>SE</th>\n",
       "      <td>107500.0</td>\n",
       "      <td>107500.0</td>\n",
       "      <td>120000</td>\n",
       "      <td>35.0</td>\n",
       "      <td>2</td>\n",
       "    </tr>\n",
       "  </tbody>\n",
       "</table>\n",
       "</div>"
      ],
      "text/plain": [
       "        salary                      age        \n",
       "          mean    median     max median nunique\n",
       "dept                                           \n",
       "DS     86625.0   87750.0   91000   28.0       3\n",
       "HR     70000.0   70000.0   70000   35.0       1\n",
       "SE    107500.0  107500.0  120000   35.0       2"
      ]
     },
     "execution_count": 94,
     "metadata": {},
     "output_type": "execute_result"
    }
   ],
   "source": [
    "# dict: different reductions per column\n",
    "emp.groupby(\"dept\").agg({\n",
    "    \"salary\": [\"mean\",\"median\",\"max\"],\n",
    "    \"age\":    [\"median\",\"nunique\"]\n",
    "})"
   ]
  },
  {
   "cell_type": "markdown",
   "id": "489f1451",
   "metadata": {},
   "source": [
    "**C. Named aggregation (clean column names)**"
   ]
  },
  {
   "cell_type": "code",
   "execution_count": 95,
   "id": "2a2bbf3f",
   "metadata": {},
   "outputs": [
    {
     "data": {
      "text/html": [
       "<div>\n",
       "<style scoped>\n",
       "    .dataframe tbody tr th:only-of-type {\n",
       "        vertical-align: middle;\n",
       "    }\n",
       "\n",
       "    .dataframe tbody tr th {\n",
       "        vertical-align: top;\n",
       "    }\n",
       "\n",
       "    .dataframe thead th {\n",
       "        text-align: right;\n",
       "    }\n",
       "</style>\n",
       "<table border=\"1\" class=\"dataframe\">\n",
       "  <thead>\n",
       "    <tr style=\"text-align: right;\">\n",
       "      <th></th>\n",
       "      <th>dept</th>\n",
       "      <th>n_emps</th>\n",
       "      <th>avg_age</th>\n",
       "      <th>avg_salary</th>\n",
       "      <th>p90_salary</th>\n",
       "    </tr>\n",
       "  </thead>\n",
       "  <tbody>\n",
       "    <tr>\n",
       "      <th>0</th>\n",
       "      <td>DS</td>\n",
       "      <td>4</td>\n",
       "      <td>28.5</td>\n",
       "      <td>86625.0</td>\n",
       "      <td>90100.0</td>\n",
       "    </tr>\n",
       "    <tr>\n",
       "      <th>1</th>\n",
       "      <td>HR</td>\n",
       "      <td>1</td>\n",
       "      <td>35.0</td>\n",
       "      <td>70000.0</td>\n",
       "      <td>70000.0</td>\n",
       "    </tr>\n",
       "    <tr>\n",
       "      <th>2</th>\n",
       "      <td>SE</td>\n",
       "      <td>2</td>\n",
       "      <td>35.0</td>\n",
       "      <td>107500.0</td>\n",
       "      <td>117500.0</td>\n",
       "    </tr>\n",
       "  </tbody>\n",
       "</table>\n",
       "</div>"
      ],
      "text/plain": [
       "  dept  n_emps  avg_age  avg_salary  p90_salary\n",
       "0   DS       4     28.5     86625.0     90100.0\n",
       "1   HR       1     35.0     70000.0     70000.0\n",
       "2   SE       2     35.0    107500.0    117500.0"
      ]
     },
     "execution_count": 95,
     "metadata": {},
     "output_type": "execute_result"
    }
   ],
   "source": [
    "emp.groupby(\"dept\").agg(\n",
    "    n_emps = (\"id\", \"count\"),\n",
    "    avg_age = (\"age\", \"mean\"),\n",
    "    avg_salary = (\"salary\",\"mean\"),\n",
    "    p90_salary = (\"salary\", lambda s: s.quantile(0.90))\n",
    ").reset_index()\n"
   ]
  },
  {
   "cell_type": "markdown",
   "id": "fa56b391",
   "metadata": {},
   "source": [
    "**2) transform (shape-preserving) vs apply (flexible)**\n",
    "\n",
    "`transform` returns a Series aligned to the original rows (same length). Use for group metrics that you want broadcast back (feature engineering).\n",
    "\n",
    "`apply` can return scalar, Series, or DataFrame per group (flexible, often slower)."
   ]
  },
  {
   "cell_type": "code",
   "execution_count": 97,
   "id": "c6e84099",
   "metadata": {},
   "outputs": [
    {
     "data": {
      "text/plain": [
       "0     86625.0\n",
       "1    107500.0\n",
       "2     86625.0\n",
       "3    107500.0\n",
       "4     70000.0\n",
       "5     86625.0\n",
       "6     86625.0\n",
       "Name: dept_salary_mean, dtype: float64"
      ]
     },
     "execution_count": 97,
     "metadata": {},
     "output_type": "execute_result"
    }
   ],
   "source": [
    "# Within-dept z-score of salary (broadcast back)\n",
    "emp[\"dept_salary_mean\"] = emp.groupby(\"dept\")[\"salary\"].transform(\"mean\")\n",
    "emp[\"dept_salary_mean\"]"
   ]
  },
  {
   "cell_type": "code",
   "execution_count": 98,
   "id": "ec35779f",
   "metadata": {},
   "outputs": [
    {
     "data": {
      "text/plain": [
       "dept      \n",
       "DS    mean     86625.0\n",
       "      iqr       3125.0\n",
       "      mad       1750.0\n",
       "HR    mean     70000.0\n",
       "      iqr          0.0\n",
       "      mad          0.0\n",
       "SE    mean    107500.0\n",
       "      iqr      12500.0\n",
       "      mad      12500.0\n",
       "Name: salary, dtype: float64"
      ]
     },
     "execution_count": 98,
     "metadata": {},
     "output_type": "execute_result"
    }
   ],
   "source": [
    "emp[\"dept_salary_std\"]  = emp.groupby(\"dept\")[\"salary\"].transform(\"std\")\n",
    "emp[\"salary_z_in_dept\"] = (emp[\"salary\"] - emp[\"dept_salary_mean\"]) / emp[\"dept_salary_std\"]\n",
    "emp[[\"name\",\"dept\",\"salary\",\"salary_z_in_dept\"]]\n",
    "\n",
    "# apply: custom summary per group → DataFrame\n",
    "def robust_summary(s):\n",
    "    q1, q3 = s.quantile([0.25, 0.75])\n",
    "    return pd.Series({\n",
    "        \"mean\": s.mean(),\n",
    "        \"iqr\":  q3 - q1,\n",
    "        \"mad\":  (s - s.median()).abs().median()\n",
    "    })\n",
    "\n",
    "emp.groupby(\"dept\")[\"salary\"].apply(robust_summary)\n"
   ]
  },
  {
   "cell_type": "markdown",
   "id": "6139ba0b",
   "metadata": {},
   "source": [
    "## Reshaping in pandas\n",
    "\n",
    "What it is: Changing the layout of your table without changing the underlying data."
   ]
  },
  {
   "cell_type": "code",
   "execution_count": 101,
   "id": "3fd82698",
   "metadata": {},
   "outputs": [
    {
     "data": {
      "text/html": [
       "<div>\n",
       "<style scoped>\n",
       "    .dataframe tbody tr th:only-of-type {\n",
       "        vertical-align: middle;\n",
       "    }\n",
       "\n",
       "    .dataframe tbody tr th {\n",
       "        vertical-align: top;\n",
       "    }\n",
       "\n",
       "    .dataframe thead th {\n",
       "        text-align: right;\n",
       "    }\n",
       "</style>\n",
       "<table border=\"1\" class=\"dataframe\">\n",
       "  <thead>\n",
       "    <tr style=\"text-align: right;\">\n",
       "      <th></th>\n",
       "      <th>id</th>\n",
       "      <th>name</th>\n",
       "      <th>dept</th>\n",
       "      <th>city</th>\n",
       "    </tr>\n",
       "  </thead>\n",
       "  <tbody>\n",
       "    <tr>\n",
       "      <th>0</th>\n",
       "      <td>101</td>\n",
       "      <td>Alice</td>\n",
       "      <td>DS</td>\n",
       "      <td>NY</td>\n",
       "    </tr>\n",
       "    <tr>\n",
       "      <th>1</th>\n",
       "      <td>102</td>\n",
       "      <td>Bob</td>\n",
       "      <td>SE</td>\n",
       "      <td>SF</td>\n",
       "    </tr>\n",
       "    <tr>\n",
       "      <th>2</th>\n",
       "      <td>103</td>\n",
       "      <td>Cara</td>\n",
       "      <td>DS</td>\n",
       "      <td>NY</td>\n",
       "    </tr>\n",
       "    <tr>\n",
       "      <th>3</th>\n",
       "      <td>104</td>\n",
       "      <td>Dan</td>\n",
       "      <td>SE</td>\n",
       "      <td>SF</td>\n",
       "    </tr>\n",
       "  </tbody>\n",
       "</table>\n",
       "</div>"
      ],
      "text/plain": [
       "    id   name dept city\n",
       "0  101  Alice   DS   NY\n",
       "1  102    Bob   SE   SF\n",
       "2  103   Cara   DS   NY\n",
       "3  104    Dan   SE   SF"
      ]
     },
     "execution_count": 101,
     "metadata": {},
     "output_type": "execute_result"
    }
   ],
   "source": [
    "people = pd.DataFrame({\n",
    "    \"id\": [101,102,103,104],\n",
    "    \"name\": [\"Alice\",\"Bob\",\"Cara\",\"Dan\"],\n",
    "    \"dept\": [\"DS\",\"SE\",\"DS\",\"SE\"],\n",
    "    \"city\": [\"NY\",\"SF\",\"NY\",\"SF\"]\n",
    "})\n",
    "\n",
    "people"
   ]
  },
  {
   "cell_type": "code",
   "execution_count": 102,
   "id": "19ce8e99",
   "metadata": {},
   "outputs": [
    {
     "data": {
      "text/html": [
       "<div>\n",
       "<style scoped>\n",
       "    .dataframe tbody tr th:only-of-type {\n",
       "        vertical-align: middle;\n",
       "    }\n",
       "\n",
       "    .dataframe tbody tr th {\n",
       "        vertical-align: top;\n",
       "    }\n",
       "\n",
       "    .dataframe thead th {\n",
       "        text-align: right;\n",
       "    }\n",
       "</style>\n",
       "<table border=\"1\" class=\"dataframe\">\n",
       "  <thead>\n",
       "    <tr style=\"text-align: right;\">\n",
       "      <th></th>\n",
       "      <th>id</th>\n",
       "      <th>Math</th>\n",
       "      <th>Eng</th>\n",
       "      <th>CS</th>\n",
       "    </tr>\n",
       "  </thead>\n",
       "  <tbody>\n",
       "    <tr>\n",
       "      <th>0</th>\n",
       "      <td>101</td>\n",
       "      <td>88</td>\n",
       "      <td>90</td>\n",
       "      <td>95</td>\n",
       "    </tr>\n",
       "    <tr>\n",
       "      <th>1</th>\n",
       "      <td>102</td>\n",
       "      <td>92</td>\n",
       "      <td>86</td>\n",
       "      <td>84</td>\n",
       "    </tr>\n",
       "    <tr>\n",
       "      <th>2</th>\n",
       "      <td>103</td>\n",
       "      <td>79</td>\n",
       "      <td>81</td>\n",
       "      <td>93</td>\n",
       "    </tr>\n",
       "    <tr>\n",
       "      <th>3</th>\n",
       "      <td>104</td>\n",
       "      <td>85</td>\n",
       "      <td>89</td>\n",
       "      <td>87</td>\n",
       "    </tr>\n",
       "  </tbody>\n",
       "</table>\n",
       "</div>"
      ],
      "text/plain": [
       "    id  Math  Eng  CS\n",
       "0  101    88   90  95\n",
       "1  102    92   86  84\n",
       "2  103    79   81  93\n",
       "3  104    85   89  87"
      ]
     },
     "execution_count": 102,
     "metadata": {},
     "output_type": "execute_result"
    }
   ],
   "source": [
    "scores_wide = pd.DataFrame({\n",
    "    \"id\": [101,102,103,104],\n",
    "    \"Math\": [88, 92, 79, 85],\n",
    "    \"Eng\":  [90, 86, 81, 89],\n",
    "    \"CS\":   [95, 84, 93, 87]\n",
    "})\n",
    "scores_wide"
   ]
  },
  {
   "cell_type": "markdown",
   "id": "77a2a4dd",
   "metadata": {},
   "source": [
    "**1) Long ↔ Wide reshaping**\n",
    "\n",
    "A) melt (wide → long, “tidy”)"
   ]
  },
  {
   "cell_type": "code",
   "execution_count": 100,
   "id": "b9fc5b1c",
   "metadata": {},
   "outputs": [
    {
     "data": {
      "text/html": [
       "<div>\n",
       "<style scoped>\n",
       "    .dataframe tbody tr th:only-of-type {\n",
       "        vertical-align: middle;\n",
       "    }\n",
       "\n",
       "    .dataframe tbody tr th {\n",
       "        vertical-align: top;\n",
       "    }\n",
       "\n",
       "    .dataframe thead th {\n",
       "        text-align: right;\n",
       "    }\n",
       "</style>\n",
       "<table border=\"1\" class=\"dataframe\">\n",
       "  <thead>\n",
       "    <tr style=\"text-align: right;\">\n",
       "      <th></th>\n",
       "      <th>id</th>\n",
       "      <th>subject</th>\n",
       "      <th>score</th>\n",
       "    </tr>\n",
       "  </thead>\n",
       "  <tbody>\n",
       "    <tr>\n",
       "      <th>0</th>\n",
       "      <td>101</td>\n",
       "      <td>Math</td>\n",
       "      <td>88</td>\n",
       "    </tr>\n",
       "    <tr>\n",
       "      <th>1</th>\n",
       "      <td>102</td>\n",
       "      <td>Math</td>\n",
       "      <td>92</td>\n",
       "    </tr>\n",
       "    <tr>\n",
       "      <th>2</th>\n",
       "      <td>103</td>\n",
       "      <td>Math</td>\n",
       "      <td>79</td>\n",
       "    </tr>\n",
       "    <tr>\n",
       "      <th>3</th>\n",
       "      <td>104</td>\n",
       "      <td>Math</td>\n",
       "      <td>85</td>\n",
       "    </tr>\n",
       "    <tr>\n",
       "      <th>4</th>\n",
       "      <td>101</td>\n",
       "      <td>Eng</td>\n",
       "      <td>90</td>\n",
       "    </tr>\n",
       "    <tr>\n",
       "      <th>5</th>\n",
       "      <td>102</td>\n",
       "      <td>Eng</td>\n",
       "      <td>86</td>\n",
       "    </tr>\n",
       "    <tr>\n",
       "      <th>6</th>\n",
       "      <td>103</td>\n",
       "      <td>Eng</td>\n",
       "      <td>81</td>\n",
       "    </tr>\n",
       "    <tr>\n",
       "      <th>7</th>\n",
       "      <td>104</td>\n",
       "      <td>Eng</td>\n",
       "      <td>89</td>\n",
       "    </tr>\n",
       "    <tr>\n",
       "      <th>8</th>\n",
       "      <td>101</td>\n",
       "      <td>CS</td>\n",
       "      <td>95</td>\n",
       "    </tr>\n",
       "    <tr>\n",
       "      <th>9</th>\n",
       "      <td>102</td>\n",
       "      <td>CS</td>\n",
       "      <td>84</td>\n",
       "    </tr>\n",
       "    <tr>\n",
       "      <th>10</th>\n",
       "      <td>103</td>\n",
       "      <td>CS</td>\n",
       "      <td>93</td>\n",
       "    </tr>\n",
       "    <tr>\n",
       "      <th>11</th>\n",
       "      <td>104</td>\n",
       "      <td>CS</td>\n",
       "      <td>87</td>\n",
       "    </tr>\n",
       "  </tbody>\n",
       "</table>\n",
       "</div>"
      ],
      "text/plain": [
       "     id subject  score\n",
       "0   101    Math     88\n",
       "1   102    Math     92\n",
       "2   103    Math     79\n",
       "3   104    Math     85\n",
       "4   101     Eng     90\n",
       "5   102     Eng     86\n",
       "6   103     Eng     81\n",
       "7   104     Eng     89\n",
       "8   101      CS     95\n",
       "9   102      CS     84\n",
       "10  103      CS     93\n",
       "11  104      CS     87"
      ]
     },
     "execution_count": 100,
     "metadata": {},
     "output_type": "execute_result"
    }
   ],
   "source": [
    "scores_long = scores_wide.melt(\n",
    "    id_vars=\"id\",                  # columns to keep\n",
    "    var_name=\"subject\",            # new column for former column names\n",
    "    value_name=\"score\"             # new column for values\n",
    ")\n",
    "# Result columns: id, subject, score\n",
    "scores_long"
   ]
  },
  {
   "cell_type": "markdown",
   "id": "d2769961",
   "metadata": {},
   "source": [
    "B) pivot (long → wide)\n",
    "\n",
    "Requires unique pairs of index × columns. If duplicates exist, use pivot_table with an aggregator."
   ]
  },
  {
   "cell_type": "code",
   "execution_count": 103,
   "id": "5ab2257c",
   "metadata": {},
   "outputs": [
    {
     "data": {
      "text/html": [
       "<div>\n",
       "<style scoped>\n",
       "    .dataframe tbody tr th:only-of-type {\n",
       "        vertical-align: middle;\n",
       "    }\n",
       "\n",
       "    .dataframe tbody tr th {\n",
       "        vertical-align: top;\n",
       "    }\n",
       "\n",
       "    .dataframe thead th {\n",
       "        text-align: right;\n",
       "    }\n",
       "</style>\n",
       "<table border=\"1\" class=\"dataframe\">\n",
       "  <thead>\n",
       "    <tr style=\"text-align: right;\">\n",
       "      <th>subject</th>\n",
       "      <th>id</th>\n",
       "      <th>CS</th>\n",
       "      <th>Eng</th>\n",
       "      <th>Math</th>\n",
       "    </tr>\n",
       "  </thead>\n",
       "  <tbody>\n",
       "    <tr>\n",
       "      <th>0</th>\n",
       "      <td>101</td>\n",
       "      <td>95</td>\n",
       "      <td>90</td>\n",
       "      <td>88</td>\n",
       "    </tr>\n",
       "    <tr>\n",
       "      <th>1</th>\n",
       "      <td>102</td>\n",
       "      <td>84</td>\n",
       "      <td>86</td>\n",
       "      <td>92</td>\n",
       "    </tr>\n",
       "    <tr>\n",
       "      <th>2</th>\n",
       "      <td>103</td>\n",
       "      <td>93</td>\n",
       "      <td>81</td>\n",
       "      <td>79</td>\n",
       "    </tr>\n",
       "    <tr>\n",
       "      <th>3</th>\n",
       "      <td>104</td>\n",
       "      <td>87</td>\n",
       "      <td>89</td>\n",
       "      <td>85</td>\n",
       "    </tr>\n",
       "  </tbody>\n",
       "</table>\n",
       "</div>"
      ],
      "text/plain": [
       "subject   id  CS  Eng  Math\n",
       "0        101  95   90    88\n",
       "1        102  84   86    92\n",
       "2        103  93   81    79\n",
       "3        104  87   89    85"
      ]
     },
     "execution_count": 103,
     "metadata": {},
     "output_type": "execute_result"
    }
   ],
   "source": [
    "wide_back = scores_long.pivot(\n",
    "    index=\"id\",\n",
    "    columns=\"subject\",\n",
    "    values=\"score\"\n",
    ").reset_index()\n",
    "# columns: id, CS, Eng, Math\n",
    "wide_back"
   ]
  },
  {
   "cell_type": "markdown",
   "id": "9390f78a",
   "metadata": {},
   "source": [
    "C) stack / unstack (with MultiIndex)"
   ]
  },
  {
   "cell_type": "code",
   "execution_count": 104,
   "id": "e4e4e52f",
   "metadata": {},
   "outputs": [
    {
     "data": {
      "text/html": [
       "<div>\n",
       "<style scoped>\n",
       "    .dataframe tbody tr th:only-of-type {\n",
       "        vertical-align: middle;\n",
       "    }\n",
       "\n",
       "    .dataframe tbody tr th {\n",
       "        vertical-align: top;\n",
       "    }\n",
       "\n",
       "    .dataframe thead th {\n",
       "        text-align: right;\n",
       "    }\n",
       "</style>\n",
       "<table border=\"1\" class=\"dataframe\">\n",
       "  <thead>\n",
       "    <tr style=\"text-align: right;\">\n",
       "      <th></th>\n",
       "      <th>id</th>\n",
       "      <th>subject</th>\n",
       "      <th>score</th>\n",
       "      <th>dept</th>\n",
       "    </tr>\n",
       "  </thead>\n",
       "  <tbody>\n",
       "    <tr>\n",
       "      <th>0</th>\n",
       "      <td>101</td>\n",
       "      <td>Math</td>\n",
       "      <td>88</td>\n",
       "      <td>DS</td>\n",
       "    </tr>\n",
       "    <tr>\n",
       "      <th>1</th>\n",
       "      <td>102</td>\n",
       "      <td>Math</td>\n",
       "      <td>92</td>\n",
       "      <td>SE</td>\n",
       "    </tr>\n",
       "    <tr>\n",
       "      <th>2</th>\n",
       "      <td>103</td>\n",
       "      <td>Math</td>\n",
       "      <td>79</td>\n",
       "      <td>DS</td>\n",
       "    </tr>\n",
       "    <tr>\n",
       "      <th>3</th>\n",
       "      <td>104</td>\n",
       "      <td>Math</td>\n",
       "      <td>85</td>\n",
       "      <td>SE</td>\n",
       "    </tr>\n",
       "    <tr>\n",
       "      <th>4</th>\n",
       "      <td>101</td>\n",
       "      <td>Eng</td>\n",
       "      <td>90</td>\n",
       "      <td>DS</td>\n",
       "    </tr>\n",
       "    <tr>\n",
       "      <th>5</th>\n",
       "      <td>102</td>\n",
       "      <td>Eng</td>\n",
       "      <td>86</td>\n",
       "      <td>SE</td>\n",
       "    </tr>\n",
       "    <tr>\n",
       "      <th>6</th>\n",
       "      <td>103</td>\n",
       "      <td>Eng</td>\n",
       "      <td>81</td>\n",
       "      <td>DS</td>\n",
       "    </tr>\n",
       "    <tr>\n",
       "      <th>7</th>\n",
       "      <td>104</td>\n",
       "      <td>Eng</td>\n",
       "      <td>89</td>\n",
       "      <td>SE</td>\n",
       "    </tr>\n",
       "    <tr>\n",
       "      <th>8</th>\n",
       "      <td>101</td>\n",
       "      <td>CS</td>\n",
       "      <td>95</td>\n",
       "      <td>DS</td>\n",
       "    </tr>\n",
       "    <tr>\n",
       "      <th>9</th>\n",
       "      <td>102</td>\n",
       "      <td>CS</td>\n",
       "      <td>84</td>\n",
       "      <td>SE</td>\n",
       "    </tr>\n",
       "    <tr>\n",
       "      <th>10</th>\n",
       "      <td>103</td>\n",
       "      <td>CS</td>\n",
       "      <td>93</td>\n",
       "      <td>DS</td>\n",
       "    </tr>\n",
       "    <tr>\n",
       "      <th>11</th>\n",
       "      <td>104</td>\n",
       "      <td>CS</td>\n",
       "      <td>87</td>\n",
       "      <td>SE</td>\n",
       "    </tr>\n",
       "  </tbody>\n",
       "</table>\n",
       "</div>"
      ],
      "text/plain": [
       "     id subject  score dept\n",
       "0   101    Math     88   DS\n",
       "1   102    Math     92   SE\n",
       "2   103    Math     79   DS\n",
       "3   104    Math     85   SE\n",
       "4   101     Eng     90   DS\n",
       "5   102     Eng     86   SE\n",
       "6   103     Eng     81   DS\n",
       "7   104     Eng     89   SE\n",
       "8   101      CS     95   DS\n",
       "9   102      CS     84   SE\n",
       "10  103      CS     93   DS\n",
       "11  104      CS     87   SE"
      ]
     },
     "execution_count": 104,
     "metadata": {},
     "output_type": "execute_result"
    }
   ],
   "source": [
    "# Build a MultiIndex example: mean score per dept × subject\n",
    "long_with_dept = scores_long.merge(people[[\"id\",\"dept\"]], on=\"id\", how=\"left\")\n",
    "long_with_dept"
   ]
  },
  {
   "cell_type": "code",
   "execution_count": 105,
   "id": "59fa7769",
   "metadata": {},
   "outputs": [
    {
     "data": {
      "text/plain": [
       "dept  subject\n",
       "DS    CS         94.0\n",
       "      Eng        85.5\n",
       "      Math       83.5\n",
       "SE    CS         85.5\n",
       "      Eng        87.5\n",
       "      Math       88.5\n",
       "Name: score, dtype: float64"
      ]
     },
     "execution_count": 105,
     "metadata": {},
     "output_type": "execute_result"
    }
   ],
   "source": [
    "grp = long_with_dept.groupby([\"dept\",\"subject\"], as_index=True)[\"score\"].mean()\n",
    "# 'grp' has a MultiIndex (dept, subject)\n",
    "\n",
    "grp"
   ]
  },
  {
   "cell_type": "code",
   "execution_count": 107,
   "id": "7ea9edd5",
   "metadata": {},
   "outputs": [
    {
     "data": {
      "text/html": [
       "<div>\n",
       "<style scoped>\n",
       "    .dataframe tbody tr th:only-of-type {\n",
       "        vertical-align: middle;\n",
       "    }\n",
       "\n",
       "    .dataframe tbody tr th {\n",
       "        vertical-align: top;\n",
       "    }\n",
       "\n",
       "    .dataframe thead th {\n",
       "        text-align: right;\n",
       "    }\n",
       "</style>\n",
       "<table border=\"1\" class=\"dataframe\">\n",
       "  <thead>\n",
       "    <tr style=\"text-align: right;\">\n",
       "      <th>subject</th>\n",
       "      <th>CS</th>\n",
       "      <th>Eng</th>\n",
       "      <th>Math</th>\n",
       "    </tr>\n",
       "    <tr>\n",
       "      <th>dept</th>\n",
       "      <th></th>\n",
       "      <th></th>\n",
       "      <th></th>\n",
       "    </tr>\n",
       "  </thead>\n",
       "  <tbody>\n",
       "    <tr>\n",
       "      <th>DS</th>\n",
       "      <td>94.0</td>\n",
       "      <td>85.5</td>\n",
       "      <td>83.5</td>\n",
       "    </tr>\n",
       "    <tr>\n",
       "      <th>SE</th>\n",
       "      <td>85.5</td>\n",
       "      <td>87.5</td>\n",
       "      <td>88.5</td>\n",
       "    </tr>\n",
       "  </tbody>\n",
       "</table>\n",
       "</div>"
      ],
      "text/plain": [
       "subject    CS   Eng  Math\n",
       "dept                     \n",
       "DS       94.0  85.5  83.5\n",
       "SE       85.5  87.5  88.5"
      ]
     },
     "execution_count": 107,
     "metadata": {},
     "output_type": "execute_result"
    }
   ],
   "source": [
    "wide_subjects = grp.unstack(\"subject\")      # rows=dept, columns=subject\n",
    "wide_subjects"
   ]
  },
  {
   "cell_type": "code",
   "execution_count": 108,
   "id": "0c373309",
   "metadata": {},
   "outputs": [
    {
     "data": {
      "text/plain": [
       "dept  subject\n",
       "DS    CS         94.0\n",
       "      Eng        85.5\n",
       "      Math       83.5\n",
       "SE    CS         85.5\n",
       "      Eng        87.5\n",
       "      Math       88.5\n",
       "dtype: float64"
      ]
     },
     "execution_count": 108,
     "metadata": {},
     "output_type": "execute_result"
    }
   ],
   "source": [
    "long_again    = wide_subjects.stack(\"subject\")  # back to long\n",
    "long_again"
   ]
  },
  {
   "cell_type": "markdown",
   "id": "705891f9",
   "metadata": {},
   "source": [
    "#### Rule of thumb\n",
    "\n",
    "Use melt/pivot when you have a clean key for rows and a single header dimension.\n",
    "\n",
    "Use stack/unstack when working with MultiIndex objects (e.g., after groupby or pivot operations)."
   ]
  },
  {
   "cell_type": "markdown",
   "id": "d963084c",
   "metadata": {},
   "source": [
    "**2) Combining tables with concat**\n",
    "\n",
    "Row-wise (append new rows)"
   ]
  },
  {
   "cell_type": "code",
   "execution_count": 109,
   "id": "d024697e",
   "metadata": {},
   "outputs": [
    {
     "data": {
      "text/html": [
       "<div>\n",
       "<style scoped>\n",
       "    .dataframe tbody tr th:only-of-type {\n",
       "        vertical-align: middle;\n",
       "    }\n",
       "\n",
       "    .dataframe tbody tr th {\n",
       "        vertical-align: top;\n",
       "    }\n",
       "\n",
       "    .dataframe thead th {\n",
       "        text-align: right;\n",
       "    }\n",
       "</style>\n",
       "<table border=\"1\" class=\"dataframe\">\n",
       "  <thead>\n",
       "    <tr style=\"text-align: right;\">\n",
       "      <th></th>\n",
       "      <th>id</th>\n",
       "      <th>name</th>\n",
       "      <th>dept</th>\n",
       "      <th>city</th>\n",
       "    </tr>\n",
       "  </thead>\n",
       "  <tbody>\n",
       "    <tr>\n",
       "      <th>0</th>\n",
       "      <td>105</td>\n",
       "      <td>Eve</td>\n",
       "      <td>HR</td>\n",
       "      <td>NY</td>\n",
       "    </tr>\n",
       "    <tr>\n",
       "      <th>1</th>\n",
       "      <td>106</td>\n",
       "      <td>Frank</td>\n",
       "      <td>DS</td>\n",
       "      <td>NY</td>\n",
       "    </tr>\n",
       "  </tbody>\n",
       "</table>\n",
       "</div>"
      ],
      "text/plain": [
       "    id   name dept city\n",
       "0  105    Eve   HR   NY\n",
       "1  106  Frank   DS   NY"
      ]
     },
     "execution_count": 109,
     "metadata": {},
     "output_type": "execute_result"
    }
   ],
   "source": [
    "new_hires = pd.DataFrame({\n",
    "    \"id\":[105,106], \"name\":[\"Eve\",\"Frank\"], \"dept\":[\"HR\",\"DS\"], \"city\":[\"NY\",\"NY\"]\n",
    "})\n",
    "\n",
    "new_hires"
   ]
  },
  {
   "cell_type": "code",
   "execution_count": 110,
   "id": "5a109041",
   "metadata": {},
   "outputs": [
    {
     "data": {
      "text/html": [
       "<div>\n",
       "<style scoped>\n",
       "    .dataframe tbody tr th:only-of-type {\n",
       "        vertical-align: middle;\n",
       "    }\n",
       "\n",
       "    .dataframe tbody tr th {\n",
       "        vertical-align: top;\n",
       "    }\n",
       "\n",
       "    .dataframe thead th {\n",
       "        text-align: right;\n",
       "    }\n",
       "</style>\n",
       "<table border=\"1\" class=\"dataframe\">\n",
       "  <thead>\n",
       "    <tr style=\"text-align: right;\">\n",
       "      <th></th>\n",
       "      <th>id</th>\n",
       "      <th>name</th>\n",
       "      <th>dept</th>\n",
       "      <th>city</th>\n",
       "    </tr>\n",
       "  </thead>\n",
       "  <tbody>\n",
       "    <tr>\n",
       "      <th>0</th>\n",
       "      <td>101</td>\n",
       "      <td>Alice</td>\n",
       "      <td>DS</td>\n",
       "      <td>NY</td>\n",
       "    </tr>\n",
       "    <tr>\n",
       "      <th>1</th>\n",
       "      <td>102</td>\n",
       "      <td>Bob</td>\n",
       "      <td>SE</td>\n",
       "      <td>SF</td>\n",
       "    </tr>\n",
       "    <tr>\n",
       "      <th>2</th>\n",
       "      <td>103</td>\n",
       "      <td>Cara</td>\n",
       "      <td>DS</td>\n",
       "      <td>NY</td>\n",
       "    </tr>\n",
       "    <tr>\n",
       "      <th>3</th>\n",
       "      <td>104</td>\n",
       "      <td>Dan</td>\n",
       "      <td>SE</td>\n",
       "      <td>SF</td>\n",
       "    </tr>\n",
       "    <tr>\n",
       "      <th>4</th>\n",
       "      <td>105</td>\n",
       "      <td>Eve</td>\n",
       "      <td>HR</td>\n",
       "      <td>NY</td>\n",
       "    </tr>\n",
       "    <tr>\n",
       "      <th>5</th>\n",
       "      <td>106</td>\n",
       "      <td>Frank</td>\n",
       "      <td>DS</td>\n",
       "      <td>NY</td>\n",
       "    </tr>\n",
       "  </tbody>\n",
       "</table>\n",
       "</div>"
      ],
      "text/plain": [
       "    id   name dept city\n",
       "0  101  Alice   DS   NY\n",
       "1  102    Bob   SE   SF\n",
       "2  103   Cara   DS   NY\n",
       "3  104    Dan   SE   SF\n",
       "4  105    Eve   HR   NY\n",
       "5  106  Frank   DS   NY"
      ]
     },
     "execution_count": 110,
     "metadata": {},
     "output_type": "execute_result"
    }
   ],
   "source": [
    "all_people = pd.concat([people, new_hires], axis=0, ignore_index=True)\n",
    "# same columns, more rows\n",
    "all_people"
   ]
  },
  {
   "cell_type": "markdown",
   "id": "8f53374e",
   "metadata": {},
   "source": [
    "Column-wise (add new columns, align on index)"
   ]
  },
  {
   "cell_type": "code",
   "execution_count": 111,
   "id": "6ecf9d84",
   "metadata": {},
   "outputs": [
    {
     "data": {
      "text/html": [
       "<div>\n",
       "<style scoped>\n",
       "    .dataframe tbody tr th:only-of-type {\n",
       "        vertical-align: middle;\n",
       "    }\n",
       "\n",
       "    .dataframe tbody tr th {\n",
       "        vertical-align: top;\n",
       "    }\n",
       "\n",
       "    .dataframe thead th {\n",
       "        text-align: right;\n",
       "    }\n",
       "</style>\n",
       "<table border=\"1\" class=\"dataframe\">\n",
       "  <thead>\n",
       "    <tr style=\"text-align: right;\">\n",
       "      <th></th>\n",
       "      <th>python</th>\n",
       "      <th>years</th>\n",
       "    </tr>\n",
       "    <tr>\n",
       "      <th>id</th>\n",
       "      <th></th>\n",
       "      <th></th>\n",
       "    </tr>\n",
       "  </thead>\n",
       "  <tbody>\n",
       "    <tr>\n",
       "      <th>101</th>\n",
       "      <td>3</td>\n",
       "      <td>4.0</td>\n",
       "    </tr>\n",
       "    <tr>\n",
       "      <th>102</th>\n",
       "      <td>2</td>\n",
       "      <td>NaN</td>\n",
       "    </tr>\n",
       "    <tr>\n",
       "      <th>103</th>\n",
       "      <td>3</td>\n",
       "      <td>2.0</td>\n",
       "    </tr>\n",
       "    <tr>\n",
       "      <th>104</th>\n",
       "      <td>1</td>\n",
       "      <td>6.0</td>\n",
       "    </tr>\n",
       "  </tbody>\n",
       "</table>\n",
       "</div>"
      ],
      "text/plain": [
       "     python  years\n",
       "id                \n",
       "101       3    4.0\n",
       "102       2    NaN\n",
       "103       3    2.0\n",
       "104       1    6.0"
      ]
     },
     "execution_count": 111,
     "metadata": {},
     "output_type": "execute_result"
    }
   ],
   "source": [
    "# Feature tables aligned by id\n",
    "skills = pd.DataFrame({\"id\":[101,102,103,104], \"python\":[3,2,3,1]}).set_index(\"id\")\n",
    "tenure = pd.DataFrame({\"id\":[101,103,104], \"years\":[4,2,6]}).set_index(\"id\")\n",
    "\n",
    "cols_join = pd.concat([skills, tenure], axis=1, join=\"outer\")  # align on index; NaN where missing\n",
    "# Use join=\"inner\" to keep only the intersection of ids\n",
    "cols_join"
   ]
  },
  {
   "cell_type": "code",
   "execution_count": 112,
   "id": "85bc4498",
   "metadata": {},
   "outputs": [
    {
     "data": {
      "text/html": [
       "<div>\n",
       "<style scoped>\n",
       "    .dataframe tbody tr th:only-of-type {\n",
       "        vertical-align: middle;\n",
       "    }\n",
       "\n",
       "    .dataframe tbody tr th {\n",
       "        vertical-align: top;\n",
       "    }\n",
       "\n",
       "    .dataframe thead th {\n",
       "        text-align: right;\n",
       "    }\n",
       "</style>\n",
       "<table border=\"1\" class=\"dataframe\">\n",
       "  <thead>\n",
       "    <tr style=\"text-align: right;\">\n",
       "      <th></th>\n",
       "      <th></th>\n",
       "      <th>id</th>\n",
       "      <th>sat</th>\n",
       "    </tr>\n",
       "  </thead>\n",
       "  <tbody>\n",
       "    <tr>\n",
       "      <th rowspan=\"2\" valign=\"top\">A</th>\n",
       "      <th>0</th>\n",
       "      <td>101</td>\n",
       "      <td>4</td>\n",
       "    </tr>\n",
       "    <tr>\n",
       "      <th>1</th>\n",
       "      <td>103</td>\n",
       "      <td>5</td>\n",
       "    </tr>\n",
       "    <tr>\n",
       "      <th rowspan=\"2\" valign=\"top\">B</th>\n",
       "      <th>0</th>\n",
       "      <td>102</td>\n",
       "      <td>3</td>\n",
       "    </tr>\n",
       "    <tr>\n",
       "      <th>1</th>\n",
       "      <td>104</td>\n",
       "      <td>4</td>\n",
       "    </tr>\n",
       "  </tbody>\n",
       "</table>\n",
       "</div>"
      ],
      "text/plain": [
       "      id  sat\n",
       "A 0  101    4\n",
       "  1  103    5\n",
       "B 0  102    3\n",
       "  1  104    4"
      ]
     },
     "execution_count": 112,
     "metadata": {},
     "output_type": "execute_result"
    }
   ],
   "source": [
    "#Add a source key during concat\n",
    "survey_a = pd.DataFrame({\"id\":[101,103], \"sat\":[4,5]})\n",
    "survey_b = pd.DataFrame({\"id\":[102,104], \"sat\":[3,4]})\n",
    "\n",
    "stacked = pd.concat({\"A\": survey_a, \"B\": survey_b}, axis=0)\n",
    "# Now stacked has a MultiIndex (source, row)\n",
    "stacked"
   ]
  },
  {
   "cell_type": "markdown",
   "id": "224a11bd",
   "metadata": {},
   "source": [
    "**3) merge joins (SQL-style)**"
   ]
  },
  {
   "cell_type": "code",
   "execution_count": 113,
   "id": "ea60e16c",
   "metadata": {},
   "outputs": [
    {
     "data": {
      "text/html": [
       "<div>\n",
       "<style scoped>\n",
       "    .dataframe tbody tr th:only-of-type {\n",
       "        vertical-align: middle;\n",
       "    }\n",
       "\n",
       "    .dataframe tbody tr th {\n",
       "        vertical-align: top;\n",
       "    }\n",
       "\n",
       "    .dataframe thead th {\n",
       "        text-align: right;\n",
       "    }\n",
       "</style>\n",
       "<table border=\"1\" class=\"dataframe\">\n",
       "  <thead>\n",
       "    <tr style=\"text-align: right;\">\n",
       "      <th></th>\n",
       "      <th>dept</th>\n",
       "      <th>manager</th>\n",
       "    </tr>\n",
       "  </thead>\n",
       "  <tbody>\n",
       "    <tr>\n",
       "      <th>0</th>\n",
       "      <td>DS</td>\n",
       "      <td>Mia</td>\n",
       "    </tr>\n",
       "    <tr>\n",
       "      <th>1</th>\n",
       "      <td>SE</td>\n",
       "      <td>Noah</td>\n",
       "    </tr>\n",
       "    <tr>\n",
       "      <th>2</th>\n",
       "      <td>HR</td>\n",
       "      <td>Zoe</td>\n",
       "    </tr>\n",
       "  </tbody>\n",
       "</table>\n",
       "</div>"
      ],
      "text/plain": [
       "  dept manager\n",
       "0   DS     Mia\n",
       "1   SE    Noah\n",
       "2   HR     Zoe"
      ]
     },
     "execution_count": 113,
     "metadata": {},
     "output_type": "execute_result"
    }
   ],
   "source": [
    "#Basic joins & join types\n",
    "dept_mgr = pd.DataFrame({\n",
    "    \"dept\":[\"DS\",\"SE\",\"HR\"], \"manager\":[\"Mia\",\"Noah\",\"Zoe\"]\n",
    "})\n",
    "dept_mgr"
   ]
  },
  {
   "cell_type": "code",
   "execution_count": 114,
   "id": "991d481a",
   "metadata": {},
   "outputs": [
    {
     "data": {
      "text/html": [
       "<div>\n",
       "<style scoped>\n",
       "    .dataframe tbody tr th:only-of-type {\n",
       "        vertical-align: middle;\n",
       "    }\n",
       "\n",
       "    .dataframe tbody tr th {\n",
       "        vertical-align: top;\n",
       "    }\n",
       "\n",
       "    .dataframe thead th {\n",
       "        text-align: right;\n",
       "    }\n",
       "</style>\n",
       "<table border=\"1\" class=\"dataframe\">\n",
       "  <thead>\n",
       "    <tr style=\"text-align: right;\">\n",
       "      <th></th>\n",
       "      <th>id</th>\n",
       "      <th>name</th>\n",
       "      <th>dept</th>\n",
       "      <th>city</th>\n",
       "      <th>manager</th>\n",
       "    </tr>\n",
       "  </thead>\n",
       "  <tbody>\n",
       "    <tr>\n",
       "      <th>0</th>\n",
       "      <td>101</td>\n",
       "      <td>Alice</td>\n",
       "      <td>DS</td>\n",
       "      <td>NY</td>\n",
       "      <td>Mia</td>\n",
       "    </tr>\n",
       "    <tr>\n",
       "      <th>1</th>\n",
       "      <td>102</td>\n",
       "      <td>Bob</td>\n",
       "      <td>SE</td>\n",
       "      <td>SF</td>\n",
       "      <td>Noah</td>\n",
       "    </tr>\n",
       "    <tr>\n",
       "      <th>2</th>\n",
       "      <td>103</td>\n",
       "      <td>Cara</td>\n",
       "      <td>DS</td>\n",
       "      <td>NY</td>\n",
       "      <td>Mia</td>\n",
       "    </tr>\n",
       "    <tr>\n",
       "      <th>3</th>\n",
       "      <td>104</td>\n",
       "      <td>Dan</td>\n",
       "      <td>SE</td>\n",
       "      <td>SF</td>\n",
       "      <td>Noah</td>\n",
       "    </tr>\n",
       "  </tbody>\n",
       "</table>\n",
       "</div>"
      ],
      "text/plain": [
       "    id   name dept city manager\n",
       "0  101  Alice   DS   NY     Mia\n",
       "1  102    Bob   SE   SF    Noah\n",
       "2  103   Cara   DS   NY     Mia\n",
       "3  104    Dan   SE   SF    Noah"
      ]
     },
     "execution_count": 114,
     "metadata": {},
     "output_type": "execute_result"
    }
   ],
   "source": [
    "# LEFT: keep all people; add manager where dept matches\n",
    "left_join  = people.merge(dept_mgr, on=\"dept\", how=\"left\")\n",
    "left_join"
   ]
  },
  {
   "cell_type": "code",
   "execution_count": 115,
   "id": "9b1e8928",
   "metadata": {},
   "outputs": [
    {
     "data": {
      "text/html": [
       "<div>\n",
       "<style scoped>\n",
       "    .dataframe tbody tr th:only-of-type {\n",
       "        vertical-align: middle;\n",
       "    }\n",
       "\n",
       "    .dataframe tbody tr th {\n",
       "        vertical-align: top;\n",
       "    }\n",
       "\n",
       "    .dataframe thead th {\n",
       "        text-align: right;\n",
       "    }\n",
       "</style>\n",
       "<table border=\"1\" class=\"dataframe\">\n",
       "  <thead>\n",
       "    <tr style=\"text-align: right;\">\n",
       "      <th></th>\n",
       "      <th>id</th>\n",
       "      <th>name</th>\n",
       "      <th>dept</th>\n",
       "      <th>city</th>\n",
       "      <th>manager</th>\n",
       "    </tr>\n",
       "  </thead>\n",
       "  <tbody>\n",
       "    <tr>\n",
       "      <th>0</th>\n",
       "      <td>101</td>\n",
       "      <td>Alice</td>\n",
       "      <td>DS</td>\n",
       "      <td>NY</td>\n",
       "      <td>Mia</td>\n",
       "    </tr>\n",
       "    <tr>\n",
       "      <th>1</th>\n",
       "      <td>103</td>\n",
       "      <td>Cara</td>\n",
       "      <td>DS</td>\n",
       "      <td>NY</td>\n",
       "      <td>Mia</td>\n",
       "    </tr>\n",
       "    <tr>\n",
       "      <th>2</th>\n",
       "      <td>102</td>\n",
       "      <td>Bob</td>\n",
       "      <td>SE</td>\n",
       "      <td>SF</td>\n",
       "      <td>Noah</td>\n",
       "    </tr>\n",
       "    <tr>\n",
       "      <th>3</th>\n",
       "      <td>104</td>\n",
       "      <td>Dan</td>\n",
       "      <td>SE</td>\n",
       "      <td>SF</td>\n",
       "      <td>Noah</td>\n",
       "    </tr>\n",
       "  </tbody>\n",
       "</table>\n",
       "</div>"
      ],
      "text/plain": [
       "    id   name dept city manager\n",
       "0  101  Alice   DS   NY     Mia\n",
       "1  103   Cara   DS   NY     Mia\n",
       "2  102    Bob   SE   SF    Noah\n",
       "3  104    Dan   SE   SF    Noah"
      ]
     },
     "execution_count": 115,
     "metadata": {},
     "output_type": "execute_result"
    }
   ],
   "source": [
    "# INNER: only rows with matching dept\n",
    "inner_join = people.merge(dept_mgr, on=\"dept\", how=\"inner\")\n",
    "inner_join"
   ]
  },
  {
   "cell_type": "code",
   "execution_count": 116,
   "id": "44033f6f",
   "metadata": {},
   "outputs": [
    {
     "data": {
      "text/plain": [
       "(      id   name dept city manager\n",
       " 0  101.0  Alice   DS   NY     Mia\n",
       " 1  103.0   Cara   DS   NY     Mia\n",
       " 2  102.0    Bob   SE   SF    Noah\n",
       " 3  104.0    Dan   SE   SF    Noah\n",
       " 4    NaN    NaN   HR  NaN     Zoe,\n",
       "       id   name dept city manager\n",
       " 0  101.0  Alice   DS   NY     Mia\n",
       " 1  103.0   Cara   DS   NY     Mia\n",
       " 2  102.0    Bob   SE   SF    Noah\n",
       " 3  104.0    Dan   SE   SF    Noah\n",
       " 4    NaN    NaN   HR  NaN     Zoe)"
      ]
     },
     "execution_count": 116,
     "metadata": {},
     "output_type": "execute_result"
    }
   ],
   "source": [
    "# RIGHT & OUTER as needed\n",
    "right_join = people.merge(dept_mgr, on=\"dept\", how=\"right\")\n",
    "outer_join = people.merge(dept_mgr, on=\"dept\", how=\"outer\")\n",
    "right_join, outer_join"
   ]
  },
  {
   "cell_type": "code",
   "execution_count": null,
   "id": "68571474",
   "metadata": {},
   "outputs": [],
   "source": []
  }
 ],
 "metadata": {
  "kernelspec": {
   "display_name": "Python 3 (ipykernel)",
   "language": "python",
   "name": "python3"
  },
  "language_info": {
   "codemirror_mode": {
    "name": "ipython",
    "version": 3
   },
   "file_extension": ".py",
   "mimetype": "text/x-python",
   "name": "python",
   "nbconvert_exporter": "python",
   "pygments_lexer": "ipython3",
   "version": "3.11.5"
  }
 },
 "nbformat": 4,
 "nbformat_minor": 5
}
