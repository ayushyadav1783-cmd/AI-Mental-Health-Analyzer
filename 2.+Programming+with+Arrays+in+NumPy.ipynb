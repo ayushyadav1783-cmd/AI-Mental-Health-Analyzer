{
 "cells": [
  {
   "cell_type": "markdown",
   "id": "f43bec01",
   "metadata": {},
   "source": [
    "# Introduction to NumPy\n",
    "\n",
    "**NumPy** (Numerical Python) is one of the most important libraries in Python for scientific computing.  \n",
    "It provides powerful tools for working with **arrays, matrices, and numerical computations** efficiently.\n",
    "## Some useful resources\n",
    "\n",
    "* [NumPy documentation](https://docs.scipy.org/doc/numpy/index.html) - the ground truth for everything NumPy, this resource covers all of the NumPy functionality.\n",
    "---\n",
    "\n",
    "## Why NumPy?\n",
    "\n",
    "- **Performance**: NumPy arrays are stored in contiguous blocks of memory and implemented in C, making them **much faster** than Python lists for numerical operations.\n",
    "- **Vectorization**: Operations are applied on entire arrays without explicit loops (element-wise), which leads to **cleaner and faster code**.\n",
    "- **Memory Efficiency**: NumPy arrays use a fixed data type (`dtype`) and are more compact than Python lists, which store objects.\n",
    "- **Broadcasting**: Enables arithmetic operations between arrays of different shapes in a smart way.\n",
    "- **Ecosystem**: Forms the foundation for other libraries like Pandas, SciPy, Scikit-Learn, TensorFlow, and PyTorch.\n",
    "\n",
    "---\n",
    "\n",
    "## Key Features\n",
    "\n",
    "1. **Array creation**  \n",
    "   - From Python lists/tuples: `np.array()`  \n",
    "   - Predefined arrays: `np.zeros()`, `np.ones()`, `np.eye()`  \n",
    "   - Ranges: `np.arange()`, `np.linspace()`  \n",
    "   - Random arrays: `np.random.random()`, `np.random.randn()`, `np.random.randint()`\n",
    "\n",
    "2. **Attributes**  \n",
    "   - `shape`: dimensions of the array  \n",
    "   - `ndim`: number of dimensions  \n",
    "   - `size`: total number of elements  \n",
    "   - `dtype`: data type of elements  \n",
    "   - `itemsize` & `nbytes`: memory usage\n",
    "\n",
    "3. **Comparison with Python lists**  \n",
    "   - **Lists**: flexible, can mix types, but slower and memory-heavy.  \n",
    "   - **Arrays**: fixed dtype, efficient, fast mathematical operations.\n",
    "\n",
    "---\n",
    "\n",
    "## Example\n"
   ]
  },
  {
   "cell_type": "code",
   "execution_count": 3,
   "id": "a2d8a856",
   "metadata": {},
   "outputs": [
    {
     "name": "stdout",
     "output_type": "stream",
     "text": [
      "a: [1 2 3]\n"
     ]
    }
   ],
   "source": [
    "import numpy as np\n",
    "\n",
    "# Create arrays\n",
    "a = np.array([1, 2, 3])\n",
    "print(\"a:\", a)"
   ]
  },
  {
   "cell_type": "markdown",
   "id": "8fcfe955",
   "metadata": {},
   "source": [
    "### np.arange in NumPy\n",
    "\n",
    "`arange` is a NumPy function that generates an array of numbers within a given range.  \n",
    "\n",
    "It’s similar to Python’s built-in `range()`, but it creates a **NumPy array** instead of a Python list, which means it’s faster and supports **vectorized operations**.\n"
   ]
  },
  {
   "cell_type": "code",
   "execution_count": 4,
   "id": "b990294d",
   "metadata": {},
   "outputs": [
    {
     "name": "stdout",
     "output_type": "stream",
     "text": [
      "b: [0 2 4 6 8]\n"
     ]
    }
   ],
   "source": [
    "b = np.arange(0, 10, 2)\n",
    "print(\"b:\", b)"
   ]
  },
  {
   "cell_type": "markdown",
   "id": "cadd9ca4",
   "metadata": {},
   "source": [
    "### np.linspace in NumPy\n",
    "\n",
    "`linspace` stands for **“linear space”**.  \n",
    "\n",
    "It generates an array of numbers evenly spaced between a **start** and **stop** value.  \n",
    "\n",
    "Unlike `np.arange` (which uses a step size), `np.linspace` lets you specify **how many values** you want in the array.\n"
   ]
  },
  {
   "cell_type": "code",
   "execution_count": 5,
   "id": "ecf74790",
   "metadata": {},
   "outputs": [
    {
     "name": "stdout",
     "output_type": "stream",
     "text": [
      "c: [0.   0.25 0.5  0.75 1.  ]\n"
     ]
    }
   ],
   "source": [
    "c = np.linspace(0, 1, 5)\n",
    "print(\"c:\", c)"
   ]
  },
  {
   "cell_type": "code",
   "execution_count": 6,
   "id": "46a6feda",
   "metadata": {},
   "outputs": [
    {
     "name": "stdout",
     "output_type": "stream",
     "text": [
      "d:\\n [[1 3 3]\n",
      " [6 2 7]]\n"
     ]
    }
   ],
   "source": [
    "#It is used to generate random integers.\n",
    "d = np.random.randint(0, 10, size=(2, 3))\n",
    "print(\"d:\\\\n\", d)"
   ]
  },
  {
   "cell_type": "code",
   "execution_count": 7,
   "id": "b845b023",
   "metadata": {},
   "outputs": [
    {
     "name": "stdout",
     "output_type": "stream",
     "text": [
      "Shape of d: (2, 3)\n",
      "Dimensions: 2\n",
      "Size: 6\n",
      "Dtype: int32\n"
     ]
    }
   ],
   "source": [
    "# Array attributes\n",
    "print(\"Shape of d:\", d.shape)  #.shape tells you how many rows and columns it has.\n",
    "print(\"Dimensions:\", d.ndim)\n",
    "print(\"Size:\", d.size)\n",
    "print(\"Dtype:\", d.dtype)"
   ]
  },
  {
   "cell_type": "markdown",
   "id": "b038cd46",
   "metadata": {},
   "source": [
    "# Array-Oriented Programming in NumPy\n",
    "\n",
    "---\n",
    "\n",
    "## What does \"Array-Oriented\" mean?\n",
    "\n",
    "NumPy encourages an **array-oriented programming style**, where operations are expressed on entire arrays rather than looping element by element.\n",
    "\n",
    "### 1. Vectorization\n",
    "- Replace explicit Python `for` loops with operations on entire arrays.  \n",
    "- This is possible because NumPy operations are implemented in **optimized C code**.  \n",
    "- Benefits: **cleaner code, fewer bugs, and much faster execution**.\n",
    "\n",
    "### Example: Squaring numbers\n"
   ]
  },
  {
   "cell_type": "code",
   "execution_count": 8,
   "id": "1821588c",
   "metadata": {},
   "outputs": [
    {
     "name": "stdout",
     "output_type": "stream",
     "text": [
      "List: [0, 1, 2, 3, 4, 5, 6, 7, 8, 9]\n",
      "List squares: [0, 1, 4, 9, 16, 25, 36, 49, 64, 81]\n"
     ]
    }
   ],
   "source": [
    "import numpy as np\n",
    "\n",
    "# Python loop\n",
    "lst = list(range(10))\n",
    "print('List:',lst)\n",
    "squares_list = [x**2 for x in lst]\n",
    "print(\"List squares:\", squares_list)"
   ]
  },
  {
   "cell_type": "code",
   "execution_count": 9,
   "id": "25ad8648",
   "metadata": {},
   "outputs": [
    {
     "name": "stdout",
     "output_type": "stream",
     "text": [
      "Array squares: [ 0  1  4  9 16 25 36 49 64 81]\n"
     ]
    }
   ],
   "source": [
    "# NumPy vectorized\n",
    "arr = np.arange(10)\n",
    "squares_arr = arr ** 2\n",
    "\n",
    "print(\"Array squares:\", squares_arr)"
   ]
  },
  {
   "attachments": {
    "broadcasting.png": {
     "image/png": "[encoded data removed]"
    }
   },
   "cell_type": "markdown",
   "id": "408bc70e",
   "metadata": {},
   "source": [
    "## 2. Broadcasting\n",
    "\n",
    "Allows operations on arrays of different but compatible shapes without explicit replication.\n",
    "\n",
    "NumPy \"stretches\" arrays along axes where necessary.\n",
    "\n",
    "Example: Adding a vector to each row of a matrix\n",
    "![broadcasting.png](attachment:broadcasting.png)"
   ]
  },
  {
   "cell_type": "code",
   "execution_count": 10,
   "id": "6aae8099",
   "metadata": {},
   "outputs": [
    {
     "name": "stdout",
     "output_type": "stream",
     "text": [
      "A: [[1. 1. 1.]\n",
      " [1. 1. 1.]\n",
      " [1. 1. 1.]]\n",
      "v: [1 2 3]\n"
     ]
    }
   ],
   "source": [
    "A = np.ones((3, 3))\n",
    "v = np.array([1, 2, 3])\n",
    "\n",
    "print(\"A:\",A)\n",
    "\n",
    "print(\"v:\",v)\n"
   ]
  },
  {
   "cell_type": "code",
   "execution_count": 11,
   "id": "a34d1887",
   "metadata": {},
   "outputs": [
    {
     "name": "stdout",
     "output_type": "stream",
     "text": [
      "A + v =\n",
      " [[2. 3. 4.]\n",
      " [2. 3. 4.]\n",
      " [2. 3. 4.]]\n"
     ]
    }
   ],
   "source": [
    "print(\"A + v =\\n\", A + v)\n",
    "#Here, v is broadcast across rows of A."
   ]
  },
  {
   "cell_type": "code",
   "execution_count": 12,
   "id": "dfe4eac4",
   "metadata": {},
   "outputs": [],
   "source": [
    "# 1-dimensonal array, also referred to as a vector\n",
    "a1 = np.array([1, 2, 3])\n",
    "\n",
    "# 2-dimensional array, also referred to as matrix\n",
    "a2 = np.array([[1, 2.0, 3.3],\n",
    "               [4, 5, 6.5]])\n",
    "\n",
    "# 3-dimensional array, also referred to as a matrix\n",
    "a3 = np.array([[[1, 2, 3],\n",
    "                [4, 5, 6],\n",
    "                [7, 8, 9]],\n",
    "                [[10, 11, 12],\n",
    "                 [13, 14, 15],\n",
    "                 [16, 17, 18]]])"
   ]
  },
  {
   "cell_type": "code",
   "execution_count": 13,
   "id": "cfd59aa5",
   "metadata": {},
   "outputs": [
    {
     "data": {
      "text/plain": [
       "(3,)"
      ]
     },
     "execution_count": 13,
     "metadata": {},
     "output_type": "execute_result"
    }
   ],
   "source": [
    "a1.shape"
   ]
  },
  {
   "cell_type": "code",
   "execution_count": 14,
   "id": "aec0e39f",
   "metadata": {},
   "outputs": [
    {
     "data": {
      "text/plain": [
       "(2, 3)"
      ]
     },
     "execution_count": 14,
     "metadata": {},
     "output_type": "execute_result"
    }
   ],
   "source": [
    "a2.shape"
   ]
  },
  {
   "cell_type": "code",
   "execution_count": 15,
   "id": "d1b999f6",
   "metadata": {},
   "outputs": [
    {
     "data": {
      "text/plain": [
       "array([[1. , 2. , 3.3],\n",
       "       [4. , 5. , 6.5]])"
      ]
     },
     "execution_count": 15,
     "metadata": {},
     "output_type": "execute_result"
    }
   ],
   "source": [
    "a2"
   ]
  },
  {
   "cell_type": "code",
   "execution_count": 16,
   "id": "f04dec5d",
   "metadata": {},
   "outputs": [
    {
     "data": {
      "text/plain": [
       "array([[2. , 4. , 6.3],\n",
       "       [5. , 7. , 9.5]])"
      ]
     },
     "execution_count": 16,
     "metadata": {},
     "output_type": "execute_result"
    }
   ],
   "source": [
    "a1 + a2"
   ]
  },
  {
   "cell_type": "code",
   "execution_count": 17,
   "id": "46c6590d",
   "metadata": {},
   "outputs": [
    {
     "data": {
      "text/plain": [
       "array([[ 1. ,  4. ,  9.9],\n",
       "       [ 4. , 10. , 19.5]])"
      ]
     },
     "execution_count": 17,
     "metadata": {},
     "output_type": "execute_result"
    }
   ],
   "source": [
    "a1*a2"
   ]
  },
  {
   "cell_type": "code",
   "execution_count": 20,
   "id": "75e21aae",
   "metadata": {},
   "outputs": [
    {
     "name": "stdout",
     "output_type": "stream",
     "text": [
      "[[3.  4.  5.3]\n",
      " [6.  7.  8.5]]\n"
     ]
    },
    {
     "data": {
      "text/plain": [
       "'\\narray([[2 , 2 , 2],\\n       [2 , 2 , 2]])\\n'"
      ]
     },
     "execution_count": 20,
     "metadata": {},
     "output_type": "execute_result"
    }
   ],
   "source": [
    "print(a2 + 2)\n",
    "\n",
    "# 2 becomes\n",
    "'''\n",
    "array([[2 , 2 , 2],\n",
    "       [2 , 2 , 2]])\n",
    "'''"
   ]
  },
  {
   "cell_type": "code",
   "execution_count": 19,
   "id": "d1d9b417",
   "metadata": {},
   "outputs": [
    {
     "ename": "ValueError",
     "evalue": "operands could not be broadcast together with shapes (2,3) (2,3,3) ",
     "output_type": "error",
     "traceback": [
      "\u001b[1;31m---------------------------------------------------------------------------\u001b[0m",
      "\u001b[1;31mValueError\u001b[0m                                Traceback (most recent call last)",
      "Cell \u001b[1;32mIn[19], line 2\u001b[0m\n\u001b[0;32m      1\u001b[0m \u001b[38;5;66;03m# Raises an error because there's a shape mismatch\u001b[39;00m\n\u001b[1;32m----> 2\u001b[0m a2 \u001b[38;5;241m+\u001b[39m a3\n",
      "\u001b[1;31mValueError\u001b[0m: operands could not be broadcast together with shapes (2,3) (2,3,3) "
     ]
    }
   ],
   "source": [
    "# Raises an error because there's a shape mismatch\n",
    "a2 + a3"
   ]
  },
  {
   "cell_type": "code",
   "execution_count": 21,
   "id": "f33c3a2a",
   "metadata": {},
   "outputs": [
    {
     "data": {
      "text/plain": [
       "array([1., 1., 1.])"
      ]
     },
     "execution_count": 21,
     "metadata": {},
     "output_type": "execute_result"
    }
   ],
   "source": [
    "ones = np.ones(3)\n",
    "ones"
   ]
  },
  {
   "cell_type": "code",
   "execution_count": 22,
   "id": "8242404a",
   "metadata": {},
   "outputs": [
    {
     "data": {
      "text/plain": [
       "array([1., 2., 3.])"
      ]
     },
     "execution_count": 22,
     "metadata": {},
     "output_type": "execute_result"
    }
   ],
   "source": [
    "# Divide two arrays\n",
    "a1 / ones"
   ]
  },
  {
   "cell_type": "code",
   "execution_count": 25,
   "id": "e44a6bbf",
   "metadata": {},
   "outputs": [
    {
     "data": {
      "text/plain": [
       "array([[1., 1., 1.],\n",
       "       [4., 2., 2.]])"
      ]
     },
     "execution_count": 25,
     "metadata": {},
     "output_type": "execute_result"
    }
   ],
   "source": [
    "# Divide using floor division\n",
    "a2 // a1"
   ]
  },
  {
   "cell_type": "code",
   "execution_count": 100,
   "id": "3e72422f",
   "metadata": {},
   "outputs": [
    {
     "data": {
      "text/plain": [
       "array([1, 4, 9])"
      ]
     },
     "execution_count": 100,
     "metadata": {},
     "output_type": "execute_result"
    }
   ],
   "source": [
    "# Take an array to a power\n",
    "a1 ** 2\n",
    "# 2 becomes array([2, 2, 2])"
   ]
  },
  {
   "cell_type": "code",
   "execution_count": 101,
   "id": "2e7e50a7",
   "metadata": {},
   "outputs": [
    {
     "data": {
      "text/plain": [
       "array([1, 4, 9])"
      ]
     },
     "execution_count": 101,
     "metadata": {},
     "output_type": "execute_result"
    }
   ],
   "source": [
    "# You can also use np.square()\n",
    "np.square(a1)"
   ]
  },
  {
   "cell_type": "code",
   "execution_count": 102,
   "id": "b7621ecb",
   "metadata": {},
   "outputs": [
    {
     "data": {
      "text/plain": [
       "array([1, 0, 1], dtype=int32)"
      ]
     },
     "execution_count": 102,
     "metadata": {},
     "output_type": "execute_result"
    }
   ],
   "source": [
    "# Modulus divide (what's the remainder)\n",
    "a1 % 2"
   ]
  },
  {
   "cell_type": "markdown",
   "id": "f7e37308",
   "metadata": {},
   "source": [
    "You can also find the log or exponential of an array using `np.log()` and `np.exp()`."
   ]
  },
  {
   "cell_type": "code",
   "execution_count": 103,
   "id": "339aacc4",
   "metadata": {},
   "outputs": [
    {
     "data": {
      "text/plain": [
       "array([0.        , 0.69314718, 1.09861229])"
      ]
     },
     "execution_count": 103,
     "metadata": {},
     "output_type": "execute_result"
    }
   ],
   "source": [
    "# Find the log of an array\n",
    "np.log(a1)"
   ]
  },
  {
   "cell_type": "code",
   "execution_count": 104,
   "id": "dfa3287c",
   "metadata": {},
   "outputs": [
    {
     "data": {
      "text/plain": [
       "array([ 2.71828183,  7.3890561 , 20.08553692])"
      ]
     },
     "execution_count": 104,
     "metadata": {},
     "output_type": "execute_result"
    }
   ],
   "source": [
    "# Find the exponential of an array\n",
    "np.exp(a1)"
   ]
  },
  {
   "cell_type": "markdown",
   "id": "57f69078",
   "metadata": {},
   "source": [
    "### Aggregation\n",
    "\n",
    "Aggregation - bringing things together, doing a similar thing on a number of things."
   ]
  },
  {
   "cell_type": "code",
   "execution_count": 105,
   "id": "39241988",
   "metadata": {},
   "outputs": [
    {
     "data": {
      "text/plain": [
       "6"
      ]
     },
     "execution_count": 105,
     "metadata": {},
     "output_type": "execute_result"
    }
   ],
   "source": [
    "sum(a1)"
   ]
  },
  {
   "cell_type": "code",
   "execution_count": 106,
   "id": "e15d45f7",
   "metadata": {},
   "outputs": [
    {
     "data": {
      "text/plain": [
       "6"
      ]
     },
     "execution_count": 106,
     "metadata": {},
     "output_type": "execute_result"
    }
   ],
   "source": [
    "np.sum(a1)"
   ]
  },
  {
   "cell_type": "markdown",
   "id": "f48bc135",
   "metadata": {},
   "source": [
    "Use NumPy's `np.sum()` on NumPy arrays and Python's `sum()` on Python lists."
   ]
  },
  {
   "cell_type": "code",
   "execution_count": 107,
   "id": "d32738d4",
   "metadata": {},
   "outputs": [
    {
     "data": {
      "text/plain": [
       "100000"
      ]
     },
     "execution_count": 107,
     "metadata": {},
     "output_type": "execute_result"
    }
   ],
   "source": [
    "massive_array = np.random.random(100000)\n",
    "massive_array.size"
   ]
  },
  {
   "cell_type": "code",
   "execution_count": 108,
   "id": "42d3e662",
   "metadata": {},
   "outputs": [
    {
     "name": "stdout",
     "output_type": "stream",
     "text": [
      "16.1 ms ± 911 µs per loop (mean ± std. dev. of 7 runs, 100 loops each)\n",
      "69.8 µs ± 5.53 µs per loop (mean ± std. dev. of 7 runs, 10,000 loops each)\n"
     ]
    }
   ],
   "source": [
    "%timeit sum(massive_array) # Python sum()\n",
    "%timeit np.sum(massive_array) # NumPy np.sum()"
   ]
  },
  {
   "cell_type": "code",
   "execution_count": 110,
   "id": "9627b831",
   "metadata": {},
   "outputs": [
    {
     "data": {
      "text/plain": [
       "array([[1. , 2. , 3.3],\n",
       "       [4. , 5. , 6.5]])"
      ]
     },
     "execution_count": 110,
     "metadata": {},
     "output_type": "execute_result"
    }
   ],
   "source": [
    "a2"
   ]
  },
  {
   "cell_type": "code",
   "execution_count": 111,
   "id": "7ec237ee",
   "metadata": {},
   "outputs": [
    {
     "data": {
      "text/plain": [
       "3.6333333333333333"
      ]
     },
     "execution_count": 111,
     "metadata": {},
     "output_type": "execute_result"
    }
   ],
   "source": [
    "# Find the mean\n",
    "np.mean(a2)"
   ]
  },
  {
   "cell_type": "code",
   "execution_count": 112,
   "id": "a5c3b00e",
   "metadata": {},
   "outputs": [
    {
     "data": {
      "text/plain": [
       "6.5"
      ]
     },
     "execution_count": 112,
     "metadata": {},
     "output_type": "execute_result"
    }
   ],
   "source": [
    "# Find the max\n",
    "np.max(a2)"
   ]
  },
  {
   "cell_type": "code",
   "execution_count": 113,
   "id": "ced1a12a",
   "metadata": {},
   "outputs": [
    {
     "data": {
      "text/plain": [
       "1.0"
      ]
     },
     "execution_count": 113,
     "metadata": {},
     "output_type": "execute_result"
    }
   ],
   "source": [
    "# Find the min\n",
    "np.min(a2)"
   ]
  },
  {
   "cell_type": "code",
   "execution_count": 114,
   "id": "c85d609b",
   "metadata": {},
   "outputs": [
    {
     "data": {
      "text/plain": [
       "1.8226964152656422"
      ]
     },
     "execution_count": 114,
     "metadata": {},
     "output_type": "execute_result"
    }
   ],
   "source": [
    "# Find the standard deviation\n",
    "np.std(a2)"
   ]
  },
  {
   "cell_type": "code",
   "execution_count": 115,
   "id": "74adfbf6",
   "metadata": {},
   "outputs": [
    {
     "data": {
      "text/plain": [
       "3.3222222222222224"
      ]
     },
     "execution_count": 115,
     "metadata": {},
     "output_type": "execute_result"
    }
   ],
   "source": [
    "# Find the variance\n",
    "np.var(a2)"
   ]
  },
  {
   "cell_type": "code",
   "execution_count": 116,
   "id": "0b113d2d",
   "metadata": {},
   "outputs": [
    {
     "data": {
      "text/plain": [
       "1.8226964152656422"
      ]
     },
     "execution_count": 116,
     "metadata": {},
     "output_type": "execute_result"
    }
   ],
   "source": [
    "# The standard deviation is the square root of the variance\n",
    "np.sqrt(np.var(a2))"
   ]
  },
  {
   "cell_type": "markdown",
   "id": "884eb443",
   "metadata": {},
   "source": [
    "### Transpose\n",
    "\n",
    "\n",
    "The **transpose** of a matrix is formed by flipping **rows into columns** (or equivalently, columns into rows).  \n",
    "\n",
    "Mathematically, if **A** is a matrix:\n",
    "\n",
    "$$\n",
    "A^T[i, j] = A[j, i]\n",
    "$$\n",
    "\n",
    "## 🔹 Shape Change\n",
    "\n",
    "If **A** has shape **(m, n)** → **A.T** has shape **(n, m)**.  \n",
    "\n",
    "✅ Example:  \n",
    "\n",
    "$$\n",
    "(2, 3) \\;\\;\\rightarrow\\;\\; (3, 2)\n",
    "$$\n"
   ]
  },
  {
   "cell_type": "code",
   "execution_count": 117,
   "id": "8f552e40",
   "metadata": {},
   "outputs": [
    {
     "data": {
      "text/plain": [
       "(2, 3)"
      ]
     },
     "execution_count": 117,
     "metadata": {},
     "output_type": "execute_result"
    }
   ],
   "source": [
    "a2.shape"
   ]
  },
  {
   "cell_type": "code",
   "execution_count": 118,
   "id": "77b667b8",
   "metadata": {},
   "outputs": [
    {
     "data": {
      "text/plain": [
       "array([[1. , 4. ],\n",
       "       [2. , 5. ],\n",
       "       [3.3, 6.5]])"
      ]
     },
     "execution_count": 118,
     "metadata": {},
     "output_type": "execute_result"
    }
   ],
   "source": [
    "a2.T"
   ]
  },
  {
   "cell_type": "code",
   "execution_count": 119,
   "id": "aa624d4f",
   "metadata": {},
   "outputs": [
    {
     "data": {
      "text/plain": [
       "(3, 2)"
      ]
     },
     "execution_count": 119,
     "metadata": {},
     "output_type": "execute_result"
    }
   ],
   "source": [
    "a2.T.shape"
   ]
  },
  {
   "cell_type": "code",
   "execution_count": 120,
   "id": "027f261b",
   "metadata": {},
   "outputs": [
    {
     "data": {
      "text/plain": [
       "array([[[0.50156494, 0.0730758 , 0.0447119 ],\n",
       "        [0.32484304, 0.40170216, 0.70402637],\n",
       "        [0.2431297 , 0.3240452 , 0.28173705]],\n",
       "\n",
       "       [[0.38156386, 0.40562152, 0.44684322],\n",
       "        [0.05684533, 0.66143356, 0.61341001],\n",
       "        [0.0409452 , 0.59125248, 0.74575869]],\n",
       "\n",
       "       [[0.59865505, 0.33766683, 0.44911019],\n",
       "        [0.81696759, 0.51878338, 0.91087088],\n",
       "        [0.39555597, 0.26047786, 0.72500999]],\n",
       "\n",
       "       [[0.89288382, 0.03553313, 0.33847022],\n",
       "        [0.52861947, 0.21184456, 0.89644012],\n",
       "        [0.97047159, 0.08152061, 0.99698925]],\n",
       "\n",
       "       [[0.9447665 , 0.63063643, 0.24090675],\n",
       "        [0.91897105, 0.09646582, 0.06692848],\n",
       "        [0.98742415, 0.8240791 , 0.10158742]]])"
      ]
     },
     "execution_count": 120,
     "metadata": {},
     "output_type": "execute_result"
    }
   ],
   "source": [
    "matrix = np.random.random(size=(5,3,3))\n",
    "matrix"
   ]
  },
  {
   "cell_type": "code",
   "execution_count": 121,
   "id": "33f188ca",
   "metadata": {},
   "outputs": [
    {
     "data": {
      "text/plain": [
       "(5, 3, 3)"
      ]
     },
     "execution_count": 121,
     "metadata": {},
     "output_type": "execute_result"
    }
   ],
   "source": [
    "matrix.shape"
   ]
  },
  {
   "cell_type": "code",
   "execution_count": 122,
   "id": "71b87536",
   "metadata": {},
   "outputs": [
    {
     "data": {
      "text/plain": [
       "array([[[0.50156494, 0.38156386, 0.59865505, 0.89288382, 0.9447665 ],\n",
       "        [0.32484304, 0.05684533, 0.81696759, 0.52861947, 0.91897105],\n",
       "        [0.2431297 , 0.0409452 , 0.39555597, 0.97047159, 0.98742415]],\n",
       "\n",
       "       [[0.0730758 , 0.40562152, 0.33766683, 0.03553313, 0.63063643],\n",
       "        [0.40170216, 0.66143356, 0.51878338, 0.21184456, 0.09646582],\n",
       "        [0.3240452 , 0.59125248, 0.26047786, 0.08152061, 0.8240791 ]],\n",
       "\n",
       "       [[0.0447119 , 0.44684322, 0.44911019, 0.33847022, 0.24090675],\n",
       "        [0.70402637, 0.61341001, 0.91087088, 0.89644012, 0.06692848],\n",
       "        [0.28173705, 0.74575869, 0.72500999, 0.99698925, 0.10158742]]])"
      ]
     },
     "execution_count": 122,
     "metadata": {},
     "output_type": "execute_result"
    }
   ],
   "source": [
    "matrix.T"
   ]
  },
  {
   "cell_type": "code",
   "execution_count": 123,
   "id": "760091d2",
   "metadata": {},
   "outputs": [
    {
     "data": {
      "text/plain": [
       "(3, 3, 5)"
      ]
     },
     "execution_count": 123,
     "metadata": {},
     "output_type": "execute_result"
    }
   ],
   "source": [
    "matrix.T.shape"
   ]
  },
  {
   "cell_type": "markdown",
   "id": "cfac070c",
   "metadata": {},
   "source": [
    "### Dot\n",
    "\n"
   ]
  },
  {
   "cell_type": "code",
   "execution_count": 124,
   "id": "2984d3c8",
   "metadata": {},
   "outputs": [
    {
     "data": {
      "text/plain": [
       "((3, 3), (3, 2))"
      ]
     },
     "execution_count": 124,
     "metadata": {},
     "output_type": "execute_result"
    }
   ],
   "source": [
    "np.random.seed(0)\n",
    "mat1 = np.random.randint(10, size=(3, 3))\n",
    "mat2 = np.random.randint(10, size=(3, 2))\n",
    "\n",
    "mat1.shape, mat2.shape"
   ]
  },
  {
   "cell_type": "code",
   "execution_count": 125,
   "id": "6d658b68",
   "metadata": {},
   "outputs": [
    {
     "data": {
      "text/plain": [
       "array([[5, 0, 3],\n",
       "       [3, 7, 9],\n",
       "       [3, 5, 2]])"
      ]
     },
     "execution_count": 125,
     "metadata": {},
     "output_type": "execute_result"
    }
   ],
   "source": [
    "mat1"
   ]
  },
  {
   "cell_type": "code",
   "execution_count": 126,
   "id": "bfede45e",
   "metadata": {},
   "outputs": [
    {
     "data": {
      "text/plain": [
       "array([[4, 7],\n",
       "       [6, 8],\n",
       "       [8, 1]])"
      ]
     },
     "execution_count": 126,
     "metadata": {},
     "output_type": "execute_result"
    }
   ],
   "source": [
    "mat2"
   ]
  },
  {
   "cell_type": "code",
   "execution_count": 127,
   "id": "f3019a40",
   "metadata": {},
   "outputs": [
    {
     "data": {
      "text/plain": [
       "array([[ 44,  38],\n",
       "       [126,  86],\n",
       "       [ 58,  63]])"
      ]
     },
     "execution_count": 127,
     "metadata": {},
     "output_type": "execute_result"
    }
   ],
   "source": [
    "np.dot(mat1, mat2)"
   ]
  },
  {
   "cell_type": "code",
   "execution_count": 128,
   "id": "dde7a2a0",
   "metadata": {},
   "outputs": [
    {
     "data": {
      "text/plain": [
       "array([[5, 0, 3],\n",
       "       [3, 7, 9],\n",
       "       [3, 5, 2],\n",
       "       [4, 7, 6]])"
      ]
     },
     "execution_count": 128,
     "metadata": {},
     "output_type": "execute_result"
    }
   ],
   "source": [
    "np.random.seed(0)\n",
    "mat3 = np.random.randint(10, size=(4,3))\n",
    "mat4 = np.random.randint(10, size=(4,3))\n",
    "mat3"
   ]
  },
  {
   "cell_type": "code",
   "execution_count": 129,
   "id": "1db7c1d2",
   "metadata": {},
   "outputs": [
    {
     "data": {
      "text/plain": [
       "array([[8, 8, 1],\n",
       "       [6, 7, 7],\n",
       "       [8, 1, 5],\n",
       "       [9, 8, 9]])"
      ]
     },
     "execution_count": 129,
     "metadata": {},
     "output_type": "execute_result"
    }
   ],
   "source": [
    "mat4"
   ]
  },
  {
   "cell_type": "code",
   "execution_count": 131,
   "id": "3ceeb55b",
   "metadata": {},
   "outputs": [
    {
     "ename": "ValueError",
     "evalue": "shapes (4,3) and (4,3) not aligned: 3 (dim 1) != 4 (dim 0)",
     "output_type": "error",
     "traceback": [
      "\u001b[1;31m---------------------------------------------------------------------------\u001b[0m",
      "\u001b[1;31mValueError\u001b[0m                                Traceback (most recent call last)",
      "Cell \u001b[1;32mIn[131], line 2\u001b[0m\n\u001b[0;32m      1\u001b[0m \u001b[38;5;66;03m#In matrix multiplication (A @ B or np.dot(A, B)), the inner dimensions must match.\u001b[39;00m\n\u001b[1;32m----> 2\u001b[0m np\u001b[38;5;241m.\u001b[39mdot(mat3, mat4)\n",
      "File \u001b[1;32m<__array_function__ internals>:200\u001b[0m, in \u001b[0;36mdot\u001b[1;34m(*args, **kwargs)\u001b[0m\n",
      "\u001b[1;31mValueError\u001b[0m: shapes (4,3) and (4,3) not aligned: 3 (dim 1) != 4 (dim 0)"
     ]
    }
   ],
   "source": [
    "#In matrix multiplication (A @ B or np.dot(A, B)), the inner dimensions must match.\n",
    "np.dot(mat3, mat4)"
   ]
  },
  {
   "cell_type": "code",
   "execution_count": 132,
   "id": "892467c1",
   "metadata": {},
   "outputs": [
    {
     "data": {
      "text/plain": [
       "(3, 4)"
      ]
     },
     "execution_count": 132,
     "metadata": {},
     "output_type": "execute_result"
    }
   ],
   "source": [
    "mat3.T.shape"
   ]
  },
  {
   "cell_type": "code",
   "execution_count": 133,
   "id": "2eb1e069",
   "metadata": {},
   "outputs": [
    {
     "data": {
      "text/plain": [
       "array([[118,  96,  77],\n",
       "       [145, 110, 137],\n",
       "       [148, 137, 130]])"
      ]
     },
     "execution_count": 133,
     "metadata": {},
     "output_type": "execute_result"
    }
   ],
   "source": [
    "# Dot product\n",
    "np.dot(mat3.T, mat4)"
   ]
  },
  {
   "cell_type": "code",
   "execution_count": 134,
   "id": "0d7dc1a8",
   "metadata": {},
   "outputs": [
    {
     "data": {
      "text/plain": [
       "array([[40,  0,  3],\n",
       "       [18, 49, 63],\n",
       "       [24,  5, 10],\n",
       "       [36, 56, 54]])"
      ]
     },
     "execution_count": 134,
     "metadata": {},
     "output_type": "execute_result"
    }
   ],
   "source": [
    "# Element-wise multiplication, also known as Hadamard product\n",
    "mat3 * mat4"
   ]
  },
  {
   "cell_type": "markdown",
   "id": "f8c55342",
   "metadata": {},
   "source": [
    "### Comparison operators "
   ]
  },
  {
   "cell_type": "code",
   "execution_count": 135,
   "id": "4f9581ce",
   "metadata": {},
   "outputs": [
    {
     "data": {
      "text/plain": [
       "array([1, 2, 3])"
      ]
     },
     "execution_count": 135,
     "metadata": {},
     "output_type": "execute_result"
    }
   ],
   "source": [
    "a1"
   ]
  },
  {
   "cell_type": "code",
   "execution_count": 136,
   "id": "b736b4b5",
   "metadata": {},
   "outputs": [
    {
     "data": {
      "text/plain": [
       "array([[1. , 2. , 3.3],\n",
       "       [4. , 5. , 6.5]])"
      ]
     },
     "execution_count": 136,
     "metadata": {},
     "output_type": "execute_result"
    }
   ],
   "source": [
    "a2"
   ]
  },
  {
   "cell_type": "code",
   "execution_count": 137,
   "id": "8880acf7",
   "metadata": {},
   "outputs": [
    {
     "data": {
      "text/plain": [
       "array([[False, False, False],\n",
       "       [False, False, False]])"
      ]
     },
     "execution_count": 137,
     "metadata": {},
     "output_type": "execute_result"
    }
   ],
   "source": [
    "a1 > a2"
   ]
  },
  {
   "cell_type": "code",
   "execution_count": 138,
   "id": "17450f5c",
   "metadata": {},
   "outputs": [
    {
     "data": {
      "text/plain": [
       "array([[ True,  True, False],\n",
       "       [False, False, False]])"
      ]
     },
     "execution_count": 138,
     "metadata": {},
     "output_type": "execute_result"
    }
   ],
   "source": [
    "a1 >= a2"
   ]
  },
  {
   "cell_type": "code",
   "execution_count": 139,
   "id": "442e1af0",
   "metadata": {},
   "outputs": [
    {
     "data": {
      "text/plain": [
       "array([False, False, False])"
      ]
     },
     "execution_count": 139,
     "metadata": {},
     "output_type": "execute_result"
    }
   ],
   "source": [
    "a1 > 5"
   ]
  },
  {
   "cell_type": "code",
   "execution_count": 140,
   "id": "c0323555",
   "metadata": {},
   "outputs": [
    {
     "data": {
      "text/plain": [
       "array([ True,  True,  True])"
      ]
     },
     "execution_count": 140,
     "metadata": {},
     "output_type": "execute_result"
    }
   ],
   "source": [
    "a1 == a1"
   ]
  },
  {
   "cell_type": "code",
   "execution_count": 141,
   "id": "1a6a93f1",
   "metadata": {},
   "outputs": [
    {
     "data": {
      "text/plain": [
       "array([[ True,  True, False],\n",
       "       [False, False, False]])"
      ]
     },
     "execution_count": 141,
     "metadata": {},
     "output_type": "execute_result"
    }
   ],
   "source": [
    "a1 == a2"
   ]
  },
  {
   "cell_type": "markdown",
   "id": "dae4cd2d",
   "metadata": {},
   "source": [
    "##  Sorting arrays\n",
    "\n",
    "* `np.sort()`\n",
    "* `np.argsort()`\n",
    "* `np.argmax()`\n",
    "* `np.argmin()`"
   ]
  },
  {
   "cell_type": "code",
   "execution_count": 143,
   "id": "a0056501",
   "metadata": {},
   "outputs": [
    {
     "data": {
      "text/plain": [
       "array([[4, 3, 0],\n",
       "       [3, 5, 0],\n",
       "       [2, 3, 8],\n",
       "       [1, 3, 3],\n",
       "       [3, 7, 0]])"
      ]
     },
     "execution_count": 143,
     "metadata": {},
     "output_type": "execute_result"
    }
   ],
   "source": [
    "# Random array\n",
    "random_array = np.random.randint(10, size=(5, 3))\n",
    "random_array"
   ]
  },
  {
   "cell_type": "code",
   "execution_count": 144,
   "id": "c85b8b0e",
   "metadata": {},
   "outputs": [
    {
     "data": {
      "text/plain": [
       "array([[0, 3, 4],\n",
       "       [0, 3, 5],\n",
       "       [2, 3, 8],\n",
       "       [1, 3, 3],\n",
       "       [0, 3, 7]])"
      ]
     },
     "execution_count": 144,
     "metadata": {},
     "output_type": "execute_result"
    }
   ],
   "source": [
    "#Returns a sorted copy of the array.\n",
    "np.sort(random_array)"
   ]
  },
  {
   "cell_type": "code",
   "execution_count": 145,
   "id": "8993a0a1",
   "metadata": {},
   "outputs": [
    {
     "data": {
      "text/plain": [
       "array([[2, 1, 0],\n",
       "       [2, 0, 1],\n",
       "       [0, 1, 2],\n",
       "       [0, 1, 2],\n",
       "       [2, 0, 1]], dtype=int64)"
      ]
     },
     "execution_count": 145,
     "metadata": {},
     "output_type": "execute_result"
    }
   ],
   "source": [
    "#Returns the indices that would sort the array.\n",
    "np.argsort(random_array)"
   ]
  },
  {
   "cell_type": "code",
   "execution_count": 146,
   "id": "3771b5a9",
   "metadata": {},
   "outputs": [
    {
     "data": {
      "text/plain": [
       "array([1, 2, 3])"
      ]
     },
     "execution_count": 146,
     "metadata": {},
     "output_type": "execute_result"
    }
   ],
   "source": [
    "a1"
   ]
  },
  {
   "cell_type": "code",
   "execution_count": 147,
   "id": "11d600f9",
   "metadata": {},
   "outputs": [
    {
     "data": {
      "text/plain": [
       "array([0, 1, 2], dtype=int64)"
      ]
     },
     "execution_count": 147,
     "metadata": {},
     "output_type": "execute_result"
    }
   ],
   "source": [
    "# Return the indices that would sort an array\n",
    "np.argsort(a1)"
   ]
  },
  {
   "cell_type": "code",
   "execution_count": 148,
   "id": "7c148372",
   "metadata": {},
   "outputs": [
    {
     "data": {
      "text/plain": [
       "0"
      ]
     },
     "execution_count": 148,
     "metadata": {},
     "output_type": "execute_result"
    }
   ],
   "source": [
    "# No axis\n",
    "np.argmin(a1)"
   ]
  },
  {
   "cell_type": "code",
   "execution_count": 150,
   "id": "af050639",
   "metadata": {},
   "outputs": [
    {
     "data": {
      "text/plain": [
       "array([[4, 3, 0],\n",
       "       [3, 5, 0],\n",
       "       [2, 3, 8],\n",
       "       [1, 3, 3],\n",
       "       [3, 7, 0]])"
      ]
     },
     "execution_count": 150,
     "metadata": {},
     "output_type": "execute_result"
    }
   ],
   "source": [
    "random_array"
   ]
  },
  {
   "cell_type": "code",
   "execution_count": 149,
   "id": "0eef778c",
   "metadata": {},
   "outputs": [
    {
     "data": {
      "text/plain": [
       "array([0, 1, 2, 1, 1], dtype=int64)"
      ]
     },
     "execution_count": 149,
     "metadata": {},
     "output_type": "execute_result"
    }
   ],
   "source": [
    "# Down the horizontal\n",
    "np.argmax(random_array, axis=1)"
   ]
  },
  {
   "cell_type": "code",
   "execution_count": 151,
   "id": "c338f47c",
   "metadata": {},
   "outputs": [
    {
     "data": {
      "text/plain": [
       "array([3, 0, 0], dtype=int64)"
      ]
     },
     "execution_count": 151,
     "metadata": {},
     "output_type": "execute_result"
    }
   ],
   "source": [
    "# Across the verical\n",
    "np.argmin(random_array, axis=0)"
   ]
  },
  {
   "cell_type": "code",
   "execution_count": null,
   "id": "012c9cd0",
   "metadata": {},
   "outputs": [],
   "source": []
  },
  {
   "cell_type": "markdown",
   "id": "1d862b73",
   "metadata": {},
   "source": [
    "## 3. Universal Functions (ufuncs)\n",
    "\n",
    "NumPy provides ufuncs: fast element-wise functions (e.g., `np.sin`, `np.exp`, `np.add`).\n",
    "\n",
    "These operate on entire arrays efficiently."
   ]
  },
  {
   "cell_type": "code",
   "execution_count": 12,
   "id": "ef1c9be0",
   "metadata": {},
   "outputs": [
    {
     "name": "stdout",
     "output_type": "stream",
     "text": [
      "x: [0.         1.57079633 3.14159265 4.71238898 6.28318531]\n"
     ]
    }
   ],
   "source": [
    "x = np.linspace(0, 2*np.pi, 5)\n",
    "print(\"x:\", x)"
   ]
  },
  {
   "cell_type": "code",
   "execution_count": 13,
   "id": "4f7aee00",
   "metadata": {},
   "outputs": [
    {
     "name": "stdout",
     "output_type": "stream",
     "text": [
      "np.sin(x): [ 0.0000000e+00  1.0000000e+00  1.2246468e-16 -1.0000000e+00\n",
      " -2.4492936e-16]\n"
     ]
    }
   ],
   "source": [
    "print(\"np.sin(x):\", np.sin(x))"
   ]
  },
  {
   "cell_type": "markdown",
   "id": "acfbb49f",
   "metadata": {},
   "source": [
    "## Performance Model: Why is NumPy Fast?\n",
    "### 1. Contiguous Memory Layout\n",
    "\n",
    "Python lists store pointers to objects → scattered in memory → slower access.\n",
    "\n",
    "NumPy arrays are stored in contiguous memory blocks, making them cache-friendly."
   ]
  },
  {
   "cell_type": "markdown",
   "id": "10d14bd2",
   "metadata": {},
   "source": [
    "#### ndarray.itemsize\n",
    "\n",
    "`itemsize` is an **attribute** of a NumPy array.  \n",
    "\n",
    "It tells you how many **bytes** each element of the array takes in memory.  \n",
    "\n",
    "The value depends on the **data type (`dtype`)** of the array.\n"
   ]
  },
  {
   "cell_type": "code",
   "execution_count": 14,
   "id": "7c274334",
   "metadata": {},
   "outputs": [
    {
     "name": "stdout",
     "output_type": "stream",
     "text": [
      "[0 1 2 3 4]\n",
      "Itemsize: 4 bytes\n",
      "Total bytes: 20\n"
     ]
    }
   ],
   "source": [
    "arr = np.arange(5, dtype=np.int32)\n",
    "print(arr)\n",
    "print(\"Itemsize:\", arr.itemsize, \"bytes\") #tells how many bytes one element takes\n",
    "print(\"Total bytes:\", arr.nbytes) #nbytes = number of elements×itemsize\n"
   ]
  },
  {
   "cell_type": "markdown",
   "id": "5c048198",
   "metadata": {},
   "source": [
    "### 2. Vectorization \n",
    "Example: matrix multiplication"
   ]
  },
  {
   "cell_type": "code",
   "execution_count": 16,
   "id": "5fabbc84",
   "metadata": {},
   "outputs": [
    {
     "data": {
      "text/plain": [
       "array([[-26.74286542, -24.88390435, -23.81670202, ...,  43.00132343,\n",
       "        -49.46136594,  28.83058826],\n",
       "       [ 12.93932926,   3.27982872, -48.12957594, ..., -24.91010155,\n",
       "         26.04129644,  50.71097893],\n",
       "       [-12.41036199,  22.43118173,  -6.96548897, ...,   6.9467853 ,\n",
       "         37.37325928,  -5.59845659],\n",
       "       ...,\n",
       "       [  0.36414036,  21.75669797,  25.21134735, ...,  24.70772489,\n",
       "        -37.23311589,  16.57087154],\n",
       "       [ -7.94510832,  -2.80725846,  49.27823495, ...,  65.12851197,\n",
       "        -17.1988003 ,  34.24635245],\n",
       "       [ -4.01906848,  -2.65103015, -40.03694806, ...,  32.12709448,\n",
       "         18.34133584,  49.05593895]])"
      ]
     },
     "execution_count": 16,
     "metadata": {},
     "output_type": "execute_result"
    }
   ],
   "source": [
    "#randn generates random numbers from a standard normal distribution\n",
    "A = np.random.randn(1000, 1000) #Total elements = 1000 × 1000=1,000,000\n",
    "\n",
    "B = np.random.randn(1000, 1000)\n",
    "\n",
    "# Fast linear algebra call \n",
    "C = A @ B #The @ operator is the matrix multiplication operator\n",
    "C"
   ]
  },
  {
   "cell_type": "markdown",
   "id": "c6724755",
   "metadata": {},
   "source": [
    "Try timing this with `%timeit` and compare it to a pure Python nested loop implementation (which would be thousands of times slower)."
   ]
  },
  {
   "cell_type": "markdown",
   "id": "68d33e85",
   "metadata": {},
   "source": [
    "# The `ndarray` Core \n",
    "\n",
    "This mini-module focuses on the **NumPy ndarray**:\n",
    "- **Creation:** `array`, `arange`, `linspace`, `zeros/ones/empty/full`, `eye`\n",
    "- **Attributes:** `shape`, `ndim`, `size`, `dtype`, `itemsize`, `nbytes`\n"
   ]
  },
  {
   "cell_type": "code",
   "execution_count": 7,
   "id": "94c6b1ce",
   "metadata": {},
   "outputs": [],
   "source": [
    "# Setup\n",
    "import numpy as np\n"
   ]
  },
  {
   "cell_type": "markdown",
   "id": "5a19ca68",
   "metadata": {},
   "source": [
    "## 1) Creating ndarrays\n",
    "\n",
    "### Core constructors\n",
    "- **From Python data:** `np.array(list_or_nested, dtype=...)`\n",
    "- **Ranges:** `np.arange(start, stop, step, dtype=...)` (half-open), `np.linspace(start, stop, num, dtype=...)` (inclusive)\n",
    "- **Filled arrays:** `np.zeros(shape)`, `np.ones(shape)`, `np.empty(shape)` (⚠️ uninitialized), `np.full(shape, fill_value)`\n",
    "- **Identity:** `np.eye(n, M=None, k=0, dtype=float)` (2D identity-like matrix)\n"
   ]
  },
  {
   "cell_type": "code",
   "execution_count": 17,
   "id": "5aa4b6a7",
   "metadata": {},
   "outputs": [
    {
     "name": "stdout",
     "output_type": "stream",
     "text": [
      "a: [1 2 3] int32\n"
     ]
    }
   ],
   "source": [
    "# Creation examples\n",
    "a = np.array([1, 2, 3], dtype=np.int32)\n",
    "\n",
    "print(\"a:\", a, a.dtype)"
   ]
  },
  {
   "cell_type": "code",
   "execution_count": 18,
   "id": "f6df0d70",
   "metadata": {},
   "outputs": [
    {
     "name": "stdout",
     "output_type": "stream",
     "text": [
      "b:\n",
      " [[1.5 2.5]\n",
      " [3.5 4.5]]\n"
     ]
    }
   ],
   "source": [
    "b = np.array([[1.5, 2.5], [3.5, 4.5]])     # dtype inferred (float64)\n",
    "print(\"b:\\n\", b)"
   ]
  },
  {
   "cell_type": "code",
   "execution_count": 19,
   "id": "85b20bdb",
   "metadata": {},
   "outputs": [
    {
     "name": "stdout",
     "output_type": "stream",
     "text": [
      "ar: [0 2 4 6 8] int16\n"
     ]
    }
   ],
   "source": [
    "ar = np.arange(0, 10, 2, dtype=np.int16)   # 0,2,4,6,8\n",
    "print(\"ar:\", ar, ar.dtype)"
   ]
  },
  {
   "cell_type": "code",
   "execution_count": 20,
   "id": "74a162ca",
   "metadata": {},
   "outputs": [
    {
     "name": "stdout",
     "output_type": "stream",
     "text": [
      "lin: [0.   0.25 0.5  0.75 1.  ] float64\n"
     ]
    }
   ],
   "source": [
    "lin = np.linspace(0., 1., num=5)           # 0. , 0.25, 0.5 , 0.75, 1.\n",
    "print(\"lin:\", lin, lin.dtype)"
   ]
  },
  {
   "cell_type": "code",
   "execution_count": 21,
   "id": "0f9be76e",
   "metadata": {},
   "outputs": [
    {
     "name": "stdout",
     "output_type": "stream",
     "text": [
      "zeros:\n",
      " [[0. 0. 0.]\n",
      " [0. 0. 0.]]\n"
     ]
    }
   ],
   "source": [
    "z  = np.zeros((2, 3), dtype=np.float32)\n",
    "print(\"zeros:\\n\", z)"
   ]
  },
  {
   "cell_type": "code",
   "execution_count": 22,
   "id": "0652b36e",
   "metadata": {},
   "outputs": [
    {
     "name": "stdout",
     "output_type": "stream",
     "text": [
      "ones:\n",
      " [[1]\n",
      " [1]\n",
      " [1]]\n"
     ]
    }
   ],
   "source": [
    "o  = np.ones((3, 1), dtype=np.int16)\n",
    "print(\"ones:\\n\", o)"
   ]
  },
  {
   "cell_type": "markdown",
   "id": "faa1d934",
   "metadata": {},
   "source": [
    "##### np.empty\n",
    "\n",
    "`np.empty((2, 2))` creates a **2×2 array** quickly, but the values are **random garbage from memory**.  \n",
    "\n",
    "⚠️ You should **not rely on its contents** until you explicitly assign values.\n"
   ]
  },
  {
   "cell_type": "code",
   "execution_count": 25,
   "id": "1e4cd3e9",
   "metadata": {},
   "outputs": [
    {
     "name": "stdout",
     "output_type": "stream",
     "text": [
      "empty (arbitrary values):\n",
      " [[0.25 0.5 ]\n",
      " [0.75 1.  ]]\n"
     ]
    }
   ],
   "source": [
    "e  = np.empty((2, 2))                       # values are arbitrary; do not rely on contents\n",
    "print(\"empty (arbitrary values):\\n\", e)"
   ]
  },
  {
   "cell_type": "markdown",
   "id": "2ee8915f",
   "metadata": {},
   "source": [
    "#### np.full() in NumPy\n",
    "\n",
    "This function creates a new array of a given **shape**, filled with a specified **constant value**.\n"
   ]
  },
  {
   "cell_type": "code",
   "execution_count": 26,
   "id": "2cdb4601",
   "metadata": {},
   "outputs": [
    {
     "name": "stdout",
     "output_type": "stream",
     "text": [
      "full(7):\n",
      " [[7 7]\n",
      " [7 7]]\n"
     ]
    }
   ],
   "source": [
    "f  = np.full((2, 2), fill_value=7, dtype=np.int8)\n",
    "print(\"full(7):\\n\", f)"
   ]
  },
  {
   "cell_type": "markdown",
   "id": "3d847b49",
   "metadata": {},
   "source": [
    "#### np.eye() in NumPy\n",
    "\n",
    "This function creates a **2D identity matrix** (or a 2D array with **ones on a specified diagonal** and **zeros elsewhere**).\n"
   ]
  },
  {
   "cell_type": "code",
   "execution_count": 152,
   "id": "32a6feaf",
   "metadata": {},
   "outputs": [
    {
     "name": "stdout",
     "output_type": "stream",
     "text": [
      "eye:\n",
      " [[1. 0. 0.]\n",
      " [0. 1. 0.]\n",
      " [0. 0. 1.]]\n"
     ]
    }
   ],
   "source": [
    "I  = np.eye(3, dtype=np.float32)\n",
    "print(\"eye:\\n\", I)"
   ]
  },
  {
   "cell_type": "markdown",
   "id": "adb4ffa2",
   "metadata": {},
   "source": [
    "## 2) Array attributes\n",
    "\n",
    "- `shape`: dimensions (tuple)\n",
    "- `ndim`: number of axes\n",
    "- `size`: total number of elements\n",
    "- `dtype`: element type (e.g., `int64`, `float32`)\n",
    "- `itemsize`: bytes per element\n",
    "- `nbytes`: total data bytes (`size * itemsize`)\n"
   ]
  },
  {
   "cell_type": "code",
   "execution_count": 27,
   "id": "e0ade273",
   "metadata": {},
   "outputs": [
    {
     "data": {
      "text/plain": [
       "array([[[ 0.635674  ,  1.1513273 ],\n",
       "        [-1.46807   , -0.81831497],\n",
       "        [-1.0346938 ,  0.6637365 ],\n",
       "        [-2.4558406 , -1.6585116 ]],\n",
       "\n",
       "       [[-1.1702564 ,  0.60999227],\n",
       "        [-0.22670281, -0.36128598],\n",
       "        [-0.66735417, -0.11471771],\n",
       "        [ 0.5781606 , -1.0193063 ]],\n",
       "\n",
       "       [[ 1.1587203 ,  0.94705284],\n",
       "        [ 0.8605899 ,  0.2204939 ],\n",
       "        [ 0.01394579,  0.5925448 ],\n",
       "        [-0.07564661, -0.57660884]]], dtype=float32)"
      ]
     },
     "execution_count": 27,
     "metadata": {},
     "output_type": "execute_result"
    }
   ],
   "source": [
    "x = np.random.randn(3, 4, 2).astype(np.float32) \n",
    "#3 blocks, each block has 4 rows and 2 columns\n",
    "x"
   ]
  },
  {
   "cell_type": "code",
   "execution_count": 28,
   "id": "506939ad",
   "metadata": {},
   "outputs": [
    {
     "name": "stdout",
     "output_type": "stream",
     "text": [
      "shape: (3, 4, 2)\n"
     ]
    }
   ],
   "source": [
    "print(\"shape:\", x.shape)"
   ]
  },
  {
   "cell_type": "code",
   "execution_count": 29,
   "id": "75d7646c",
   "metadata": {},
   "outputs": [
    {
     "name": "stdout",
     "output_type": "stream",
     "text": [
      "ndim: 3\n"
     ]
    }
   ],
   "source": [
    "print(\"ndim:\", x.ndim)"
   ]
  },
  {
   "cell_type": "code",
   "execution_count": 30,
   "id": "fbd8d31c",
   "metadata": {},
   "outputs": [
    {
     "name": "stdout",
     "output_type": "stream",
     "text": [
      "size: 24\n"
     ]
    }
   ],
   "source": [
    "print(\"size:\", x.size)"
   ]
  },
  {
   "cell_type": "code",
   "execution_count": 31,
   "id": "73f7c45d",
   "metadata": {},
   "outputs": [
    {
     "name": "stdout",
     "output_type": "stream",
     "text": [
      "dtype: float32\n"
     ]
    }
   ],
   "source": [
    "print(\"dtype:\", x.dtype)"
   ]
  },
  {
   "cell_type": "code",
   "execution_count": 32,
   "id": "4717ed2a",
   "metadata": {},
   "outputs": [
    {
     "name": "stdout",
     "output_type": "stream",
     "text": [
      "itemsize (bytes): 4\n"
     ]
    }
   ],
   "source": [
    "print(\"itemsize (bytes):\", x.itemsize)"
   ]
  },
  {
   "cell_type": "code",
   "execution_count": 34,
   "id": "ba9ac03b",
   "metadata": {},
   "outputs": [
    {
     "name": "stdout",
     "output_type": "stream",
     "text": [
      "nbytes (bytes): 96\n"
     ]
    }
   ],
   "source": [
    "print(\"nbytes (bytes):\", x.nbytes) \n",
    "#It tells you the total number of bytes consumed by the entire array in memory."
   ]
  },
  {
   "cell_type": "code",
   "execution_count": 35,
   "id": "faaa4379",
   "metadata": {},
   "outputs": [
    {
     "name": "stdout",
     "output_type": "stream",
     "text": [
      "reshaped y shape: (4, 3, 2)\n"
     ]
    }
   ],
   "source": [
    "# Reshape (no data copy if compatible)\n",
    "y = x.reshape(4, 3, 2)\n",
    "print(\"reshaped y shape:\", y.shape)\n"
   ]
  },
  {
   "cell_type": "code",
   "execution_count": 38,
   "id": "cf9d3a92",
   "metadata": {},
   "outputs": [
    {
     "data": {
      "text/plain": [
       "array([[[ 0.635674  ,  1.1513273 ],\n",
       "        [-1.46807   , -0.81831497],\n",
       "        [-1.0346938 ,  0.6637365 ]],\n",
       "\n",
       "       [[-2.4558406 , -1.6585116 ],\n",
       "        [-1.1702564 ,  0.60999227],\n",
       "        [-0.22670281, -0.36128598]],\n",
       "\n",
       "       [[-0.66735417, -0.11471771],\n",
       "        [ 0.5781606 , -1.0193063 ],\n",
       "        [ 1.1587203 ,  0.94705284]],\n",
       "\n",
       "       [[ 0.8605899 ,  0.2204939 ],\n",
       "        [ 0.01394579,  0.5925448 ],\n",
       "        [-0.07564661, -0.57660884]]], dtype=float32)"
      ]
     },
     "execution_count": 38,
     "metadata": {},
     "output_type": "execute_result"
    }
   ],
   "source": [
    "y"
   ]
  },
  {
   "cell_type": "markdown",
   "id": "f693b21a",
   "metadata": {},
   "source": [
    "## 3) Dtypes & Promotion Rules; `astype(copy=False)`\n",
    "\n",
    "**Type promotion (simplified intuition):**\n",
    "- `int` + `float` → `float`\n",
    "- `float` + `complex` → `complex`\n",
    "- `complex` is a number with a real part and imaginary part( 2+4j)\n",
    "- When combining same-kind types, the **wider precision** wins (e.g., `float32` + `float64` → `float64`).\n",
    "\n",
    "Use `np.result_type(...)` to see what dtype an operation would produce.\n",
    "Use `astype` to convert dtype. `astype(copy=False)` *allows* NumPy to avoid copying when safe/possible (e.g., same dtype), but a copy may still occur if required.\n"
   ]
  },
  {
   "cell_type": "code",
   "execution_count": 39,
   "id": "cff0b833",
   "metadata": {},
   "outputs": [
    {
     "name": "stdout",
     "output_type": "stream",
     "text": [
      "result_type(int32, float32) -> float64\n",
      "result_type(int16, int64)   -> int64\n",
      "result_type(float32, float64)-> float64\n",
      "result_type(float64, complex128)-> complex128\n"
     ]
    }
   ],
   "source": [
    "# Promotion demos (inspect rather than hardcode expectations)\n",
    "print(\"result_type(int32, float32) ->\", np.result_type(np.int32, np.float32))\n",
    "print(\"result_type(int16, int64)   ->\", np.result_type(np.int16, np.int64))\n",
    "print(\"result_type(float32, float64)->\", np.result_type(np.float32, np.float64))\n",
    "print(\"result_type(float64, complex128)->\", np.result_type(np.float64, np.complex128))\n",
    "\n"
   ]
  },
  {
   "cell_type": "code",
   "execution_count": 40,
   "id": "0d15ddd2",
   "metadata": {},
   "outputs": [
    {
     "name": "stdout",
     "output_type": "stream",
     "text": [
      "\n",
      "i dtype: int16 | f dtype: float32 | (i+f) dtype: float32\n"
     ]
    }
   ],
   "source": [
    "# Operation-based upcasting\n",
    "i = np.array([1, 2, 3], dtype=np.int16)\n",
    "f = np.array([0.5, 1.5, 2.5], dtype=np.float32)\n",
    "c = i + f\n",
    "print(\"\\ni dtype:\", i.dtype, \"| f dtype:\", f.dtype, \"| (i+f) dtype:\", c.dtype)\n",
    "\n"
   ]
  },
  {
   "cell_type": "markdown",
   "id": "a34bb51b",
   "metadata": {},
   "source": [
    "## 4) Structured dtypes\n",
    "\n",
    "Normally, a NumPy array has **one data type (`dtype`)** for all elements.  \n",
    "\n",
    "✅ Example:  \n",
    "`np.array([1, 2, 3])` → all elements are integers.  \n",
    "\n",
    "But sometimes we want **heterogeneous fields per element** (like a row in a table, with multiple columns of different types).  \n",
    "\n",
    "**Structured dtypes** allow each element to behave like a **record**  \n",
    "(similar to a row in a spreadsheet or a `struct` in C).\n"
   ]
  },
  {
   "cell_type": "code",
   "execution_count": 44,
   "id": "c5525831",
   "metadata": {},
   "outputs": [
    {
     "data": {
      "text/plain": [
       "dtype([('x', '<f4'), ('y', '<f4'), ('label', '<U2')])"
      ]
     },
     "execution_count": 44,
     "metadata": {},
     "output_type": "execute_result"
    }
   ],
   "source": [
    "import numpy as np\n",
    "\n",
    "# Define a dtype with three fields:\n",
    "# - 'x' : 32-bit float (f4)\n",
    "# - 'y' : 32-bit float (f4)\n",
    "# - 'label' : Unicode string of length 2\n",
    "dt = np.dtype([('x','f4'), ('y','f4'), ('label','U2')])\n",
    "dt"
   ]
  },
  {
   "cell_type": "code",
   "execution_count": 45,
   "id": "af9da1c3",
   "metadata": {},
   "outputs": [
    {
     "name": "stdout",
     "output_type": "stream",
     "text": [
      "[(1.5, 2.5, 'A') (3. , 4. , 'B')]\n"
     ]
    }
   ],
   "source": [
    "#Creating an array with this dtype\n",
    "arr = np.array([(1.5, 2.5, 'A'),\n",
    "                (3.0, 4.0, 'B')],\n",
    "               dtype=dt)\n",
    "print(arr)\n"
   ]
  },
  {
   "cell_type": "code",
   "execution_count": 48,
   "id": "14eaba94",
   "metadata": {},
   "outputs": [
    {
     "name": "stdout",
     "output_type": "stream",
     "text": [
      "[1.5 3. ]\n",
      "['A' 'B']\n"
     ]
    }
   ],
   "source": [
    "#Accessing by field name\n",
    "print(arr['x'])      # [1.5 3. ]\n",
    "print(arr['label'])  # ['A' 'B']\n"
   ]
  },
  {
   "cell_type": "markdown",
   "id": "f12a2e70",
   "metadata": {},
   "source": [
    "# Indexing & Views vs Copies \n"
   ]
  },
  {
   "cell_type": "markdown",
   "id": "168959e3",
   "metadata": {},
   "source": [
    "## 1) Basic indexing & slicing\n",
    "\n",
    "- **Basic slicing** uses slices (`:`, `start:stop:step`), integers, and `...` and usually returns a **view**.\n",
    "- **Fancy/advanced indexing** (integer arrays, lists of indices) and **boolean indexing** return a **copy**.\n",
    "\n",
    "### 2D semantics: `A[i, j]` vs `A[i][j]`\n",
    "- `A[i, j]` is a **single** indexing operation (preferred).\n",
    "- `A[i][j]` is **two** operations: first `A[i]` (returns a 1D **view** row), then `[j]` (element).  \n",
    "  Both give the **same element**, but `A[i, j]` is faster and avoids subtle bugs with more complex expressions.\n"
   ]
  },
  {
   "cell_type": "code",
   "execution_count": 54,
   "id": "748387bf",
   "metadata": {},
   "outputs": [
    {
     "name": "stdout",
     "output_type": "stream",
     "text": [
      "A:\n",
      " [[ 1  2  3  4]\n",
      " [ 5  6  7  8]\n",
      " [ 9 10 11 12]]\n"
     ]
    }
   ],
   "source": [
    "A = np.arange(1, 13).reshape(3, 4)\n",
    "print(\"A:\\n\", A)\n"
   ]
  },
  {
   "cell_type": "code",
   "execution_count": 55,
   "id": "90dea233",
   "metadata": {},
   "outputs": [
    {
     "name": "stdout",
     "output_type": "stream",
     "text": [
      "A[1, 2]   -> 7\n",
      "A[1][2]   -> 7\n"
     ]
    }
   ],
   "source": [
    "# Same element two ways\n",
    "print(\"A[1, 2]   ->\", A[1, 2])\n",
    "print(\"A[1][2]   ->\", A[1][2])\n"
   ]
  },
  {
   "cell_type": "code",
   "execution_count": 56,
   "id": "219af923",
   "metadata": {},
   "outputs": [
    {
     "name": "stdout",
     "output_type": "stream",
     "text": [
      "[5 6 7 8]\n"
     ]
    }
   ],
   "source": [
    "# Slices are usually VIEWS\n",
    "row_view = A[1, :]        # view of row 1\n",
    "print(row_view)"
   ]
  },
  {
   "cell_type": "code",
   "execution_count": 58,
   "id": "e6024c5a",
   "metadata": {},
   "outputs": [
    {
     "name": "stdout",
     "output_type": "stream",
     "text": [
      "\n",
      "After row_view[:] = -1, \n",
      "A becomes:\n",
      " [[ 1  2  3  4]\n",
      " [-1 -1 -1 -1]\n",
      " [ 9 10 11 12]]\n"
     ]
    }
   ],
   "source": [
    "row_view[:] = -1          # write-through modifies A\n",
    "print(\"\\nAfter row_view[:] = -1, \\nA becomes:\\n\", A)\n"
   ]
  },
  {
   "cell_type": "markdown",
   "id": "f93d8b60",
   "metadata": {},
   "source": [
    "## 2) Shape manipulation & indexing helpers\n"
   ]
  },
  {
   "cell_type": "code",
   "execution_count": 59,
   "id": "815d640f",
   "metadata": {},
   "outputs": [
    {
     "name": "stdout",
     "output_type": "stream",
     "text": [
      "[ 0  1  2  3  4  5  6  7  8  9 10 11]\n"
     ]
    }
   ],
   "source": [
    "x = np.arange(12)\n",
    "print(x)"
   ]
  },
  {
   "cell_type": "code",
   "execution_count": 61,
   "id": "cb356a1e",
   "metadata": {},
   "outputs": [
    {
     "name": "stdout",
     "output_type": "stream",
     "text": [
      "[[ 0  1  2  3]\n",
      " [ 4  5  6  7]\n",
      " [ 8  9 10 11]]\n",
      "R shape: (3, 4)\n"
     ]
    }
   ],
   "source": [
    "R = x.reshape(3, 4)                # view (contiguous-compatible)\n",
    "print(R)\n",
    "print(\"R shape:\", R.shape)"
   ]
  },
  {
   "cell_type": "code",
   "execution_count": 64,
   "id": "fa96a6cf",
   "metadata": {},
   "outputs": [
    {
     "name": "stdout",
     "output_type": "stream",
     "text": [
      "shares_memory(R, r_view) : True\n"
     ]
    }
   ],
   "source": [
    "# ravel\n",
    "#Returns a flattened 1D array.\n",
    "#Tries to return a view of the original array (no extra memory allocation).\n",
    "r_view = R.ravel()                 # view if possible\n",
    "\n",
    "print(\"shares_memory(R, r_view) :\", np.shares_memory(R, r_view))"
   ]
  },
  {
   "cell_type": "code",
   "execution_count": 65,
   "id": "b680fec3",
   "metadata": {},
   "outputs": [
    {
     "name": "stdout",
     "output_type": "stream",
     "text": [
      "shares_memory(R, r_copy) : False\n"
     ]
    }
   ],
   "source": [
    "#Flatten\n",
    "#Also returns a flattened 1D array.\n",
    "#But it always creates a new copy of the data.\n",
    "r_copy = R.flatten()               # always a copy\n",
    "print(\"shares_memory(R, r_copy) :\", np.shares_memory(R, r_copy))"
   ]
  },
  {
   "cell_type": "code",
   "execution_count": 66,
   "id": "e6ce9624",
   "metadata": {},
   "outputs": [
    {
     "name": "stdout",
     "output_type": "stream",
     "text": [
      "[0 1 2 3 4]\n"
     ]
    }
   ],
   "source": [
    "# newaxis / None\n",
    "v = np.arange(5)\n",
    "print(v)"
   ]
  },
  {
   "cell_type": "code",
   "execution_count": 67,
   "id": "e3cae44d",
   "metadata": {},
   "outputs": [
    {
     "name": "stdout",
     "output_type": "stream",
     "text": [
      "[[0]\n",
      " [1]\n",
      " [2]\n",
      " [3]\n",
      " [4]]\n"
     ]
    }
   ],
   "source": [
    "#None → adds a new axis of length 1.\n",
    "#v[:, None] → take all rows (:), then insert a new axis after them.\n",
    "#After [:, None], shape = (5, 1).\n",
    "#This turns the vector into a column vector.\n",
    "\n",
    "col = v[:, None]   # shape (5,1)\n",
    "print(col)"
   ]
  },
  {
   "cell_type": "code",
   "execution_count": 68,
   "id": "2cda1c3b",
   "metadata": {},
   "outputs": [
    {
     "name": "stdout",
     "output_type": "stream",
     "text": [
      "[[0 1 2 3 4]]\n",
      "\n",
      "col shape: (5, 1)  row shape: (1, 5)\n"
     ]
    }
   ],
   "source": [
    "row = v[None, :]   # shape (1,5)\n",
    "print(row)\n",
    "print(\"\\ncol shape:\", col.shape, \" row shape:\", row.shape)\n"
   ]
  },
  {
   "cell_type": "markdown",
   "id": "5efcd7a7",
   "metadata": {},
   "source": [
    "## 3) Views vs copies: rules of thumb\n",
    "\n",
    "This is a very important concept in NumPy:  \n",
    "\n",
    "When slicing or indexing an array, sometimes you get a **view** and sometimes you get a **copy**.\n",
    "\n",
    "- **View** → Shares memory with the original array.  \n",
    "  Changes in the view **affect the original**.  \n",
    "\n",
    "- **Copy** → Has its **own separate memory**.  \n",
    "  Changes in the copy **do not affect the original**.\n",
    "\n"
   ]
  },
  {
   "cell_type": "markdown",
   "id": "c1132396",
   "metadata": {},
   "source": [
    "### 🔹 1. Basic Slicing → Usually a View\n",
    "\n",
    "Using `:` (colon), integers, or slices (`start:stop:step`) → NumPy does **not** copy data.  \n",
    "It just creates a new **\"window\"** into the same memory.  \n",
    "\n",
    "✅ Changes to the **view** affect the **original array**.\n"
   ]
  },
  {
   "cell_type": "code",
   "execution_count": 81,
   "id": "87249264",
   "metadata": {},
   "outputs": [
    {
     "name": "stdout",
     "output_type": "stream",
     "text": [
      "[ 0  1 99  3  4  5  6  7  8  9]\n"
     ]
    }
   ],
   "source": [
    "import numpy as np\n",
    "a = np.arange(10)\n",
    "b = a[2:6]   # basic slice, view\n",
    "b[0] = 99\n",
    "print(a)     # [ 0  1 99  3  4  5  6  7  8  9]"
   ]
  },
  {
   "cell_type": "markdown",
   "id": "919392bf",
   "metadata": {},
   "source": [
    "### 🔹 2. Fancy / Advanced Indexing → Copy\n",
    "\n",
    "If you use a **list** or **NumPy array of integers** to select elements → NumPy must gather scattered values,  \n",
    "so it creates a **new array (copy)**.  \n",
    "\n",
    "❌ Changes to the result **do not affect** the original array.\n"
   ]
  },
  {
   "cell_type": "code",
   "execution_count": 84,
   "id": "dcbcbec6",
   "metadata": {},
   "outputs": [
    {
     "name": "stdout",
     "output_type": "stream",
     "text": [
      "[2 5 7]\n",
      "[99  5  7]\n",
      "[0 1 2 3 4 5 6 7 8 9]\n"
     ]
    }
   ],
   "source": [
    "a = np.arange(10)\n",
    "c = a[[2, 5, 7]]   # fancy indexing → copy\n",
    "print(c)\n",
    "c[0] = 99\n",
    "print(c)\n",
    "print(a)           # unchanged → [0 1 2 3 4 5 6 7 8 9]\n"
   ]
  },
  {
   "cell_type": "markdown",
   "id": "4820c505",
   "metadata": {},
   "source": [
    "# Broadcasting Fundamentals \n",
    "\n",
    "**Goals**\n",
    "- Understand **broadcasting rules** (align right; size 1 stretches; mismatch → error).\n",
    "- Use broadcasting to compute **pairwise operations** without explicit Python loops.\n",
    "- Learn practical tools: **`np.where`**, **in-place ops**, and **avoiding huge temporaries**.\n",
    "- Mini demo: **pairwise Euclidean distances**  \n",
    "  → naive loops → broadcasting → `einsum` / Gram-matrix trick.\n"
   ]
  },
  {
   "cell_type": "markdown",
   "id": "fc033e58",
   "metadata": {},
   "source": [
    "## 1) Broadcasting Rules\n",
    "\n",
    "When NumPy applies an operation to arrays of different shapes, it compares shapes **from right to left**:\n",
    "\n",
    "1. If the dimensions are equal → OK.\n",
    "2. If one of them is **1** → it **stretches** (virtually repeats) along that axis.\n",
    "3. Otherwise → **ValueError** (incompatible shapes).\n",
    "\n",
    "**Notes**\n",
    "- Broadcasting does **not** copy data when \"stretching\"; it works as if repeated.\n",
    "- Write-through into broadcasted **views** is disallowed (e.g., `np.broadcast_to` returns read-only views).\n"
   ]
  },
  {
   "cell_type": "code",
   "execution_count": 17,
   "id": "edef7cc9",
   "metadata": {},
   "outputs": [],
   "source": [
    "# Broadcasting rule examples\n",
    "A = np.ones((3, 4))\n",
    "b_row = np.array([10, 20, 30, 40])     # shape (4,)\n",
    "b_col = np.array([[1], [2], [3]])       # shape (3,1)\n",
    "\n"
   ]
  },
  {
   "cell_type": "code",
   "execution_count": 18,
   "id": "c6807f4f",
   "metadata": {},
   "outputs": [
    {
     "name": "stdout",
     "output_type": "stream",
     "text": [
      "A.shape: (3, 4)  b_row.shape: (4,)  -> (3,4) OK\n",
      "(3, 4)\n",
      "A.shape: (3, 4)  b_col.shape: (3, 1)  -> (3,4) OK\n",
      "(3, 4)\n",
      "Mismatch error: operands could not be broadcast together with shapes (3,4) (2,) \n"
     ]
    }
   ],
   "source": [
    "print(\"A.shape:\", A.shape, \" b_row.shape:\", b_row.shape, \" -> (3,4) OK\")\n",
    "print((A + b_row).shape)  # (3,4)\n",
    "\n",
    "print(\"A.shape:\", A.shape, \" b_col.shape:\", b_col.shape, \" -> (3,4) OK\")\n",
    "print((A + b_col).shape)  # (3,4)\n",
    "\n",
    "try:\n",
    "    # Incompatible: (3,4) vs (2,) -> compare from right: 4 vs 2 mismatch; left: 3 vs missing (OK),\n",
    "    # but since 4 vs 2 neither equals nor 1, it fails.\n",
    "    bad = A + np.array([1, 2])\n",
    "except ValueError as e:\n",
    "    print(\"Mismatch error:\", e)\n"
   ]
  },
  {
   "cell_type": "markdown",
   "id": "a2c2d218",
   "metadata": {},
   "source": [
    "## 2) Broadcasting for Pairwise Operations (no loops)\n",
    "\n",
    "**Idea:**  \n",
    "To compute pairwise operations between rows of `X` (shape `(N, d)`) and rows of `Y` (shape `(M, d)`), create shapes `(N, 1, d)` and `(1, M, d)` and rely on broadcasting.\n",
    "\n",
    "We’ll demo pairwise **differences** and **dot products**.\n"
   ]
  },
  {
   "cell_type": "code",
   "execution_count": 19,
   "id": "7b62826c",
   "metadata": {},
   "outputs": [],
   "source": [
    "X = np.array([[1., 2.],\n",
    "              [3., 4.],\n",
    "              [5., 6.]])         # N=3, d=2\n",
    "Y = np.array([[0., 10.],\n",
    "              [1.,  1.]])        # M=2, d=2\n",
    "\n"
   ]
  },
  {
   "cell_type": "code",
   "execution_count": 20,
   "id": "3cc09fed",
   "metadata": {},
   "outputs": [
    {
     "name": "stdout",
     "output_type": "stream",
     "text": [
      "diff shape: (3, 2, 2)\n",
      "[[[ 1. -8.]\n",
      "  [ 0.  1.]]\n",
      "\n",
      " [[ 3. -6.]\n",
      "  [ 2.  3.]]\n",
      "\n",
      " [[ 5. -4.]\n",
      "  [ 4.  5.]]]\n"
     ]
    }
   ],
   "source": [
    "# Pairwise differences: shape (N,M,d)\n",
    "diff = X[:, None, :] - Y[None, :, :]\n",
    "print(\"diff shape:\", diff.shape)\n",
    "print(diff)\n",
    "\n"
   ]
  },
  {
   "cell_type": "code",
   "execution_count": 21,
   "id": "e76ae673",
   "metadata": {},
   "outputs": [
    {
     "name": "stdout",
     "output_type": "stream",
     "text": [
      "\n",
      "Pairwise Euclidean distance matrix:\n",
      " [[8.06225775 1.        ]\n",
      " [6.70820393 3.60555128]\n",
      " [6.40312424 6.40312424]]\n"
     ]
    }
   ],
   "source": [
    "# Pairwise squared distances via broadcasting\n",
    "D2 = np.sum(diff**2, axis=2)     # (N,M)\n",
    "D  = np.sqrt(D2)\n",
    "print(\"\\nPairwise Euclidean distance matrix:\\n\", D)\n",
    "\n"
   ]
  },
  {
   "cell_type": "code",
   "execution_count": 22,
   "id": "991fac6a",
   "metadata": {},
   "outputs": [
    {
     "name": "stdout",
     "output_type": "stream",
     "text": [
      "\n",
      "Pairwise dot products:\n",
      " [[20.  3.]\n",
      " [40.  7.]\n",
      " [60. 11.]]\n"
     ]
    }
   ],
   "source": [
    "# Pairwise dot products via broadcasting\n",
    "dots = np.sum(X[:, None, :] * Y[None, :, :], axis=2)\n",
    "print(\"\\nPairwise dot products:\\n\", dots)\n"
   ]
  },
  {
   "cell_type": "markdown",
   "id": "ba83ce4d",
   "metadata": {},
   "source": [
    "## 3) `np.where`, In-place Ops, and Avoiding Huge Temporaries\n",
    "\n",
    "### `np.where(cond, x, y)`\n",
    "- Vectorized conditional selection (broadcasts `cond`, `x`, `y`).\n",
    "- Returns a **new** array.\n",
    "\n",
    "### In-place ops (`+=`, `*=`, etc.)\n",
    "- Use to avoid extra allocations (and sometimes speed up).\n",
    "- **Caution:** Dtype must handle the result (e.g., `int += float` will **truncate**).\n",
    "\n",
    "### Avoid huge temporaries\n",
    "- Broadcasting can create **large intermediate arrays** (e.g., `(N,M,d)`).\n",
    "- Prefer formulas that avoid the 3D temporary, e.g., for distances:\n",
    "  $$\n",
    "  \\|x_i - y_j\\|^2 = \\|x_i\\|^2 + \\|y_j\\|^2 - 2\\,x_i \\cdot y_j\n",
    "  $$\n",
    "- Use `out=` parameters in ufuncs (`np.add`, `np.multiply`, etc.) and **in-place ops** to reduce memory traffic.\n"
   ]
  },
  {
   "cell_type": "code",
   "execution_count": 23,
   "id": "c9262914",
   "metadata": {},
   "outputs": [
    {
     "name": "stdout",
     "output_type": "stream",
     "text": [
      "where result: [0 0 0 0 0 1 2 3 4]\n"
     ]
    }
   ],
   "source": [
    "# np.where demo with broadcasting\n",
    "Z = np.arange(-4, 5).astype(np.int32)       # [-4..4]\n",
    "pos = np.where(Z > 0, Z, 0)                 # ReLU-like\n",
    "print(\"where result:\", pos)\n",
    "\n"
   ]
  },
  {
   "cell_type": "code",
   "execution_count": 24,
   "id": "882374ce",
   "metadata": {},
   "outputs": [
    {
     "name": "stdout",
     "output_type": "stream",
     "text": [
      "\n",
      "A after A += v:\n",
      " [[1 2 3 4]\n",
      " [1 2 3 4]\n",
      " [1 2 3 4]]\n"
     ]
    }
   ],
   "source": [
    "# In-place broadcast: add a vector to each row (write into A)\n",
    "A = np.zeros((3, 4), dtype=np.int32)\n",
    "v = np.array([1, 2, 3, 4])\n",
    "A += v   # in-place; broadcasts v to (3,4)\n",
    "print(\"\\nA after A += v:\\n\", A)\n"
   ]
  },
  {
   "cell_type": "code",
   "execution_count": 25,
   "id": "a80d9ba2",
   "metadata": {},
   "outputs": [
    {
     "ename": "UFuncTypeError",
     "evalue": "Cannot cast ufunc 'add' output from dtype('float64') to dtype('int32') with casting rule 'same_kind'",
     "output_type": "error",
     "traceback": [
      "\u001b[1;31m---------------------------------------------------------------------------\u001b[0m",
      "\u001b[1;31mUFuncTypeError\u001b[0m                            Traceback (most recent call last)",
      "Cell \u001b[1;32mIn[25], line 3\u001b[0m\n\u001b[0;32m      1\u001b[0m \u001b[38;5;66;03m# Dtype pitfall: in-place float add on int array truncates\u001b[39;00m\n\u001b[0;32m      2\u001b[0m A2 \u001b[38;5;241m=\u001b[39m np\u001b[38;5;241m.\u001b[39marray([\u001b[38;5;241m1\u001b[39m, \u001b[38;5;241m2\u001b[39m, \u001b[38;5;241m3\u001b[39m], dtype\u001b[38;5;241m=\u001b[39mnp\u001b[38;5;241m.\u001b[39mint32)\n\u001b[1;32m----> 3\u001b[0m A2 \u001b[38;5;241m+\u001b[39m\u001b[38;5;241m=\u001b[39m \u001b[38;5;241m0.5\u001b[39m   \u001b[38;5;66;03m# becomes [1,2,3]\u001b[39;00m\n\u001b[0;32m      4\u001b[0m \u001b[38;5;28mprint\u001b[39m(\u001b[38;5;124m\"\u001b[39m\u001b[38;5;124mA2 after +=0.5 (truncated):\u001b[39m\u001b[38;5;124m\"\u001b[39m, A2)\n",
      "\u001b[1;31mUFuncTypeError\u001b[0m: Cannot cast ufunc 'add' output from dtype('float64') to dtype('int32') with casting rule 'same_kind'"
     ]
    }
   ],
   "source": [
    "# Dtype pitfall: in-place float add on int array truncates\n",
    "A2 = np.array([1, 2, 3], dtype=np.int32)\n",
    "A2 += 0.5   # becomes [1,2,3]\n",
    "print(\"A2 after +=0.5 (truncated):\", A2)\n",
    "\n"
   ]
  },
  {
   "cell_type": "code",
   "execution_count": 26,
   "id": "bb76332d",
   "metadata": {},
   "outputs": [
    {
     "name": "stdout",
     "output_type": "stream",
     "text": [
      "A3 after upcast then +0.5: [1.5 2.5 3.5]\n"
     ]
    }
   ],
   "source": [
    "# Safer: upcast first (copy=False avoids copy when dtype already matches)\n",
    "A3 = A2.astype(np.float64, copy=False)\n",
    "A3 = A3 + 0.5   # or A3 += 0.5 after conversion\n",
    "print(\"A3 after upcast then +0.5:\", A3)\n"
   ]
  },
  {
   "cell_type": "markdown",
   "id": "52de41de",
   "metadata": {},
   "source": [
    "# Ufuncs & Reductions \n",
    "\n",
    "**Goals**\n",
    "- Use **elementwise ufuncs** (`np.add`, `np.sqrt`, `np.exp`, …) and their useful kwargs: `where=`, `out=`.\n",
    "- Master **reductions/accumulations**: `sum`, `mean`, `prod`, `min/max`, `np.add.reduce`, `np.add.accumulate`.\n",
    "- Understand **axis semantics** (`axis=`, `keepdims=True`) & **numeric stability** (e.g., log-sum-exp).\n",
    "- Mini demo: **stable softmax** along an axis; use **masked `where`** to avoid NaNs.\n"
   ]
  },
  {
   "cell_type": "markdown",
   "id": "b4a443a6",
   "metadata": {},
   "source": [
    "## 1) Elementwise ufuncs\n",
    "\n",
    "**Ufuncs** are fast, vectorized, elementwise functions implemented in C (e.g., `np.add`, `np.sqrt`, `np.exp`, `np.sin`, `np.maximum`).\n",
    "\n",
    "### Key kwargs\n",
    "- `where=`: boolean mask (broadcastable) selecting entries to compute; others left unchanged.\n",
    "- `out=`: write results into a preallocated array (avoids extra allocation).\n",
    "- `dtype=`: specify computation dtype for some ufuncs / outputs.\n"
   ]
  },
  {
   "cell_type": "code",
   "execution_count": 27,
   "id": "76aa213c",
   "metadata": {},
   "outputs": [],
   "source": [
    "x = np.array([-1.0, 0.0, 1.0, 4.0])\n",
    "y = np.array([ 2.0, 3.0, 5.0, 7.0])\n"
   ]
  },
  {
   "cell_type": "code",
   "execution_count": 28,
   "id": "03218625",
   "metadata": {},
   "outputs": [
    {
     "name": "stdout",
     "output_type": "stream",
     "text": [
      "add: [ 1.  3.  6. 11.]\n",
      "safe sqrt: [0. 0. 1. 2.]\n",
      "exp(y): [   7.3890561    20.08553692  148.4131591  1096.63315843]\n"
     ]
    }
   ],
   "source": [
    "# Elementwise ops (ufuncs)\n",
    "s  = np.add(x, y)           # same as x + y\n",
    "rt = np.sqrt(np.clip(x, 0, None))   # safe sqrt by clipping negatives to 0\n",
    "e  = np.exp(y)              # elementwise exp\n",
    "\n",
    "print(\"add:\", s)\n",
    "print(\"safe sqrt:\", rt)\n",
    "print(\"exp(y):\", e)\n"
   ]
  },
  {
   "cell_type": "code",
   "execution_count": 29,
   "id": "0c4b146e",
   "metadata": {},
   "outputs": [
    {
     "name": "stdout",
     "output_type": "stream",
     "text": [
      "\n",
      "where/out demo:\n",
      "mask: [False  True  True  True]\n",
      "out (sqrt where x>=0): [7.3890561 0.        1.        2.       ]\n"
     ]
    }
   ],
   "source": [
    "# where= and out=\n",
    "out = np.empty_like(x)\n",
    "mask = x >= 0\n",
    "np.sqrt(x, where=mask, out=out)  # compute sqrt only where mask True; elsewhere out keeps previous values\n",
    "print(\"\\nwhere/out demo:\")\n",
    "print(\"mask:\", mask)\n",
    "print(\"out (sqrt where x>=0):\", out)\n"
   ]
  },
  {
   "cell_type": "code",
   "execution_count": 30,
   "id": "057bd7c8",
   "metadata": {},
   "outputs": [
    {
     "name": "stdout",
     "output_type": "stream",
     "text": [
      "safe reciprocal: [ 0.5        20.08553692 -0.25        2.        ]\n"
     ]
    }
   ],
   "source": [
    "# Another example: safe reciprocal with where\n",
    "z = np.array([2., 0., -4., 0.5])\n",
    "recip = np.empty_like(z)\n",
    "np.divide(1.0, z, where=(z!=0), out=recip)   # avoid divide-by-zero\n",
    "print(\"safe reciprocal:\", recip)\n"
   ]
  },
  {
   "cell_type": "markdown",
   "id": "497302c3",
   "metadata": {},
   "source": [
    "## 2) Reductions & Accumulations\n",
    "\n",
    "**Reductions** collapse one or more axes to a single value (or fewer axes):\n",
    "- `np.sum`, `np.mean`, `np.prod`, `np.min`, `np.max`, `np.nan*` variants.\n",
    "- General form: `np.add.reduce(a, axis=...)`, `np.multiply.reduce(a, axis=...)`, etc.\n",
    "\n",
    "**Accumulations** are prefix reductions:\n",
    "- `np.add.accumulate(a, axis=...)`, `np.multiply.accumulate(a, axis=...)`, etc.\n"
   ]
  },
  {
   "cell_type": "code",
   "execution_count": 31,
   "id": "720bf477",
   "metadata": {},
   "outputs": [
    {
     "name": "stdout",
     "output_type": "stream",
     "text": [
      "A:\n",
      " [[ 1  2  3  4]\n",
      " [ 5  6  7  8]\n",
      " [ 9 10 11 12]]\n"
     ]
    }
   ],
   "source": [
    "A = np.arange(1, 13).reshape(3, 4)\n",
    "print(\"A:\\n\", A)\n"
   ]
  },
  {
   "cell_type": "code",
   "execution_count": 32,
   "id": "0a53fed1",
   "metadata": {},
   "outputs": [
    {
     "name": "stdout",
     "output_type": "stream",
     "text": [
      "\n",
      "sum (all): 78\n",
      "mean axis=0: [5. 6. 7. 8.]\n",
      "prod axis=1: [   24  1680 11880]\n",
      "min, max (all): 1 12\n"
     ]
    }
   ],
   "source": [
    "# Built-in reductions\n",
    "print(\"\\nsum (all):\", A.sum())\n",
    "print(\"mean axis=0:\", A.mean(axis=0))\n",
    "print(\"prod axis=1:\", A.prod(axis=1))\n",
    "print(\"min, max (all):\", A.min(), A.max())\n"
   ]
  },
  {
   "cell_type": "code",
   "execution_count": 33,
   "id": "473d6cbe",
   "metadata": {},
   "outputs": [
    {
     "name": "stdout",
     "output_type": "stream",
     "text": [
      "\n",
      "np.add.reduce axis=0: [15 18 21 24]\n",
      "np.multiply.reduce axis=1: [   24  1680 11880]\n"
     ]
    }
   ],
   "source": [
    "\n",
    "# Using the ufunc general form\n",
    "print(\"\\nnp.add.reduce axis=0:\", np.add.reduce(A, axis=0))\n",
    "print(\"np.multiply.reduce axis=1:\", np.multiply.reduce(A, axis=1))\n"
   ]
  },
  {
   "cell_type": "code",
   "execution_count": 34,
   "id": "d62236e6",
   "metadata": {},
   "outputs": [
    {
     "name": "stdout",
     "output_type": "stream",
     "text": [
      "\n",
      "np.add.accumulate axis=1:\n",
      " [[ 1  3  6 10]\n",
      " [ 5 11 18 26]\n",
      " [ 9 19 30 42]]\n",
      "np.multiply.accumulate axis=1:\n",
      " [[    1     2     6    24]\n",
      " [    5    30   210  1680]\n",
      " [    9    90   990 11880]]\n"
     ]
    }
   ],
   "source": [
    "\n",
    "# Accumulate (prefix sums / products)\n",
    "print(\"\\nnp.add.accumulate axis=1:\\n\", np.add.accumulate(A, axis=1))\n",
    "print(\"np.multiply.accumulate axis=1:\\n\", np.multiply.accumulate(A, axis=1))\n"
   ]
  },
  {
   "cell_type": "markdown",
   "id": "a25d65a2",
   "metadata": {},
   "source": [
    "## 3) Axis semantics: `axis=` and `keepdims=True`\n",
    "\n",
    "- `axis=None` (default for many) reduces **all** elements to a scalar.\n",
    "- `axis=k` reduces **along** axis *k* (removes that axis by default).\n",
    "- `keepdims=True` retains reduced axes with length 1 (useful for broadcasting results back).\n"
   ]
  },
  {
   "cell_type": "code",
   "execution_count": 35,
   "id": "73d9cb11",
   "metadata": {},
   "outputs": [
    {
     "name": "stdout",
     "output_type": "stream",
     "text": [
      "B.shape: (2, 3, 4)\n"
     ]
    }
   ],
   "source": [
    "B = np.arange(24).reshape(2, 3, 4)\n",
    "print(\"B.shape:\", B.shape)\n"
   ]
  },
  {
   "cell_type": "code",
   "execution_count": 36,
   "id": "950af777",
   "metadata": {},
   "outputs": [
    {
     "name": "stdout",
     "output_type": "stream",
     "text": [
      "mean axis=0 shape: (3, 4)\n",
      "mean axis=1 shape: (2, 4)\n",
      "mean axis=2 keepdims shape: (2, 3, 1)\n"
     ]
    }
   ],
   "source": [
    "m0 = B.mean(axis=0)                     # shape (3,4)\n",
    "m1 = B.mean(axis=1)                     # shape (2,4)\n",
    "m2 = B.mean(axis=2, keepdims=True)      # shape (2,3,1)\n",
    "print(\"mean axis=0 shape:\", m0.shape)\n",
    "print(\"mean axis=1 shape:\", m1.shape)\n",
    "print(\"mean axis=2 keepdims shape:\", m2.shape)\n"
   ]
  },
  {
   "cell_type": "code",
   "execution_count": 37,
   "id": "540047d5",
   "metadata": {},
   "outputs": [
    {
     "name": "stdout",
     "output_type": "stream",
     "text": [
      "centered shape: (2, 3, 4)\n"
     ]
    }
   ],
   "source": [
    "# Broadcast subtraction of mean along last axis\n",
    "B_centered = B - B.mean(axis=2, keepdims=True)\n",
    "print(\"centered shape:\", B_centered.shape)\n"
   ]
  },
  {
   "cell_type": "markdown",
   "id": "8c05558e",
   "metadata": {},
   "source": [
    "# Advanced Indexing Patterns\n",
    "\n",
    "**Goals**\n",
    "- Boolean masks & fancy (integer) indexing\n",
    "- **Gathering/Scattering:** `np.take`, `np.put`, `np.take_along_axis`, `np.add.at` (atomic-like)\n",
    "- **Top-k & selection:** `argsort`, `argpartition`, `lexsort`\n",
    "- Mini demo: **group-by** style sum using `unique(return_inverse=True)` + `np.add.at`\n",
    "\n",
    "> Recall: **Basic slicing** (using `:`) usually returns a **view**.  \n",
    "> **Fancy/boolean indexing** returns a **copy** (unless used directly on the **LHS** of an assignment).\n"
   ]
  },
  {
   "cell_type": "markdown",
   "id": "5fb1afa1",
   "metadata": {},
   "source": [
    "## 1) Boolean masks\n",
    "\n",
    "- A **boolean mask** is an array of `True/False` with the **same shape** (or broadcastable shape) as the target.\n",
    "- `A[mask]` **gathers** the elements where `mask` is True → **copy**.\n",
    "- To **modify** in place, write to `A[mask] = ...` (LHS assignment).\n",
    "- Combine masks with `&` (and), `|` (or), `~` (not).\n"
   ]
  },
  {
   "cell_type": "code",
   "execution_count": 38,
   "id": "bb80618d",
   "metadata": {},
   "outputs": [
    {
     "name": "stdout",
     "output_type": "stream",
     "text": [
      "A:\n",
      " [[-6 -5 -4 -3]\n",
      " [-2 -1  0  1]\n",
      " [ 2  3  4  5]]\n"
     ]
    }
   ],
   "source": [
    "A = np.arange(-6, 6).reshape(3, 4)\n",
    "print(\"A:\\n\", A)\n"
   ]
  },
  {
   "cell_type": "code",
   "execution_count": 39,
   "id": "f6636897",
   "metadata": {},
   "outputs": [
    {
     "name": "stdout",
     "output_type": "stream",
     "text": [
      "mask_pos:\n",
      " [[False False False False]\n",
      " [False False False  True]\n",
      " [ True  True  True  True]]\n"
     ]
    }
   ],
   "source": [
    "mask_pos = A > 0\n",
    "print(\"mask_pos:\\n\", mask_pos)\n"
   ]
  },
  {
   "cell_type": "code",
   "execution_count": 40,
   "id": "5d357e88",
   "metadata": {},
   "outputs": [
    {
     "name": "stdout",
     "output_type": "stream",
     "text": [
      "positives (copy): [1 2 3 4 5]\n"
     ]
    }
   ],
   "source": [
    "# Gather (copy)\n",
    "positives = A[mask_pos]\n",
    "print(\"positives (copy):\", positives)\n"
   ]
  },
  {
   "cell_type": "code",
   "execution_count": 41,
   "id": "b9fe87a7",
   "metadata": {},
   "outputs": [
    {
     "name": "stdout",
     "output_type": "stream",
     "text": [
      "\n",
      "After A[mask_pos] = 99:\n",
      " [[-6 -5 -4 -3]\n",
      " [-2 -1  0 99]\n",
      " [99 99 99 99]]\n"
     ]
    }
   ],
   "source": [
    "# In-place modify selected elements\n",
    "A[mask_pos] = 99\n",
    "print(\"\\nAfter A[mask_pos] = 99:\\n\", A)\n"
   ]
  },
  {
   "cell_type": "code",
   "execution_count": 42,
   "id": "00710224",
   "metadata": {},
   "outputs": [
    {
     "name": "stdout",
     "output_type": "stream",
     "text": [
      "\n",
      "A2:\n",
      " [[-8 -7 -6 -5]\n",
      " [-4 -3 -2 -1]\n",
      " [ 0  1  2  3]\n",
      " [ 4  5  6  7]]\n",
      "even & >0:\n",
      " [[False False False False]\n",
      " [False False False False]\n",
      " [False False  True False]\n",
      " [ True False  True False]]\n",
      "selected: [2 4 6]\n"
     ]
    }
   ],
   "source": [
    "# Combine masks:  even & positive\n",
    "A2 = np.arange(-8, 8).reshape(4, 4)\n",
    "mask_even_pos = (A2 % 2 == 0) & (A2 > 0)\n",
    "print(\"\\nA2:\\n\", A2)\n",
    "print(\"even & >0:\\n\", mask_even_pos)\n",
    "print(\"selected:\", A2[mask_even_pos])"
   ]
  },
  {
   "cell_type": "markdown",
   "id": "b9c06183",
   "metadata": {},
   "source": [
    "## 2) Fancy (integer) indexing\n",
    "\n",
    "- Use integer arrays/lists to select elements by position (returns a **copy**).\n",
    "- 2D **row/col** picking: use `np.ix_` to form all pairs.\n",
    "- Assigning with fancy indexing on the **LHS** writes into the base array.\n",
    "- **Repeated indices**: assignment uses last write; for accumulation use `np.add.at` (later).\n"
   ]
  },
  {
   "cell_type": "code",
   "execution_count": 43,
   "id": "540fd512",
   "metadata": {},
   "outputs": [
    {
     "name": "stdout",
     "output_type": "stream",
     "text": [
      "B:\n",
      " [[ 1  2  3  4]\n",
      " [ 5  6  7  8]\n",
      " [ 9 10 11 12]]\n"
     ]
    }
   ],
   "source": [
    "B = np.arange(1, 13).reshape(3, 4)\n",
    "rows = np.array([2, 0])\n",
    "cols = np.array([3, 1, 1])\n",
    "\n",
    "print(\"B:\\n\", B)\n"
   ]
  },
  {
   "cell_type": "code",
   "execution_count": 44,
   "id": "cc30eb42",
   "metadata": {},
   "outputs": [
    {
     "name": "stdout",
     "output_type": "stream",
     "text": [
      "B[rows]:\n",
      " [[ 9 10 11 12]\n",
      " [ 1  2  3  4]]\n",
      "B[:, cols]:\n",
      " [[ 4  2  2]\n",
      " [ 8  6  6]\n",
      " [12 10 10]]\n"
     ]
    }
   ],
   "source": [
    "# Fancy gather (copy)\n",
    "picked_rows = B[rows]                # rows 2 and 0\n",
    "picked_cols = B[:, cols]             # columns 3,1,1\n",
    "print(\"B[rows]:\\n\", picked_rows)\n",
    "print(\"B[:, cols]:\\n\", picked_cols)\n"
   ]
  },
  {
   "cell_type": "code",
   "execution_count": 45,
   "id": "71df592c",
   "metadata": {},
   "outputs": [
    {
     "name": "stdout",
     "output_type": "stream",
     "text": [
      "B[np.ix_(rows, cols)]:\n",
      " [[12 10 10]\n",
      " [ 4  2  2]]\n"
     ]
    }
   ],
   "source": [
    "# Submatrix with all pairs of rows x cols\n",
    "sub = B[np.ix_(rows, cols)]\n",
    "print(\"B[np.ix_(rows, cols)]:\\n\", sub)\n"
   ]
  },
  {
   "cell_type": "code",
   "execution_count": 46,
   "id": "fd3820ce",
   "metadata": {},
   "outputs": [
    {
     "name": "stdout",
     "output_type": "stream",
     "text": [
      "\n",
      "After B[:, cols] = -7:\n",
      " [[ 1 -7  3 -7]\n",
      " [ 5 -7  7 -7]\n",
      " [ 9 -7 11 -7]]\n"
     ]
    }
   ],
   "source": [
    "# Fancy assign (LHS) modifies base\n",
    "B[:, cols] = -7\n",
    "print(\"\\nAfter B[:, cols] = -7:\\n\", B)\n"
   ]
  },
  {
   "cell_type": "markdown",
   "id": "248f6799",
   "metadata": {},
   "source": [
    "## 3) Gathering & Scattering\n",
    "\n",
    "### `np.take` (gather)\n",
    "- Gather by **positions** along a chosen **axis** (default flattens).\n",
    "- Shape of result = input shape with axis replaced by the shape of `indices`.\n",
    "\n",
    "### `np.put` (scatter)\n",
    "- Scatter values by **flat indices** into the flattened array.\n",
    "\n",
    "### `np.take_along_axis` (gather by *per-position* indices)\n",
    "- Indices must have the **same shape** as the output, and values are taken along a given axis.\n",
    "- Ideal for row-wise/column-wise top-k gathers.\n"
   ]
  },
  {
   "cell_type": "code",
   "execution_count": 47,
   "id": "32dcfc79",
   "metadata": {},
   "outputs": [
    {
     "name": "stdout",
     "output_type": "stream",
     "text": [
      "C:\n",
      " [[ 0  1  2  3  4]\n",
      " [ 5  6  7  8  9]\n",
      " [10 11 12 13 14]\n",
      " [15 16 17 18 19]]\n"
     ]
    }
   ],
   "source": [
    "C = np.arange(20).reshape(4, 5)\n",
    "print(\"C:\\n\", C)\n"
   ]
  },
  {
   "cell_type": "code",
   "execution_count": 48,
   "id": "7d431021",
   "metadata": {},
   "outputs": [
    {
     "name": "stdout",
     "output_type": "stream",
     "text": [
      "\n",
      "np.take axis=1, cols [4,1,1]:\n",
      " [[ 4  1  1]\n",
      " [ 9  6  6]\n",
      " [14 11 11]\n",
      " [19 16 16]]\n"
     ]
    }
   ],
   "source": [
    "# take: gather positions along axis=1 (columns 4,1,1 for every row)\n",
    "idx_cols = [4, 1, 1]\n",
    "t1 = np.take(C, idx_cols, axis=1)\n",
    "print(\"\\nnp.take axis=1, cols [4,1,1]:\\n\", t1)\n"
   ]
  },
  {
   "cell_type": "code",
   "execution_count": 49,
   "id": "cc8ed03a",
   "metadata": {},
   "outputs": [
    {
     "name": "stdout",
     "output_type": "stream",
     "text": [
      "\n",
      "np.put scatter into flat array: [ 0 30  0  0  0  0  0 20  0  0]\n"
     ]
    }
   ],
   "source": [
    "# put: scatter by flat indices\n",
    "D = np.zeros(10, dtype=int)\n",
    "np.put(D, [1, 7, 1], [10, 20, 30])  # index 1 is written twice; last wins (30)\n",
    "print(\"\\nnp.put scatter into flat array:\", D)\n"
   ]
  },
  {
   "cell_type": "code",
   "execution_count": 50,
   "id": "cda946fd",
   "metadata": {},
   "outputs": [
    {
     "name": "stdout",
     "output_type": "stream",
     "text": [
      "\n",
      "E:\n",
      " [[10 40 30 20]\n",
      " [ 7  8  9  6]\n",
      " [99  1  2  3]]\n",
      "indices per row:\n",
      " [[1 3]\n",
      " [0 2]\n",
      " [3 1]]\n",
      "take_along_axis result:\n",
      " [[40 20]\n",
      " [ 7  9]\n",
      " [ 3  1]]\n"
     ]
    }
   ],
   "source": [
    "# take_along_axis: per-row different indices\n",
    "E = np.array([[10, 40, 30, 20],\n",
    "              [ 7,  8,  9,  6],\n",
    "              [99,  1,  2,  3]], dtype=int)\n",
    "\n",
    "# For each row, gather entries at indices [1,3] for that row\n",
    "idx = np.array([[1, 3],\n",
    "                [0, 2],\n",
    "                [3, 1]])  # shape (3,2)\n",
    "g = np.take_along_axis(E, idx, axis=1)\n",
    "print(\"\\nE:\\n\", E)\n",
    "print(\"indices per row:\\n\", idx)\n",
    "print(\"take_along_axis result:\\n\", g)\n"
   ]
  },
  {
   "cell_type": "markdown",
   "id": "994539cf",
   "metadata": {},
   "source": [
    "## 4) Top-k & selection\n",
    "\n",
    "- `np.argsort(a, axis=...)` → full sort indices (O(n log n)).\n",
    "- `np.argpartition(a, k, axis=...)` → **partial** selection: positions of the k-th element; left side contains the k smallest (unordered), right side the rest (unordered). For **top-k largest**, use `-a` or partition at `-k`.\n",
    "- `np.lexsort(keys)` → sort by **multiple keys**; **last key** has highest priority.\n"
   ]
  },
  {
   "cell_type": "code",
   "execution_count": 51,
   "id": "f00fc4e1",
   "metadata": {},
   "outputs": [
    {
     "name": "stdout",
     "output_type": "stream",
     "text": [
      "x: [ 7.2 -3.   5.5  9.9  0.   9.9]\n",
      "top-3 indices: [5 3 0]\n",
      "top-3 values: [9.9 9.9 7.2]\n"
     ]
    }
   ],
   "source": [
    "x = np.array([7.2, -3.0, 5.5, 9.9, 0.0, 9.9])\n",
    "\n",
    "# Top-3 largest with argpartition, then sorted descending\n",
    "k = 3\n",
    "idx_part = np.argpartition(x, -k)[-k:]           # indices of k largest, unordered\n",
    "idx_top3 = idx_part[np.argsort(x[idx_part])[::-1]]\n",
    "print(\"x:\", x)\n",
    "print(\"top-3 indices:\", idx_top3)\n",
    "print(\"top-3 values:\", x[idx_top3])\n"
   ]
  },
  {
   "cell_type": "code",
   "execution_count": 52,
   "id": "d4f0ad53",
   "metadata": {},
   "outputs": [
    {
     "name": "stdout",
     "output_type": "stream",
     "text": [
      "\n",
      "Row-wise top-2 idx:\n",
      " [[1 3]\n",
      " [0 2]\n",
      " [3 1]]\n",
      "Row-wise top-2 vals:\n",
      " [[ 9.  8.]\n",
      " [10.  3.]\n",
      " [ 7.  6.]]\n"
     ]
    }
   ],
   "source": [
    "# Row-wise top-2 columns and values using argpartition + take_along_axis\n",
    "M = np.array([[ 1.0,  9.0,  2.0,  8.0],\n",
    "              [10.0, -1.0,  3.0,  0.5],\n",
    "              [ 4.0,  6.0,  5.0,  7.0]])\n",
    "k = 2\n",
    "idx_unsorted = np.argpartition(M, -k, axis=1)[:, -k:]                  # indices, unsorted per row\n",
    "vals_unsorted = np.take_along_axis(M, idx_unsorted, axis=1)\n",
    "# sort the selected top-k descending per row\n",
    "order = np.argsort(vals_unsorted, axis=1)[:, ::-1]\n",
    "idx_topk = np.take_along_axis(idx_unsorted, order, axis=1)\n",
    "vals_topk = np.take_along_axis(M, idx_topk, axis=1)\n",
    "\n",
    "print(\"\\nRow-wise top-2 idx:\\n\", idx_topk)\n",
    "print(\"Row-wise top-2 vals:\\n\", vals_topk)\n"
   ]
  },
  {
   "cell_type": "code",
   "execution_count": 53,
   "id": "6d57691d",
   "metadata": {},
   "outputs": [
    {
     "name": "stdout",
     "output_type": "stream",
     "text": [
      "\n",
      "Lexsort order (by last, then first): [1 2 3 0]\n",
      "Sorted names: [('Bob', 'Able'), ('Bob', 'Able'), ('Cara', 'Mori'), ('Alice', 'Zed')]\n"
     ]
    }
   ],
   "source": [
    "# Lexsort example: sort by last name, then first name\n",
    "first = np.array([\"Alice\",\"Bob\",\"Bob\",\"Cara\"])\n",
    "last  = np.array([\"Zed\",\"Able\",\"Able\",\"Mori\"])\n",
    "# Note: last key has highest priority → (first, last) => keys=(first,last) sorts by last, then first\n",
    "order = np.lexsort((first, last))\n",
    "print(\"\\nLexsort order (by last, then first):\", order)\n",
    "print(\"Sorted names:\", list(zip(first[order], last[order])))\n"
   ]
  },
  {
   "cell_type": "code",
   "execution_count": null,
   "id": "74e6a523",
   "metadata": {},
   "outputs": [],
   "source": []
  }
 ],
 "metadata": {
  "kernelspec": {
   "display_name": "base",
   "language": "python",
   "name": "python3"
  },
  "language_info": {
   "codemirror_mode": {
    "name": "ipython",
    "version": 3
   },
   "file_extension": ".py",
   "mimetype": "text/x-python",
   "name": "python",
   "nbconvert_exporter": "python",
   "pygments_lexer": "ipython3",
   "version": "3.13.5"
  }
 },
 "nbformat": 4,
 "nbformat_minor": 5
}
